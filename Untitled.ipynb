{
 "cells": [
  {
   "cell_type": "code",
   "execution_count": 1,
   "id": "06d62bab",
   "metadata": {},
   "outputs": [],
   "source": [
    "from graph_tool.all import *\n",
    "import pandas as pd"
   ]
  },
  {
   "cell_type": "code",
   "execution_count": 2,
   "id": "c8bbf131",
   "metadata": {},
   "outputs": [],
   "source": [
    "colors = [\"#FFFFFF\",\n",
    "\"#E4E4E4\",\n",
    "\"#888888\",\n",
    "\"#222222\",\n",
    "\"#FFA7D1\",\n",
    "\"#E50000\",\n",
    "\"#E59500\",\n",
    "\"#A06A42\",\n",
    "\"#E5D900\",\n",
    "\"#94E044\",\n",
    "\"#02BE01\",\n",
    "\"#00D3DD\",\n",
    "\"#0083C7\",\n",
    "\"#0000EA\",\n",
    "\"#CF6EE4\",\n",
    "\"#820080\"]"
   ]
  },
  {
   "cell_type": "code",
   "execution_count": 28,
   "id": "b260e5f9",
   "metadata": {},
   "outputs": [],
   "source": [
    "dict_vertex = {}\n",
    "grid_size = 10\n",
    "g = Graph()\n",
    "v_type = g.new_vertex_property(\"int\")\n",
    "v_filter = g.new_vertex_property(\"bool\")\n",
    "v_action_count = g.new_vertex_property(\"int\")\n",
    "with open('header.csv') as f:\n",
    "    head = f.readlines()\n",
    "    for i,h in enumerate(head[1:]):\n",
    "        la = h.strip().split(',')\n",
    "        if int(la[3].replace(\"\\\"\", \"\")) < grid_size or int(la[4].replace(\"\\\"\", \"\")) < grid_size:\n",
    "            \n",
    "            if la[1] not in dict_vertex:\n",
    "                dict_vertex[la[1]] = g.add_vertex()\n",
    "                v_type[dict_vertex[la[1]]] = 0\n",
    "                v_action_count[dict_vertex[la[1]]] = 1\n",
    "            else:\n",
    "                v_action_count[dict_vertex[la[1]]] += 1\n",
    "                if v_action_count[dict_vertex[la[1]]] >4:\n",
    "                    v_filter[dict_vertex[la[1]]] = True\n",
    "            \n",
    "            if f\"{la[2]}{la[3]}|{la[4]}\" not in dict_vertex:\n",
    "                dict_vertex[f\"{la[2]}{la[3]}|{la[4]}\"] = g.add_vertex()\n",
    "                v_type[dict_vertex[f\"{la[2]}{la[3]}|{la[4]}\"]] = 1\n",
    "                v_filter[dict_vertex[f\"{la[2]}{la[3]}|{la[4]}\"]] = True\n",
    "            e = g.add_edge(dict_vertex[la[1]], dict_vertex[f\"{la[2]}{la[3]}|{la[4]}\"])\n",
    "    "
   ]
  },
  {
   "cell_type": "code",
   "execution_count": 41,
   "id": "c0dc89eb",
   "metadata": {},
   "outputs": [],
   "source": [
    "old_sub = GraphView(g, v_filter)"
   ]
  },
  {
   "cell_type": "code",
   "execution_count": 42,
   "id": "2f1fff7d",
   "metadata": {},
   "outputs": [],
   "source": [
    "old_sub.vp.v_type = v_type   # old_sub.ep is a dictionary of internal properties\n",
    "sub = Graph(old_sub, directed=False, prune=True)\n",
    "sub_v_type = sub.vp.v_type"
   ]
  },
  {
   "cell_type": "code",
   "execution_count": null,
   "id": "3e08bc19",
   "metadata": {},
   "outputs": [],
   "source": [
    "graph_draw(sub, vertex_text=sub.vertex_index, output=\"test.pdf\", vertex_fill_color=sub_v_type)"
   ]
  },
  {
   "cell_type": "code",
   "execution_count": 33,
   "id": "662a06fd",
   "metadata": {},
   "outputs": [
    {
     "data": {
      "text/plain": [
       "<GraphView object, directed, with 9801 vertices and 618 edges, edges filtered by (<EdgePropertyMap object with value type 'bool', for Graph 0x7f01455080d0, at 0x7f01456d24d0>, False), vertices filtered by (<VertexPropertyMap object with value type 'bool', for Graph 0x7f01455080d0, at 0x7f01456d07c0>, False), at 0x7f01455080d0>"
      ]
     },
     "execution_count": 33,
     "metadata": {},
     "output_type": "execute_result"
    }
   ],
   "source": [
    "sub"
   ]
  },
  {
   "cell_type": "code",
   "execution_count": null,
   "id": "bd274bd0",
   "metadata": {},
   "outputs": [],
   "source": []
  }
 ],
 "metadata": {
  "kernelspec": {
   "display_name": "Python 3 (ipykernel)",
   "language": "python",
   "name": "python3"
  },
  "language_info": {
   "codemirror_mode": {
    "name": "ipython",
    "version": 3
   },
   "file_extension": ".py",
   "mimetype": "text/x-python",
   "name": "python",
   "nbconvert_exporter": "python",
   "pygments_lexer": "ipython3",
   "version": "3.10.6"
  }
 },
 "nbformat": 4,
 "nbformat_minor": 5
}

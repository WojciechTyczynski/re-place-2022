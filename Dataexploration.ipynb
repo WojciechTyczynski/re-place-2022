{
 "cells": [
  {
   "cell_type": "code",
   "execution_count": 1,
   "metadata": {},
   "outputs": [],
   "source": [
    "import fastparquet\n",
    "import numpy as np\n",
    "import pandas as pd\n",
    "# import matplotlib.pylab as plt\n"
   ]
  },
  {
   "cell_type": "code",
   "execution_count": 2,
   "metadata": {},
   "outputs": [],
   "source": [
    "df = pd.read_parquet('dataset/2022_place_deephaven.parquet', engine='fastparquet')\n",
    "df['timestamp'] = pd.to_datetime(df['timestamp'],unit='ns')"
   ]
  },
  {
   "cell_type": "code",
   "execution_count": 3,
   "metadata": {},
   "outputs": [
    {
     "data": {
      "text/html": [
       "<div>\n",
       "<style scoped>\n",
       "    .dataframe tbody tr th:only-of-type {\n",
       "        vertical-align: middle;\n",
       "    }\n",
       "\n",
       "    .dataframe tbody tr th {\n",
       "        vertical-align: top;\n",
       "    }\n",
       "\n",
       "    .dataframe thead th {\n",
       "        text-align: right;\n",
       "    }\n",
       "</style>\n",
       "<table border=\"1\" class=\"dataframe\">\n",
       "  <thead>\n",
       "    <tr style=\"text-align: right;\">\n",
       "      <th></th>\n",
       "      <th>timestamp</th>\n",
       "      <th>user_id</th>\n",
       "      <th>rgb</th>\n",
       "      <th>x1</th>\n",
       "      <th>y1</th>\n",
       "      <th>x2</th>\n",
       "      <th>y2</th>\n",
       "    </tr>\n",
       "  </thead>\n",
       "  <tbody>\n",
       "    <tr>\n",
       "      <th>0</th>\n",
       "      <td>2022-04-01 12:44:10.315</td>\n",
       "      <td>4068945</td>\n",
       "      <td>8318294</td>\n",
       "      <td>42</td>\n",
       "      <td>42</td>\n",
       "      <td>-32768</td>\n",
       "      <td>-32768</td>\n",
       "    </tr>\n",
       "    <tr>\n",
       "      <th>1</th>\n",
       "      <td>2022-04-01 12:44:22.671</td>\n",
       "      <td>4068946</td>\n",
       "      <td>41832</td>\n",
       "      <td>999</td>\n",
       "      <td>999</td>\n",
       "      <td>-32768</td>\n",
       "      <td>-32768</td>\n",
       "    </tr>\n",
       "    <tr>\n",
       "      <th>2</th>\n",
       "      <td>2022-04-01 12:44:26.626</td>\n",
       "      <td>4068947</td>\n",
       "      <td>3576042</td>\n",
       "      <td>44</td>\n",
       "      <td>42</td>\n",
       "      <td>-32768</td>\n",
       "      <td>-32768</td>\n",
       "    </tr>\n",
       "    <tr>\n",
       "      <th>3</th>\n",
       "      <td>2022-04-01 12:44:31.703</td>\n",
       "      <td>4068948</td>\n",
       "      <td>13948889</td>\n",
       "      <td>2</td>\n",
       "      <td>2</td>\n",
       "      <td>-32768</td>\n",
       "      <td>-32768</td>\n",
       "    </tr>\n",
       "    <tr>\n",
       "      <th>4</th>\n",
       "      <td>2022-04-01 12:44:44.409</td>\n",
       "      <td>4068949</td>\n",
       "      <td>3576042</td>\n",
       "      <td>23</td>\n",
       "      <td>23</td>\n",
       "      <td>-32768</td>\n",
       "      <td>-32768</td>\n",
       "    </tr>\n",
       "  </tbody>\n",
       "</table>\n",
       "</div>"
      ],
      "text/plain": [
       "                timestamp  user_id       rgb   x1   y1     x2     y2\n",
       "0 2022-04-01 12:44:10.315  4068945   8318294   42   42 -32768 -32768\n",
       "1 2022-04-01 12:44:22.671  4068946     41832  999  999 -32768 -32768\n",
       "2 2022-04-01 12:44:26.626  4068947   3576042   44   42 -32768 -32768\n",
       "3 2022-04-01 12:44:31.703  4068948  13948889    2    2 -32768 -32768\n",
       "4 2022-04-01 12:44:44.409  4068949   3576042   23   23 -32768 -32768"
      ]
     },
     "execution_count": 3,
     "metadata": {},
     "output_type": "execute_result"
    }
   ],
   "source": [
    "df.head()"
   ]
  },
  {
   "cell_type": "code",
   "execution_count": 4,
   "metadata": {},
   "outputs": [],
   "source": [
    "from PIL import Image\n",
    "import os\n",
    "class PlaceCanvas:\n",
    "    def __init__(self, width, height):\n",
    "        self.canvas = Image.new('RGB', (width, height), color = 'white')\n",
    "\n",
    "\n",
    "    def update_pixel_hex(self, x,y,color):\n",
    "        \"\"\"\n",
    "        Sets the specific x,y coordinate in the canvas to the given hex color.\n",
    "\n",
    "        example:\n",
    "        update_pixel(10,10,\"#B4FBB8\")\n",
    "        \"\"\"\n",
    "        h = color.lstrip('#')\n",
    "        rgb_value = tuple(int(h[i:i+2], 16) for i in (0, 2, 4))\n",
    "        self.canvas.putpixel((x,y), rgb_value)\n",
    "\n",
    "    def update_pixel_int(self, x,y,color):\n",
    "        \"\"\"\n",
    "        Sets the specific x,y coordinate in the canvas to the given hex color.\n",
    "\n",
    "        example:\n",
    "        update_pixel(10,10, 8318294)\n",
    "        \"\"\"\n",
    "        self.canvas.putpixel((x,y), self.getRGBfromI(color))\n",
    "\n",
    "    def save_canvas(self, path = \"images/\"):\n",
    "        name = ''\n",
    "        if(os.path.exists(f'{path}images.png')):\n",
    "            i = 0 \n",
    "            while(os.path.exists(f'{path}images {i}.png')):\n",
    "                i += 1\n",
    "            self.canvas.save(f'{path}images {i}.png')\n",
    "            return f'images {i}.png'\n",
    "        else:\n",
    "            self.canvas.save(f'{path}images.png')\n",
    "            return 'images.png'\n",
    "\n",
    "    def get_image(self):\n",
    "        return self.canvas\n",
    "\n",
    "    def getRGBfromI(self, RGBint):\n",
    "        blue =  RGBint & 255\n",
    "        green = (RGBint >> 8) & 255\n",
    "        red =   (RGBint >> 16) & 255\n",
    "        return red, green, blue"
   ]
  },
  {
   "cell_type": "code",
   "execution_count": 13,
   "metadata": {},
   "outputs": [
    {
     "name": "stdout",
     "output_type": "stream",
     "text": [
      "Processing 0 to 1000000\n",
      "Processing 1000000 to 2000000\n",
      "Processing 2000000 to 3000000\n",
      "Processing 3000000 to 4000000\n",
      "Processing 4000000 to 5000000\n",
      "Processing 5000000 to 6000000\n",
      "Processing 6000000 to 7000000\n",
      "Processing 7000000 to 8000000\n",
      "Processing 8000000 to 9000000\n",
      "Processing 9000000 to 10000000\n",
      "Processing 10000000 to 11000000\n",
      "Processing 11000000 to 12000000\n",
      "Processing 12000000 to 13000000\n",
      "Processing 13000000 to 14000000\n",
      "Processing 14000000 to 15000000\n",
      "Processing 15000000 to 16000000\n",
      "Processing 16000000 to 17000000\n",
      "Processing 17000000 to 18000000\n",
      "Processing 18000000 to 19000000\n",
      "Processing 19000000 to 20000000\n",
      "Processing 20000000 to 21000000\n",
      "Processing 21000000 to 22000000\n",
      "Processing 22000000 to 23000000\n",
      "Processing 23000000 to 24000000\n",
      "Processing 24000000 to 25000000\n",
      "Processing 25000000 to 26000000\n",
      "Processing 26000000 to 27000000\n",
      "Processing 27000000 to 28000000\n",
      "Processing 28000000 to 29000000\n",
      "Processing 29000000 to 30000000\n",
      "Processing 30000000 to 31000000\n",
      "Processing 31000000 to 32000000\n",
      "Processing 32000000 to 33000000\n",
      "Processing 33000000 to 34000000\n",
      "Processing 34000000 to 35000000\n",
      "Processing 35000000 to 36000000\n",
      "Processing 36000000 to 37000000\n",
      "Processing 37000000 to 38000000\n",
      "Processing 38000000 to 39000000\n",
      "Processing 39000000 to 40000000\n",
      "Processing 40000000 to 41000000\n",
      "Processing 41000000 to 42000000\n",
      "Processing 42000000 to 43000000\n"
     ]
    },
    {
     "ename": "KeyboardInterrupt",
     "evalue": "",
     "output_type": "error",
     "traceback": [
      "\u001b[1;31m---------------------------------------------------------------------------\u001b[0m",
      "\u001b[1;31mKeyboardInterrupt\u001b[0m                         Traceback (most recent call last)",
      "\u001b[1;32m<ipython-input-13-3a04d256b824>\u001b[0m in \u001b[0;36m<module>\u001b[1;34m\u001b[0m\n\u001b[0;32m      5\u001b[0m \u001b[1;32mfor\u001b[0m \u001b[0mi\u001b[0m \u001b[1;32min\u001b[0m \u001b[0mrange\u001b[0m\u001b[1;33m(\u001b[0m\u001b[1;36m0\u001b[0m\u001b[1;33m,\u001b[0m \u001b[0mlen\u001b[0m\u001b[1;33m(\u001b[0m\u001b[0mdf\u001b[0m\u001b[1;33m)\u001b[0m\u001b[1;33m,\u001b[0m \u001b[1;36m1000000\u001b[0m\u001b[1;33m)\u001b[0m\u001b[1;33m:\u001b[0m\u001b[1;33m\u001b[0m\u001b[1;33m\u001b[0m\u001b[0m\n\u001b[0;32m      6\u001b[0m     \u001b[0mprint\u001b[0m\u001b[1;33m(\u001b[0m\u001b[1;34mf'Processing {i} to {i+1000000}'\u001b[0m\u001b[1;33m)\u001b[0m\u001b[1;33m\u001b[0m\u001b[1;33m\u001b[0m\u001b[0m\n\u001b[1;32m----> 7\u001b[1;33m     \u001b[1;32mfor\u001b[0m \u001b[0mindex\u001b[0m\u001b[1;33m,\u001b[0m \u001b[0mrow\u001b[0m \u001b[1;32min\u001b[0m \u001b[0mdf\u001b[0m\u001b[1;33m.\u001b[0m\u001b[0miloc\u001b[0m\u001b[1;33m[\u001b[0m\u001b[0mi\u001b[0m\u001b[1;33m:\u001b[0m\u001b[0mi\u001b[0m\u001b[1;33m+\u001b[0m\u001b[1;36m1000000\u001b[0m\u001b[1;33m]\u001b[0m\u001b[1;33m.\u001b[0m\u001b[0miterrows\u001b[0m\u001b[1;33m(\u001b[0m\u001b[1;33m)\u001b[0m\u001b[1;33m:\u001b[0m\u001b[1;33m\u001b[0m\u001b[1;33m\u001b[0m\u001b[0m\n\u001b[0m\u001b[0;32m      8\u001b[0m         \u001b[1;32mif\u001b[0m \u001b[0mrow\u001b[0m\u001b[1;33m[\u001b[0m\u001b[1;34m'x1'\u001b[0m\u001b[1;33m]\u001b[0m \u001b[1;33m<\u001b[0m \u001b[1;36m1000\u001b[0m \u001b[1;32mand\u001b[0m \u001b[0mrow\u001b[0m\u001b[1;33m[\u001b[0m\u001b[1;34m'y1'\u001b[0m\u001b[1;33m]\u001b[0m \u001b[1;33m<\u001b[0m \u001b[1;36m1000\u001b[0m\u001b[1;33m:\u001b[0m\u001b[1;33m\u001b[0m\u001b[1;33m\u001b[0m\u001b[0m\n\u001b[0;32m      9\u001b[0m             \u001b[0mcanvas\u001b[0m\u001b[1;33m.\u001b[0m\u001b[0mupdate_pixel_int\u001b[0m\u001b[1;33m(\u001b[0m\u001b[0mrow\u001b[0m\u001b[1;33m[\u001b[0m\u001b[1;34m'x1'\u001b[0m\u001b[1;33m]\u001b[0m\u001b[1;33m,\u001b[0m\u001b[0mrow\u001b[0m\u001b[1;33m[\u001b[0m\u001b[1;34m'y1'\u001b[0m\u001b[1;33m]\u001b[0m\u001b[1;33m,\u001b[0m\u001b[0mrow\u001b[0m\u001b[1;33m[\u001b[0m\u001b[1;34m'rgb'\u001b[0m\u001b[1;33m]\u001b[0m\u001b[1;33m)\u001b[0m\u001b[1;33m\u001b[0m\u001b[1;33m\u001b[0m\u001b[0m\n",
      "\u001b[1;32mc:\\Users\\mailt\\anaconda3\\envs\\dashenv\\lib\\site-packages\\pandas\\core\\frame.py\u001b[0m in \u001b[0;36miterrows\u001b[1;34m(self)\u001b[0m\n\u001b[0;32m   1012\u001b[0m         \u001b[0mklass\u001b[0m \u001b[1;33m=\u001b[0m \u001b[0mself\u001b[0m\u001b[1;33m.\u001b[0m\u001b[0m_constructor_sliced\u001b[0m\u001b[1;33m\u001b[0m\u001b[1;33m\u001b[0m\u001b[0m\n\u001b[0;32m   1013\u001b[0m         \u001b[1;32mfor\u001b[0m \u001b[0mk\u001b[0m\u001b[1;33m,\u001b[0m \u001b[0mv\u001b[0m \u001b[1;32min\u001b[0m \u001b[0mzip\u001b[0m\u001b[1;33m(\u001b[0m\u001b[0mself\u001b[0m\u001b[1;33m.\u001b[0m\u001b[0mindex\u001b[0m\u001b[1;33m,\u001b[0m \u001b[0mself\u001b[0m\u001b[1;33m.\u001b[0m\u001b[0mvalues\u001b[0m\u001b[1;33m)\u001b[0m\u001b[1;33m:\u001b[0m\u001b[1;33m\u001b[0m\u001b[1;33m\u001b[0m\u001b[0m\n\u001b[1;32m-> 1014\u001b[1;33m             \u001b[0ms\u001b[0m \u001b[1;33m=\u001b[0m \u001b[0mklass\u001b[0m\u001b[1;33m(\u001b[0m\u001b[0mv\u001b[0m\u001b[1;33m,\u001b[0m \u001b[0mindex\u001b[0m\u001b[1;33m=\u001b[0m\u001b[0mcolumns\u001b[0m\u001b[1;33m,\u001b[0m \u001b[0mname\u001b[0m\u001b[1;33m=\u001b[0m\u001b[0mk\u001b[0m\u001b[1;33m)\u001b[0m\u001b[1;33m\u001b[0m\u001b[1;33m\u001b[0m\u001b[0m\n\u001b[0m\u001b[0;32m   1015\u001b[0m             \u001b[1;32myield\u001b[0m \u001b[0mk\u001b[0m\u001b[1;33m,\u001b[0m \u001b[0ms\u001b[0m\u001b[1;33m\u001b[0m\u001b[1;33m\u001b[0m\u001b[0m\n\u001b[0;32m   1016\u001b[0m \u001b[1;33m\u001b[0m\u001b[0m\n",
      "\u001b[1;32mc:\\Users\\mailt\\anaconda3\\envs\\dashenv\\lib\\site-packages\\pandas\\core\\series.py\u001b[0m in \u001b[0;36m__init__\u001b[1;34m(self, data, index, dtype, name, copy, fastpath)\u001b[0m\n\u001b[0;32m    325\u001b[0m                     \u001b[0mdata\u001b[0m \u001b[1;33m=\u001b[0m \u001b[0mdata\u001b[0m\u001b[1;33m.\u001b[0m\u001b[0mcopy\u001b[0m\u001b[1;33m(\u001b[0m\u001b[1;33m)\u001b[0m\u001b[1;33m\u001b[0m\u001b[1;33m\u001b[0m\u001b[0m\n\u001b[0;32m    326\u001b[0m             \u001b[1;32melse\u001b[0m\u001b[1;33m:\u001b[0m\u001b[1;33m\u001b[0m\u001b[1;33m\u001b[0m\u001b[0m\n\u001b[1;32m--> 327\u001b[1;33m                 \u001b[0mdata\u001b[0m \u001b[1;33m=\u001b[0m \u001b[0msanitize_array\u001b[0m\u001b[1;33m(\u001b[0m\u001b[0mdata\u001b[0m\u001b[1;33m,\u001b[0m \u001b[0mindex\u001b[0m\u001b[1;33m,\u001b[0m \u001b[0mdtype\u001b[0m\u001b[1;33m,\u001b[0m \u001b[0mcopy\u001b[0m\u001b[1;33m,\u001b[0m \u001b[0mraise_cast_failure\u001b[0m\u001b[1;33m=\u001b[0m\u001b[1;32mTrue\u001b[0m\u001b[1;33m)\u001b[0m\u001b[1;33m\u001b[0m\u001b[1;33m\u001b[0m\u001b[0m\n\u001b[0m\u001b[0;32m    328\u001b[0m \u001b[1;33m\u001b[0m\u001b[0m\n\u001b[0;32m    329\u001b[0m                 \u001b[0mdata\u001b[0m \u001b[1;33m=\u001b[0m \u001b[0mSingleBlockManager\u001b[0m\u001b[1;33m.\u001b[0m\u001b[0mfrom_array\u001b[0m\u001b[1;33m(\u001b[0m\u001b[0mdata\u001b[0m\u001b[1;33m,\u001b[0m \u001b[0mindex\u001b[0m\u001b[1;33m)\u001b[0m\u001b[1;33m\u001b[0m\u001b[1;33m\u001b[0m\u001b[0m\n",
      "\u001b[1;32mc:\\Users\\mailt\\anaconda3\\envs\\dashenv\\lib\\site-packages\\pandas\\core\\construction.py\u001b[0m in \u001b[0;36msanitize_array\u001b[1;34m(data, index, dtype, copy, raise_cast_failure)\u001b[0m\n\u001b[0;32m    426\u001b[0m         \u001b[1;32melse\u001b[0m\u001b[1;33m:\u001b[0m\u001b[1;33m\u001b[0m\u001b[1;33m\u001b[0m\u001b[0m\n\u001b[0;32m    427\u001b[0m             \u001b[1;31m# we will try to copy be-definition here\u001b[0m\u001b[1;33m\u001b[0m\u001b[1;33m\u001b[0m\u001b[1;33m\u001b[0m\u001b[0m\n\u001b[1;32m--> 428\u001b[1;33m             \u001b[0msubarr\u001b[0m \u001b[1;33m=\u001b[0m \u001b[0m_try_cast\u001b[0m\u001b[1;33m(\u001b[0m\u001b[0mdata\u001b[0m\u001b[1;33m,\u001b[0m \u001b[0mdtype\u001b[0m\u001b[1;33m,\u001b[0m \u001b[0mcopy\u001b[0m\u001b[1;33m,\u001b[0m \u001b[0mraise_cast_failure\u001b[0m\u001b[1;33m)\u001b[0m\u001b[1;33m\u001b[0m\u001b[1;33m\u001b[0m\u001b[0m\n\u001b[0m\u001b[0;32m    429\u001b[0m \u001b[1;33m\u001b[0m\u001b[0m\n\u001b[0;32m    430\u001b[0m     \u001b[1;32melif\u001b[0m \u001b[0misinstance\u001b[0m\u001b[1;33m(\u001b[0m\u001b[0mdata\u001b[0m\u001b[1;33m,\u001b[0m \u001b[0mABCExtensionArray\u001b[0m\u001b[1;33m)\u001b[0m\u001b[1;33m:\u001b[0m\u001b[1;33m\u001b[0m\u001b[1;33m\u001b[0m\u001b[0m\n",
      "\u001b[1;32mc:\\Users\\mailt\\anaconda3\\envs\\dashenv\\lib\\site-packages\\pandas\\core\\construction.py\u001b[0m in \u001b[0;36m_try_cast\u001b[1;34m(arr, dtype, copy, raise_cast_failure)\u001b[0m\n\u001b[0;32m    556\u001b[0m             \u001b[0msubarr\u001b[0m \u001b[1;33m=\u001b[0m \u001b[0marr\u001b[0m\u001b[1;33m\u001b[0m\u001b[1;33m\u001b[0m\u001b[0m\n\u001b[0;32m    557\u001b[0m         \u001b[1;32melse\u001b[0m\u001b[1;33m:\u001b[0m\u001b[1;33m\u001b[0m\u001b[1;33m\u001b[0m\u001b[0m\n\u001b[1;32m--> 558\u001b[1;33m             \u001b[0msubarr\u001b[0m \u001b[1;33m=\u001b[0m \u001b[0mmaybe_cast_to_datetime\u001b[0m\u001b[1;33m(\u001b[0m\u001b[0marr\u001b[0m\u001b[1;33m,\u001b[0m \u001b[0mdtype\u001b[0m\u001b[1;33m)\u001b[0m\u001b[1;33m\u001b[0m\u001b[1;33m\u001b[0m\u001b[0m\n\u001b[0m\u001b[0;32m    559\u001b[0m \u001b[1;33m\u001b[0m\u001b[0m\n\u001b[0;32m    560\u001b[0m         \u001b[1;31m# Take care in creating object arrays (but iterators are not\u001b[0m\u001b[1;33m\u001b[0m\u001b[1;33m\u001b[0m\u001b[1;33m\u001b[0m\u001b[0m\n",
      "\u001b[1;32mc:\\Users\\mailt\\anaconda3\\envs\\dashenv\\lib\\site-packages\\pandas\\core\\dtypes\\cast.py\u001b[0m in \u001b[0;36mmaybe_cast_to_datetime\u001b[1;34m(value, dtype, errors)\u001b[0m\n\u001b[0;32m   1441\u001b[0m             )\n\u001b[0;32m   1442\u001b[0m         ):\n\u001b[1;32m-> 1443\u001b[1;33m             \u001b[0mvalue\u001b[0m \u001b[1;33m=\u001b[0m \u001b[0mmaybe_infer_to_datetimelike\u001b[0m\u001b[1;33m(\u001b[0m\u001b[0mvalue\u001b[0m\u001b[1;33m)\u001b[0m\u001b[1;33m\u001b[0m\u001b[1;33m\u001b[0m\u001b[0m\n\u001b[0m\u001b[0;32m   1444\u001b[0m \u001b[1;33m\u001b[0m\u001b[0m\n\u001b[0;32m   1445\u001b[0m     \u001b[1;32mreturn\u001b[0m \u001b[0mvalue\u001b[0m\u001b[1;33m\u001b[0m\u001b[1;33m\u001b[0m\u001b[0m\n",
      "\u001b[1;32mc:\\Users\\mailt\\anaconda3\\envs\\dashenv\\lib\\site-packages\\pandas\\core\\dtypes\\cast.py\u001b[0m in \u001b[0;36mmaybe_infer_to_datetimelike\u001b[1;34m(value, convert_dates)\u001b[0m\n\u001b[0;32m   1218\u001b[0m     \u001b[1;31m# TODO: why not timedelta?\u001b[0m\u001b[1;33m\u001b[0m\u001b[1;33m\u001b[0m\u001b[1;33m\u001b[0m\u001b[0m\n\u001b[0;32m   1219\u001b[0m     if isinstance(\n\u001b[1;32m-> 1220\u001b[1;33m         \u001b[0mvalue\u001b[0m\u001b[1;33m,\u001b[0m \u001b[1;33m(\u001b[0m\u001b[0mABCDatetimeIndex\u001b[0m\u001b[1;33m,\u001b[0m \u001b[0mABCPeriodIndex\u001b[0m\u001b[1;33m,\u001b[0m \u001b[0mABCDatetimeArray\u001b[0m\u001b[1;33m,\u001b[0m \u001b[0mABCPeriodArray\u001b[0m\u001b[1;33m)\u001b[0m\u001b[1;33m\u001b[0m\u001b[1;33m\u001b[0m\u001b[0m\n\u001b[0m\u001b[0;32m   1221\u001b[0m     ):\n\u001b[0;32m   1222\u001b[0m         \u001b[1;32mreturn\u001b[0m \u001b[0mvalue\u001b[0m\u001b[1;33m\u001b[0m\u001b[1;33m\u001b[0m\u001b[0m\n",
      "\u001b[1;31mKeyboardInterrupt\u001b[0m: "
     ]
    }
   ],
   "source": [
    "canvas = PlaceCanvas(1000,1000)\n",
    "lastsave = df.iloc[0]['timestamp']\n",
    "df_images = pd.DataFrame(columns=['timestamp','image'])\n",
    "# Batch the df in million chunks\n",
    "for i in range(0, len(df), 1000000):\n",
    "    print(f'Processing {i} to {i+1000000}')\n",
    "    # check to see if out of bounds\n",
    "    if(i+1000000 > len(df)):\n",
    "        df_chunk = df.iloc[i:]\n",
    "    else:\n",
    "        df_chunk = df.iloc[i:i+1000000]\n",
    "    # iterate through the chunk\n",
    "    for index, row in df_chunk.iterrows():\n",
    "        if row['x1'] < 1000 and row['y1'] < 1000:\n",
    "            canvas.update_pixel_int(row['x1'],row['y1'],row['rgb'])\n",
    "        if row['timestamp'] - lastsave > pd.Timedelta('30m'):\n",
    "            lastsave = row['timestamp']\n",
    "            df_images = df_images.append({'timestamp': row['timestamp'], 'image': canvas.save_canvas()}, ignore_index=True)\n",
    "        \n"
   ]
  },
  {
   "cell_type": "code",
   "execution_count": 14,
   "metadata": {},
   "outputs": [
    {
     "ename": "",
     "evalue": "",
     "output_type": "error",
     "traceback": [
      "\u001b[1;31mThe Kernel crashed while executing code in the the current cell or a previous cell. Please review the code in the cell(s) to identify a possible cause of the failure. Click <a href='https://aka.ms/vscodeJupyterKernelCrash'>here</a> for more info. View Jupyter <a href='command:jupyter.viewOutput'>log</a> for further details."
     ]
    }
   ],
   "source": [
    "df_images.to_csv('timestamp_images.csv', index=False)"
   ]
  },
  {
   "cell_type": "code",
   "execution_count": 3,
   "metadata": {},
   "outputs": [
    {
     "data": {
      "text/html": [
       "<div>\n",
       "<style scoped>\n",
       "    .dataframe tbody tr th:only-of-type {\n",
       "        vertical-align: middle;\n",
       "    }\n",
       "\n",
       "    .dataframe tbody tr th {\n",
       "        vertical-align: top;\n",
       "    }\n",
       "\n",
       "    .dataframe thead th {\n",
       "        text-align: right;\n",
       "    }\n",
       "</style>\n",
       "<table border=\"1\" class=\"dataframe\">\n",
       "  <thead>\n",
       "    <tr style=\"text-align: right;\">\n",
       "      <th></th>\n",
       "      <th>timestamp</th>\n",
       "      <th>user_id</th>\n",
       "      <th>pixel_color</th>\n",
       "      <th>coordinate</th>\n",
       "    </tr>\n",
       "  </thead>\n",
       "  <tbody>\n",
       "    <tr>\n",
       "      <th>0</th>\n",
       "      <td>2022-04-04 00:53:51.577 UTC</td>\n",
       "      <td>ovTZk4GyTS1mDQnTbV+vDOCu1f+u6w+CkIZ6445vD4XN8a...</td>\n",
       "      <td>#00CCC0</td>\n",
       "      <td>826,1048</td>\n",
       "    </tr>\n",
       "    <tr>\n",
       "      <th>1</th>\n",
       "      <td>2022-04-04 00:53:53.758 UTC</td>\n",
       "      <td>6NSgFa1CvIPly1VniNhlbrmoN3vgDFbMSKqh+c4TTfrr3d...</td>\n",
       "      <td>#94B3FF</td>\n",
       "      <td>583,1031</td>\n",
       "    </tr>\n",
       "    <tr>\n",
       "      <th>2</th>\n",
       "      <td>2022-04-04 00:53:54.685 UTC</td>\n",
       "      <td>O5Oityp3Z3owzTuwM9XnMggpLcqKEumsOMKGhRiDTTImWb...</td>\n",
       "      <td>#6A5CFF</td>\n",
       "      <td>1873,558</td>\n",
       "    </tr>\n",
       "    <tr>\n",
       "      <th>3</th>\n",
       "      <td>2022-04-04 00:54:57.541 UTC</td>\n",
       "      <td>tc273UiqS0wKa6VwiOs/iz/t4LyPYrhL2Q347awn11IQQE...</td>\n",
       "      <td>#009EAA</td>\n",
       "      <td>1627,255</td>\n",
       "    </tr>\n",
       "    <tr>\n",
       "      <th>4</th>\n",
       "      <td>2022-04-04 00:55:16.307 UTC</td>\n",
       "      <td>OOWsU/HLb4UUkQwclDeXFtsJTOXMlAdNHiRpFA1Qk+SxUr...</td>\n",
       "      <td>#94B3FF</td>\n",
       "      <td>49,1478</td>\n",
       "    </tr>\n",
       "  </tbody>\n",
       "</table>\n",
       "</div>"
      ],
      "text/plain": [
       "                     timestamp  \\\n",
       "0  2022-04-04 00:53:51.577 UTC   \n",
       "1  2022-04-04 00:53:53.758 UTC   \n",
       "2  2022-04-04 00:53:54.685 UTC   \n",
       "3  2022-04-04 00:54:57.541 UTC   \n",
       "4  2022-04-04 00:55:16.307 UTC   \n",
       "\n",
       "                                             user_id pixel_color coordinate  \n",
       "0  ovTZk4GyTS1mDQnTbV+vDOCu1f+u6w+CkIZ6445vD4XN8a...     #00CCC0   826,1048  \n",
       "1  6NSgFa1CvIPly1VniNhlbrmoN3vgDFbMSKqh+c4TTfrr3d...     #94B3FF   583,1031  \n",
       "2  O5Oityp3Z3owzTuwM9XnMggpLcqKEumsOMKGhRiDTTImWb...     #6A5CFF   1873,558  \n",
       "3  tc273UiqS0wKa6VwiOs/iz/t4LyPYrhL2Q347awn11IQQE...     #009EAA   1627,255  \n",
       "4  OOWsU/HLb4UUkQwclDeXFtsJTOXMlAdNHiRpFA1Qk+SxUr...     #94B3FF    49,1478  "
      ]
     },
     "execution_count": 3,
     "metadata": {},
     "output_type": "execute_result"
    }
   ],
   "source": [
    "df.head()"
   ]
  },
  {
   "cell_type": "code",
   "execution_count": 4,
   "metadata": {},
   "outputs": [
    {
     "name": "stdout",
     "output_type": "stream",
     "text": [
      "<class 'pandas.core.frame.DataFrame'>\n",
      "RangeIndex: 1175317 entries, 0 to 1175316\n",
      "Data columns (total 4 columns):\n",
      " #   Column       Non-Null Count    Dtype \n",
      "---  ------       --------------    ----- \n",
      " 0   timestamp    1175317 non-null  object\n",
      " 1   user_id      1175317 non-null  object\n",
      " 2   pixel_color  1175317 non-null  object\n",
      " 3   coordinate   1175317 non-null  object\n",
      "dtypes: object(4)\n",
      "memory usage: 35.9+ MB\n"
     ]
    }
   ],
   "source": [
    "df.info()"
   ]
  },
  {
   "cell_type": "code",
   "execution_count": 5,
   "metadata": {},
   "outputs": [],
   "source": [
    "df[['x', 'y']] = df.coordinate.str.split(\",\",1, expand=True)\n",
    "df['x'] = df['x'].astype(int)\n",
    "df['y'] = df['y'].astype(int)"
   ]
  },
  {
   "cell_type": "code",
   "execution_count": 6,
   "metadata": {},
   "outputs": [
    {
     "data": {
      "text/html": [
       "<div>\n",
       "<style scoped>\n",
       "    .dataframe tbody tr th:only-of-type {\n",
       "        vertical-align: middle;\n",
       "    }\n",
       "\n",
       "    .dataframe tbody tr th {\n",
       "        vertical-align: top;\n",
       "    }\n",
       "\n",
       "    .dataframe thead th {\n",
       "        text-align: right;\n",
       "    }\n",
       "</style>\n",
       "<table border=\"1\" class=\"dataframe\">\n",
       "  <thead>\n",
       "    <tr style=\"text-align: right;\">\n",
       "      <th></th>\n",
       "      <th>timestamp</th>\n",
       "      <th>user_id</th>\n",
       "      <th>pixel_color</th>\n",
       "      <th>coordinate</th>\n",
       "      <th>x</th>\n",
       "      <th>y</th>\n",
       "    </tr>\n",
       "  </thead>\n",
       "  <tbody>\n",
       "    <tr>\n",
       "      <th>0</th>\n",
       "      <td>2022-04-04 00:53:51.577 UTC</td>\n",
       "      <td>ovTZk4GyTS1mDQnTbV+vDOCu1f+u6w+CkIZ6445vD4XN8a...</td>\n",
       "      <td>#00CCC0</td>\n",
       "      <td>826,1048</td>\n",
       "      <td>826</td>\n",
       "      <td>1048</td>\n",
       "    </tr>\n",
       "    <tr>\n",
       "      <th>1</th>\n",
       "      <td>2022-04-04 00:53:53.758 UTC</td>\n",
       "      <td>6NSgFa1CvIPly1VniNhlbrmoN3vgDFbMSKqh+c4TTfrr3d...</td>\n",
       "      <td>#94B3FF</td>\n",
       "      <td>583,1031</td>\n",
       "      <td>583</td>\n",
       "      <td>1031</td>\n",
       "    </tr>\n",
       "    <tr>\n",
       "      <th>2</th>\n",
       "      <td>2022-04-04 00:53:54.685 UTC</td>\n",
       "      <td>O5Oityp3Z3owzTuwM9XnMggpLcqKEumsOMKGhRiDTTImWb...</td>\n",
       "      <td>#6A5CFF</td>\n",
       "      <td>1873,558</td>\n",
       "      <td>1873</td>\n",
       "      <td>558</td>\n",
       "    </tr>\n",
       "    <tr>\n",
       "      <th>3</th>\n",
       "      <td>2022-04-04 00:54:57.541 UTC</td>\n",
       "      <td>tc273UiqS0wKa6VwiOs/iz/t4LyPYrhL2Q347awn11IQQE...</td>\n",
       "      <td>#009EAA</td>\n",
       "      <td>1627,255</td>\n",
       "      <td>1627</td>\n",
       "      <td>255</td>\n",
       "    </tr>\n",
       "    <tr>\n",
       "      <th>4</th>\n",
       "      <td>2022-04-04 00:55:16.307 UTC</td>\n",
       "      <td>OOWsU/HLb4UUkQwclDeXFtsJTOXMlAdNHiRpFA1Qk+SxUr...</td>\n",
       "      <td>#94B3FF</td>\n",
       "      <td>49,1478</td>\n",
       "      <td>49</td>\n",
       "      <td>1478</td>\n",
       "    </tr>\n",
       "  </tbody>\n",
       "</table>\n",
       "</div>"
      ],
      "text/plain": [
       "                     timestamp  \\\n",
       "0  2022-04-04 00:53:51.577 UTC   \n",
       "1  2022-04-04 00:53:53.758 UTC   \n",
       "2  2022-04-04 00:53:54.685 UTC   \n",
       "3  2022-04-04 00:54:57.541 UTC   \n",
       "4  2022-04-04 00:55:16.307 UTC   \n",
       "\n",
       "                                             user_id pixel_color coordinate  \\\n",
       "0  ovTZk4GyTS1mDQnTbV+vDOCu1f+u6w+CkIZ6445vD4XN8a...     #00CCC0   826,1048   \n",
       "1  6NSgFa1CvIPly1VniNhlbrmoN3vgDFbMSKqh+c4TTfrr3d...     #94B3FF   583,1031   \n",
       "2  O5Oityp3Z3owzTuwM9XnMggpLcqKEumsOMKGhRiDTTImWb...     #6A5CFF   1873,558   \n",
       "3  tc273UiqS0wKa6VwiOs/iz/t4LyPYrhL2Q347awn11IQQE...     #009EAA   1627,255   \n",
       "4  OOWsU/HLb4UUkQwclDeXFtsJTOXMlAdNHiRpFA1Qk+SxUr...     #94B3FF    49,1478   \n",
       "\n",
       "      x     y  \n",
       "0   826  1048  \n",
       "1   583  1031  \n",
       "2  1873   558  \n",
       "3  1627   255  \n",
       "4    49  1478  "
      ]
     },
     "execution_count": 6,
     "metadata": {},
     "output_type": "execute_result"
    }
   ],
   "source": [
    "df.head()"
   ]
  },
  {
   "cell_type": "code",
   "execution_count": 7,
   "metadata": {},
   "outputs": [],
   "source": [
    "canvas = PlaceCanvas(2000,2000)"
   ]
  },
  {
   "cell_type": "code",
   "execution_count": 8,
   "metadata": {},
   "outputs": [],
   "source": [
    "video_name = 'video.avi'\n",
    "video = cv2.VideoWriter(video_name, 0, 1, (2000,2000))"
   ]
  },
  {
   "cell_type": "code",
   "execution_count": 9,
   "metadata": {},
   "outputs": [
    {
     "ename": "TypeError",
     "evalue": "Expected cv::UMat for argument 'image'",
     "output_type": "error",
     "traceback": [
      "\u001b[1;31m---------------------------------------------------------------------------\u001b[0m",
      "\u001b[1;31mTypeError\u001b[0m                                 Traceback (most recent call last)",
      "\u001b[1;32m~\\AppData\\Local\\Temp/ipykernel_2224/2634391828.py\u001b[0m in \u001b[0;36m<module>\u001b[1;34m\u001b[0m\n\u001b[0;32m      1\u001b[0m \u001b[1;32mfor\u001b[0m \u001b[0mindex\u001b[0m\u001b[1;33m,\u001b[0m \u001b[0mrow\u001b[0m \u001b[1;32min\u001b[0m \u001b[0mdf\u001b[0m\u001b[1;33m.\u001b[0m\u001b[0miterrows\u001b[0m\u001b[1;33m(\u001b[0m\u001b[1;33m)\u001b[0m\u001b[1;33m:\u001b[0m\u001b[1;33m\u001b[0m\u001b[1;33m\u001b[0m\u001b[0m\n\u001b[0;32m      2\u001b[0m     \u001b[0mcanvas\u001b[0m\u001b[1;33m.\u001b[0m\u001b[0mupdate_pixel\u001b[0m\u001b[1;33m(\u001b[0m\u001b[0mrow\u001b[0m\u001b[1;33m.\u001b[0m\u001b[0mx\u001b[0m\u001b[1;33m,\u001b[0m \u001b[0mrow\u001b[0m\u001b[1;33m.\u001b[0m\u001b[0my\u001b[0m\u001b[1;33m,\u001b[0m \u001b[0mrow\u001b[0m\u001b[1;33m.\u001b[0m\u001b[0mpixel_color\u001b[0m\u001b[1;33m)\u001b[0m\u001b[1;33m\u001b[0m\u001b[1;33m\u001b[0m\u001b[0m\n\u001b[1;32m----> 3\u001b[1;33m     \u001b[0mvideo\u001b[0m\u001b[1;33m.\u001b[0m\u001b[0mwrite\u001b[0m\u001b[1;33m(\u001b[0m\u001b[0mcanvas\u001b[0m\u001b[1;33m.\u001b[0m\u001b[0mget_image\u001b[0m\u001b[1;33m(\u001b[0m\u001b[1;33m)\u001b[0m\u001b[1;33m)\u001b[0m\u001b[1;33m\u001b[0m\u001b[1;33m\u001b[0m\u001b[0m\n\u001b[0m\u001b[0;32m      4\u001b[0m \u001b[0mvideo\u001b[0m\u001b[1;33m.\u001b[0m\u001b[0mrelease\u001b[0m\u001b[1;33m(\u001b[0m\u001b[1;33m)\u001b[0m\u001b[1;33m\u001b[0m\u001b[1;33m\u001b[0m\u001b[0m\n\u001b[0;32m      5\u001b[0m \u001b[0mcanvas\u001b[0m\u001b[1;33m.\u001b[0m\u001b[0msave_canvas\u001b[0m\u001b[1;33m(\u001b[0m\u001b[1;33m)\u001b[0m\u001b[1;33m\u001b[0m\u001b[1;33m\u001b[0m\u001b[0m\n",
      "\u001b[1;31mTypeError\u001b[0m: Expected cv::UMat for argument 'image'"
     ]
    }
   ],
   "source": [
    "for index, row in df.iterrows():\n",
    "    canvas.update_pixel(row.x, row.y, row.pixel_color)\n",
    "canvas.save_canvas()"
   ]
  },
  {
   "cell_type": "code",
   "execution_count": null,
   "metadata": {},
   "outputs": [],
   "source": []
  }
 ],
 "metadata": {
  "kernelspec": {
   "display_name": "Python 3.6.15 ('dashenv')",
   "language": "python",
   "name": "python3"
  },
  "language_info": {
   "codemirror_mode": {
    "name": "ipython",
    "version": 3
   },
   "file_extension": ".py",
   "mimetype": "text/x-python",
   "name": "python",
   "nbconvert_exporter": "python",
   "pygments_lexer": "ipython3",
   "version": "3.6.13"
  },
  "orig_nbformat": 4,
  "vscode": {
   "interpreter": {
    "hash": "77125426d32b875e57f2e17e32f14ec3f5480e5455abaec3eae3c4f6fef99d86"
   }
  }
 },
 "nbformat": 4,
 "nbformat_minor": 2
}

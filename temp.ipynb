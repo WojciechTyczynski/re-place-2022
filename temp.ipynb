{
 "cells": [
  {
   "cell_type": "code",
   "execution_count": 1,
   "metadata": {},
   "outputs": [],
   "source": [
    "import pandas as pd"
   ]
  },
  {
   "cell_type": "code",
   "execution_count": 19,
   "metadata": {},
   "outputs": [],
   "source": [
    "df = pd.DataFrame()\n",
    "\n",
    "df = df.append({'hour': 0, 'image': \"images.png\"}, ignore_index=True)\n",
    "\n",
    "dict_hours = {}\n",
    "dict_hours[0] = \"https://raw.githubusercontent.com/WojciechTyczynski/re-place-2022/main/images/images.png\"\n",
    "\n",
    "for i in range(24):\n",
    "    dict_hours[i+1] = f\"https://raw.githubusercontent.com/WojciechTyczynski/re-place-2022/main/images/images%20{i}.png\""
   ]
  },
  {
   "cell_type": "code",
   "execution_count": 20,
   "metadata": {},
   "outputs": [],
   "source": [
    "import json\n",
    "with open('dict_hours_images.json', 'w') as fp:\n",
    "    json.dump(dict_hours, fp)"
   ]
  },
  {
   "cell_type": "code",
   "execution_count": null,
   "metadata": {},
   "outputs": [],
   "source": []
  }
 ],
 "metadata": {
  "kernelspec": {
   "display_name": "Python 3.6.15 ('dashenv')",
   "language": "python",
   "name": "python3"
  },
  "language_info": {
   "codemirror_mode": {
    "name": "ipython",
    "version": 3
   },
   "file_extension": ".py",
   "mimetype": "text/x-python",
   "name": "python",
   "nbconvert_exporter": "python",
   "pygments_lexer": "ipython3",
   "version": "3.6.13"
  },
  "orig_nbformat": 4,
  "vscode": {
   "interpreter": {
    "hash": "77125426d32b875e57f2e17e32f14ec3f5480e5455abaec3eae3c4f6fef99d86"
   }
  }
 },
 "nbformat": 4,
 "nbformat_minor": 2
}

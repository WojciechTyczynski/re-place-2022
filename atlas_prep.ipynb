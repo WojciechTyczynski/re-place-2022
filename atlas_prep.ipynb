{
 "cells": [
  {
   "cell_type": "code",
   "execution_count": 23,
   "metadata": {},
   "outputs": [],
   "source": [
    "import pandas as pd\n",
    "import plotly.graph_objects as go"
   ]
  },
  {
   "cell_type": "code",
   "execution_count": 24,
   "metadata": {},
   "outputs": [],
   "source": [
    "df = pd.read_json('atlas.json')"
   ]
  },
  {
   "cell_type": "code",
   "execution_count": 25,
   "metadata": {},
   "outputs": [],
   "source": [
    "df['shapes'] = df.path.apply(lambda x: list(x.values())[0])"
   ]
  },
  {
   "cell_type": "code",
   "execution_count": 26,
   "metadata": {},
   "outputs": [],
   "source": [
    "#extract x and y coordinates from list of lists\n",
    "df['x'] = df.shapes.apply(lambda x: [i[0] for i in x])\n",
    "df['y'] = df.shapes.apply(lambda x: [i[1] for i in x])"
   ]
  },
  {
   "cell_type": "code",
   "execution_count": 27,
   "metadata": {},
   "outputs": [],
   "source": [
    "# extrac center x and y coordinates\n",
    "df['center_x'] = df.center.apply(lambda x: list(x.values())[0][0])\n",
    "df['center_y'] = df.center.apply(lambda x: list(x.values())[0][1])"
   ]
  },
  {
   "cell_type": "code",
   "execution_count": null,
   "metadata": {},
   "outputs": [],
   "source": [
    "# filter out center coordinates that are above 1000\n",
    "# df_small = df[(df.x < 1000) & (df.center_x < 1000)].copy()"
   ]
  },
  {
   "cell_type": "code",
   "execution_count": 28,
   "metadata": {},
   "outputs": [],
   "source": [
    "df_super_small = df[(df.x.apply(lambda x: all(n < 400 for n in x)) == True) & (df.y.apply(lambda x: all(n < 400 for n in x)) == True)].copy()"
   ]
  },
  {
   "cell_type": "code",
   "execution_count": 29,
   "metadata": {},
   "outputs": [],
   "source": [
    "df_super_small['time_index'] = df_super_small.path.apply(lambda x: list(x.keys())[0].split(',')[0])"
   ]
  },
  {
   "cell_type": "code",
   "execution_count": 9,
   "metadata": {},
   "outputs": [],
   "source": [
    "# df_small = df_small[df_small.time_index == '1-165']"
   ]
  },
  {
   "cell_type": "code",
   "execution_count": 30,
   "metadata": {},
   "outputs": [],
   "source": [
    "df_super_small.reset_index(inplace=True, drop=True)"
   ]
  },
  {
   "cell_type": "code",
   "execution_count": 31,
   "metadata": {},
   "outputs": [
    {
     "data": {
      "text/html": [
       "<div>\n",
       "<style scoped>\n",
       "    .dataframe tbody tr th:only-of-type {\n",
       "        vertical-align: middle;\n",
       "    }\n",
       "\n",
       "    .dataframe tbody tr th {\n",
       "        vertical-align: top;\n",
       "    }\n",
       "\n",
       "    .dataframe thead th {\n",
       "        text-align: right;\n",
       "    }\n",
       "</style>\n",
       "<table border=\"1\" class=\"dataframe\">\n",
       "  <thead>\n",
       "    <tr style=\"text-align: right;\">\n",
       "      <th></th>\n",
       "      <th>id</th>\n",
       "      <th>name</th>\n",
       "      <th>description</th>\n",
       "      <th>links</th>\n",
       "      <th>path</th>\n",
       "      <th>center</th>\n",
       "      <th>shapes</th>\n",
       "      <th>x</th>\n",
       "      <th>y</th>\n",
       "      <th>center_x</th>\n",
       "      <th>center_y</th>\n",
       "      <th>time_index</th>\n",
       "    </tr>\n",
       "  </thead>\n",
       "  <tbody>\n",
       "    <tr>\n",
       "      <th>0</th>\n",
       "      <td>000010</td>\n",
       "      <td>Deep Rock Galactic</td>\n",
       "      <td>Deep Rock Galactic is a 1-4 player co-op first...</td>\n",
       "      <td>{'website': ['https://www.deeprockgalactic.com...</td>\n",
       "      <td>{'1-165, T:0-1': [[175, 262], [241, 262], [241...</td>\n",
       "      <td>{'1-165, T:0-1': [208, 285]}</td>\n",
       "      <td>[[175, 262], [241, 262], [241, 308], [175, 308]]</td>\n",
       "      <td>[175, 241, 241, 175]</td>\n",
       "      <td>[262, 262, 308, 308]</td>\n",
       "      <td>208</td>\n",
       "      <td>285</td>\n",
       "      <td>1-165</td>\n",
       "    </tr>\n",
       "    <tr>\n",
       "      <th>1</th>\n",
       "      <td>000043</td>\n",
       "      <td>Corridor Digital</td>\n",
       "      <td>Logo from the Corridor YouTube channel, a grou...</td>\n",
       "      <td>{'website': ['https://www.youtube.com/c/Corrid...</td>\n",
       "      <td>{'16-100': [[120, 87], [114, 93], [122, 101], ...</td>\n",
       "      <td>{'16-100': [121, 94], '101-165, T:0-1': [121, ...</td>\n",
       "      <td>[[120, 87], [114, 93], [122, 101], [128, 95], ...</td>\n",
       "      <td>[120, 114, 122, 128, 128, 122]</td>\n",
       "      <td>[87, 93, 101, 95, 93, 87]</td>\n",
       "      <td>121</td>\n",
       "      <td>94</td>\n",
       "      <td>16-100</td>\n",
       "    </tr>\n",
       "    <tr>\n",
       "      <th>2</th>\n",
       "      <td>000062</td>\n",
       "      <td>Notte Boom sticker</td>\n",
       "      <td>The in-game emote used in the Dragalia Lost mo...</td>\n",
       "      <td>{'website': ['https://dragalialost.com/', 'htt...</td>\n",
       "      <td>{'10-33': [[182, 34], [182, 64], [215, 64], [2...</td>\n",
       "      <td>{'10-33': [199, 49], '34-165, T:0-1': [197, 49]}</td>\n",
       "      <td>[[182, 34], [182, 64], [215, 64], [215, 34]]</td>\n",
       "      <td>[182, 182, 215, 215]</td>\n",
       "      <td>[34, 64, 64, 34]</td>\n",
       "      <td>199</td>\n",
       "      <td>49</td>\n",
       "      <td>10-33</td>\n",
       "    </tr>\n",
       "    <tr>\n",
       "      <th>3</th>\n",
       "      <td>000064</td>\n",
       "      <td>Shane Keith Warne</td>\n",
       "      <td>Shane Warne (1969-2022) was an Australian cric...</td>\n",
       "      <td>{'website': ['https://www.instagram.com/shanew...</td>\n",
       "      <td>{'1-165, T:0-1': [[293, 252], [293, 282], [334...</td>\n",
       "      <td>{'1-165, T:0-1': [314, 267]}</td>\n",
       "      <td>[[293, 252], [293, 282], [334, 282], [334, 252]]</td>\n",
       "      <td>[293, 293, 334, 334]</td>\n",
       "      <td>[252, 282, 282, 252]</td>\n",
       "      <td>314</td>\n",
       "      <td>267</td>\n",
       "      <td>1-165</td>\n",
       "    </tr>\n",
       "    <tr>\n",
       "      <th>4</th>\n",
       "      <td>000073</td>\n",
       "      <td>Technische Universität Hansestadt Hamburg</td>\n",
       "      <td>Technische Universität Hansestadt Hamburg (Eng...</td>\n",
       "      <td>{'website': ['https://www.tuhh.de', 'https://e...</td>\n",
       "      <td>{'55-68': [[221, 165], [221, 171], [239, 171],...</td>\n",
       "      <td>{'55-68': [230, 168], '44-54': [230, 167], '69...</td>\n",
       "      <td>[[221, 165], [221, 171], [239, 171], [239, 165]]</td>\n",
       "      <td>[221, 221, 239, 239]</td>\n",
       "      <td>[165, 171, 171, 165]</td>\n",
       "      <td>230</td>\n",
       "      <td>168</td>\n",
       "      <td>55-68</td>\n",
       "    </tr>\n",
       "  </tbody>\n",
       "</table>\n",
       "</div>"
      ],
      "text/plain": [
       "       id                                       name  \\\n",
       "0  000010                         Deep Rock Galactic   \n",
       "1  000043                           Corridor Digital   \n",
       "2  000062                         Notte Boom sticker   \n",
       "3  000064                          Shane Keith Warne   \n",
       "4  000073  Technische Universität Hansestadt Hamburg   \n",
       "\n",
       "                                         description  \\\n",
       "0  Deep Rock Galactic is a 1-4 player co-op first...   \n",
       "1  Logo from the Corridor YouTube channel, a grou...   \n",
       "2  The in-game emote used in the Dragalia Lost mo...   \n",
       "3  Shane Warne (1969-2022) was an Australian cric...   \n",
       "4  Technische Universität Hansestadt Hamburg (Eng...   \n",
       "\n",
       "                                               links  \\\n",
       "0  {'website': ['https://www.deeprockgalactic.com...   \n",
       "1  {'website': ['https://www.youtube.com/c/Corrid...   \n",
       "2  {'website': ['https://dragalialost.com/', 'htt...   \n",
       "3  {'website': ['https://www.instagram.com/shanew...   \n",
       "4  {'website': ['https://www.tuhh.de', 'https://e...   \n",
       "\n",
       "                                                path  \\\n",
       "0  {'1-165, T:0-1': [[175, 262], [241, 262], [241...   \n",
       "1  {'16-100': [[120, 87], [114, 93], [122, 101], ...   \n",
       "2  {'10-33': [[182, 34], [182, 64], [215, 64], [2...   \n",
       "3  {'1-165, T:0-1': [[293, 252], [293, 282], [334...   \n",
       "4  {'55-68': [[221, 165], [221, 171], [239, 171],...   \n",
       "\n",
       "                                              center  \\\n",
       "0                       {'1-165, T:0-1': [208, 285]}   \n",
       "1  {'16-100': [121, 94], '101-165, T:0-1': [121, ...   \n",
       "2   {'10-33': [199, 49], '34-165, T:0-1': [197, 49]}   \n",
       "3                       {'1-165, T:0-1': [314, 267]}   \n",
       "4  {'55-68': [230, 168], '44-54': [230, 167], '69...   \n",
       "\n",
       "                                              shapes  \\\n",
       "0   [[175, 262], [241, 262], [241, 308], [175, 308]]   \n",
       "1  [[120, 87], [114, 93], [122, 101], [128, 95], ...   \n",
       "2       [[182, 34], [182, 64], [215, 64], [215, 34]]   \n",
       "3   [[293, 252], [293, 282], [334, 282], [334, 252]]   \n",
       "4   [[221, 165], [221, 171], [239, 171], [239, 165]]   \n",
       "\n",
       "                                x                          y  center_x  \\\n",
       "0            [175, 241, 241, 175]       [262, 262, 308, 308]       208   \n",
       "1  [120, 114, 122, 128, 128, 122]  [87, 93, 101, 95, 93, 87]       121   \n",
       "2            [182, 182, 215, 215]           [34, 64, 64, 34]       199   \n",
       "3            [293, 293, 334, 334]       [252, 282, 282, 252]       314   \n",
       "4            [221, 221, 239, 239]       [165, 171, 171, 165]       230   \n",
       "\n",
       "   center_y time_index  \n",
       "0       285      1-165  \n",
       "1        94     16-100  \n",
       "2        49      10-33  \n",
       "3       267      1-165  \n",
       "4       168      55-68  "
      ]
     },
     "execution_count": 31,
     "metadata": {},
     "output_type": "execute_result"
    }
   ],
   "source": [
    "df_super_small.head()"
   ]
  },
  {
   "cell_type": "code",
   "execution_count": 33,
   "metadata": {},
   "outputs": [
    {
     "data": {
      "application/vnd.plotly.v1+json": {
       "config": {
        "plotlyServerURL": "https://plot.ly"
       },
       "data": [
        {
         "fill": "toself",
         "mode": "lines",
         "name": "Deep Rock Galactic",
         "text": "Deep Rock Galactic",
         "type": "scatter",
         "x": [
          175,
          241,
          241,
          175
         ],
         "y": [
          262,
          262,
          308,
          308
         ]
        },
        {
         "fill": "toself",
         "mode": "lines",
         "name": "Corridor Digital",
         "text": "Corridor Digital",
         "type": "scatter",
         "x": [
          120,
          114,
          122,
          128,
          128,
          122
         ],
         "y": [
          87,
          93,
          101,
          95,
          93,
          87
         ]
        },
        {
         "fill": "toself",
         "mode": "lines",
         "name": "Notte Boom sticker",
         "text": "Notte Boom sticker",
         "type": "scatter",
         "x": [
          182,
          182,
          215,
          215
         ],
         "y": [
          34,
          64,
          64,
          34
         ]
        },
        {
         "fill": "toself",
         "mode": "lines",
         "name": "Shane Keith Warne",
         "text": "Shane Keith Warne",
         "type": "scatter",
         "x": [
          293,
          293,
          334,
          334
         ],
         "y": [
          252,
          282,
          282,
          252
         ]
        },
        {
         "fill": "toself",
         "mode": "lines",
         "name": "Technische Universität Hansestadt Hamburg",
         "text": "Technische Universität Hansestadt Hamburg",
         "type": "scatter",
         "x": [
          221,
          221,
          239,
          239
         ],
         "y": [
          165,
          171,
          171,
          165
         ]
        },
        {
         "fill": "toself",
         "mode": "lines",
         "name": "Destiny",
         "text": "Destiny",
         "type": "scatter",
         "x": [
          334,
          399,
          399,
          334
         ],
         "y": [
          78,
          78,
          131,
          131
         ]
        },
        {
         "fill": "toself",
         "mode": "lines",
         "name": "Blender",
         "text": "Blender",
         "type": "scatter",
         "x": [
          93,
          92,
          94,
          94,
          90,
          88,
          95,
          102,
          102,
          103,
          120,
          121,
          130,
          133,
          133,
          127,
          125,
          125,
          122,
          120,
          120,
          104,
          104,
          95
         ],
         "y": [
          94,
          95,
          97,
          99,
          99,
          105,
          113,
          113,
          111,
          110,
          110,
          111,
          111,
          107,
          105,
          99,
          99,
          102,
          102,
          104,
          110,
          110,
          103,
          94
         ]
        },
        {
         "fill": "toself",
         "mode": "lines",
         "name": "Connection lost",
         "text": "Connection lost",
         "type": "scatter",
         "x": [
          0,
          231,
          231,
          0
         ],
         "y": [
          0,
          0,
          33,
          33
         ]
        },
        {
         "fill": "toself",
         "mode": "lines",
         "name": "Froggy Chair",
         "text": "Froggy Chair",
         "type": "scatter",
         "x": [
          41,
          41,
          42,
          42,
          52,
          52,
          53,
          53,
          49,
          49
         ],
         "y": [
          112,
          117,
          117,
          123,
          123,
          117,
          117,
          111,
          111,
          112
         ]
        },
        {
         "fill": "toself",
         "mode": "lines",
         "name": "Flag of Wales",
         "text": "Flag of Wales",
         "type": "scatter",
         "x": [
          44,
          44,
          72,
          72,
          130,
          130,
          67,
          67,
          71,
          71,
          70,
          67,
          66,
          66,
          62,
          62,
          61,
          57,
          57,
          53,
          52,
          52,
          53,
          54,
          54,
          53,
          53
         ],
         "y": [
          115,
          137,
          137,
          147,
          147,
          115,
          115,
          121,
          125,
          133,
          134,
          134,
          133,
          131,
          131,
          135,
          136,
          136,
          133,
          133,
          132,
          126,
          126,
          125,
          121,
          120,
          115
         ]
        },
        {
         "fill": "toself",
         "mode": "lines",
         "name": "EVE Online",
         "text": "EVE Online",
         "type": "scatter",
         "x": [
          13,
          62,
          62,
          13
         ],
         "y": [
          34,
          34,
          53,
          53
         ]
        },
        {
         "fill": "toself",
         "mode": "lines",
         "name": "o7",
         "text": "o7",
         "type": "scatter",
         "x": [
          12,
          12,
          0,
          0
         ],
         "y": [
          35,
          53,
          53,
          46
         ]
        },
        {
         "fill": "toself",
         "mode": "lines",
         "name": "Dota 2",
         "text": "Dota 2",
         "type": "scatter",
         "x": [
          0,
          0,
          7,
          7,
          5,
          1,
          1,
          2,
          4,
          5,
          6,
          7,
          7,
          12,
          16,
          21,
          21,
          22,
          23,
          24,
          26,
          27,
          27,
          24,
          24,
          21,
          21,
          27,
          27
         ],
         "y": [
          139,
          177,
          177,
          184,
          184,
          188,
          191,
          192,
          192,
          191,
          191,
          192,
          197,
          201,
          201,
          197,
          192,
          191,
          191,
          192,
          192,
          191,
          188,
          185,
          184,
          184,
          177,
          177,
          139
         ]
        },
        {
         "fill": "toself",
         "mode": "lines",
         "name": "Flag of Egypt",
         "text": "Flag of Egypt",
         "type": "scatter",
         "x": [
          44,
          44,
          27,
          27,
          108,
          108,
          74,
          74
         ],
         "y": [
          137,
          143,
          143,
          169,
          169,
          147,
          147,
          137
         ]
        },
        {
         "fill": "toself",
         "mode": "lines",
         "name": "Pyramids of Giza",
         "text": "Pyramids of Giza",
         "type": "scatter",
         "x": [
          68,
          59,
          59,
          77,
          77
         ],
         "y": [
          151,
          160,
          161,
          161,
          160
         ]
        },
        {
         "fill": "toself",
         "mode": "lines",
         "name": "Homestuck",
         "text": "Homestuck",
         "type": "scatter",
         "x": [
          221,
          221,
          276,
          276,
          271
         ],
         "y": [
          137,
          176,
          176,
          146,
          137
         ]
        },
        {
         "fill": "toself",
         "mode": "lines",
         "name": "Hiveswap",
         "text": "Hiveswap",
         "type": "scatter",
         "x": [
          245,
          245,
          276,
          276
         ],
         "y": [
          165,
          171,
          171,
          165
         ]
        },
        {
         "fill": "toself",
         "mode": "lines",
         "name": "Flag of Japan",
         "text": "Flag of Japan",
         "type": "scatter",
         "x": [
          316,
          316,
          337,
          337
         ],
         "y": [
          158,
          171,
          171,
          158
         ]
        },
        {
         "fill": "toself",
         "mode": "lines",
         "name": "Nepeta Leijon",
         "text": "Nepeta Leijon",
         "type": "scatter",
         "x": [
          211,
          205,
          204,
          204,
          206,
          208,
          207,
          218,
          218,
          216,
          216,
          220,
          220,
          218
         ],
         "y": [
          142,
          145,
          147,
          151,
          156,
          157,
          165,
          165,
          164,
          162,
          157,
          155,
          144,
          142
         ]
        },
        {
         "fill": "toself",
         "mode": "lines",
         "name": "The Scream",
         "text": "The Scream",
         "type": "scatter",
         "x": [
          248,
          249,
          269,
          275,
          283,
          286,
          289,
          292,
          294,
          310,
          311,
          305,
          304,
          301,
          301,
          301,
          300,
          298,
          299,
          302,
          305,
          307,
          309,
          309,
          310,
          309,
          308,
          306,
          300,
          255,
          253,
          251,
          245,
          245,
          247,
          247,
          247,
          246,
          247,
          251,
          253,
          253,
          250,
          248,
          248
         ],
         "y": [
          41,
          39,
          41,
          39,
          39,
          37,
          37,
          39,
          37,
          37,
          38,
          43,
          46,
          50,
          54,
          58,
          60,
          62,
          66,
          70,
          70,
          74,
          75,
          79,
          80,
          82,
          82,
          83,
          91,
          91,
          87,
          91,
          91,
          87,
          87,
          83,
          74,
          72,
          67,
          61,
          56,
          53,
          47,
          44,
          40
         ]
        },
        {
         "fill": "toself",
         "mode": "lines",
         "name": "Gnome child",
         "text": "Gnome child",
         "type": "scatter",
         "x": [
          146,
          137,
          146,
          135,
          138,
          144,
          168,
          168,
          161,
          164,
          164,
          155,
          151,
          150
         ],
         "y": [
          34,
          57,
          71,
          83,
          86,
          82,
          84,
          77,
          71,
          65,
          54,
          43,
          43,
          34
         ]
        },
        {
         "fill": "toself",
         "mode": "lines",
         "name": "Scott",
         "text": "Scott",
         "type": "scatter",
         "x": [
          87,
          87,
          100,
          100
         ],
         "y": [
          53,
          62,
          62,
          53
         ]
        },
        {
         "fill": "toself",
         "mode": "lines",
         "name": "Roskilde Cathedral",
         "text": "Roskilde Cathedral",
         "type": "scatter",
         "x": [
          281,
          281,
          280,
          277,
          277,
          276,
          276,
          303,
          303,
          301,
          301,
          298,
          298,
          297,
          295,
          295,
          292,
          292,
          287,
          284,
          284
         ],
         "y": [
          118,
          127,
          129,
          132,
          138,
          139,
          158,
          158,
          139,
          137,
          131,
          127,
          117,
          117,
          119,
          127,
          131,
          135,
          131,
          127,
          118
         ]
        },
        {
         "fill": "toself",
         "mode": "lines",
         "name": "Juggernaut",
         "text": "Juggernaut",
         "type": "scatter",
         "x": [
          6,
          22,
          22,
          23,
          27,
          27,
          28,
          28,
          25,
          23,
          22,
          22,
          16,
          12,
          6,
          6,
          5,
          3,
          0,
          0,
          1,
          1,
          2,
          3,
          3,
          4
         ],
         "y": [
          177,
          177,
          183,
          183,
          187,
          188,
          189,
          190,
          193,
          191,
          192,
          196,
          202,
          202,
          196,
          192,
          191,
          193,
          190,
          189,
          188,
          187,
          186,
          185,
          184,
          183
         ]
        },
        {
         "fill": "toself",
         "mode": "lines",
         "name": "Worth the Candle",
         "text": "Worth the Candle",
         "type": "scatter",
         "x": [
          231,
          231,
          242,
          242
         ],
         "y": [
          101,
          125,
          125,
          101
         ]
        },
        {
         "fill": "toself",
         "mode": "lines",
         "name": "Northernlion",
         "text": "Northernlion",
         "type": "scatter",
         "x": [
          61,
          61,
          60,
          59,
          51,
          51,
          71,
          71,
          69
         ],
         "y": [
          336,
          360,
          360,
          361,
          361,
          368,
          368,
          338,
          336
         ]
        },
        {
         "fill": "toself",
         "mode": "lines",
         "name": "Mizzlebip",
         "text": "Mizzlebip",
         "type": "scatter",
         "x": [
          281,
          278,
          279,
          279,
          287,
          287,
          286,
          286,
          287,
          289,
          286
         ],
         "y": [
          100,
          103,
          104,
          116,
          116,
          115,
          114,
          106,
          106,
          103,
          100
         ]
        },
        {
         "fill": "toself",
         "mode": "lines",
         "name": "Yellow Submarine",
         "text": "Yellow Submarine",
         "type": "scatter",
         "x": [
          122,
          122,
          124,
          125,
          126,
          127,
          129,
          136,
          137,
          138,
          139,
          140,
          141,
          141,
          140,
          138,
          137,
          136,
          135,
          134,
          134,
          133,
          133,
          134,
          134,
          131,
          130,
          129,
          128,
          129,
          129,
          129,
          129,
          129,
          129,
          128,
          128,
          126,
          125,
          125,
          123,
          122,
          123,
          123
         ],
         "y": [
          194,
          200,
          200,
          199,
          200,
          200,
          201,
          201,
          200,
          200,
          199,
          199,
          198,
          197,
          196,
          196,
          195,
          195,
          195,
          194,
          193,
          192,
          191,
          190,
          189,
          188,
          189,
          189,
          190,
          192,
          193,
          191,
          193,
          191,
          193,
          194,
          195,
          195,
          195,
          194,
          194,
          193,
          193,
          194
         ]
        },
        {
         "fill": "toself",
         "mode": "lines",
         "name": "Maldives heart",
         "text": "Maldives heart",
         "type": "scatter",
         "x": [
          295,
          293,
          293,
          297,
          301,
          301,
          299
         ],
         "y": [
          202,
          204,
          205,
          209,
          205,
          204,
          202
         ]
        },
        {
         "fill": "toself",
         "mode": "lines",
         "name": "Overcast Community",
         "text": "Overcast Community",
         "type": "scatter",
         "x": [
          5,
          1,
          0,
          0,
          2,
          5,
          9,
          13,
          17,
          18,
          18,
          17,
          13
         ],
         "y": [
          286,
          288,
          289,
          294,
          299,
          303,
          305,
          303,
          298,
          294,
          289,
          288,
          286
         ]
        },
        {
         "fill": "toself",
         "mode": "lines",
         "name": "Inscryption",
         "text": "Inscryption",
         "type": "scatter",
         "x": [
          106,
          160,
          160,
          144,
          146,
          146,
          148,
          148,
          141,
          141,
          143,
          144,
          144,
          152,
          152,
          104,
          101,
          101,
          99,
          98,
          96,
          96,
          95,
          95,
          94,
          94,
          95,
          95,
          98,
          98,
          99,
          100,
          101,
          105,
          110,
          111,
          110,
          111,
          112,
          114,
          114,
          113,
          112,
          112,
          111,
          111,
          110,
          110,
          106
         ],
         "y": [
          267,
          267,
          275,
          274,
          277,
          288,
          288,
          300,
          306,
          318,
          318,
          319,
          320,
          320,
          328,
          328,
          327,
          319,
          319,
          318,
          318,
          316,
          316,
          314,
          314,
          312,
          312,
          311,
          311,
          310,
          309,
          308,
          308,
          304,
          304,
          305,
          304,
          305,
          304,
          302,
          300,
          299,
          298,
          292,
          292,
          286,
          286,
          275,
          275
         ]
        },
        {
         "fill": "toself",
         "mode": "lines",
         "name": "TheTook",
         "text": "TheTook",
         "type": "scatter",
         "x": [
          246,
          250,
          250,
          246
         ],
         "y": [
          294,
          294,
          298,
          298
         ]
        },
        {
         "fill": "toself",
         "mode": "lines",
         "name": "Piston",
         "text": "Piston",
         "type": "scatter",
         "x": [
          241,
          246,
          246,
          241
         ],
         "y": [
          294,
          294,
          298,
          298
         ]
        },
        {
         "fill": "toself",
         "mode": "lines",
         "name": "Indian Space Reserach Organization",
         "text": "Indian Space Reserach Organization",
         "type": "scatter",
         "x": [
          251,
          251,
          292,
          292,
          251
         ],
         "y": [
          252,
          253,
          252,
          297,
          297
         ]
        },
        {
         "fill": "toself",
         "mode": "lines",
         "name": "The Little Prince",
         "text": "The Little Prince",
         "type": "scatter",
         "x": [
          160,
          163,
          170,
          172,
          172,
          171,
          170,
          167,
          169,
          170,
          170,
          158,
          159,
          164,
          170,
          169,
          163,
          158,
          158,
          154,
          153,
          151,
          151,
          148,
          148,
          146,
          144,
          142,
          142,
          139,
          137,
          136,
          136,
          137,
          139,
          140,
          147
         ],
         "y": [
          386,
          385,
          378,
          372,
          366,
          365,
          359,
          355,
          354,
          353,
          349,
          349,
          345,
          345,
          340,
          337,
          336,
          338,
          333,
          331,
          331,
          333,
          349,
          351,
          345,
          343,
          343,
          345,
          355,
          358,
          364,
          365,
          372,
          373,
          377,
          379,
          386
         ]
        },
        {
         "fill": "toself",
         "mode": "lines",
         "name": "Eren Jaeger",
         "text": "Eren Jaeger",
         "type": "scatter",
         "x": [
          146,
          137,
          133,
          130,
          130,
          132,
          136,
          137,
          155,
          155,
          161,
          162,
          162,
          175,
          175,
          180,
          180,
          167,
          162,
          161,
          154,
          153,
          147
         ],
         "y": [
          82,
          92,
          108,
          113,
          146,
          147,
          147,
          148,
          148,
          144,
          138,
          136,
          135,
          122,
          119,
          112,
          96,
          83,
          83,
          82,
          82,
          81,
          81
         ]
        },
        {
         "fill": "toself",
         "mode": "lines",
         "name": "Tottenham Hotspur F.C.",
         "text": "Tottenham Hotspur F.C.",
         "type": "scatter",
         "x": [
          139,
          139,
          160,
          160,
          151,
          151
         ],
         "y": [
          39,
          64,
          64,
          43,
          43,
          39
         ]
        },
        {
         "fill": "toself",
         "mode": "lines",
         "name": "JBOIZ/GioJ",
         "text": "JBOIZ/GioJ",
         "type": "scatter",
         "x": [
          24,
          50,
          50,
          24
         ],
         "y": [
          295,
          295,
          312,
          312
         ]
        },
        {
         "fill": "toself",
         "mode": "lines",
         "name": "Construction",
         "text": "Construction",
         "type": "scatter",
         "x": [
          118,
          119,
          125,
          135,
          141,
          139,
          133,
          137,
          135,
          127,
          124,
          122,
          119
         ],
         "y": [
          49,
          44,
          44,
          34,
          37,
          45,
          49,
          53,
          58,
          58,
          54,
          55,
          51
         ]
        },
        {
         "fill": "toself",
         "mode": "lines",
         "name": "r/femboy",
         "text": "r/femboy",
         "type": "scatter",
         "x": [
          0,
          0,
          33,
          33
         ],
         "y": [
          134,
          143,
          143,
          134
         ]
        },
        {
         "fill": "toself",
         "mode": "lines",
         "name": "Stardew Valley",
         "text": "Stardew Valley",
         "type": "scatter",
         "x": [
          71,
          132,
          132,
          71
         ],
         "y": [
          345,
          345,
          386,
          386
         ]
        },
        {
         "fill": "toself",
         "mode": "lines",
         "name": "NAVI",
         "text": "NAVI",
         "type": "scatter",
         "x": [
          34,
          34,
          33,
          33,
          32,
          32,
          31,
          31,
          30,
          30,
          60,
          61,
          61,
          61,
          62,
          62,
          63,
          63,
          64,
          64,
          65,
          65,
          49,
          35
         ],
         "y": [
          172,
          174,
          174,
          178,
          177,
          181,
          180,
          183,
          183,
          185,
          185,
          182,
          181,
          180,
          180,
          179,
          178,
          177,
          177,
          175,
          175,
          172,
          172,
          172
         ]
        },
        {
         "fill": "toself",
         "mode": "lines",
         "name": "Counter-Strike: Global Offensive",
         "text": "Counter-Strike: Global Offensive",
         "type": "scatter",
         "x": [
          0,
          0,
          27,
          27,
          44,
          44
         ],
         "y": [
          93,
          143,
          143,
          137,
          137,
          93
         ]
        },
        {
         "fill": "toself",
         "mode": "lines",
         "name": "MrMouton",
         "text": "MrMouton",
         "type": "scatter",
         "x": [
          180,
          180,
          207,
          207
         ],
         "y": [
          96,
          125,
          125,
          96
         ]
        },
        {
         "fill": "toself",
         "mode": "lines",
         "name": "University of Houston",
         "text": "University of Houston",
         "type": "scatter",
         "x": [
          23,
          46,
          46,
          23
         ],
         "y": [
          252,
          252,
          276,
          276
         ]
        },
        {
         "fill": "toself",
         "mode": "lines",
         "name": "Flag of Snowchester",
         "text": "Flag of Snowchester",
         "type": "scatter",
         "x": [
          136,
          136,
          147,
          147
         ],
         "y": [
          158,
          165,
          165,
          158
         ]
        },
        {
         "fill": "toself",
         "mode": "lines",
         "name": "Flag of Kinoko Kingdom",
         "text": "Flag of Kinoko Kingdom",
         "type": "scatter",
         "x": [
          136,
          136,
          147,
          147
         ],
         "y": [
          147,
          158,
          158,
          147
         ]
        },
        {
         "fill": "toself",
         "mode": "lines",
         "name": "EthosLab",
         "text": "EthosLab",
         "type": "scatter",
         "x": [
          242,
          242,
          249,
          249
         ],
         "y": [
          287,
          293,
          293,
          287
         ]
        },
        {
         "fill": "toself",
         "mode": "lines",
         "name": "Flag of L'Manberg",
         "text": "Flag of L'Manberg",
         "type": "scatter",
         "x": [
          108,
          108,
          136,
          136
         ],
         "y": [
          147,
          165,
          165,
          147
         ]
        },
        {
         "fill": "toself",
         "mode": "lines",
         "name": "Meltryllis | FGO",
         "text": "Meltryllis | FGO",
         "type": "scatter",
         "x": [
          108,
          125,
          125,
          107
         ],
         "y": [
          386,
          386,
          399,
          399
         ]
        },
        {
         "fill": "toself",
         "mode": "lines",
         "name": "Casandra",
         "text": "Casandra",
         "type": "scatter",
         "x": [
          29,
          29,
          26,
          26,
          25,
          25,
          24,
          24,
          23,
          25,
          29,
          30,
          34,
          35,
          39,
          41,
          40,
          40,
          39,
          39,
          38,
          38,
          36,
          36
         ],
         "y": [
          73,
          76,
          79,
          81,
          82,
          85,
          86,
          87,
          88,
          90,
          90,
          91,
          91,
          90,
          90,
          88,
          87,
          86,
          85,
          82,
          81,
          79,
          77,
          73
         ]
        },
        {
         "fill": "toself",
         "mode": "lines",
         "name": "Ice Barrage",
         "text": "Ice Barrage",
         "type": "scatter",
         "x": [
          162,
          162,
          160,
          160,
          163,
          166,
          169,
          172,
          173,
          175,
          178,
          178,
          176,
          176,
          174,
          174,
          172,
          171,
          170,
          168,
          168,
          167,
          166,
          165,
          163,
          163
         ],
         "y": [
          34,
          39,
          43,
          46,
          49,
          47,
          51,
          48,
          47,
          49,
          47,
          43,
          39,
          34,
          34,
          39,
          44,
          44,
          35,
          35,
          41,
          44,
          44,
          42,
          37,
          34
         ]
        },
        {
         "fill": "toself",
         "mode": "lines",
         "name": "Antonov An-225 Mriya",
         "text": "Antonov An-225 Mriya",
         "type": "scatter",
         "x": [
          276,
          275,
          274,
          273,
          261,
          260,
          253,
          252,
          246,
          245,
          242,
          241,
          240,
          240,
          239,
          239,
          238,
          237,
          237,
          239,
          240,
          241,
          243,
          243,
          251,
          251,
          253,
          275,
          283,
          283
         ],
         "y": [
          194,
          195,
          195,
          196,
          196,
          195,
          195,
          194,
          194,
          193,
          193,
          192,
          191,
          190,
          189,
          185,
          184,
          183,
          173,
          173,
          174,
          174,
          176,
          171,
          171,
          174,
          176,
          176,
          184,
          187
         ]
        },
        {
         "fill": "toself",
         "mode": "lines",
         "name": "Crimean Tatar",
         "text": "Crimean Tatar",
         "type": "scatter",
         "x": [
          188,
          218,
          218,
          188
         ],
         "y": [
          191,
          191,
          170,
          170
         ]
        },
        {
         "fill": "toself",
         "mode": "lines",
         "name": "Coat of arms of Ukraine",
         "text": "Coat of arms of Ukraine",
         "type": "scatter",
         "x": [
          187,
          187,
          201,
          205,
          219,
          219
         ],
         "y": [
          191,
          225,
          233,
          233,
          225,
          191
         ]
        },
        {
         "fill": "toself",
         "mode": "lines",
         "name": "Nanachi",
         "text": "Nanachi",
         "type": "scatter",
         "x": [
          294,
          293,
          292,
          292,
          293,
          293,
          298,
          296,
          296,
          294,
          292,
          292,
          298,
          299,
          299,
          300,
          300,
          301,
          301,
          302,
          304,
          304,
          305,
          305,
          305,
          309,
          309,
          310,
          310,
          311,
          311,
          316,
          319,
          319,
          318,
          318,
          318,
          317,
          317,
          317,
          316,
          316,
          316,
          315,
          317,
          322,
          323,
          323,
          322,
          322,
          321,
          319,
          320,
          322,
          323,
          323,
          321,
          322,
          323,
          324,
          324,
          325,
          325,
          325,
          294
         ],
         "y": [
          251,
          250,
          249,
          247,
          247,
          246,
          246,
          246,
          245,
          244,
          242,
          238,
          232,
          232,
          224,
          224,
          220,
          220,
          219,
          219,
          219,
          220,
          221,
          230,
          229,
          229,
          227,
          227,
          225,
          225,
          223,
          219,
          219,
          223,
          223,
          224,
          225,
          225,
          226,
          227,
          227,
          228,
          229,
          229,
          230,
          234,
          235,
          238,
          238,
          240,
          240,
          242,
          243,
          241,
          241,
          243,
          244,
          245,
          246,
          247,
          248,
          248,
          251,
          252,
          252
         ]
        },
        {
         "fill": "toself",
         "mode": "lines",
         "name": "RuneScape",
         "text": "RuneScape",
         "type": "scatter",
         "x": [
          187,
          214,
          214,
          187
         ],
         "y": [
          65,
          65,
          92,
          92
         ]
        },
        {
         "fill": "toself",
         "mode": "lines",
         "name": "ScoreSaber",
         "text": "ScoreSaber",
         "type": "scatter",
         "x": [
          232,
          232,
          248,
          248
         ],
         "y": [
          0,
          14,
          14,
          0
         ]
        },
        {
         "fill": "toself",
         "mode": "lines",
         "name": "Flo and Nico in Canary",
         "text": "Flo and Nico in Canary",
         "type": "scatter",
         "x": [
          17,
          17,
          35,
          35
         ],
         "y": [
          66,
          71,
          71,
          66
         ]
        },
        {
         "fill": "toself",
         "mode": "lines",
         "name": "Come Back Alive",
         "text": "Come Back Alive",
         "type": "scatter",
         "x": [
          2,
          2,
          108,
          108
         ],
         "y": [
          215,
          223,
          223,
          215
         ]
        },
        {
         "fill": "toself",
         "mode": "lines",
         "name": "Flag of Maryland",
         "text": "Flag of Maryland",
         "type": "scatter",
         "x": [
          251,
          251,
          296,
          296
         ],
         "y": [
          0,
          24,
          24,
          0
         ]
        },
        {
         "fill": "toself",
         "mode": "lines",
         "name": "Ironman Mode",
         "text": "Ironman Mode",
         "type": "scatter",
         "x": [
          63,
          63,
          117,
          117
         ],
         "y": [
          50,
          34,
          34,
          50
         ]
        },
        {
         "fill": "toself",
         "mode": "lines",
         "name": "Scratch Mapping Community x WIRE_FPS",
         "text": "Scratch Mapping Community x WIRE_FPS",
         "type": "scatter",
         "x": [
          -1,
          6,
          6,
          -1
         ],
         "y": [
          73,
          73,
          79,
          79
         ]
        },
        {
         "fill": "toself",
         "mode": "lines",
         "name": "Magnus Carlsen",
         "text": "Magnus Carlsen",
         "type": "scatter",
         "x": [
          216,
          219,
          222,
          223,
          219,
          218,
          218,
          225,
          232,
          236,
          243,
          243,
          247,
          251,
          252,
          252,
          248,
          247,
          247,
          248,
          247,
          250,
          216
         ],
         "y": [
          91,
          88,
          88,
          82,
          72,
          66,
          54,
          42,
          38,
          39,
          40,
          41,
          42,
          48,
          54,
          59,
          65,
          66,
          79,
          84,
          86,
          92,
          92
         ]
        },
        {
         "fill": "toself",
         "mode": "lines",
         "name": "Il Tempo Gigante",
         "text": "Il Tempo Gigante",
         "type": "scatter",
         "x": [
          319,
          312,
          284,
          278,
          284,
          334,
          334
         ],
         "y": [
          98,
          104,
          104,
          111,
          118,
          118,
          100
         ]
        },
        {
         "fill": "toself",
         "mode": "lines",
         "name": "Ghostbur",
         "text": "Ghostbur",
         "type": "scatter",
         "x": [
          132,
          130,
          130,
          133,
          136,
          136,
          134
         ],
         "y": [
          139,
          141,
          148,
          148,
          145,
          141,
          139
         ]
        },
        {
         "fill": "toself",
         "mode": "lines",
         "name": "Sverd i fjell",
         "text": "Sverd i fjell",
         "type": "scatter",
         "x": [
          336,
          339,
          339,
          336,
          340,
          345,
          364,
          365,
          363,
          363,
          365
         ],
         "y": [
          77,
          70,
          57,
          52,
          38,
          38,
          50,
          58,
          60,
          70,
          77
         ]
        },
        {
         "fill": "toself",
         "mode": "lines",
         "name": "Tomb of Cyrus",
         "text": "Tomb of Cyrus",
         "type": "scatter",
         "x": [
          31,
          35,
          37,
          37,
          40,
          45,
          20,
          22,
          26,
          29,
          29,
          30
         ],
         "y": [
          316,
          316,
          319,
          326,
          326,
          335,
          335,
          332,
          327,
          326,
          318,
          317
         ]
        },
        {
         "fill": "toself",
         "mode": "lines",
         "name": "Azadi Tower",
         "text": "Azadi Tower",
         "type": "scatter",
         "x": [
          11,
          7,
          7,
          0,
          0,
          12,
          12,
          13,
          15,
          16,
          16,
          29,
          29,
          21,
          21,
          17
         ],
         "y": [
          284,
          288,
          298,
          306,
          308,
          308,
          303,
          301,
          301,
          303,
          308,
          308,
          306,
          298,
          288,
          284
         ]
        },
        {
         "fill": "toself",
         "mode": "lines",
         "name": "Iran",
         "text": "Iran",
         "type": "scatter",
         "x": [
          75,
          73,
          73,
          77,
          79,
          84,
          94,
          95,
          100,
          102,
          102,
          100,
          100,
          97,
          92,
          88,
          83,
          79
         ],
         "y": [
          278,
          280,
          286,
          297,
          297,
          302,
          302,
          303,
          303,
          301,
          295,
          295,
          286,
          282,
          280,
          284,
          284,
          278
         ]
        },
        {
         "fill": "toself",
         "mode": "lines",
         "name": "Achaemenid griffin column",
         "text": "Achaemenid griffin column",
         "type": "scatter",
         "x": [
          31,
          31,
          30,
          39,
          39,
          49,
          49,
          58,
          58,
          57,
          57,
          52,
          45,
          43,
          36
         ],
         "y": [
          283,
          287,
          300,
          300,
          312,
          312,
          300,
          300,
          287,
          287,
          283,
          283,
          289,
          289,
          283
         ]
        },
        {
         "fill": "toself",
         "mode": "lines",
         "name": "Flag of Iran",
         "text": "Flag of Iran",
         "type": "scatter",
         "x": [
          0,
          110,
          110,
          104,
          97,
          89,
          88,
          81,
          78,
          0
         ],
         "y": [
          276,
          276,
          304,
          304,
          311,
          311,
          310,
          310,
          312,
          312
         ]
        },
        {
         "fill": "toself",
         "mode": "lines",
         "name": "Summit1G",
         "text": "Summit1G",
         "type": "scatter",
         "x": [
          239,
          239,
          249,
          249
         ],
         "y": [
          253,
          262,
          262,
          253
         ]
        },
        {
         "fill": "toself",
         "mode": "lines",
         "name": "King Harald V of Norway",
         "text": "King Harald V of Norway",
         "type": "scatter",
         "x": [
          299,
          302,
          314,
          323,
          331,
          336,
          336,
          332,
          333,
          300,
          309,
          307,
          302,
          300,
          299,
          302
         ],
         "y": [
          58,
          47,
          37,
          37,
          46,
          58,
          71,
          81,
          90,
          91,
          80,
          75,
          70,
          67,
          60,
          57
         ]
        },
        {
         "fill": "toself",
         "mode": "lines",
         "name": "Volodymyr Zelenskyy",
         "text": "Volodymyr Zelenskyy",
         "type": "scatter",
         "x": [
          160,
          158,
          158,
          157,
          156,
          156,
          157,
          157,
          156,
          156,
          155,
          155,
          156,
          156,
          158,
          158,
          159,
          159,
          162,
          163,
          164,
          165,
          166,
          179,
          180,
          182,
          186,
          187,
          187,
          188,
          188,
          189,
          189,
          190,
          190,
          191,
          191,
          190,
          190,
          189,
          189,
          188,
          188,
          184,
          186,
          186,
          187,
          187,
          192,
          192,
          163,
          163,
          162,
          162,
          161,
          161,
          162,
          162,
          161,
          161
         ],
         "y": [
          224,
          224,
          222,
          220,
          219,
          218,
          217,
          216,
          215,
          209,
          208,
          204,
          203,
          202,
          200,
          199,
          198,
          197,
          194,
          194,
          193,
          193,
          192,
          192,
          193,
          193,
          197,
          198,
          203,
          204,
          207,
          208,
          209,
          210,
          211,
          212,
          218,
          219,
          229,
          230,
          232,
          233,
          234,
          238,
          240,
          242,
          243,
          244,
          249,
          252,
          252,
          249,
          248,
          243,
          242,
          236,
          235,
          233,
          232,
          229
         ]
        },
        {
         "fill": "toself",
         "mode": "lines",
         "name": "Morbius",
         "text": "Morbius",
         "type": "scatter",
         "x": [
          108,
          115,
          115,
          118,
          118,
          116,
          117,
          116,
          117,
          114,
          109,
          106,
          107,
          106,
          107,
          105,
          105,
          108
         ],
         "y": [
          345,
          345,
          344,
          341,
          338,
          336,
          335,
          334,
          333,
          330,
          330,
          333,
          334,
          335,
          336,
          338,
          341,
          344
         ]
        },
        {
         "fill": "toself",
         "mode": "lines",
         "name": "fsociety",
         "text": "fsociety",
         "type": "scatter",
         "x": [
          176,
          176,
          240,
          240
         ],
         "y": [
          251,
          263,
          264,
          253
         ]
        },
        {
         "fill": "toself",
         "mode": "lines",
         "name": "Enter The Gungeon",
         "text": "Enter The Gungeon",
         "type": "scatter",
         "x": [
          203,
          203,
          169,
          169,
          201,
          204,
          203,
          237,
          237
         ],
         "y": [
          309,
          316,
          316,
          329,
          329,
          335,
          343,
          343,
          309
         ]
        },
        {
         "fill": "toself",
         "mode": "lines",
         "name": "Holger Danske",
         "text": "Holger Danske",
         "type": "scatter",
         "x": [
          354,
          350,
          344,
          344,
          341,
          341,
          374,
          379,
          375,
          375,
          371,
          371,
          366,
          364,
          362,
          362,
          359
         ],
         "y": [
          131,
          138,
          142,
          156,
          159,
          186,
          186,
          171,
          170,
          165,
          160,
          144,
          139,
          139,
          137,
          134,
          131
         ]
        },
        {
         "fill": "toself",
         "mode": "lines",
         "name": "Kingdom Hearts",
         "text": "Kingdom Hearts",
         "type": "scatter",
         "x": [
          0,
          16,
          15,
          11,
          8,
          0
         ],
         "y": [
          337,
          337,
          361,
          360,
          372,
          372
         ]
        },
        {
         "fill": "toself",
         "mode": "lines",
         "name": "Flag of Albania",
         "text": "Flag of Albania",
         "type": "scatter",
         "x": [
          335,
          335,
          355,
          355
         ],
         "y": [
          253,
          297,
          297,
          253
         ]
        },
        {
         "fill": "toself",
         "mode": "lines",
         "name": "Flag of the Dominican Republic",
         "text": "Flag of the Dominican Republic",
         "type": "scatter",
         "x": [
          47,
          47,
          85,
          85
         ],
         "y": [
          73,
          93,
          93,
          73
         ]
        },
        {
         "fill": "toself",
         "mode": "lines",
         "name": "Flag of Kosovo",
         "text": "Flag of Kosovo",
         "type": "scatter",
         "x": [
          316,
          334,
          334,
          316
         ],
         "y": [
          282,
          282,
          298,
          298
         ]
        },
        {
         "fill": "toself",
         "mode": "lines",
         "name": "Sly Cooper",
         "text": "Sly Cooper",
         "type": "scatter",
         "x": [
          11,
          11,
          10,
          10,
          9,
          9,
          10,
          10,
          11,
          11,
          12,
          12,
          16,
          16,
          18,
          19,
          18,
          19,
          19,
          18,
          18,
          17,
          16,
          12
         ],
         "y": [
          369,
          367,
          367,
          366,
          366,
          363,
          363,
          362,
          362,
          361,
          361,
          360,
          360,
          361,
          361,
          362,
          363,
          364,
          365,
          367,
          369,
          368,
          369,
          369
         ]
        },
        {
         "fill": "toself",
         "mode": "lines",
         "name": "John Egbert",
         "text": "John Egbert",
         "type": "scatter",
         "x": [
          207,
          207,
          224,
          224
         ],
         "y": [
          100,
          121,
          121,
          100
         ]
        },
        {
         "fill": "toself",
         "mode": "lines",
         "name": "Nuclear Throne Fish",
         "text": "Nuclear Throne Fish",
         "type": "scatter",
         "x": [
          194,
          193,
          199,
          203,
          203,
          200
         ],
         "y": [
          341,
          329,
          329,
          335,
          336,
          341
         ]
        },
        {
         "fill": "toself",
         "mode": "lines",
         "name": "The Wings Of Freedom",
         "text": "The Wings Of Freedom",
         "type": "scatter",
         "x": [
          298,
          298,
          300,
          300,
          303,
          305,
          321,
          324,
          327,
          327,
          329,
          329,
          328,
          326,
          325,
          325,
          327,
          327,
          324,
          323,
          321,
          320,
          317,
          316,
          315,
          314,
          313,
          312,
          311,
          310,
          309,
          307,
          304,
          304,
          305,
          305,
          304,
          303
         ],
         "y": [
          204,
          173,
          173,
          170,
          170,
          173,
          173,
          170,
          170,
          173,
          173,
          205,
          205,
          207,
          207,
          209,
          211,
          213,
          213,
          212,
          212,
          211,
          211,
          212,
          212,
          213,
          213,
          212,
          212,
          211,
          211,
          213,
          213,
          211,
          210,
          209,
          208,
          208
         ]
        },
        {
         "fill": "toself",
         "mode": "lines",
         "name": "Roark's Attack on Titan",
         "text": "Roark's Attack on Titan",
         "type": "scatter",
         "x": [
          154,
          154,
          157,
          157,
          155,
          155,
          156,
          156,
          171,
          171
         ],
         "y": [
          139,
          148,
          151,
          152,
          155,
          159,
          160,
          163,
          163,
          139
         ]
        },
        {
         "fill": "toself",
         "mode": "lines",
         "name": "Fiend",
         "text": "Fiend",
         "type": "scatter",
         "x": [
          93,
          93,
          104,
          104
         ],
         "y": [
          327,
          340,
          340,
          327
         ]
        },
        {
         "fill": "toself",
         "mode": "lines",
         "name": "Puff-Shroom",
         "text": "Puff-Shroom",
         "type": "scatter",
         "x": [
          164,
          168,
          166,
          163,
          160,
          162
         ],
         "y": [
          279,
          281,
          287,
          287,
          283,
          280
         ]
        },
        {
         "fill": "toself",
         "mode": "lines",
         "name": "9b9t",
         "text": "9b9t",
         "type": "scatter",
         "x": [
          188,
          221,
          221,
          188
         ],
         "y": [
          125,
          125,
          169,
          169
         ]
        },
        {
         "fill": "toself",
         "mode": "lines",
         "name": "Marianne",
         "text": "Marianne",
         "type": "scatter",
         "x": [
          131,
          130,
          130,
          130,
          128,
          126,
          125,
          130,
          132,
          135,
          139,
          142,
          147,
          154,
          159,
          159,
          158,
          159,
          160,
          162,
          163,
          161,
          163,
          162,
          164,
          168,
          173,
          173,
          176,
          170,
          170,
          161,
          161
         ],
         "y": [
          265,
          262,
          258,
          256,
          253,
          251,
          237,
          232,
          228,
          225,
          222,
          218,
          216,
          216,
          218,
          221,
          222,
          224,
          224,
          228,
          229,
          232,
          235,
          241,
          252,
          254,
          259,
          266,
          278,
          281,
          276,
          276,
          266
         ]
        },
        {
         "fill": "toself",
         "mode": "lines",
         "name": "BMO",
         "text": "BMO",
         "type": "scatter",
         "x": [
          166,
          166,
          169,
          169,
          171,
          171,
          174,
          174,
          176,
          176,
          178,
          178,
          177,
          177
         ],
         "y": [
          56,
          67,
          67,
          71,
          71,
          67,
          67,
          71,
          71,
          67,
          67,
          62,
          62,
          56
         ]
        },
        {
         "fill": "toself",
         "mode": "lines",
         "name": "Tiny potato",
         "text": "Tiny potato",
         "type": "scatter",
         "x": [
          175,
          184,
          184,
          175
         ],
         "y": [
          330,
          330,
          343,
          343
         ]
        },
        {
         "fill": "toself",
         "mode": "lines",
         "name": "Heroes of the Storm",
         "text": "Heroes of the Storm",
         "type": "scatter",
         "x": [
          180,
          180,
          207,
          207
         ],
         "y": [
          96,
          125,
          125,
          96
         ]
        },
        {
         "fill": "toself",
         "mode": "lines",
         "name": "Horizon",
         "text": "Horizon",
         "type": "scatter",
         "x": [
          84,
          84,
          113,
          113,
          131,
          145,
          142,
          142,
          138,
          135,
          132,
          124,
          119
         ],
         "y": [
          62,
          77,
          77,
          78,
          78,
          70,
          68,
          64,
          60,
          60,
          57,
          57,
          62
         ]
        },
        {
         "fill": "toself",
         "mode": "lines",
         "name": "Vore flag",
         "text": "Vore flag",
         "type": "scatter",
         "x": [
          147,
          147,
          156,
          156
         ],
         "y": [
          165,
          171,
          171,
          165
         ]
        },
        {
         "fill": "toself",
         "mode": "lines",
         "name": "Isaac",
         "text": "Isaac",
         "type": "scatter",
         "x": [
          84,
          76,
          72,
          78,
          81,
          81,
          88,
          90,
          96,
          96,
          92,
          90
         ],
         "y": [
          309,
          313,
          319,
          330,
          339,
          342,
          342,
          332,
          325,
          318,
          313,
          310
         ]
        },
        {
         "fill": "toself",
         "mode": "lines",
         "name": "Maple",
         "text": "Maple",
         "type": "scatter",
         "x": [
          147,
          148,
          159,
          158,
          160,
          160,
          156,
          153
         ],
         "y": [
          284,
          275,
          276,
          280,
          283,
          285,
          291,
          291
         ]
        },
        {
         "fill": "toself",
         "mode": "lines",
         "name": "Flag of Texas",
         "text": "Flag of Texas",
         "type": "scatter",
         "x": [
          0,
          125,
          125,
          106,
          106,
          0
         ],
         "y": [
          252,
          252,
          267,
          267,
          276,
          276
         ]
        },
        {
         "fill": "toself",
         "mode": "lines",
         "name": "322",
         "text": "322",
         "type": "scatter",
         "x": [
          7,
          7,
          19,
          19
         ],
         "y": [
          137,
          143,
          143,
          137
         ]
        },
        {
         "fill": "toself",
         "mode": "lines",
         "name": "Smol Knight",
         "text": "Smol Knight",
         "type": "scatter",
         "x": [
          232,
          232,
          231,
          231,
          232,
          233,
          234,
          235,
          234,
          234,
          236,
          237,
          236,
          237,
          238,
          238,
          237,
          238,
          238,
          232,
          232
         ],
         "y": [
          385,
          383,
          382,
          380,
          382,
          378,
          377,
          378,
          379,
          380,
          380,
          379,
          378,
          378,
          379,
          381,
          382,
          383,
          385,
          385,
          383
         ]
        },
        {
         "fill": "toself",
         "mode": "lines",
         "name": "UCLA Bruins",
         "text": "UCLA Bruins",
         "type": "scatter",
         "x": [
          356,
          391,
          391,
          357
         ],
         "y": [
          253,
          253,
          271,
          271
         ]
        },
        {
         "fill": "toself",
         "mode": "lines",
         "name": "Scotland heart",
         "text": "Scotland heart",
         "type": "scatter",
         "x": [
          253,
          251,
          251,
          255,
          259,
          259,
          257
         ],
         "y": [
          172,
          174,
          175,
          179,
          175,
          174,
          172
         ]
        },
        {
         "fill": "toself",
         "mode": "lines",
         "name": "Pantskat",
         "text": "Pantskat",
         "type": "scatter",
         "x": [
          173,
          173,
          188,
          188
         ],
         "y": [
          124,
          141,
          141,
          124
         ]
        },
        {
         "fill": "toself",
         "mode": "lines",
         "name": "Egyptian unity symbol",
         "text": "Egyptian unity symbol",
         "type": "scatter",
         "x": [
          93,
          96,
          96,
          95,
          94,
          93,
          92,
          92,
          92,
          94,
          96,
          96,
          96,
          99,
          99,
          102,
          102,
          102,
          105,
          105,
          104,
          103,
          102,
          102,
          100,
          99,
          99,
          97,
          96,
          95,
          96,
          95,
          95,
          96,
          94,
          92,
          90,
          89,
          87,
          87,
          88,
          88,
          90,
          92,
          95,
          94,
          93
         ],
         "y": [
          148,
          148,
          150,
          150,
          151,
          152,
          153,
          154,
          155,
          155,
          155,
          153,
          152,
          152,
          155,
          155,
          157,
          158,
          158,
          162,
          163,
          164,
          166,
          165,
          167,
          167,
          168,
          168,
          168,
          167,
          167,
          167,
          168,
          167,
          167,
          166,
          165,
          164,
          159,
          156,
          153,
          154,
          152,
          149,
          148,
          151,
          155
         ]
        },
        {
         "fill": "toself",
         "mode": "lines",
         "name": "Fortnite",
         "text": "Fortnite",
         "type": "scatter",
         "x": [
          44,
          45,
          58,
          58
         ],
         "y": [
          93,
          110,
          110,
          94
         ]
        },
        {
         "fill": "toself",
         "mode": "lines",
         "name": "Peace sign",
         "text": "Peace sign",
         "type": "scatter",
         "x": [
          144,
          142,
          142,
          144,
          148,
          150,
          150,
          148
         ],
         "y": [
          190,
          192,
          196,
          198,
          198,
          196,
          192,
          190
         ]
        },
        {
         "fill": "toself",
         "mode": "lines",
         "name": "The Binding of Isaac",
         "text": "The Binding of Isaac",
         "type": "scatter",
         "x": [
          68,
          67,
          72,
          71,
          75,
          85,
          92,
          94,
          96,
          97,
          97,
          96,
          95,
          101,
          102,
          104,
          102,
          103,
          101,
          99,
          96,
          94,
          71,
          71,
          68,
          67,
          68,
          67
         ],
         "y": [
          334,
          330,
          326,
          320,
          313,
          310,
          311,
          313,
          316,
          319,
          324,
          326,
          328,
          328,
          327,
          333,
          336,
          337,
          340,
          341,
          341,
          345,
          345,
          338,
          336,
          335,
          334,
          334
         ]
        },
        {
         "fill": "toself",
         "mode": "lines",
         "name": "2B (NieR:Automata)",
         "text": "2B (NieR:Automata)",
         "type": "scatter",
         "x": [
          35,
          18,
          17,
          24,
          31,
          32
         ],
         "y": [
          369,
          369,
          352,
          347,
          349,
          363
         ]
        },
        {
         "fill": "toself",
         "mode": "lines",
         "name": "University of Maryland, College Park",
         "text": "University of Maryland, College Park",
         "type": "scatter",
         "x": [
          235,
          233,
          235,
          235,
          233,
          235,
          238,
          240,
          243,
          245,
          248,
          250,
          248,
          248,
          250,
          248,
          245,
          243,
          243,
          240,
          240,
          238
         ],
         "y": [
          17,
          19,
          21,
          29,
          31,
          33,
          33,
          31,
          31,
          33,
          33,
          31,
          29,
          21,
          19,
          17,
          17,
          19,
          20,
          20,
          19,
          17
         ]
        },
        {
         "fill": "toself",
         "mode": "lines",
         "name": "Nyan Cat",
         "text": "Nyan Cat",
         "type": "scatter",
         "x": [
          349,
          349,
          383,
          383,
          385,
          388,
          387,
          385,
          384,
          382,
          382,
          379
         ],
         "y": [
          183,
          204,
          204,
          202,
          202,
          199,
          198,
          189,
          188,
          188,
          186,
          183
         ]
        },
        {
         "fill": "toself",
         "mode": "lines",
         "name": "Officer module",
         "text": "Officer module",
         "type": "scatter",
         "x": [
          0,
          0,
          1,
          12,
          12
         ],
         "y": [
          34,
          46,
          46,
          35,
          34
         ]
        },
        {
         "fill": "toself",
         "mode": "lines",
         "name": "Welsh sheep",
         "text": "Welsh sheep",
         "type": "scatter",
         "x": [
          5,
          0,
          0,
          43,
          44,
          51,
          53,
          57,
          57,
          40,
          39,
          5,
          5,
          39,
          39,
          0,
          1,
          0
         ],
         "y": [
          136,
          136,
          93,
          94,
          130,
          130,
          133,
          134,
          136,
          137,
          98,
          98,
          132,
          132,
          137,
          136,
          136,
          136
         ]
        },
        {
         "fill": "toself",
         "mode": "lines",
         "name": "University of California, Berkeley",
         "text": "University of California, Berkeley",
         "type": "scatter",
         "x": [
          357,
          391,
          391,
          357
         ],
         "y": [
          275,
          274,
          298,
          298
         ]
        },
        {
         "fill": "toself",
         "mode": "lines",
         "name": "Texas A&M University",
         "text": "Texas A&M University",
         "type": "scatter",
         "x": [
          0,
          51,
          51,
          0
         ],
         "y": [
          252,
          252,
          276,
          276
         ]
        },
        {
         "fill": "toself",
         "mode": "lines",
         "name": "Eridan Ampora",
         "text": "Eridan Ampora",
         "type": "scatter",
         "x": [
          387,
          387,
          388,
          388,
          389,
          389,
          380,
          380,
          381,
          381,
          382,
          382
         ],
         "y": [
          156,
          151,
          151,
          148,
          148,
          145,
          145,
          148,
          148,
          151,
          151,
          156
         ]
        },
        {
         "fill": "toself",
         "mode": "lines",
         "name": "Rewrite",
         "text": "Rewrite",
         "type": "scatter",
         "x": [
          53,
          53,
          81,
          81,
          83,
          83
         ],
         "y": [
          63,
          74,
          74,
          68,
          66,
          63
         ]
        },
        {
         "fill": "toself",
         "mode": "lines",
         "name": "Albania and Kosovo",
         "text": "Albania and Kosovo",
         "type": "scatter",
         "x": [
          355,
          355,
          335,
          317,
          317,
          335,
          335
         ],
         "y": [
          253,
          297,
          297,
          297,
          283,
          283,
          253
         ]
        },
        {
         "fill": "toself",
         "mode": "lines",
         "name": "Jacket",
         "text": "Jacket",
         "type": "scatter",
         "x": [
          181,
          181,
          179,
          179,
          186,
          186,
          185,
          185
         ],
         "y": [
          84,
          86,
          86,
          93,
          93,
          86,
          86,
          84
         ]
        },
        {
         "fill": "toself",
         "mode": "lines",
         "name": "University of California, Berkeley",
         "text": "University of California, Berkeley",
         "type": "scatter",
         "x": [
          357,
          391,
          391,
          357,
          357,
          371
         ],
         "y": [
          273,
          273,
          297,
          297,
          273,
          273
         ]
        },
        {
         "fill": "toself",
         "mode": "lines",
         "name": "CoreJourney",
         "text": "CoreJourney",
         "type": "scatter",
         "x": [
          151,
          151,
          160,
          160
         ],
         "y": [
          33,
          42,
          42,
          33
         ]
        },
        {
         "fill": "toself",
         "mode": "lines",
         "name": "SHAW!",
         "text": "SHAW!",
         "type": "scatter",
         "x": [
          277,
          299,
          299,
          277
         ],
         "y": [
          391,
          391,
          399,
          399
         ]
        },
        {
         "fill": "toself",
         "mode": "lines",
         "name": "Judas",
         "text": "Judas",
         "type": "scatter",
         "x": [
          76,
          76,
          70,
          67,
          67,
          72
         ],
         "y": [
          339,
          329,
          327,
          331,
          335,
          340
         ]
        },
        {
         "fill": "toself",
         "mode": "lines",
         "name": "Flag of Mongolia",
         "text": "Flag of Mongolia",
         "type": "scatter",
         "x": [
          276,
          276,
          295,
          295
         ],
         "y": [
          144,
          158,
          158,
          144
         ]
        },
        {
         "fill": "toself",
         "mode": "lines",
         "name": "Flag of the United Arab Emirates",
         "text": "Flag of the United Arab Emirates",
         "type": "scatter",
         "x": [
          20,
          51,
          51,
          20
         ],
         "y": [
          252,
          252,
          276,
          276
         ]
        },
        {
         "fill": "toself",
         "mode": "lines",
         "name": "Wob (Turbo Patate)",
         "text": "Wob (Turbo Patate)",
         "type": "scatter",
         "x": [
          144,
          152,
          155,
          156,
          159,
          161,
          163,
          165,
          165,
          169,
          170,
          172,
          173,
          173,
          172,
          146,
          145,
          145,
          144
         ],
         "y": [
          309,
          299,
          299,
          302,
          302,
          299,
          299,
          301,
          303,
          305,
          306,
          309,
          310,
          315,
          316,
          316,
          315,
          312,
          312
         ]
        },
        {
         "fill": "toself",
         "mode": "lines",
         "name": "Eye of Ra",
         "text": "Eye of Ra",
         "type": "scatter",
         "x": [
          29,
          37,
          44,
          50,
          50,
          47,
          47,
          46,
          44,
          44,
          46,
          46,
          42,
          41,
          41,
          40,
          40,
          35,
          32,
          30,
          30,
          32,
          35,
          36,
          36,
          38,
          38,
          36,
          29
         ],
         "y": [
          158,
          151,
          151,
          156,
          157,
          157,
          158,
          158,
          160,
          161,
          161,
          163,
          167,
          167,
          163,
          163,
          164,
          169,
          169,
          167,
          164,
          164,
          167,
          166,
          165,
          163,
          161,
          159,
          159
         ]
        },
        {
         "fill": "toself",
         "mode": "lines",
         "name": "Minion",
         "text": "Minion",
         "type": "scatter",
         "x": [
          36,
          37,
          51,
          52,
          52,
          36
         ],
         "y": [
          65,
          64,
          64,
          65,
          72,
          72
         ]
        },
        {
         "fill": "toself",
         "mode": "lines",
         "name": "Ukrainian farmers stealing tanks",
         "text": "Ukrainian farmers stealing tanks",
         "type": "scatter",
         "x": [
          128,
          121,
          121,
          184,
          184,
          181,
          176,
          176,
          152,
          148,
          144
         ],
         "y": [
          202,
          208,
          212,
          212,
          205,
          194,
          194,
          200,
          200,
          195,
          202
         ]
        },
        {
         "fill": "toself",
         "mode": "lines",
         "name": "Bi frogs",
         "text": "Bi frogs",
         "type": "scatter",
         "x": [
          8,
          70,
          71,
          69,
          65,
          63,
          58,
          55,
          8
         ],
         "y": [
          369,
          369,
          378,
          378,
          371,
          372,
          376,
          377,
          377
         ]
        },
        {
         "fill": "toself",
         "mode": "lines",
         "name": "MrMouton's sheep",
         "text": "MrMouton's sheep",
         "type": "scatter",
         "x": [
          367,
          376,
          376,
          375,
          372,
          363,
          362,
          362,
          365
         ],
         "y": [
          76,
          76,
          68,
          60,
          58,
          58,
          59,
          65,
          72
         ]
        },
        {
         "fill": "toself",
         "mode": "lines",
         "name": "Skanderbeg's helmet",
         "text": "Skanderbeg's helmet",
         "type": "scatter",
         "x": [
          338,
          352,
          352,
          352,
          351,
          351,
          352,
          352,
          351,
          351,
          352,
          352,
          354,
          354,
          355,
          355,
          353,
          353,
          352,
          356,
          356,
          352,
          352,
          350,
          350,
          348,
          348,
          346,
          346,
          345,
          345,
          344,
          344,
          342,
          342,
          341,
          341,
          340,
          340,
          339,
          339,
          338
         ],
         "y": [
          272,
          272,
          271,
          270,
          270,
          264,
          264,
          262,
          262,
          260,
          260,
          258,
          258,
          257,
          257,
          255,
          255,
          256,
          256,
          254,
          253,
          253,
          254,
          254,
          255,
          255,
          256,
          256,
          257,
          257,
          258,
          258,
          259,
          259,
          260,
          260,
          262,
          262,
          263,
          263,
          264,
          264
         ]
        },
        {
         "fill": "toself",
         "mode": "lines",
         "name": "Den lille Havfrue",
         "text": "Den lille Havfrue",
         "type": "scatter",
         "x": [
          322,
          320,
          320,
          315,
          314,
          311,
          307,
          306,
          306,
          310,
          324,
          330,
          339,
          339,
          331,
          329,
          329,
          326,
          326,
          324
         ],
         "y": [
          119,
          121,
          125,
          135,
          139,
          139,
          143,
          145,
          150,
          155,
          156,
          156,
          151,
          150,
          139,
          138,
          129,
          125,
          121,
          119
         ]
        },
        {
         "fill": "toself",
         "mode": "lines",
         "name": "Cricket",
         "text": "Cricket",
         "type": "scatter",
         "x": [
          315,
          315,
          333,
          333,
          294,
          294
         ],
         "y": [
          297,
          281,
          281,
          253,
          253,
          297
         ]
        },
        {
         "fill": "toself",
         "mode": "lines",
         "name": "r/2007scape",
         "text": "r/2007scape",
         "type": "scatter",
         "x": [
          87,
          122,
          122,
          87
         ],
         "y": [
          55,
          55,
          61,
          61
         ]
        },
        {
         "fill": "toself",
         "mode": "lines",
         "name": "Gaugepunk Games Logo",
         "text": "Gaugepunk Games Logo",
         "type": "scatter",
         "x": [
          191,
          184,
          184,
          191
         ],
         "y": [
          336,
          336,
          343,
          343
         ]
        },
        {
         "fill": "toself",
         "mode": "lines",
         "name": "Logi Bean",
         "text": "Logi Bean",
         "type": "scatter",
         "x": [
          122,
          121,
          120,
          117,
          117,
          119,
          125,
          127,
          127,
          126,
          126,
          124
         ],
         "y": [
          34,
          35,
          35,
          38,
          42,
          44,
          44,
          42,
          39,
          38,
          36,
          34
         ]
        },
        {
         "fill": "toself",
         "mode": "lines",
         "name": "86",
         "text": "86",
         "type": "scatter",
         "x": [
          293,
          293,
          301,
          301
         ],
         "y": [
          0,
          8,
          8,
          0
         ]
        },
        {
         "fill": "toself",
         "mode": "lines",
         "name": "TierZoo",
         "text": "TierZoo",
         "type": "scatter",
         "x": [
          48,
          61,
          61,
          48
         ],
         "y": [
          336,
          336,
          350,
          350
         ]
        },
        {
         "fill": "toself",
         "mode": "lines",
         "name": "Flag of Armenia",
         "text": "Flag of Armenia",
         "type": "scatter",
         "x": [
          372,
          372,
          396,
          396
         ],
         "y": [
          179,
          193,
          193,
          179
         ]
        },
        {
         "fill": "toself",
         "mode": "lines",
         "name": "United Family",
         "text": "United Family",
         "type": "scatter",
         "x": [
          181,
          188,
          188,
          181
         ],
         "y": [
          165,
          165,
          170,
          170
         ]
        },
        {
         "fill": "toself",
         "mode": "lines",
         "name": "Team Next Level",
         "text": "Team Next Level",
         "type": "scatter",
         "x": [
          165,
          165,
          177,
          177
         ],
         "y": [
          165,
          170,
          170,
          165
         ]
        },
        {
         "fill": "toself",
         "mode": "lines",
         "name": "GIT GUD",
         "text": "GIT GUD",
         "type": "scatter",
         "x": [
          213,
          236,
          239,
          239,
          236,
          213
         ],
         "y": [
          385,
          385,
          388,
          392,
          395,
          395
         ]
        },
        {
         "fill": "toself",
         "mode": "lines",
         "name": "Novatus",
         "text": "Novatus",
         "type": "scatter",
         "x": [
          47,
          47,
          53,
          53
         ],
         "y": [
          113,
          119,
          119,
          113
         ]
        },
        {
         "fill": "toself",
         "mode": "lines",
         "name": "Counter-Strike: Global Offensive penis",
         "text": "Counter-Strike: Global Offensive penis",
         "type": "scatter",
         "x": [
          17,
          17,
          20,
          20,
          21,
          21
         ],
         "y": [
          122,
          269,
          269,
          228,
          227,
          122
         ]
        },
        {
         "fill": "toself",
         "mode": "lines",
         "name": "The Cascadia Alliance",
         "text": "The Cascadia Alliance",
         "type": "scatter",
         "x": [
          0,
          0,
          63,
          63,
          52,
          52,
          50,
          36,
          36,
          32,
          21,
          18
         ],
         "y": [
          338,
          310,
          310,
          317,
          317,
          325,
          327,
          327,
          338,
          341,
          341,
          338
         ]
        },
        {
         "fill": "toself",
         "mode": "lines",
         "name": "TierZoo Logo",
         "text": "TierZoo Logo",
         "type": "scatter",
         "x": [
          49,
          60,
          60,
          49
         ],
         "y": [
          337,
          337,
          349,
          349
         ]
        },
        {
         "fill": "toself",
         "mode": "lines",
         "name": "$11 Crab Rave protest",
         "text": "$11 Crab Rave protest",
         "type": "scatter",
         "x": [
          62,
          62,
          70,
          70
         ],
         "y": [
          50,
          55,
          55,
          50
         ]
        },
        {
         "fill": "toself",
         "mode": "lines",
         "name": "Corn Crab",
         "text": "Corn Crab",
         "type": "scatter",
         "x": [
          185,
          191,
          191,
          185
         ],
         "y": [
          335,
          335,
          330,
          330
         ]
        },
        {
         "fill": "toself",
         "mode": "lines",
         "name": "pepeD",
         "text": "pepeD",
         "type": "scatter",
         "x": [
          51,
          48,
          45,
          45,
          54,
          59,
          58,
          57,
          55
         ],
         "y": [
          93,
          96,
          96,
          101,
          101,
          96,
          95,
          95,
          93
         ]
        },
        {
         "fill": "toself",
         "mode": "lines",
         "name": "Germany heart",
         "text": "Germany heart",
         "type": "scatter",
         "x": [
          259,
          257,
          257,
          261,
          265,
          263,
          271,
          269,
          269,
          273,
          277,
          277,
          275
         ],
         "y": [
          178,
          180,
          181,
          185,
          181,
          178,
          178,
          180,
          181,
          185,
          181,
          180,
          178
         ]
        },
        {
         "fill": "toself",
         "mode": "lines",
         "name": "Meenakshi Temple",
         "text": "Meenakshi Temple",
         "type": "scatter",
         "x": [
          317,
          319,
          322,
          323,
          325,
          325,
          326,
          326,
          327,
          327,
          328,
          328,
          329,
          329,
          350,
          350,
          351,
          351,
          352,
          352,
          353,
          353,
          354,
          354,
          355,
          359,
          361,
          318
         ],
         "y": [
          342,
          341,
          340,
          339,
          339,
          334,
          334,
          325,
          325,
          318,
          316,
          310,
          309,
          300,
          300,
          309,
          310,
          316,
          316,
          325,
          325,
          333,
          333,
          338,
          339,
          340,
          343,
          343
         ]
        },
        {
         "fill": "toself",
         "mode": "lines",
         "name": "Indian peacock",
         "text": "Indian peacock",
         "type": "scatter",
         "x": [
          294,
          292,
          291,
          289,
          288,
          286,
          285,
          284,
          283,
          282,
          280,
          280,
          282,
          282,
          283,
          283,
          284,
          284,
          283,
          283,
          282,
          281,
          281,
          281,
          283,
          283,
          282,
          286,
          285,
          288,
          289,
          289,
          288,
          287,
          293,
          292,
          291,
          292,
          292,
          292,
          295,
          295,
          295,
          297,
          296,
          297,
          298,
          299,
          300,
          300,
          301,
          302,
          301,
          304,
          305,
          302,
          302,
          303,
          305,
          305,
          307,
          307,
          306,
          310,
          309,
          309,
          311,
          311,
          310,
          307,
          304,
          303,
          301,
          300,
          299,
          298,
          297,
          296,
          296,
          296,
          296,
          297,
          297,
          298,
          298,
          299,
          299
         ],
         "y": [
          342,
          342,
          341,
          340,
          339,
          337,
          336,
          335,
          334,
          333,
          332,
          329,
          328,
          327,
          326,
          324,
          324,
          321,
          322,
          320,
          320,
          320,
          321,
          311,
          311,
          300,
          299,
          299,
          305,
          303,
          303,
          301,
          301,
          299,
          299,
          301,
          302,
          304,
          306,
          307,
          307,
          308,
          309,
          309,
          310,
          311,
          311,
          313,
          313,
          315,
          314,
          314,
          315,
          315,
          315,
          315,
          317,
          317,
          314,
          311,
          311,
          300,
          299,
          299,
          300,
          311,
          311,
          322,
          320,
          320,
          321,
          322,
          324,
          325,
          326,
          327,
          328,
          328,
          331,
          333,
          334,
          334,
          336,
          335,
          337,
          338,
          342
         ]
        },
        {
         "fill": "toself",
         "mode": "lines",
         "name": "Героям слава!",
         "text": "Героям слава!",
         "type": "scatter",
         "x": [
          341,
          341,
          363,
          363,
          366,
          366
         ],
         "y": [
          183,
          195,
          195,
          189,
          189,
          183
         ]
        },
        {
         "fill": "toself",
         "mode": "lines",
         "name": "Indian rocket launching",
         "text": "Indian rocket launching",
         "type": "scatter",
         "x": [
          238,
          238,
          239,
          240,
          240,
          242,
          247,
          248,
          250,
          253,
          255,
          256,
          257,
          257,
          257,
          256,
          257,
          259,
          261,
          263,
          264,
          264,
          263,
          263,
          264,
          265,
          266,
          267,
          271,
          276,
          279,
          288,
          239
         ],
         "y": [
          336,
          335,
          334,
          335,
          333,
          332,
          332,
          333,
          332,
          332,
          324,
          322,
          320,
          306,
          305,
          304,
          297,
          295,
          295,
          296,
          297,
          305,
          305,
          322,
          324,
          325,
          329,
          333,
          333,
          333,
          335,
          342,
          342
         ]
        },
        {
         "fill": "toself",
         "mode": "lines",
         "name": "The Campanile",
         "text": "The Campanile",
         "type": "scatter",
         "x": [
          382,
          382,
          382,
          382,
          383,
          383,
          384,
          384,
          385,
          385,
          385,
          386,
          386,
          386,
          387,
          387,
          388,
          388,
          389,
          389
         ],
         "y": [
          297,
          283,
          281,
          280,
          280,
          279,
          279,
          277,
          277,
          274,
          273,
          273,
          276,
          278,
          277,
          278,
          279,
          280,
          281,
          297
         ]
        },
        {
         "fill": "toself",
         "mode": "lines",
         "name": "Saint Michael's Golden-Domed Monastery",
         "text": "Saint Michael's Golden-Domed Monastery",
         "type": "scatter",
         "x": [
          348,
          348,
          347,
          347,
          348,
          351,
          351,
          350,
          350,
          351,
          351,
          352,
          352,
          353,
          353,
          354,
          354,
          355,
          355,
          354,
          354,
          355,
          356,
          355,
          356,
          357,
          357,
          358,
          359,
          360,
          361,
          361,
          362,
          362,
          363,
          364,
          364,
          363,
          363,
          364,
          364,
          365,
          366,
          366,
          367,
          367,
          368,
          368,
          367,
          367,
          371,
          371,
          370,
          370
         ],
         "y": [
          251,
          237,
          237,
          234,
          233,
          233,
          231,
          231,
          225,
          225,
          224,
          224,
          223,
          223,
          222,
          222,
          221,
          221,
          219,
          219,
          212,
          212,
          211,
          211,
          210,
          210,
          203,
          202,
          201,
          202,
          203,
          210,
          210,
          211,
          211,
          212,
          219,
          219,
          222,
          221,
          223,
          222,
          223,
          224,
          224,
          225,
          225,
          231,
          231,
          233,
          233,
          237,
          237,
          251
         ]
        },
        {
         "fill": "toself",
         "mode": "lines",
         "name": "Fech",
         "text": "Fech",
         "type": "scatter",
         "x": [
          95,
          95,
          96,
          96,
          96,
          97,
          97,
          97,
          97,
          97,
          97,
          97,
          98,
          99,
          100,
          101,
          101,
          101,
          101,
          101,
          101,
          101,
          101,
          101,
          101,
          101,
          100,
          99,
          98,
          97,
          96
         ],
         "y": [
          327,
          326,
          326,
          325,
          324,
          324,
          323,
          322,
          321,
          320,
          319,
          318,
          318,
          319,
          318,
          318,
          319,
          320,
          321,
          322,
          323,
          324,
          325,
          326,
          327,
          328,
          328,
          328,
          328,
          328,
          328
         ]
        },
        {
         "fill": "toself",
         "mode": "lines",
         "name": "Coat of arms of Norway",
         "text": "Coat of arms of Norway",
         "type": "scatter",
         "x": [
          374,
          397,
          392,
          384,
          377,
          373
         ],
         "y": [
          46,
          48,
          69,
          74,
          66,
          50
         ]
        },
        {
         "fill": "toself",
         "mode": "lines",
         "name": "The First Serbian Flag",
         "text": "The First Serbian Flag",
         "type": "scatter",
         "x": [
          175,
          225,
          225,
          175,
          175
         ],
         "y": [
          343,
          343,
          385,
          385,
          362
         ]
        },
        {
         "fill": "toself",
         "mode": "lines",
         "name": "Plantain",
         "text": "Plantain",
         "type": "scatter",
         "x": [
          50,
          50,
          47,
          47,
          48,
          48,
          51,
          52,
          53,
          58,
          59,
          60,
          63,
          63,
          57,
          54,
          54,
          53,
          53,
          54,
          54
         ],
         "y": [
          77,
          79,
          82,
          87,
          88,
          89,
          92,
          92,
          93,
          93,
          92,
          92,
          89,
          87,
          87,
          84,
          83,
          82,
          80,
          79,
          77
         ]
        },
        {
         "fill": "toself",
         "mode": "lines",
         "name": "Kozak (Cossack)",
         "text": "Kozak (Cossack)",
         "type": "scatter",
         "x": [
          141,
          135,
          129,
          121,
          111,
          109,
          114,
          113,
          107,
          107,
          125,
          124,
          131,
          133
         ],
         "y": [
          220,
          213,
          211,
          211,
          218,
          222,
          223,
          234,
          242,
          252,
          252,
          239,
          231,
          225
         ]
        },
        {
         "fill": "toself",
         "mode": "lines",
         "name": "r/MrRobot/Rassicas Alliance",
         "text": "r/MrRobot/Rassicas Alliance",
         "type": "scatter",
         "x": [
          175,
          237,
          237,
          241,
          241,
          250,
          250,
          176,
          176,
          175
         ],
         "y": [
          308,
          308,
          298,
          298,
          277,
          277,
          252,
          252,
          253,
          254
         ]
        },
        {
         "fill": "toself",
         "mode": "lines",
         "name": "The Front Bottoms",
         "text": "The Front Bottoms",
         "type": "scatter",
         "x": [
          76,
          73,
          70,
          70,
          72,
          76,
          77,
          85,
          85,
          86,
          86,
          78
         ],
         "y": [
          183,
          185,
          189,
          193,
          196,
          199,
          199,
          195,
          194,
          194,
          192,
          183
         ]
        },
        {
         "fill": "toself",
         "mode": "lines",
         "name": "Stotal Misplay",
         "text": "Stotal Misplay",
         "type": "scatter",
         "x": [
          106,
          106,
          111,
          113,
          118,
          120,
          120,
          136,
          137,
          144,
          144,
          159,
          159,
          160,
          160,
          106,
          106
         ],
         "y": [
          267,
          275,
          275,
          273,
          273,
          274,
          275,
          275,
          274,
          274,
          275,
          275,
          274,
          274,
          267,
          267,
          275
         ]
        },
        {
         "fill": "toself",
         "mode": "lines",
         "name": "Goobert",
         "text": "Goobert",
         "type": "scatter",
         "x": [
          160,
          161,
          161,
          162,
          162,
          163,
          164,
          165,
          165,
          164,
          163,
          161,
          158,
          157,
          156,
          156,
          160
         ],
         "y": [
          285,
          285,
          286,
          286,
          288,
          289,
          290,
          291,
          300,
          299,
          299,
          299,
          302,
          302,
          301,
          291,
          287
         ]
        },
        {
         "fill": "toself",
         "mode": "lines",
         "name": "Stotal Misplay",
         "text": "Stotal Misplay",
         "type": "scatter",
         "x": [
          106,
          106,
          159,
          159,
          107
         ],
         "y": [
          267,
          275,
          275,
          268,
          267
         ]
        },
        {
         "fill": "toself",
         "mode": "lines",
         "name": "Lesbian circle-A",
         "text": "Lesbian circle-A",
         "type": "scatter",
         "x": [
          3,
          1,
          1,
          3,
          5,
          7,
          7,
          5
         ],
         "y": [
          381,
          383,
          385,
          387,
          387,
          385,
          383,
          381
         ]
        },
        {
         "fill": "toself",
         "mode": "lines",
         "name": "Soyuzist Republic heart",
         "text": "Soyuzist Republic heart",
         "type": "scatter",
         "x": [
          205,
          203,
          203,
          207,
          211,
          211,
          209
         ],
         "y": [
          172,
          174,
          175,
          179,
          175,
          174,
          172
         ]
        },
        {
         "fill": "toself",
         "mode": "lines",
         "name": "Muted Hearts",
         "text": "Muted Hearts",
         "type": "scatter",
         "x": [
          17,
          17,
          35,
          35
         ],
         "y": [
          66,
          71,
          71,
          66
         ]
        },
        {
         "fill": "toself",
         "mode": "lines",
         "name": "Ultimate Ironman Mode",
         "text": "Ultimate Ironman Mode",
         "type": "scatter",
         "x": [
          105,
          104,
          103,
          101,
          101,
          100,
          100,
          101,
          101,
          103,
          104,
          105,
          111,
          112,
          113,
          115,
          115,
          116,
          116,
          115,
          115,
          113,
          112,
          111
         ],
         "y": [
          35,
          36,
          36,
          38,
          39,
          40,
          46,
          47,
          48,
          50,
          50,
          51,
          51,
          50,
          50,
          48,
          47,
          46,
          40,
          39,
          38,
          36,
          36,
          35
         ]
        },
        {
         "fill": "toself",
         "mode": "lines",
         "name": "Hardcore Ironman Mode",
         "text": "Hardcore Ironman Mode",
         "type": "scatter",
         "x": [
          87,
          86,
          85,
          83,
          83,
          82,
          82,
          83,
          83,
          85,
          86,
          87,
          93,
          94,
          95,
          97,
          97,
          98,
          98,
          97,
          97,
          95,
          94,
          93
         ],
         "y": [
          35,
          36,
          36,
          38,
          39,
          40,
          46,
          47,
          48,
          50,
          50,
          51,
          51,
          50,
          50,
          48,
          47,
          46,
          40,
          39,
          38,
          36,
          36,
          35
         ]
        },
        {
         "fill": "toself",
         "mode": "lines",
         "name": "Standard Ironman Mode",
         "text": "Standard Ironman Mode",
         "type": "scatter",
         "x": [
          53,
          52,
          50,
          47,
          47,
          46,
          46,
          48,
          48,
          51,
          59,
          63,
          63,
          64,
          64,
          63,
          63,
          59
         ],
         "y": [
          39,
          40,
          40,
          43,
          44,
          45,
          51,
          53,
          54,
          57,
          57,
          53,
          49,
          48,
          45,
          44,
          43,
          39
         ]
        },
        {
         "fill": "toself",
         "mode": "lines",
         "name": "PTT(Podding Through Time)",
         "text": "PTT(Podding Through Time)",
         "type": "scatter",
         "x": [
          189,
          203,
          203,
          189
         ],
         "y": [
          308,
          308,
          316,
          316
         ]
        },
        {
         "fill": "toself",
         "mode": "lines",
         "name": "Le-Gamer-Club",
         "text": "Le-Gamer-Club",
         "type": "scatter",
         "x": [
          175,
          189,
          189,
          175
         ],
         "y": [
          308,
          308,
          316,
          316
         ]
        },
        {
         "fill": "toself",
         "mode": "lines",
         "name": "Stave church",
         "text": "Stave church",
         "type": "scatter",
         "x": [
          235,
          235,
          240,
          240,
          243,
          244,
          252,
          258,
          263,
          269,
          271,
          271
         ],
         "y": [
          125,
          115,
          108,
          102,
          102,
          97,
          90,
          94,
          99,
          104,
          108,
          127
         ]
        },
        {
         "fill": "toself",
         "mode": "lines",
         "name": "Flag of South Korea",
         "text": "Flag of South Korea",
         "type": "scatter",
         "x": [
          295,
          295,
          316,
          316
         ],
         "y": [
          158,
          171,
          171,
          158
         ]
        },
        {
         "fill": "toself",
         "mode": "lines",
         "name": "Health/mana bar",
         "text": "Health/mana bar",
         "type": "scatter",
         "x": [
          0,
          0,
          27,
          27
         ],
         "y": [
          139,
          143,
          143,
          139
         ]
        },
        {
         "fill": "toself",
         "mode": "lines",
         "name": "Voidpunk flag",
         "text": "Voidpunk flag",
         "type": "scatter",
         "x": [
          48,
          61,
          61,
          61,
          48
         ],
         "y": [
          350,
          350,
          360,
          361,
          361
         ]
        },
        {
         "fill": "toself",
         "mode": "lines",
         "name": "Слава Україні!",
         "text": "Слава Україні!",
         "type": "scatter",
         "x": [
          229,
          229,
          240,
          240,
          289,
          289,
          294,
          294,
          253,
          253,
          249,
          249
         ],
         "y": [
          231,
          195,
          195,
          197,
          197,
          212,
          212,
          231,
          231,
          233,
          233,
          231
         ]
        },
        {
         "fill": "toself",
         "mode": "lines",
         "name": "ISA",
         "text": "ISA",
         "type": "scatter",
         "x": [
          18,
          18,
          30,
          30
         ],
         "y": [
          340,
          346,
          346,
          340
         ]
        },
        {
         "fill": "toself",
         "mode": "lines",
         "name": "Ankh",
         "text": "Ankh",
         "type": "scatter",
         "x": [
          51,
          49,
          49,
          48,
          48,
          51,
          51,
          54,
          54,
          57,
          57,
          56,
          56,
          54
         ],
         "y": [
          139,
          141,
          145,
          145,
          148,
          148,
          154,
          154,
          148,
          148,
          145,
          145,
          141,
          139
         ]
        },
        {
         "fill": "toself",
         "mode": "lines",
         "name": "Nordic hearts",
         "text": "Nordic hearts",
         "type": "scatter",
         "x": [
          254,
          252,
          252,
          256,
          260,
          260,
          258
         ],
         "y": [
          32,
          34,
          36,
          40,
          36,
          34,
          32
         ]
        },
        {
         "fill": "toself",
         "mode": "lines",
         "name": "Flag of Christiania",
         "text": "Flag of Christiania",
         "type": "scatter",
         "x": [
          363,
          363,
          388,
          388
         ],
         "y": [
          138,
          131,
          131,
          138
         ]
        },
        {
         "fill": "toself",
         "mode": "lines",
         "name": "Karl",
         "text": "Karl",
         "type": "scatter",
         "x": [
          205,
          205,
          221,
          221
         ],
         "y": [
          301,
          306,
          306,
          301
         ]
        },
        {
         "fill": "toself",
         "mode": "lines",
         "name": "KD love",
         "text": "KD love",
         "type": "scatter",
         "x": [
          164,
          164,
          169,
          170,
          172,
          173,
          178,
          178,
          173,
          172,
          170,
          169
         ],
         "y": [
          50,
          56,
          56,
          57,
          57,
          56,
          56,
          50,
          50,
          49,
          49,
          50
         ]
        },
        {
         "fill": "toself",
         "mode": "lines",
         "name": "Horizon Zero Dawn",
         "text": "Horizon Zero Dawn",
         "type": "scatter",
         "x": [
          93,
          93,
          103,
          103
         ],
         "y": [
          68,
          74,
          74,
          68
         ]
        },
        {
         "fill": "toself",
         "mode": "lines",
         "name": "Kirby",
         "text": "Kirby",
         "type": "scatter",
         "x": [
          35,
          39,
          40,
          40,
          34,
          34
         ],
         "y": [
          362,
          362,
          361,
          354,
          354,
          361
         ]
        },
        {
         "fill": "toself",
         "mode": "lines",
         "name": "owo",
         "text": "owo",
         "type": "scatter",
         "x": [
          301,
          301,
          315,
          315
         ],
         "y": [
          135,
          139,
          139,
          135
         ]
        },
        {
         "fill": "toself",
         "mode": "lines",
         "name": "r/titanfolk",
         "text": "r/titanfolk",
         "type": "scatter",
         "x": [
          174,
          174,
          212,
          212,
          177,
          177
         ],
         "y": [
          120,
          125,
          125,
          121,
          121,
          120
         ]
        },
        {
         "fill": "toself",
         "mode": "lines",
         "name": "Proller's little dude",
         "text": "Proller's little dude",
         "type": "scatter",
         "x": [
          165,
          165,
          166,
          167,
          168,
          169,
          171,
          171
         ],
         "y": [
          297,
          302,
          303,
          304,
          305,
          306,
          306,
          297
         ]
        },
        {
         "fill": "toself",
         "mode": "lines",
         "name": "Inform",
         "text": "Inform",
         "type": "scatter",
         "x": [
          87,
          87,
          108,
          108
         ],
         "y": [
          88,
          94,
          94,
          88
         ]
        },
        {
         "fill": "toself",
         "mode": "lines",
         "name": "Iran-anarchist truce heart",
         "text": "Iran-anarchist truce heart",
         "type": "scatter",
         "x": [
          10,
          10,
          15,
          16,
          16,
          14
         ],
         "y": [
          332,
          337,
          337,
          337,
          332,
          332
         ]
        },
        {
         "fill": "toself",
         "mode": "lines",
         "name": "Flag of Greece",
         "text": "Flag of Greece",
         "type": "scatter",
         "x": [
          337,
          337,
          360,
          360
         ],
         "y": [
          158,
          171,
          171,
          158
         ]
        },
        {
         "fill": "toself",
         "mode": "lines",
         "name": "Mama Duck",
         "text": "Mama Duck",
         "type": "scatter",
         "x": [
          119,
          126,
          126,
          119
         ],
         "y": [
          344,
          344,
          338,
          338
         ]
        },
        {
         "fill": "toself",
         "mode": "lines",
         "name": "Muse",
         "text": "Muse",
         "type": "scatter",
         "x": [
          -1,
          -1,
          86,
          86
         ],
         "y": [
          55,
          63,
          61,
          54
         ]
        },
        {
         "fill": "toself",
         "mode": "lines",
         "name": "TG4",
         "text": "TG4",
         "type": "scatter",
         "x": [
          144,
          144,
          156,
          156
         ],
         "y": [
          165,
          170,
          170,
          165
         ]
        },
        {
         "fill": "toself",
         "mode": "lines",
         "name": "The Second Little Duck",
         "text": "The Second Little Duck",
         "type": "scatter",
         "x": [
          116,
          116,
          118,
          118
         ],
         "y": [
          344,
          343,
          343,
          344
         ]
        },
        {
         "fill": "toself",
         "mode": "lines",
         "name": "The First Little Duck",
         "text": "The First Little Duck",
         "type": "scatter",
         "x": [
          105,
          107,
          107,
          105
         ],
         "y": [
          343,
          343,
          344,
          344
         ]
        },
        {
         "fill": "toself",
         "mode": "lines",
         "name": "SLICE Interactive",
         "text": "SLICE Interactive",
         "type": "scatter",
         "x": [
          78,
          92,
          92,
          78
         ],
         "y": [
          386,
          386,
          394,
          394
         ]
        },
        {
         "fill": "toself",
         "mode": "lines",
         "name": "Little Bastard",
         "text": "Little Bastard",
         "type": "scatter",
         "x": [
          241,
          250,
          250,
          241
         ],
         "y": [
          277,
          277,
          286,
          286
         ]
        },
        {
         "fill": "toself",
         "mode": "lines",
         "name": "Needle Tip",
         "text": "Needle Tip",
         "type": "scatter",
         "x": [
          295,
          319,
          321,
          319,
          311,
          300,
          294,
          294
         ],
         "y": [
          369,
          374,
          377,
          379,
          377,
          375,
          373,
          370
         ]
        },
        {
         "fill": "toself",
         "mode": "lines",
         "name": "Egypt-Wales heart",
         "text": "Egypt-Wales heart",
         "type": "scatter",
         "x": [
          72,
          70,
          70,
          73,
          75,
          75
         ],
         "y": [
          137,
          139,
          140,
          143,
          143,
          140
         ]
        },
        {
         "fill": "toself",
         "mode": "lines",
         "name": "French/Serbian heart",
         "text": "French/Serbian heart",
         "type": "scatter",
         "x": [
          175,
          179,
          179,
          178,
          177,
          176,
          174,
          173,
          172,
          171,
          171
         ],
         "y": [
          384,
          380,
          377,
          376,
          376,
          377,
          377,
          376,
          376,
          377,
          380
         ]
        },
        {
         "fill": "toself",
         "mode": "lines",
         "name": "S.T.A.L.K.E.R",
         "text": "S.T.A.L.K.E.R",
         "type": "scatter",
         "x": [
          331,
          331,
          330,
          330,
          331,
          331,
          332,
          332,
          329,
          329,
          327,
          327,
          325,
          325,
          324,
          324,
          325,
          325,
          326,
          326,
          319,
          319,
          328,
          328,
          329,
          329,
          331,
          331,
          331,
          332,
          330,
          330,
          331,
          330,
          330,
          331,
          331,
          332,
          332,
          333,
          333,
          339,
          339,
          341,
          341,
          342,
          342,
          343,
          343,
          342,
          342,
          341,
          342,
          342,
          343,
          343,
          345,
          345,
          346,
          346,
          345,
          345,
          343,
          343,
          344,
          344,
          345,
          345,
          331
         ],
         "y": [
          251,
          249,
          249,
          244,
          244,
          235,
          235,
          233,
          233,
          232,
          232,
          231,
          231,
          230,
          230,
          227,
          227,
          226,
          226,
          224,
          224,
          217,
          217,
          226,
          226,
          227,
          227,
          228,
          227,
          227,
          227,
          222,
          222,
          222,
          219,
          219,
          216,
          216,
          214,
          214,
          213,
          213,
          214,
          214,
          215,
          215,
          216,
          216,
          221,
          221,
          223,
          223,
          223,
          224,
          224,
          225,
          225,
          226,
          226,
          234,
          234,
          235,
          235,
          237,
          237,
          245,
          245,
          252,
          252
         ]
        },
        {
         "fill": "toself",
         "mode": "lines",
         "name": "Syrian opposition heart",
         "text": "Syrian opposition heart",
         "type": "scatter",
         "x": [
          223,
          221,
          221,
          225,
          229,
          229,
          227,
          287,
          289,
          289,
          285,
          281,
          281,
          283
         ],
         "y": [
          190,
          192,
          193,
          197,
          193,
          192,
          190,
          190,
          192,
          193,
          197,
          193,
          192,
          190
         ]
        },
        {
         "fill": "toself",
         "mode": "lines",
         "name": "Protag",
         "text": "Protag",
         "type": "scatter",
         "x": [
          35,
          35,
          45,
          45
         ],
         "y": [
          63,
          73,
          73,
          63
         ]
        },
        {
         "fill": "toself",
         "mode": "lines",
         "name": "Homestuck text",
         "text": "Homestuck text",
         "type": "scatter",
         "x": [
          225,
          225,
          263,
          263
         ],
         "y": [
          128,
          134,
          134,
          128
         ]
        },
        {
         "fill": "toself",
         "mode": "lines",
         "name": "u/Bitstained's goblin",
         "text": "u/Bitstained's goblin",
         "type": "scatter",
         "x": [
          166,
          166,
          167,
          167,
          169,
          169,
          169,
          171,
          171,
          172,
          172,
          170,
          170,
          168,
          168
         ],
         "y": [
          290,
          294,
          294,
          297,
          297,
          296,
          297,
          297,
          294,
          294,
          290,
          290,
          291,
          291,
          290
         ]
        },
        {
         "fill": "toself",
         "mode": "lines",
         "name": "United States heart",
         "text": "United States heart",
         "type": "scatter",
         "x": [
          253,
          251,
          251,
          255,
          290,
          290,
          294,
          298,
          298,
          296,
          292,
          290,
          290,
          255,
          259,
          259,
          257
         ],
         "y": [
          190,
          192,
          193,
          197,
          197,
          205,
          209,
          205,
          204,
          202,
          202,
          204,
          197,
          197,
          193,
          192,
          190
         ]
        },
        {
         "fill": "toself",
         "mode": "lines",
         "name": "Heartflags",
         "text": "Heartflags",
         "type": "scatter",
         "x": [
          218,
          218,
          229,
          229,
          290,
          290,
          304,
          304,
          299,
          299
         ],
         "y": [
          172,
          212,
          212,
          196,
          196,
          212,
          212,
          207,
          204,
          172
         ]
        },
        {
         "fill": "toself",
         "mode": "lines",
         "name": "dggL",
         "text": "dggL",
         "type": "scatter",
         "x": [
          347,
          340,
          335,
          335,
          338,
          338,
          342,
          340,
          340,
          363,
          363,
          361,
          361,
          365,
          365,
          355
         ],
         "y": [
          78,
          84,
          84,
          89,
          93,
          97,
          102,
          107,
          111,
          111,
          105,
          102,
          101,
          97,
          84,
          78
         ]
        },
        {
         "fill": "toself",
         "mode": "lines",
         "name": "Viking helmet",
         "text": "Viking helmet",
         "type": "scatter",
         "x": [
          342,
          342,
          343,
          343,
          344,
          344,
          345,
          346,
          348,
          348,
          347,
          348,
          357,
          358,
          361,
          362,
          363,
          366,
          367,
          368,
          369,
          370,
          370,
          369,
          369,
          368,
          366,
          365,
          365,
          364,
          363,
          360,
          359,
          357,
          356,
          352,
          351,
          348,
          347,
          345,
          344
         ],
         "y": [
          86,
          84,
          84,
          78,
          78,
          77,
          76,
          75,
          75,
          78,
          79,
          80,
          80,
          81,
          81,
          82,
          83,
          83,
          82,
          81,
          80,
          80,
          83,
          84,
          86,
          86,
          87,
          88,
          92,
          92,
          91,
          91,
          90,
          90,
          89,
          89,
          88,
          88,
          87,
          87,
          86
         ]
        },
        {
         "fill": "toself",
         "mode": "lines",
         "name": "Great Sphinx of Giza",
         "text": "Great Sphinx of Giza",
         "type": "scatter",
         "x": [
          60,
          48,
          47,
          47,
          46,
          44,
          43,
          45,
          45,
          48,
          50,
          50,
          53,
          60,
          62,
          62,
          60,
          61,
          60,
          60,
          61
         ],
         "y": [
          151,
          151,
          151,
          150,
          150,
          150,
          149,
          149,
          148,
          145,
          145,
          141,
          138,
          138,
          140,
          147,
          147,
          148,
          148,
          149,
          150
         ]
        },
        {
         "fill": "toself",
         "mode": "lines",
         "name": "自由を",
         "text": "自由を",
         "type": "scatter",
         "x": [
          328,
          328,
          337,
          336,
          332
         ],
         "y": [
          172,
          202,
          202,
          172,
          172
         ]
        },
        {
         "fill": "toself",
         "mode": "lines",
         "name": "Serbian-Silksong Heart",
         "text": "Serbian-Silksong Heart",
         "type": "scatter",
         "x": [
          221,
          221,
          224,
          226,
          229,
          229,
          228,
          222
         ],
         "y": [
          360,
          363,
          366,
          366,
          363,
          360,
          359,
          359
         ]
        },
        {
         "fill": "toself",
         "mode": "lines",
         "name": "Persian Gulf",
         "text": "Persian Gulf",
         "type": "scatter",
         "x": [
          77,
          81,
          88,
          92,
          89,
          88,
          84,
          79
         ],
         "y": [
          296,
          307,
          307,
          300,
          300,
          301,
          301,
          296
         ]
        },
        {
         "fill": "toself",
         "mode": "lines",
         "name": "Finn the Human",
         "text": "Finn the Human",
         "type": "scatter",
         "x": [
          179,
          179,
          178,
          178,
          180,
          184,
          186,
          186,
          185,
          185
         ],
         "y": [
          64,
          68,
          68,
          71,
          73,
          73,
          71,
          68,
          68,
          64
         ]
        },
        {
         "fill": "toself",
         "mode": "lines",
         "name": "Snoo",
         "text": "Snoo",
         "type": "scatter",
         "x": [
          -2,
          4,
          4,
          -2
         ],
         "y": [
          -3,
          -3,
          0,
          0
         ]
        },
        {
         "fill": "toself",
         "mode": "lines",
         "name": "Kaj cake",
         "text": "Kaj cake",
         "type": "scatter",
         "x": [
          373,
          370,
          370,
          379,
          379,
          378,
          376
         ],
         "y": [
          149,
          152,
          156,
          156,
          155,
          154,
          150
         ]
        },
        {
         "fill": "toself",
         "mode": "lines",
         "name": "India heart",
         "text": "India heart",
         "type": "scatter",
         "x": [
          234,
          231,
          231,
          237,
          243,
          243,
          240,
          239,
          238,
          236,
          235
         ],
         "y": [
          316,
          319,
          321,
          327,
          321,
          319,
          316,
          316,
          317,
          317,
          316
         ]
        },
        {
         "fill": "toself",
         "mode": "lines",
         "name": "DrKosmitek",
         "text": "DrKosmitek",
         "type": "scatter",
         "x": [
          171,
          171,
          178,
          178
         ],
         "y": [
          86,
          93,
          93,
          86
         ]
        },
        {
         "fill": "toself",
         "mode": "lines",
         "name": "Hella Jeff",
         "text": "Hella Jeff",
         "type": "scatter",
         "x": [
          247,
          247,
          248,
          248,
          249,
          249,
          249,
          247,
          247,
          248,
          248,
          249,
          249,
          250,
          250,
          250,
          249,
          249,
          249,
          248,
          248,
          246,
          246,
          243,
          243,
          242,
          242,
          240,
          240,
          238,
          237,
          236,
          235,
          236,
          236,
          235,
          233,
          231,
          231,
          231,
          233,
          228,
          228,
          228,
          234,
          229,
          229,
          228,
          228,
          227,
          226,
          225,
          224,
          224,
          225,
          225,
          226,
          226
         ],
         "y": [
          162,
          159,
          159,
          157,
          157,
          155,
          154,
          154,
          151,
          151,
          150,
          150,
          148,
          148,
          146,
          145,
          145,
          144,
          143,
          143,
          138,
          138,
          137,
          137,
          136,
          136,
          134,
          134,
          137,
          136,
          135,
          134,
          135,
          136,
          137,
          137,
          135,
          135,
          136,
          137,
          138,
          138,
          139,
          140,
          140,
          144,
          145,
          145,
          147,
          148,
          147,
          148,
          149,
          157,
          157,
          158,
          159,
          162
         ]
        },
        {
         "fill": "toself",
         "mode": "lines",
         "name": "Firey",
         "text": "Firey",
         "type": "scatter",
         "x": [
          272,
          269,
          269,
          272,
          273,
          273,
          280,
          280,
          281,
          282,
          284,
          284,
          285,
          285,
          286,
          286,
          284,
          282,
          281
         ],
         "y": [
          73,
          76,
          83,
          86,
          86,
          89,
          89,
          86,
          85,
          85,
          83,
          82,
          81,
          79,
          78,
          76,
          74,
          74,
          73
         ]
        },
        {
         "fill": "toself",
         "mode": "lines",
         "name": "Former Bluebias",
         "text": "Former Bluebias",
         "type": "scatter",
         "x": [
          35,
          39,
          39,
          35
         ],
         "y": [
          341,
          341,
          345,
          345
         ]
        },
        {
         "fill": "toself",
         "mode": "lines",
         "name": "Bluebias (massacred)",
         "text": "Bluebias (massacred)",
         "type": "scatter",
         "x": [
          35,
          35,
          36,
          36,
          37,
          37,
          38,
          38,
          39,
          39,
          37
         ],
         "y": [
          341,
          345,
          345,
          341,
          341,
          345,
          345,
          341,
          341,
          345,
          343
         ]
        },
        {
         "fill": "toself",
         "mode": "lines",
         "name": "Clown",
         "text": "Clown",
         "type": "scatter",
         "x": [
          376,
          372,
          372,
          377,
          371,
          371,
          375,
          375,
          385,
          385,
          389,
          389,
          384,
          388,
          388,
          386,
          385,
          378,
          377
         ],
         "y": [
          26,
          30,
          32,
          36,
          42,
          44,
          44,
          48,
          48,
          44,
          44,
          41,
          36,
          32,
          29,
          26,
          27,
          27,
          26
         ]
        },
        {
         "fill": "toself",
         "mode": "lines",
         "name": "Tindoiimu",
         "text": "Tindoiimu",
         "type": "scatter",
         "x": [
          186,
          186,
          204,
          204
         ],
         "y": [
          92,
          97,
          97,
          92
         ]
        },
        {
         "fill": "toself",
         "mode": "lines",
         "name": "Aroace circle-A",
         "text": "Aroace circle-A",
         "type": "scatter",
         "x": [
          3,
          0,
          0,
          3,
          5,
          8,
          8,
          5
         ],
         "y": [
          388,
          391,
          393,
          396,
          396,
          393,
          391,
          388
         ]
        },
        {
         "fill": "toself",
         "mode": "lines",
         "name": "Abrosexual circle-A",
         "text": "Abrosexual circle-A",
         "type": "scatter",
         "x": [
          3,
          0,
          0,
          3,
          5,
          8,
          8,
          5
         ],
         "y": [
          372,
          375,
          377,
          380,
          380,
          377,
          375,
          372
         ]
        },
        {
         "fill": "toself",
         "mode": "lines",
         "name": "Nine Ball",
         "text": "Nine Ball",
         "type": "scatter",
         "x": [
          90,
          94,
          96,
          96,
          90
         ],
         "y": [
          392,
          392,
          394,
          398,
          398
         ]
        },
        {
         "fill": "toself",
         "mode": "lines",
         "name": "Venti",
         "text": "Venti",
         "type": "scatter",
         "x": [
          6,
          2,
          2,
          1,
          1,
          0,
          1,
          1,
          2,
          2,
          5,
          7,
          7,
          11,
          11,
          13,
          16,
          16,
          18,
          18,
          17,
          17,
          16,
          16,
          17,
          19,
          17,
          17,
          16,
          14,
          10,
          9,
          8,
          7
         ],
         "y": [
          68,
          72,
          77,
          78,
          80,
          81,
          82,
          83,
          84,
          85,
          88,
          88,
          91,
          91,
          88,
          88,
          85,
          84,
          82,
          81,
          80,
          78,
          77,
          72,
          72,
          70,
          68,
          66,
          66,
          68,
          68,
          67,
          67,
          68
         ]
        },
        {
         "fill": "toself",
         "mode": "lines",
         "name": "Lonely Wizard",
         "text": "Lonely Wizard",
         "type": "scatter",
         "x": [
          94,
          98,
          110,
          111,
          108,
          105
         ],
         "y": [
          313,
          318,
          319,
          308,
          304,
          304
         ]
        },
        {
         "fill": "toself",
         "mode": "lines",
         "name": "Stoat (P03)",
         "text": "Stoat (P03)",
         "type": "scatter",
         "x": [
          112,
          112,
          114,
          110,
          110,
          141,
          141,
          148,
          147,
          146,
          143,
          137,
          133,
          126,
          119,
          113,
          110,
          110
         ],
         "y": [
          291,
          299,
          304,
          313,
          319,
          319,
          307,
          300,
          287,
          276,
          274,
          274,
          277,
          277,
          273,
          273,
          276,
          286
         ]
        },
        {
         "fill": "toself",
         "mode": "lines",
         "name": "Hexasan/Daybloom",
         "text": "Hexasan/Daybloom",
         "type": "scatter",
         "x": [
          179,
          177,
          180,
          183,
          181
         ],
         "y": [
          325,
          327,
          330,
          327,
          325
         ]
        },
        {
         "fill": "toself",
         "mode": "lines",
         "name": "Crown of Sorrow",
         "text": "Crown of Sorrow",
         "type": "scatter",
         "x": [
          201,
          201,
          207,
          209,
          211,
          217,
          217,
          209
         ],
         "y": [
          180,
          189,
          189,
          191,
          189,
          189,
          180,
          178
         ]
        },
        {
         "fill": "toself",
         "mode": "lines",
         "name": "The Legend of Zelda Community",
         "text": "The Legend of Zelda Community",
         "type": "scatter",
         "x": [
          74,
          40,
          40,
          68,
          68,
          69,
          69,
          71,
          71,
          72,
          72,
          73
         ],
         "y": [
          314,
          314,
          335,
          335,
          329,
          329,
          325,
          325,
          324,
          323,
          318,
          316
         ]
        },
        {
         "fill": "toself",
         "mode": "lines",
         "name": "Bee",
         "text": "Bee",
         "type": "scatter",
         "x": [
          68,
          68,
          70,
          70,
          72,
          93,
          93,
          94,
          94,
          92,
          78,
          78,
          72,
          72
         ],
         "y": [
          177,
          179,
          179,
          184,
          186,
          186,
          184,
          183,
          181,
          179,
          179,
          176,
          176,
          177
         ]
        },
        {
         "fill": "toself",
         "mode": "lines",
         "name": "Stardrop",
         "text": "Stardrop",
         "type": "scatter",
         "x": [
          83,
          80,
          80,
          82,
          82,
          80,
          80,
          84,
          87,
          88,
          91,
          95,
          95,
          93,
          93,
          95,
          95,
          92,
          90,
          88,
          87,
          85
         ],
         "y": [
          368,
          371,
          377,
          379,
          380,
          382,
          385,
          385,
          382,
          382,
          385,
          385,
          382,
          380,
          379,
          377,
          371,
          368,
          368,
          370,
          370,
          368
         ]
        },
        {
         "fill": "toself",
         "mode": "lines",
         "name": "Junimo",
         "text": "Junimo",
         "type": "scatter",
         "x": [
          119,
          115,
          115,
          113,
          113,
          115,
          115,
          118,
          118,
          117,
          118,
          119,
          120,
          120,
          124,
          124,
          125,
          126,
          127,
          126,
          126,
          129,
          129,
          131,
          131,
          130,
          129,
          129,
          125,
          123,
          122,
          121
         ],
         "y": [
          369,
          373,
          374,
          374,
          376,
          378,
          379,
          382,
          383,
          384,
          385,
          385,
          384,
          383,
          383,
          384,
          385,
          385,
          384,
          383,
          382,
          379,
          378,
          376,
          375,
          374,
          374,
          373,
          369,
          369,
          368,
          369
         ]
        },
        {
         "fill": "toself",
         "mode": "lines",
         "name": "Blue chicken",
         "text": "Blue chicken",
         "type": "scatter",
         "x": [
          100,
          97,
          97,
          96,
          96,
          100,
          101,
          101,
          109,
          109,
          110,
          113,
          113,
          112,
          112,
          113,
          112,
          112,
          111,
          111,
          109,
          104,
          104,
          103,
          101
         ],
         "y": [
          369,
          372,
          373,
          374,
          379,
          383,
          383,
          385,
          385,
          383,
          383,
          380,
          377,
          376,
          375,
          374,
          373,
          372,
          371,
          370,
          368,
          368,
          371,
          371,
          369
         ]
        },
        {
         "fill": "toself",
         "mode": "lines",
         "name": "Chicken",
         "text": "Chicken",
         "type": "scatter",
         "x": [
          111,
          111,
          132,
          132
         ],
         "y": [
          345,
          367,
          367,
          345
         ]
        },
        {
         "fill": "toself",
         "mode": "lines",
         "name": "Guerilla Games",
         "text": "Guerilla Games",
         "type": "scatter",
         "x": [
          84,
          84,
          88,
          89,
          93,
          93,
          92,
          89,
          88,
          85
         ],
         "y": [
          65,
          73,
          77,
          77,
          73,
          65,
          65,
          68,
          68,
          65
         ]
        },
        {
         "fill": "toself",
         "mode": "lines",
         "name": "Focus",
         "text": "Focus",
         "type": "scatter",
         "x": [
          129,
          129,
          144,
          145,
          144,
          130
         ],
         "y": [
          62,
          78,
          71,
          70,
          69,
          62
         ]
        },
        {
         "fill": "toself",
         "mode": "lines",
         "name": "Cauldron symbols",
         "text": "Cauldron symbols",
         "type": "scatter",
         "x": [
          138,
          134,
          134,
          142,
          142
         ],
         "y": [
          60,
          64,
          65,
          65,
          64
         ]
        },
        {
         "fill": "toself",
         "mode": "lines",
         "name": "Spear",
         "text": "Spear",
         "type": "scatter",
         "x": [
          93,
          93,
          104,
          105,
          109,
          110,
          112,
          112,
          113,
          115,
          117,
          119,
          119,
          120,
          122,
          123,
          128,
          129,
          128,
          126,
          125,
          123,
          122,
          119,
          118,
          117,
          116,
          112,
          111,
          104,
          103,
          102,
          100,
          99,
          100
         ],
         "y": [
          69,
          72,
          72,
          71,
          71,
          72,
          72,
          73,
          74,
          74,
          72,
          72,
          74,
          74,
          72,
          73,
          71,
          70,
          69,
          69,
          70,
          70,
          69,
          69,
          68,
          68,
          69,
          69,
          68,
          68,
          69,
          69,
          67,
          68,
          69
         ]
        },
        {
         "fill": "toself",
         "mode": "lines",
         "name": "Tallneck",
         "text": "Tallneck",
         "type": "scatter",
         "x": [
          83,
          83,
          85,
          87,
          87,
          88,
          88,
          87,
          87,
          88,
          88,
          87,
          87,
          86,
          86,
          87,
          87,
          90,
          90,
          89,
          89,
          90,
          91,
          91,
          92,
          92,
          94,
          95,
          96,
          97,
          98,
          99,
          98,
          98,
          97,
          97,
          98,
          98,
          99,
          98,
          97,
          91,
          91,
          92,
          92,
          93,
          92,
          91
         ],
         "y": [
          64,
          65,
          67,
          67,
          74,
          75,
          77,
          78,
          80,
          81,
          82,
          83,
          84,
          85,
          86,
          87,
          89,
          89,
          87,
          86,
          85,
          85,
          84,
          86,
          87,
          89,
          89,
          88,
          88,
          89,
          89,
          88,
          87,
          85,
          84,
          83,
          82,
          80,
          79,
          78,
          79,
          76,
          75,
          74,
          65,
          64,
          63,
          64
         ]
        },
        {
         "fill": "toself",
         "mode": "lines",
         "name": "Aloy",
         "text": "Aloy",
         "type": "scatter",
         "x": [
          113,
          113,
          129,
          129
         ],
         "y": [
          68,
          74,
          74,
          68
         ]
        },
        {
         "fill": "toself",
         "mode": "lines",
         "name": "Horizon Forbidden West",
         "text": "Horizon Forbidden West",
         "type": "scatter",
         "x": [
          103,
          103,
          113,
          113
         ],
         "y": [
          68,
          74,
          74,
          68
         ]
        },
        {
         "fill": "toself",
         "mode": "lines",
         "name": "Nigeria heart",
         "text": "Nigeria heart",
         "type": "scatter",
         "x": [
          259,
          257,
          257,
          261,
          265,
          265,
          263
         ],
         "y": [
          190,
          192,
          193,
          197,
          193,
          192,
          190
         ]
        },
        {
         "fill": "toself",
         "mode": "lines",
         "name": "Belgium heart",
         "text": "Belgium heart",
         "type": "scatter",
         "x": [
          265,
          263,
          263,
          267,
          271,
          271,
          269,
          299,
          299,
          294,
          294,
          297,
          299,
          299
         ],
         "y": [
          190,
          192,
          193,
          197,
          193,
          192,
          190,
          190,
          173,
          173,
          176,
          179,
          177,
          190
         ]
        },
        {
         "fill": "toself",
         "mode": "lines",
         "name": "Brazil heart",
         "text": "Brazil heart",
         "type": "scatter",
         "x": [
          247,
          245,
          245,
          248,
          240,
          240,
          241,
          241,
          237,
          233,
          233,
          235,
          240,
          240,
          248,
          249,
          253,
          253,
          251
         ],
         "y": [
          178,
          180,
          181,
          184,
          184,
          191,
          192,
          193,
          197,
          193,
          192,
          190,
          190,
          184,
          184,
          185,
          181,
          180,
          178
         ]
        },
        {
         "fill": "toself",
         "mode": "lines",
         "name": "Hungary heart",
         "text": "Hungary heart",
         "type": "scatter",
         "x": [
          181,
          179,
          179,
          183,
          184,
          215,
          217,
          217,
          213,
          209,
          209,
          211,
          184,
          187,
          187,
          185
         ],
         "y": [
          172,
          174,
          175,
          179,
          178,
          178,
          180,
          181,
          185,
          181,
          180,
          178,
          178,
          175,
          174,
          172
         ]
        },
        {
         "fill": "toself",
         "mode": "lines",
         "name": "Spain heart",
         "text": "Spain heart",
         "type": "scatter",
         "x": [
          277,
          275,
          275,
          279,
          285,
          289,
          289,
          287
         ],
         "y": [
          178,
          180,
          181,
          185,
          185,
          181,
          180,
          178
         ]
        },
        {
         "fill": "toself",
         "mode": "lines",
         "name": "Argentina heart",
         "text": "Argentina heart",
         "type": "scatter",
         "x": [
          247,
          245,
          245,
          249,
          253,
          253,
          251,
          293,
          295,
          295,
          291,
          285,
          281,
          281,
          283
         ],
         "y": [
          190,
          192,
          193,
          197,
          193,
          192,
          190,
          190,
          192,
          193,
          197,
          197,
          193,
          192,
          190
         ]
        },
        {
         "fill": "toself",
         "mode": "lines",
         "name": "Ireland heart",
         "text": "Ireland heart",
         "type": "scatter",
         "x": [
          271,
          269,
          269,
          272,
          228,
          228,
          227,
          223,
          221,
          221,
          229,
          229,
          228,
          228,
          272,
          273,
          277,
          277,
          275
         ],
         "y": [
          184,
          186,
          187,
          190,
          190,
          209,
          208,
          208,
          210,
          212,
          212,
          210,
          209,
          190,
          190,
          191,
          187,
          186,
          184
         ]
        },
        {
         "fill": "toself",
         "mode": "lines",
         "name": "Romania heart",
         "text": "Romania heart",
         "type": "scatter",
         "x": [
          151,
          149,
          149,
          153,
          157,
          157,
          155,
          271,
          269,
          269,
          273,
          277,
          277,
          275
         ],
         "y": [
          172,
          174,
          175,
          179,
          175,
          174,
          172,
          172,
          174,
          175,
          179,
          175,
          174,
          172
         ]
        },
        {
         "fill": "toself",
         "mode": "lines",
         "name": "Poland heart",
         "text": "Poland heart",
         "type": "scatter",
         "x": [
          271,
          269,
          269,
          273,
          277,
          277,
          275
         ],
         "y": [
          190,
          192,
          193,
          197,
          193,
          192,
          190
         ]
        },
        {
         "fill": "toself",
         "mode": "lines",
         "name": "Estonia heart",
         "text": "Estonia heart",
         "type": "scatter",
         "x": [
          277,
          275,
          275,
          279,
          283,
          283,
          281
         ],
         "y": [
          184,
          186,
          187,
          191,
          187,
          186,
          184
         ]
        },
        {
         "fill": "toself",
         "mode": "lines",
         "name": "Lithuania heart",
         "text": "Lithuania heart",
         "type": "scatter",
         "x": [
          241,
          239,
          239,
          243,
          247,
          247,
          245
         ],
         "y": [
          178,
          180,
          181,
          185,
          181,
          180,
          178
         ]
        },
        {
         "fill": "toself",
         "mode": "lines",
         "name": "Iran heart",
         "text": "Iran heart",
         "type": "scatter",
         "x": [
          298,
          296,
          296,
          300,
          304,
          304,
          302
         ],
         "y": [
          205,
          207,
          208,
          212,
          208,
          207,
          205
         ]
        },
        {
         "fill": "toself",
         "mode": "lines",
         "name": "England heart",
         "text": "England heart",
         "type": "scatter",
         "x": [
          271,
          269,
          269,
          273,
          277,
          277,
          275
         ],
         "y": [
          172,
          174,
          175,
          179,
          175,
          174,
          172
         ]
        },
        {
         "fill": "toself",
         "mode": "lines",
         "name": "Azerbaijan heart",
         "text": "Azerbaijan heart",
         "type": "scatter",
         "x": [
          127,
          125,
          125,
          129,
          133,
          133,
          131
         ],
         "y": [
          172,
          174,
          175,
          179,
          175,
          174,
          172
         ]
        },
        {
         "fill": "toself",
         "mode": "lines",
         "name": "Iraq heart",
         "text": "Iraq heart",
         "type": "scatter",
         "x": [
          181,
          179,
          179,
          183,
          187,
          187,
          185
         ],
         "y": [
          172,
          174,
          175,
          179,
          175,
          174,
          172
         ]
        },
        {
         "fill": "toself",
         "mode": "lines",
         "name": "Luxembourg heart",
         "text": "Luxembourg heart",
         "type": "scatter",
         "x": [
          265,
          263,
          263,
          267,
          271,
          271,
          269,
          145,
          144,
          140,
          140,
          142,
          146,
          148,
          148,
          145
         ],
         "y": [
          190,
          192,
          193,
          197,
          193,
          192,
          190,
          190,
          191,
          187,
          186,
          184,
          184,
          186,
          187,
          190
         ]
        },
        {
         "fill": "toself",
         "mode": "lines",
         "name": "Latvia heart",
         "text": "Latvia heart",
         "type": "scatter",
         "x": [
          229,
          227,
          227,
          231,
          237,
          240,
          240
         ],
         "y": [
          184,
          186,
          187,
          191,
          191,
          188,
          184
         ]
        },
        {
         "fill": "toself",
         "mode": "lines",
         "name": "Bulgaria heart",
         "text": "Bulgaria heart",
         "type": "scatter",
         "x": [
          229,
          227,
          227,
          231,
          235,
          235,
          233
         ],
         "y": [
          184,
          186,
          187,
          191,
          187,
          186,
          184
         ]
        },
        {
         "fill": "toself",
         "mode": "lines",
         "name": "Austria heart",
         "text": "Austria heart",
         "type": "scatter",
         "x": [
          160,
          158,
          158,
          162,
          166,
          166,
          164
         ],
         "y": [
          184,
          186,
          187,
          191,
          187,
          186,
          184
         ]
        },
        {
         "fill": "toself",
         "mode": "lines",
         "name": "Windmill",
         "text": "Windmill",
         "type": "scatter",
         "x": [
          364,
          364,
          367,
          367,
          373,
          373,
          375,
          375,
          373,
          373
         ],
         "y": [
          1,
          11,
          11,
          14,
          14,
          11,
          11,
          0,
          0,
          1
         ]
        },
        {
         "fill": "toself",
         "mode": "lines",
         "name": "Flag of Taiwan",
         "text": "Flag of Taiwan",
         "type": "scatter",
         "x": [
          276,
          276,
          295,
          295
         ],
         "y": [
          158,
          172,
          172,
          158
         ]
        },
        {
         "fill": "toself",
         "mode": "lines",
         "name": "==>",
         "text": "==>",
         "type": "scatter",
         "x": [
          268,
          258,
          258,
          268,
          269,
          272,
          269
         ],
         "y": [
          156,
          156,
          160,
          160,
          161,
          158,
          155
         ]
        },
        {
         "fill": "toself",
         "mode": "lines",
         "name": "Jade Harley",
         "text": "Jade Harley",
         "type": "scatter",
         "x": [
          253,
          252,
          252,
          251,
          254,
          257,
          256,
          256,
          255,
          254
         ],
         "y": [
          154,
          155,
          156,
          157,
          160,
          157,
          156,
          155,
          154,
          155
         ]
        },
        {
         "fill": "toself",
         "mode": "lines",
         "name": "Rose Lalonde",
         "text": "Rose Lalonde",
         "type": "scatter",
         "x": [
          253,
          251,
          251,
          257,
          257
         ],
         "y": [
          154,
          158,
          160,
          160,
          154
         ]
        },
        {
         "fill": "toself",
         "mode": "lines",
         "name": "Dave Strider",
         "text": "Dave Strider",
         "type": "scatter",
         "x": [
          253,
          251,
          251,
          253,
          255,
          257,
          257,
          255
         ],
         "y": [
          148,
          150,
          152,
          154,
          154,
          152,
          150,
          148
         ]
        },
        {
         "fill": "toself",
         "mode": "lines",
         "name": "John Egbert",
         "text": "John Egbert",
         "type": "scatter",
         "x": [
          253,
          251,
          251,
          253,
          255,
          257,
          255,
          255
         ],
         "y": [
          136,
          138,
          140,
          142,
          142,
          140,
          138,
          136
         ]
        },
        {
         "fill": "toself",
         "mode": "lines",
         "name": "Homestuck logo",
         "text": "Homestuck logo",
         "type": "scatter",
         "x": [
          264,
          257,
          257,
          259,
          259,
          271,
          271,
          273,
          273,
          265
         ],
         "y": [
          146,
          154,
          155,
          155,
          165,
          165,
          155,
          155,
          154,
          146
         ]
        },
        {
         "fill": "toself",
         "mode": "lines",
         "name": "708",
         "text": "708",
         "type": "scatter",
         "x": [
          294,
          294,
          306,
          306
         ],
         "y": [
          254,
          260,
          260,
          254
         ]
        },
        {
         "fill": "toself",
         "mode": "lines",
         "name": "Godhead",
         "text": "Godhead",
         "type": "scatter",
         "x": [
          83,
          82,
          81,
          78,
          81,
          82,
          83,
          86,
          87,
          88,
          91,
          88,
          87,
          86
         ],
         "y": [
          312,
          313,
          313,
          316,
          319,
          319,
          320,
          320,
          319,
          319,
          316,
          313,
          313,
          312
         ]
        },
        {
         "fill": "toself",
         "mode": "lines",
         "name": "Mom's Heels",
         "text": "Mom's Heels",
         "type": "scatter",
         "x": [
          80,
          80,
          82,
          87,
          89,
          89,
          87,
          86,
          83,
          82
         ],
         "y": [
          338,
          340,
          342,
          342,
          340,
          338,
          338,
          339,
          339,
          338
         ]
        },
        {
         "fill": "toself",
         "mode": "lines",
         "name": "RoboTop",
         "text": "RoboTop",
         "type": "scatter",
         "x": [
          247,
          242,
          242,
          244,
          244,
          254,
          254,
          256,
          256,
          251
         ],
         "y": [
          107,
          112,
          116,
          118,
          125,
          125,
          118,
          116,
          112,
          107
         ]
        },
        {
         "fill": "toself",
         "mode": "lines",
         "name": "Rock and stone!",
         "text": "Rock and stone!",
         "type": "scatter",
         "x": [
          182,
          182,
          238,
          238
         ],
         "y": [
          277,
          283,
          283,
          277
         ]
        },
        {
         "fill": "toself",
         "mode": "lines",
         "name": "For Karl!",
         "text": "For Karl!",
         "type": "scatter",
         "x": [
          191,
          191,
          227,
          227
         ],
         "y": [
          301,
          306,
          306,
          301
         ]
        },
        {
         "fill": "toself",
         "mode": "lines",
         "name": "Deep Rock Galactic-France heart",
         "text": "Deep Rock Galactic-France heart",
         "type": "scatter",
         "x": [
          173,
          171,
          171,
          176,
          181,
          181,
          179,
          178,
          177,
          175,
          174
         ],
         "y": [
          279,
          281,
          283,
          288,
          283,
          281,
          279,
          279,
          280,
          280,
          279
         ]
        },
        {
         "fill": "toself",
         "mode": "lines",
         "name": "Reginleif",
         "text": "Reginleif",
         "type": "scatter",
         "x": [
          333,
          328,
          328,
          339,
          339,
          338,
          338,
          333
         ],
         "y": [
          9,
          9,
          14,
          14,
          10,
          10,
          8,
          8
         ]
        },
        {
         "fill": "toself",
         "mode": "lines",
         "name": "Fido",
         "text": "Fido",
         "type": "scatter",
         "x": [
          305,
          305,
          306,
          305,
          305,
          307,
          307,
          310,
          310,
          312,
          312,
          311,
          312,
          312
         ],
         "y": [
          0,
          2,
          3,
          4,
          6,
          6,
          5,
          5,
          6,
          6,
          4,
          3,
          2,
          0
         ]
        },
        {
         "fill": "toself",
         "mode": "lines",
         "name": "Shin",
         "text": "Shin",
         "type": "scatter",
         "x": [
          361,
          358,
          358,
          368,
          368,
          365
         ],
         "y": [
          0,
          2,
          8,
          8,
          2,
          0
         ]
        },
        {
         "fill": "toself",
         "mode": "lines",
         "name": "Lena",
         "text": "Lena",
         "type": "scatter",
         "x": [
          348,
          348,
          358,
          358
         ],
         "y": [
          0,
          8,
          8,
          0
         ]
        },
        {
         "fill": "toself",
         "mode": "lines",
         "name": "忘れません",
         "text": "忘れません",
         "type": "scatter",
         "x": [
          297,
          297,
          337,
          337
         ],
         "y": [
          6,
          14,
          14,
          6
         ]
        },
        {
         "fill": "toself",
         "mode": "lines",
         "name": "Japan heart",
         "text": "Japan heart",
         "type": "scatter",
         "x": [
          259,
          257,
          257,
          261,
          265,
          265,
          263
         ],
         "y": [
          184,
          186,
          187,
          191,
          187,
          186,
          184
         ]
        },
        {
         "fill": "toself",
         "mode": "lines",
         "name": "Genshin Impact",
         "text": "Genshin Impact",
         "type": "scatter",
         "x": [
          0,
          0,
          114,
          120,
          129,
          129,
          118,
          118,
          74,
          69,
          64
         ],
         "y": [
          62,
          93,
          93,
          87,
          87,
          66,
          66,
          62,
          62,
          57,
          62
         ]
        },
        {
         "fill": "toself",
         "mode": "lines",
         "name": "Meloetta",
         "text": "Meloetta",
         "type": "scatter",
         "x": [
          121,
          119,
          119,
          122,
          122,
          119,
          119,
          121,
          121,
          123,
          125,
          126,
          132,
          132,
          131,
          131,
          130,
          131,
          131,
          132,
          132,
          131,
          131,
          128,
          126,
          126
         ],
         "y": [
          33,
          35,
          43,
          46,
          47,
          47,
          50,
          50,
          52,
          52,
          54,
          53,
          53,
          49,
          48,
          47,
          46,
          45,
          44,
          43,
          41,
          40,
          39,
          36,
          36,
          33
         ]
        },
        {
         "fill": "toself",
         "mode": "lines",
         "name": "73",
         "text": "73",
         "type": "scatter",
         "x": [
          121,
          117,
          117,
          120,
          129,
          130,
          135,
          139,
          139,
          141,
          141,
          140,
          140,
          137
         ],
         "y": [
          33,
          37,
          50,
          53,
          53,
          54,
          54,
          50,
          46,
          46,
          40,
          40,
          36,
          33
         ]
        },
        {
         "fill": "toself",
         "mode": "lines",
         "name": "Flag of Ukraine",
         "text": "Flag of Ukraine",
         "type": "scatter",
         "x": [
          131,
          131,
          144,
          144
         ],
         "y": [
          33,
          40,
          40,
          33
         ]
        },
        {
         "fill": "toself",
         "mode": "lines",
         "name": "Communism",
         "text": "Communism",
         "type": "scatter",
         "x": [
          160,
          160,
          182,
          182
         ],
         "y": [
          34,
          57,
          57,
          34
         ]
        },
        {
         "fill": "toself",
         "mode": "lines",
         "name": "Transgender flag",
         "text": "Transgender flag",
         "type": "scatter",
         "x": [
          87,
          87,
          93,
          93
         ],
         "y": [
          35,
          41,
          41,
          35
         ]
        },
        {
         "fill": "toself",
         "mode": "lines",
         "name": "Among Us crewmate",
         "text": "Among Us crewmate",
         "type": "scatter",
         "x": [
          72,
          71,
          70,
          68,
          68,
          67,
          63,
          63,
          69,
          69,
          71,
          71,
          72,
          76,
          78,
          81,
          81,
          79,
          78,
          77
         ],
         "y": [
          42,
          43,
          43,
          45,
          46,
          46,
          50,
          54,
          54,
          64,
          64,
          63,
          63,
          59,
          59,
          56,
          45,
          43,
          43,
          42
         ]
        },
        {
         "fill": "toself",
         "mode": "lines",
         "name": "Will of the People",
         "text": "Will of the People",
         "type": "scatter",
         "x": [
          77,
          77,
          86,
          86
         ],
         "y": [
          54,
          63,
          63,
          54
         ]
        },
        {
         "fill": "toself",
         "mode": "lines",
         "name": "Simulation Theory",
         "text": "Simulation Theory",
         "type": "scatter",
         "x": [
          69,
          69,
          78,
          78
         ],
         "y": [
          54,
          63,
          63,
          54
         ]
        },
        {
         "fill": "toself",
         "mode": "lines",
         "name": "Drones",
         "text": "Drones",
         "type": "scatter",
         "x": [
          61,
          61,
          70,
          70
         ],
         "y": [
          54,
          63,
          63,
          54
         ]
        },
        {
         "fill": "toself",
         "mode": "lines",
         "name": "The 2nd Law",
         "text": "The 2nd Law",
         "type": "scatter",
         "x": [
          53,
          53,
          62,
          62
         ],
         "y": [
          54,
          63,
          63,
          54
         ]
        },
        {
         "fill": "toself",
         "mode": "lines",
         "name": "The Resistance",
         "text": "The Resistance",
         "type": "scatter",
         "x": [
          45,
          45,
          54,
          54
         ],
         "y": [
          54,
          63,
          63,
          54
         ]
        },
        {
         "fill": "toself",
         "mode": "lines",
         "name": "Black Holes and Revelations",
         "text": "Black Holes and Revelations",
         "type": "scatter",
         "x": [
          37,
          37,
          46,
          46
         ],
         "y": [
          54,
          63,
          63,
          54
         ]
        },
        {
         "fill": "toself",
         "mode": "lines",
         "name": "Absolution",
         "text": "Absolution",
         "type": "scatter",
         "x": [
          29,
          29,
          38,
          38
         ],
         "y": [
          54,
          63,
          63,
          54
         ]
        },
        {
         "fill": "toself",
         "mode": "lines",
         "name": "Origin of Symmetry",
         "text": "Origin of Symmetry",
         "type": "scatter",
         "x": [
          21,
          21,
          30,
          30
         ],
         "y": [
          54,
          63,
          63,
          54
         ]
        },
        {
         "fill": "toself",
         "mode": "lines",
         "name": "Showbiz",
         "text": "Showbiz",
         "type": "scatter",
         "x": [
          13,
          13,
          22,
          22
         ],
         "y": [
          54,
          63,
          63,
          54
         ]
        },
        {
         "fill": "toself",
         "mode": "lines",
         "name": "Flag of Turkey",
         "text": "Flag of Turkey",
         "type": "scatter",
         "x": [
          36,
          36,
          49,
          49
         ],
         "y": [
          63,
          73,
          73,
          63
         ]
        },
        {
         "fill": "toself",
         "mode": "lines",
         "name": "Flag of Ukraine",
         "text": "Flag of Ukraine",
         "type": "scatter",
         "x": [
          1,
          1,
          14,
          14
         ],
         "y": [
          51,
          58,
          58,
          51
         ]
        },
        {
         "fill": "toself",
         "mode": "lines",
         "name": "Flag of Ethiopia",
         "text": "Flag of Ethiopia",
         "type": "scatter",
         "x": [
          -1,
          -1,
          6,
          6
         ],
         "y": [
          55,
          62,
          62,
          55
         ]
        },
        {
         "fill": "toself",
         "mode": "lines",
         "name": "dotcolNoLean",
         "text": "dotcolNoLean",
         "type": "scatter",
         "x": [
          380,
          379,
          378,
          378,
          377,
          377,
          378,
          379,
          379,
          378,
          378,
          389,
          386,
          387,
          387,
          388,
          389,
          389,
          389,
          388,
          388,
          388,
          387,
          386
         ],
         "y": [
          16,
          17,
          18,
          20,
          21,
          24,
          25,
          26,
          28,
          28,
          29,
          29,
          28,
          26,
          25,
          24,
          23,
          22,
          21,
          20,
          19,
          17,
          17,
          16
         ]
        },
        {
         "fill": "toself",
         "mode": "lines",
         "name": "Boyflux pride flag",
         "text": "Boyflux pride flag",
         "type": "scatter",
         "x": [
          104,
          104,
          124,
          124,
          118,
          118,
          117,
          118,
          118,
          117,
          118,
          118,
          117,
          117,
          116,
          116,
          115,
          115,
          108,
          108,
          107,
          107,
          106,
          106,
          105,
          105,
          106,
          105,
          105,
          106,
          105,
          105,
          104
         ],
         "y": [
          339,
          329,
          329,
          337,
          337,
          336,
          336,
          336,
          334,
          334,
          334,
          332,
          332,
          331,
          331,
          330,
          330,
          329,
          329,
          330,
          330,
          331,
          331,
          332,
          332,
          334,
          334,
          334,
          336,
          336,
          336,
          337,
          337
         ]
        },
        {
         "fill": "toself",
         "mode": "lines",
         "name": "Dragon Mahjong tiles",
         "text": "Dragon Mahjong tiles",
         "type": "scatter",
         "x": [
          20,
          34,
          34,
          20
         ],
         "y": [
          36,
          36,
          47,
          47
         ]
        },
        {
         "fill": "toself",
         "mode": "lines",
         "name": "Axis Order",
         "text": "Axis Order",
         "type": "scatter",
         "x": [
          364,
          373,
          382,
          373
         ],
         "y": [
          19,
          10,
          19,
          28
         ]
        },
        {
         "fill": "toself",
         "mode": "lines",
         "name": "Odyssey Eurobeat",
         "text": "Odyssey Eurobeat",
         "type": "scatter",
         "x": [
          182,
          173,
          173,
          182
         ],
         "y": [
          132,
          132,
          141,
          141
         ]
        },
        {
         "fill": "toself",
         "mode": "lines",
         "name": "Dominican Republic",
         "text": "Dominican Republic",
         "type": "scatter",
         "x": [
          53,
          53,
          54,
          54,
          55,
          55,
          57,
          58,
          60,
          62,
          63,
          55,
          54,
          50,
          49,
          49,
          50,
          50,
          52,
          53,
          54,
          56,
          56,
          63,
          63,
          64,
          65,
          66,
          67,
          69,
          70,
          71,
          74,
          75,
          79,
          80,
          81,
          84,
          84,
          78,
          78,
          77,
          76,
          71,
          68,
          66,
          65,
          63,
          62,
          56,
          56
         ],
         "y": [
          76,
          78,
          79,
          80,
          81,
          82,
          84,
          84,
          86,
          86,
          87,
          89,
          89,
          86,
          87,
          88,
          89,
          92,
          92,
          93,
          92,
          92,
          89,
          87,
          89,
          89,
          88,
          88,
          87,
          87,
          88,
          87,
          87,
          88,
          88,
          89,
          89,
          86,
          84,
          81,
          78,
          78,
          79,
          79,
          77,
          77,
          76,
          76,
          75,
          75,
          76
         ]
        },
        {
         "fill": "toself",
         "mode": "lines",
         "name": "Paimon",
         "text": "Paimon",
         "type": "scatter",
         "x": [
          16,
          16,
          47,
          47
         ],
         "y": [
          73,
          93,
          93,
          73
         ]
        },
        {
         "fill": "toself",
         "mode": "lines",
         "name": "Shrek",
         "text": "Shrek",
         "type": "scatter",
         "x": [
          13,
          10,
          8,
          8,
          6,
          6,
          7,
          7,
          8,
          8,
          10,
          11,
          12,
          115,
          121,
          127,
          130,
          134,
          136,
          136,
          135,
          135,
          133,
          133,
          132,
          131,
          129,
          129,
          93,
          91,
          79,
          79,
          78,
          77,
          76,
          60,
          59,
          59,
          58,
          58,
          45,
          42,
          41,
          25,
          25,
          24,
          24,
          23,
          22
         ],
         "y": [
          64,
          67,
          67,
          70,
          72,
          78,
          79,
          87,
          88,
          89,
          91,
          91,
          92,
          92,
          86,
          91,
          91,
          88,
          88,
          84,
          83,
          81,
          79,
          77,
          77,
          78,
          78,
          73,
          73,
          71,
          71,
          68,
          67,
          67,
          66,
          66,
          67,
          68,
          69,
          72,
          72,
          69,
          70,
          70,
          68,
          67,
          63,
          63,
          64
         ]
        },
        {
         "fill": "toself",
         "mode": "lines",
         "name": "Flag of Turkey",
         "text": "Flag of Turkey",
         "type": "scatter",
         "x": [
          76,
          76,
          95,
          95
         ],
         "y": [
          84,
          93,
          93,
          84
         ]
        },
        {
         "fill": "toself",
         "mode": "lines",
         "name": "Among Us crewmate",
         "text": "Among Us crewmate",
         "type": "scatter",
         "x": [
          31,
          27,
          27,
          26,
          26,
          28,
          28,
          43,
          43,
          40,
          40,
          31
         ],
         "y": [
          71,
          75,
          79,
          80,
          86,
          86,
          90,
          90,
          74,
          72,
          70,
          70
         ]
        },
        {
         "fill": "toself",
         "mode": "lines",
         "name": "Among Us crewmate",
         "text": "Among Us crewmate",
         "type": "scatter",
         "x": [
          77,
          77,
          75,
          75,
          77,
          77,
          94,
          94,
          93,
          93,
          91,
          91,
          80,
          80
         ],
         "y": [
          72,
          76,
          76,
          83,
          83,
          91,
          91,
          87,
          87,
          72,
          72,
          71,
          71,
          72
         ]
        },
        {
         "fill": "toself",
         "mode": "lines",
         "name": "Shrek",
         "text": "Shrek",
         "type": "scatter",
         "x": [
          29,
          28,
          26,
          26,
          28,
          28,
          27,
          27,
          28,
          28,
          40,
          44,
          44
         ],
         "y": [
          70,
          71,
          71,
          72,
          74,
          77,
          78,
          85,
          86,
          92,
          92,
          88,
          70
         ]
        },
        {
         "fill": "toself",
         "mode": "lines",
         "name": "Flag of Puerto Rico",
         "text": "Flag of Puerto Rico",
         "type": "scatter",
         "x": [
          17,
          17,
          27,
          27
         ],
         "y": [
          86,
          92,
          92,
          86
         ]
        },
        {
         "fill": "toself",
         "mode": "lines",
         "name": "Flag of Argentina",
         "text": "Flag of Argentina",
         "type": "scatter",
         "x": [
          27,
          27,
          33,
          33
         ],
         "y": [
          73,
          77,
          77,
          73
         ]
        },
        {
         "fill": "toself",
         "mode": "lines",
         "name": "Flag of Bolivia",
         "text": "Flag of Bolivia",
         "type": "scatter",
         "x": [
          32,
          32,
          38,
          38
         ],
         "y": [
          73,
          77,
          77,
          73
         ]
        },
        {
         "fill": "toself",
         "mode": "lines",
         "name": "Flag of Turkey",
         "text": "Flag of Turkey",
         "type": "scatter",
         "x": [
          0,
          0,
          9,
          9
         ],
         "y": [
          74,
          81,
          81,
          74
         ]
        },
        {
         "fill": "toself",
         "mode": "lines",
         "name": "r/place",
         "text": "r/place",
         "type": "scatter",
         "x": [
          4,
          4,
          10,
          10
         ],
         "y": [
          85,
          91,
          91,
          85
         ]
        },
        {
         "fill": "toself",
         "mode": "lines",
         "name": "Kirby",
         "text": "Kirby",
         "type": "scatter",
         "x": [
          125,
          122,
          122,
          123,
          123,
          129,
          129,
          130,
          130,
          127
         ],
         "y": [
          111,
          114,
          115,
          116,
          118,
          118,
          116,
          115,
          114,
          111
         ]
        },
        {
         "fill": "toself",
         "mode": "lines",
         "name": "Egypt sheep",
         "text": "Egypt sheep",
         "type": "scatter",
         "x": [
          19,
          19,
          20,
          20,
          29,
          29
         ],
         "y": [
          133,
          135,
          135,
          137,
          137,
          133
         ]
        },
        {
         "fill": "toself",
         "mode": "lines",
         "name": "India sheep",
         "text": "India sheep",
         "type": "scatter",
         "x": [
          30,
          30,
          31,
          31,
          35,
          35
         ],
         "y": [
          133,
          135,
          135,
          137,
          137,
          133
         ]
        },
        {
         "fill": "toself",
         "mode": "lines",
         "name": "Bisexual sheep",
         "text": "Bisexual sheep",
         "type": "scatter",
         "x": [
          2,
          2,
          0,
          0,
          4,
          4
         ],
         "y": [
          103,
          104,
          104,
          108,
          108,
          103
         ]
        },
        {
         "fill": "toself",
         "mode": "lines",
         "name": "Pansexual sheep",
         "text": "Pansexual sheep",
         "type": "scatter",
         "x": [
          2,
          2,
          0,
          0,
          4,
          4
         ],
         "y": [
          123,
          124,
          124,
          128,
          128,
          123
         ]
        },
        {
         "fill": "toself",
         "mode": "lines",
         "name": "Second Spanish Republic sheep",
         "text": "Second Spanish Republic sheep",
         "type": "scatter",
         "x": [
          15,
          15,
          16,
          16,
          20,
          20
         ],
         "y": [
          133,
          135,
          135,
          137,
          137,
          133
         ]
        },
        {
         "fill": "toself",
         "mode": "lines",
         "name": "Romania sheep",
         "text": "Romania sheep",
         "type": "scatter",
         "x": [
          9,
          9,
          10,
          10,
          14,
          14
         ],
         "y": [
          133,
          135,
          135,
          137,
          137,
          133
         ]
        },
        {
         "fill": "toself",
         "mode": "lines",
         "name": "Ukraine sheep",
         "text": "Ukraine sheep",
         "type": "scatter",
         "x": [
          34,
          34,
          35,
          35,
          44,
          44
         ],
         "y": [
          133,
          135,
          135,
          137,
          137,
          133
         ]
        },
        {
         "fill": "toself",
         "mode": "lines",
         "name": "Non-binary sheep",
         "text": "Non-binary sheep",
         "type": "scatter",
         "x": [
          9,
          9,
          14,
          14,
          13,
          13
         ],
         "y": [
          93,
          97,
          97,
          95,
          95,
          93
         ]
        },
        {
         "fill": "toself",
         "mode": "lines",
         "name": "Belgium sheep",
         "text": "Belgium sheep",
         "type": "scatter",
         "x": [
          4,
          4,
          9,
          9,
          8,
          8
         ],
         "y": [
          93,
          97,
          97,
          95,
          95,
          93
         ]
        },
        {
         "fill": "toself",
         "mode": "lines",
         "name": "Germany sheep",
         "text": "Germany sheep",
         "type": "scatter",
         "x": [
          2,
          2,
          0,
          0,
          4,
          4
         ],
         "y": [
          98,
          99,
          99,
          103,
          103,
          98
         ]
        },
        {
         "fill": "toself",
         "mode": "lines",
         "name": "Genderqueer sheep",
         "text": "Genderqueer sheep",
         "type": "scatter",
         "x": [
          2,
          2,
          0,
          0,
          4,
          4
         ],
         "y": [
          108,
          109,
          109,
          113,
          113,
          108
         ]
        },
        {
         "fill": "toself",
         "mode": "lines",
         "name": "Peru sheep",
         "text": "Peru sheep",
         "type": "scatter",
         "x": [
          9,
          9,
          10,
          10,
          14,
          14
         ],
         "y": [
          133,
          135,
          135,
          137,
          137,
          133
         ]
        },
        {
         "fill": "toself",
         "mode": "lines",
         "name": "France sheep",
         "text": "France sheep",
         "type": "scatter",
         "x": [
          9,
          9,
          10,
          10,
          14,
          14
         ],
         "y": [
          133,
          135,
          135,
          137,
          137,
          133
         ]
        },
        {
         "fill": "toself",
         "mode": "lines",
         "name": "Transgender sheep",
         "text": "Transgender sheep",
         "type": "scatter",
         "x": [
          2,
          2,
          0,
          0,
          4,
          4
         ],
         "y": [
          128,
          129,
          129,
          133,
          133,
          128
         ]
        },
        {
         "fill": "toself",
         "mode": "lines",
         "name": "Aromantic sheep",
         "text": "Aromantic sheep",
         "type": "scatter",
         "x": [
          2,
          2,
          0,
          0,
          4,
          4
         ],
         "y": [
          108,
          109,
          109,
          113,
          113,
          108
         ]
        },
        {
         "fill": "toself",
         "mode": "lines",
         "name": "Ireland sheep",
         "text": "Ireland sheep",
         "type": "scatter",
         "x": [
          4,
          4,
          9,
          9,
          8,
          8
         ],
         "y": [
          93,
          97,
          97,
          95,
          95,
          93
         ]
        },
        {
         "fill": "toself",
         "mode": "lines",
         "name": "Asexual sheep",
         "text": "Asexual sheep",
         "type": "scatter",
         "x": [
          39,
          39,
          44,
          44,
          43,
          43
         ],
         "y": [
          93,
          97,
          97,
          95,
          95,
          93
         ]
        },
        {
         "fill": "toself",
         "mode": "lines",
         "name": "Dank",
         "text": "Dank",
         "type": "scatter",
         "x": [
          162,
          162,
          179,
          179
         ],
         "y": [
          67,
          73,
          73,
          67
         ]
        },
        {
         "fill": "toself",
         "mode": "lines",
         "name": "RuneScape",
         "text": "RuneScape",
         "type": "scatter",
         "x": [
          0,
          0,
          63,
          63,
          112,
          115,
          119,
          119,
          122,
          125,
          128,
          136,
          145,
          135,
          135,
          169,
          169,
          186,
          186,
          215,
          215,
          186,
          186,
          165,
          161,
          166,
          166,
          178,
          178,
          231,
          231
         ],
         "y": [
          0,
          33,
          33,
          52,
          52,
          49,
          49,
          53,
          55,
          55,
          58,
          58,
          70,
          78,
          84,
          84,
          73,
          73,
          93,
          93,
          64,
          64,
          73,
          73,
          70,
          65,
          51,
          51,
          33,
          33,
          0
         ]
        },
        {
         "fill": "toself",
         "mode": "lines",
         "name": "Adventure Time",
         "text": "Adventure Time",
         "type": "scatter",
         "x": [
          166,
          166,
          169,
          169,
          171,
          171,
          174,
          174,
          176,
          176,
          178,
          178,
          180,
          184,
          186,
          186,
          185,
          185,
          178,
          178,
          177,
          177
         ],
         "y": [
          56,
          67,
          67,
          70,
          70,
          67,
          67,
          71,
          71,
          67,
          67,
          71,
          73,
          73,
          71,
          68,
          68,
          64,
          64,
          62,
          62,
          56
         ]
        },
        {
         "fill": "toself",
         "mode": "lines",
         "name": ":)",
         "text": ":)",
         "type": "scatter",
         "x": [
          114,
          111,
          111,
          109,
          109,
          111,
          113,
          114,
          125,
          128,
          128,
          130,
          130,
          128,
          128,
          125
         ],
         "y": [
          101,
          104,
          106,
          108,
          110,
          112,
          117,
          118,
          118,
          115,
          111,
          109,
          108,
          106,
          104,
          101
         ]
        },
        {
         "fill": "toself",
         "mode": "lines",
         "name": "Master Chief",
         "text": "Master Chief",
         "type": "scatter",
         "x": [
          104,
          102,
          102,
          105,
          110,
          112,
          112,
          109
         ],
         "y": [
          109,
          111,
          115,
          118,
          118,
          116,
          112,
          109
         ]
        },
        {
         "fill": "toself",
         "mode": "lines",
         "name": "المغرب",
         "text": "المغرب",
         "type": "scatter",
         "x": [
          223,
          223,
          243,
          243
         ],
         "y": [
          69,
          77,
          77,
          69
         ]
        },
        {
         "fill": "toself",
         "mode": "lines",
         "name": "Super Bowl LI",
         "text": "Super Bowl LI",
         "type": "scatter",
         "x": [
          245,
          245,
          300,
          300
         ],
         "y": [
          45,
          83,
          83,
          45
         ]
        },
        {
         "fill": "toself",
         "mode": "lines",
         "name": "Minecraft Hardcore hearts",
         "text": "Minecraft Hardcore hearts",
         "type": "scatter",
         "x": [
          218,
          215,
          215,
          220,
          242,
          246,
          246,
          244
         ],
         "y": [
          55,
          58,
          61,
          66,
          66,
          62,
          57,
          55
         ]
        },
        {
         "fill": "toself",
         "mode": "lines",
         "name": "Maryland hearts",
         "text": "Maryland hearts",
         "type": "scatter",
         "x": [
          272,
          270,
          270,
          274,
          283,
          287,
          287,
          285
         ],
         "y": [
          32,
          34,
          36,
          40,
          40,
          36,
          34,
          32
         ]
        },
        {
         "fill": "toself",
         "mode": "lines",
         "name": "Finland heart",
         "text": "Finland heart",
         "type": "scatter",
         "x": [
          290,
          288,
          288,
          292,
          296,
          296,
          294
         ],
         "y": [
          32,
          34,
          36,
          40,
          36,
          34,
          32
         ]
        },
        {
         "fill": "toself",
         "mode": "lines",
         "name": "Iceland heart",
         "text": "Iceland heart",
         "type": "scatter",
         "x": [
          281,
          279,
          279,
          283,
          287,
          287,
          285
         ],
         "y": [
          32,
          34,
          36,
          40,
          36,
          34,
          32
         ]
        },
        {
         "fill": "toself",
         "mode": "lines",
         "name": "Denmark heart",
         "text": "Denmark heart",
         "type": "scatter",
         "x": [
          266,
          265,
          265,
          274,
          274,
          273
         ],
         "y": [
          32,
          33,
          39,
          39,
          33,
          32
         ]
        },
        {
         "fill": "toself",
         "mode": "lines",
         "name": "Norway heart",
         "text": "Norway heart",
         "type": "scatter",
         "x": [
          290,
          288,
          288,
          292,
          296,
          296,
          294
         ],
         "y": [
          32,
          34,
          36,
          40,
          36,
          34,
          32
         ]
        },
        {
         "fill": "toself",
         "mode": "lines",
         "name": "Sweden heart",
         "text": "Sweden heart",
         "type": "scatter",
         "x": [
          254,
          252,
          252,
          256,
          266,
          266,
          264
         ],
         "y": [
          32,
          34,
          36,
          40,
          40,
          34,
          32
         ]
        },
        {
         "fill": "toself",
         "mode": "lines",
         "name": "Transgender flag",
         "text": "Transgender flag",
         "type": "scatter",
         "x": [
          242,
          242,
          259,
          259
         ],
         "y": [
          18,
          24,
          24,
          18
         ]
        },
        {
         "fill": "toself",
         "mode": "lines",
         "name": "Maryland",
         "text": "Maryland",
         "type": "scatter",
         "x": [
          250,
          250,
          297,
          297
         ],
         "y": [
          0,
          33,
          33,
          0
         ]
        },
        {
         "fill": "toself",
         "mode": "lines",
         "name": "Beat Saber block",
         "text": "Beat Saber block",
         "type": "scatter",
         "x": [
          234,
          234,
          245,
          245
         ],
         "y": [
          35,
          46,
          46,
          35
         ]
        },
        {
         "fill": "toself",
         "mode": "lines",
         "name": "Alexander Wales",
         "text": "Alexander Wales",
         "type": "scatter",
         "x": [
          232,
          232,
          242,
          242
         ],
         "y": [
          119,
          124,
          124,
          119
         ]
        },
        {
         "fill": "toself",
         "mode": "lines",
         "name": "Transgender flag",
         "text": "Transgender flag",
         "type": "scatter",
         "x": [
          327,
          327,
          337,
          337
         ],
         "y": [
          0,
          5,
          5,
          0
         ]
        },
        {
         "fill": "toself",
         "mode": "lines",
         "name": "Obamna",
         "text": "Obamna",
         "type": "scatter",
         "x": [
          351,
          351,
          380,
          380
         ],
         "y": [
          122,
          130,
          130,
          122
         ]
        },
        {
         "fill": "toself",
         "mode": "lines",
         "name": "Transgender flag",
         "text": "Transgender flag",
         "type": "scatter",
         "x": [
          335,
          335,
          398,
          398
         ],
         "y": [
          112,
          120,
          120,
          112
         ]
        },
        {
         "fill": "toself",
         "mode": "lines",
         "name": "r/Destiny",
         "text": "r/Destiny",
         "type": "scatter",
         "x": [
          345,
          345,
          386,
          386
         ],
         "y": [
          113,
          119,
          119,
          113
         ]
        },
        {
         "fill": "toself",
         "mode": "lines",
         "name": "Destiny logo",
         "text": "Destiny logo",
         "type": "scatter",
         "x": [
          368,
          368,
          397,
          397
         ],
         "y": [
          81,
          117,
          117,
          81
         ]
        },
        {
         "fill": "toself",
         "mode": "lines",
         "name": "Legion 413",
         "text": "Legion 413",
         "type": "scatter",
         "x": [
          263,
          263,
          272,
          272
         ],
         "y": [
          118,
          124,
          124,
          118
         ]
        },
        {
         "fill": "toself",
         "mode": "lines",
         "name": "Horizon logo",
         "text": "Horizon logo",
         "type": "scatter",
         "x": [
          93,
          93,
          99,
          99,
          123,
          123,
          129,
          129,
          125,
          125,
          123,
          123,
          99,
          99
         ],
         "y": [
          61,
          69,
          69,
          68,
          68,
          69,
          69,
          62,
          62,
          61,
          61,
          62,
          62,
          61
         ]
        },
        {
         "fill": "toself",
         "mode": "lines",
         "name": "AvoArmy",
         "text": "AvoArmy",
         "type": "scatter",
         "x": [
          213,
          210,
          209,
          209,
          212,
          215,
          218,
          218,
          215,
          214
         ],
         "y": [
          94,
          97,
          100,
          103,
          106,
          106,
          103,
          100,
          95,
          94
         ]
        },
        {
         "fill": "toself",
         "mode": "lines",
         "name": "Albert Heijn",
         "text": "Albert Heijn",
         "type": "scatter",
         "x": [
          180,
          180,
          207,
          207
         ],
         "y": [
          96,
          125,
          125,
          96
         ]
        },
        {
         "fill": "toself",
         "mode": "lines",
         "name": "Dota 2 logo",
         "text": "Dota 2 logo",
         "type": "scatter",
         "x": [
          0,
          0,
          27,
          27
         ],
         "y": [
          143,
          168,
          168,
          143
         ]
        },
        {
         "fill": "toself",
         "mode": "lines",
         "name": "Blue fox/cat",
         "text": "Blue fox/cat",
         "type": "scatter",
         "x": [
          44,
          44,
          48,
          48,
          54,
          54,
          47,
          47,
          45
         ],
         "y": [
          116,
          124,
          124,
          125,
          125,
          119,
          119,
          118,
          116
         ]
        },
        {
         "fill": "toself",
         "mode": "lines",
         "name": "Enderman",
         "text": "Enderman",
         "type": "scatter",
         "x": [
          64,
          64,
          63,
          63,
          64,
          64,
          68,
          68,
          69,
          69,
          68,
          68
         ],
         "y": [
          177,
          180,
          180,
          184,
          184,
          188,
          188,
          184,
          184,
          180,
          180,
          177
         ]
        },
        {
         "fill": "toself",
         "mode": "lines",
         "name": "r/placeukraine",
         "text": "r/placeukraine",
         "type": "scatter",
         "x": [
          0,
          0,
          55,
          55
         ],
         "y": [
          205,
          211,
          211,
          205
         ]
        },
        {
         "fill": "toself",
         "mode": "lines",
         "name": "Ukraine hearts",
         "text": "Ukraine hearts",
         "type": "scatter",
         "x": [
          289,
          287,
          287,
          291,
          295,
          295,
          293
         ],
         "y": [
          178,
          180,
          181,
          185,
          181,
          180,
          178
         ]
        },
        {
         "fill": "toself",
         "mode": "lines",
         "name": "Polandball",
         "text": "Polandball",
         "type": "scatter",
         "x": [
          67,
          64,
          64,
          67,
          71,
          74,
          74,
          71
         ],
         "y": [
          137,
          140,
          144,
          147,
          147,
          144,
          140,
          137
         ]
        },
        {
         "fill": "toself",
         "mode": "lines",
         "name": "Wales-CS:GO heart",
         "text": "Wales-CS:GO heart",
         "type": "scatter",
         "x": [
          41,
          40,
          40,
          44,
          48,
          48,
          47,
          46,
          45,
          43,
          42
         ],
         "y": [
          123,
          124,
          126,
          130,
          126,
          124,
          123,
          123,
          124,
          124,
          123
         ]
        },
        {
         "fill": "toself",
         "mode": "lines",
         "name": "Bisexual flag",
         "text": "Bisexual flag",
         "type": "scatter",
         "x": [
          171,
          171,
          175,
          175,
          176,
          174,
          174,
          173,
          173,
          175,
          186,
          188,
          188,
          183,
          183,
          186,
          188,
          188
         ],
         "y": [
          141,
          163,
          161,
          157,
          156,
          154,
          153,
          152,
          147,
          143,
          143,
          145,
          154,
          156,
          162,
          165,
          165,
          141
         ]
        },
        {
         "fill": "toself",
         "mode": "lines",
         "name": "Transgender flag",
         "text": "Transgender flag",
         "type": "scatter",
         "x": [
          171,
          171,
          173,
          175,
          175,
          174,
          174,
          173,
          173,
          175,
          186,
          188,
          188,
          183,
          183,
          188,
          188,
          185,
          185,
          188,
          188
         ],
         "y": [
          141,
          163,
          163,
          161,
          156,
          155,
          153,
          152,
          147,
          143,
          143,
          145,
          155,
          156,
          162,
          164,
          161,
          158,
          156,
          155,
          141
         ]
        },
        {
         "fill": "toself",
         "mode": "lines",
         "name": "Nepeta Leijon-9b9t heart",
         "text": "Nepeta Leijon-9b9t heart",
         "type": "scatter",
         "x": [
          186,
          184,
          184,
          188,
          192,
          192,
          190
         ],
         "y": [
          155,
          157,
          158,
          162,
          158,
          157,
          155
         ]
        },
        {
         "fill": "toself",
         "mode": "lines",
         "name": "9b9t Discord server",
         "text": "9b9t Discord server",
         "type": "scatter",
         "x": [
          192,
          188,
          188,
          221,
          221
         ],
         "y": [
          158,
          162,
          165,
          165,
          158
         ]
        },
        {
         "fill": "toself",
         "mode": "lines",
         "name": "Flag of Turkey",
         "text": "Flag of Turkey",
         "type": "scatter",
         "x": [
          177,
          177,
          188,
          188
         ],
         "y": [
          165,
          169,
          169,
          165
         ]
        },
        {
         "fill": "toself",
         "mode": "lines",
         "name": "Flag of Azerbaijan",
         "text": "Flag of Azerbaijan",
         "type": "scatter",
         "x": [
          132,
          132,
          141,
          141
         ],
         "y": [
          165,
          169,
          169,
          165
         ]
        },
        {
         "fill": "toself",
         "mode": "lines",
         "name": "SMPTE color bars",
         "text": "SMPTE color bars",
         "type": "scatter",
         "x": [
          139,
          139,
          147,
          147
         ],
         "y": [
          165,
          172,
          172,
          165
         ]
        },
        {
         "fill": "toself",
         "mode": "lines",
         "name": "Flag of Sweden",
         "text": "Flag of Sweden",
         "type": "scatter",
         "x": [
          133,
          133,
          139,
          139
         ],
         "y": [
          165,
          169,
          169,
          165
         ]
        },
        {
         "fill": "toself",
         "mode": "lines",
         "name": "Turkey heart",
         "text": "Turkey heart",
         "type": "scatter",
         "x": [
          241,
          239,
          239,
          242,
          193,
          191,
          191,
          195,
          199,
          199,
          197,
          242,
          243,
          247,
          247,
          245
         ],
         "y": [
          172,
          174,
          175,
          178,
          178,
          180,
          181,
          185,
          181,
          180,
          178,
          178,
          179,
          175,
          174,
          172
         ]
        },
        {
         "fill": "toself",
         "mode": "lines",
         "name": "Flag of France",
         "text": "Flag of France",
         "type": "scatter",
         "x": [
          157,
          157,
          188,
          188
         ],
         "y": [
          165,
          169,
          169,
          165
         ]
        },
        {
         "fill": "toself",
         "mode": "lines",
         "name": "Denmark heart",
         "text": "Denmark heart",
         "type": "scatter",
         "x": [
          199,
          197,
          197,
          201,
          205,
          205,
          203
         ],
         "y": [
          172,
          174,
          175,
          179,
          175,
          174,
          172
         ]
        },
        {
         "fill": "toself",
         "mode": "lines",
         "name": "Bangladesh heart",
         "text": "Bangladesh heart",
         "type": "scatter",
         "x": [
          253,
          251,
          251,
          255,
          259,
          259,
          257
         ],
         "y": [
          190,
          192,
          193,
          197,
          193,
          192,
          190
         ]
        },
        {
         "fill": "toself",
         "mode": "lines",
         "name": "Sweden heart",
         "text": "Sweden heart",
         "type": "scatter",
         "x": [
          235,
          233,
          233,
          237,
          249,
          253,
          253,
          251,
          265,
          263,
          263,
          267,
          273,
          277,
          277,
          275,
          289,
          287,
          287,
          291,
          295,
          295,
          293
         ],
         "y": [
          172,
          174,
          175,
          179,
          179,
          175,
          174,
          172,
          172,
          174,
          175,
          179,
          179,
          175,
          174,
          172,
          172,
          174,
          175,
          179,
          175,
          174,
          172
         ]
        },
        {
         "fill": "toself",
         "mode": "lines",
         "name": "Finland heart",
         "text": "Finland heart",
         "type": "scatter",
         "x": [
          284,
          281,
          281,
          285,
          289,
          289,
          286
         ],
         "y": [
          171,
          174,
          175,
          179,
          175,
          174,
          171
         ]
        },
        {
         "fill": "toself",
         "mode": "lines",
         "name": "Egypt heart",
         "text": "Egypt heart",
         "type": "scatter",
         "x": [
          148,
          146,
          146,
          150,
          154,
          154,
          152
         ],
         "y": [
          178,
          180,
          181,
          185,
          181,
          180,
          178
         ]
        },
        {
         "fill": "toself",
         "mode": "lines",
         "name": "Omnisexual heart",
         "text": "Omnisexual heart",
         "type": "scatter",
         "x": [
          211,
          209,
          209,
          213,
          217,
          217,
          215
         ],
         "y": [
          184,
          186,
          187,
          191,
          187,
          186,
          184
         ]
        },
        {
         "fill": "toself",
         "mode": "lines",
         "name": "Vietnam heart",
         "text": "Vietnam heart",
         "type": "scatter",
         "x": [
          271,
          269,
          269,
          273,
          277,
          277,
          275
         ],
         "y": [
          178,
          180,
          181,
          185,
          181,
          180,
          178
         ]
        },
        {
         "fill": "toself",
         "mode": "lines",
         "name": "Pakistan heart",
         "text": "Pakistan heart",
         "type": "scatter",
         "x": [
          283,
          281,
          281,
          285,
          289,
          289,
          287
         ],
         "y": [
          172,
          174,
          175,
          179,
          175,
          174,
          172
         ]
        },
        {
         "fill": "toself",
         "mode": "lines",
         "name": "India heart",
         "text": "India heart",
         "type": "scatter",
         "x": [
          309,
          307,
          307,
          312,
          317,
          317,
          315
         ],
         "y": [
          161,
          163,
          166,
          171,
          166,
          163,
          161
         ]
        },
        {
         "fill": "toself",
         "mode": "lines",
         "name": "India heart",
         "text": "India heart",
         "type": "scatter",
         "x": [
          220,
          218,
          218,
          222,
          226,
          226,
          224,
          228,
          228,
          284,
          281,
          281,
          283,
          287,
          289,
          289,
          285,
          284,
          228,
          228
         ],
         "y": [
          202,
          204,
          205,
          209,
          205,
          204,
          202,
          202,
          184,
          184,
          181,
          180,
          178,
          178,
          180,
          181,
          185,
          184,
          184,
          202
         ]
        },
        {
         "fill": "toself",
         "mode": "lines",
         "name": "Kurdistan heart",
         "text": "Kurdistan heart",
         "type": "scatter",
         "x": [
          271,
          269,
          269,
          273,
          277,
          277,
          275
         ],
         "y": [
          178,
          180,
          181,
          185,
          181,
          180,
          178
         ]
        },
        {
         "fill": "toself",
         "mode": "lines",
         "name": "France heart",
         "text": "France heart",
         "type": "scatter",
         "x": [
          277,
          275,
          275,
          279,
          283,
          283,
          281
         ],
         "y": [
          178,
          180,
          181,
          185,
          181,
          180,
          178
         ]
        },
        {
         "fill": "toself",
         "mode": "lines",
         "name": "Iraq heart",
         "text": "Iraq heart",
         "type": "scatter",
         "x": [
          271,
          269,
          269,
          273,
          277,
          277,
          275
         ],
         "y": [
          184,
          186,
          187,
          191,
          187,
          186,
          184
         ]
        },
        {
         "fill": "toself",
         "mode": "lines",
         "name": "Chile heart",
         "text": "Chile heart",
         "type": "scatter",
         "x": [
          217,
          215,
          215,
          219,
          223,
          223,
          221,
          288,
          288,
          287,
          287,
          289,
          293,
          295,
          295,
          291,
          288,
          288
         ],
         "y": [
          184,
          186,
          187,
          191,
          187,
          186,
          184,
          184,
          176,
          175,
          174,
          172,
          172,
          174,
          175,
          179,
          176,
          184
         ]
        },
        {
         "fill": "toself",
         "mode": "lines",
         "name": "Canada heart",
         "text": "Canada heart",
         "type": "scatter",
         "x": [
          211,
          209,
          209,
          213,
          217,
          217,
          215
         ],
         "y": [
          178,
          180,
          181,
          185,
          181,
          180,
          178
         ]
        },
        {
         "fill": "toself",
         "mode": "lines",
         "name": "Portugal heart",
         "text": "Portugal heart",
         "type": "scatter",
         "x": [
          121,
          119,
          119,
          123,
          124,
          165,
          165,
          163,
          161,
          161,
          165,
          169,
          169,
          167,
          165,
          165,
          124,
          127,
          127,
          125
         ],
         "y": [
          172,
          174,
          175,
          179,
          178,
          178,
          190,
          190,
          192,
          193,
          197,
          193,
          192,
          190,
          190,
          178,
          178,
          175,
          174,
          172
         ]
        },
        {
         "fill": "toself",
         "mode": "lines",
         "name": "Bolivia heart",
         "text": "Bolivia heart",
         "type": "scatter",
         "x": [
          229,
          227,
          227,
          231,
          235,
          235,
          233
         ],
         "y": [
          178,
          180,
          181,
          185,
          181,
          180,
          178
         ]
        },
        {
         "fill": "toself",
         "mode": "lines",
         "name": "Colombia heart",
         "text": "Colombia heart",
         "type": "scatter",
         "x": [
          235,
          233,
          233,
          237,
          241,
          241,
          239
         ],
         "y": [
          172,
          174,
          175,
          179,
          175,
          174,
          172
         ]
        },
        {
         "fill": "toself",
         "mode": "lines",
         "name": "Flag of Cuba",
         "text": "Flag of Cuba",
         "type": "scatter",
         "x": [
          148,
          148,
          158,
          158
         ],
         "y": [
          166,
          174,
          174,
          166
         ]
        },
        {
         "fill": "toself",
         "mode": "lines",
         "name": "Pansexual heart",
         "text": "Pansexual heart",
         "type": "scatter",
         "x": [
          241,
          239,
          239,
          243,
          247,
          247,
          245
         ],
         "y": [
          172,
          174,
          175,
          179,
          175,
          174,
          172
         ]
        },
        {
         "fill": "toself",
         "mode": "lines",
         "name": "Bosnia and Herzegovina heart",
         "text": "Bosnia and Herzegovina heart",
         "type": "scatter",
         "x": [
          172,
          170,
          170,
          174,
          178,
          178,
          176
         ],
         "y": [
          178,
          180,
          181,
          185,
          181,
          180,
          178
         ]
        },
        {
         "fill": "toself",
         "mode": "lines",
         "name": "Dominican Republic heart",
         "text": "Dominican Republic heart",
         "type": "scatter",
         "x": [
          338,
          336,
          336,
          340,
          344,
          344,
          342
         ],
         "y": [
          172,
          174,
          175,
          179,
          175,
          174,
          172
         ]
        },
        {
         "fill": "toself",
         "mode": "lines",
         "name": "Mexico heart",
         "text": "Mexico heart",
         "type": "scatter",
         "x": [
          121,
          119,
          119,
          123,
          124,
          258,
          258,
          257,
          257,
          261,
          265,
          265,
          263,
          258,
          258,
          154,
          157,
          157,
          152,
          150,
          150,
          152,
          124,
          127,
          127,
          125
         ],
         "y": [
          172,
          174,
          175,
          179,
          178,
          178,
          191,
          192,
          193,
          197,
          193,
          192,
          190,
          190,
          178,
          178,
          175,
          173,
          173,
          175,
          176,
          178,
          178,
          175,
          174,
          172
         ]
        },
        {
         "fill": "toself",
         "mode": "lines",
         "name": "Norway heart",
         "text": "Norway heart",
         "type": "scatter",
         "x": [
          130,
          128,
          128,
          132,
          136,
          136,
          134
         ],
         "y": [
          178,
          180,
          181,
          185,
          181,
          180,
          178
         ]
        },
        {
         "fill": "toself",
         "mode": "lines",
         "name": "Costa Rica heart",
         "text": "Costa Rica heart",
         "type": "scatter",
         "x": [
          277,
          275,
          275,
          279,
          283,
          283,
          281
         ],
         "y": [
          171,
          173,
          175,
          179,
          175,
          173,
          171
         ]
        },
        {
         "fill": "toself",
         "mode": "lines",
         "name": "Second Spanish Republic heart",
         "text": "Second Spanish Republic heart",
         "type": "scatter",
         "x": [
          181,
          179,
          179,
          183,
          187,
          187,
          185,
          265,
          263,
          263,
          267,
          271,
          271,
          269
         ],
         "y": [
          178,
          180,
          181,
          185,
          181,
          180,
          178,
          178,
          180,
          181,
          185,
          181,
          180,
          178
         ]
        },
        {
         "fill": "toself",
         "mode": "lines",
         "name": "Sudan heart",
         "text": "Sudan heart",
         "type": "scatter",
         "x": [
          148,
          146,
          146,
          150,
          154,
          154,
          152
         ],
         "y": [
          178,
          180,
          181,
          185,
          181,
          180,
          178
         ]
        },
        {
         "fill": "toself",
         "mode": "lines",
         "name": "Mauritius heart",
         "text": "Mauritius heart",
         "type": "scatter",
         "x": [
          32,
          30,
          30,
          34,
          38,
          38,
          36
         ],
         "y": [
          251,
          253,
          254,
          258,
          254,
          253,
          251
         ]
        },
        {
         "fill": "toself",
         "mode": "lines",
         "name": "Armenia heart",
         "text": "Armenia heart",
         "type": "scatter",
         "x": [
          295,
          293,
          293,
          297,
          299,
          299
         ],
         "y": [
          196,
          198,
          199,
          203,
          201,
          196
         ]
        },
        {
         "fill": "toself",
         "mode": "lines",
         "name": "Transgender heart",
         "text": "Transgender heart",
         "type": "scatter",
         "x": [
          157,
          155,
          155,
          159,
          163,
          163,
          161,
          210,
          210,
          209,
          209,
          211,
          215,
          217,
          217,
          213,
          210,
          210
         ],
         "y": [
          190,
          192,
          193,
          197,
          193,
          192,
          190,
          190,
          176,
          175,
          174,
          172,
          172,
          174,
          175,
          179,
          176,
          190
         ]
        },
        {
         "fill": "toself",
         "mode": "lines",
         "name": "Russia heart",
         "text": "Russia heart",
         "type": "scatter",
         "x": [
          259,
          257,
          257,
          261,
          265,
          265,
          263
         ],
         "y": [
          184,
          186,
          187,
          191,
          187,
          186,
          184
         ]
        },
        {
         "fill": "toself",
         "mode": "lines",
         "name": "Asexual heart",
         "text": "Asexual heart",
         "type": "scatter",
         "x": [
          139,
          137,
          137,
          141,
          145,
          145,
          143,
          227,
          229,
          229,
          225,
          221,
          221,
          223
         ],
         "y": [
          172,
          174,
          175,
          179,
          175,
          174,
          172,
          172,
          174,
          175,
          179,
          175,
          174,
          172
         ]
        },
        {
         "fill": "toself",
         "mode": "lines",
         "name": "Australia heart",
         "text": "Australia heart",
         "type": "scatter",
         "x": [
          160,
          158,
          158,
          162,
          166,
          166,
          164,
          162
         ],
         "y": [
          164,
          166,
          168,
          172,
          168,
          166,
          164,
          166
         ]
        },
        {
         "fill": "toself",
         "mode": "lines",
         "name": "Flag of Cornwall",
         "text": "Flag of Cornwall",
         "type": "scatter",
         "x": [
          135,
          135,
          149,
          149
         ],
         "y": [
          164,
          174,
          174,
          164
         ]
        },
        {
         "fill": "toself",
         "mode": "lines",
         "name": "Cornwall heart",
         "text": "Cornwall heart",
         "type": "scatter",
         "x": [
          187,
          185,
          185,
          189,
          193,
          193,
          191
         ],
         "y": [
          184,
          186,
          187,
          191,
          187,
          186,
          184
         ]
        },
        {
         "fill": "toself",
         "mode": "lines",
         "name": "Lesbian heart",
         "text": "Lesbian heart",
         "type": "scatter",
         "x": [
          247,
          245,
          245,
          249,
          253,
          251
         ],
         "y": [
          172,
          174,
          175,
          179,
          175,
          172
         ]
        },
        {
         "fill": "toself",
         "mode": "lines",
         "name": "Islamic Republic of Afghanistan heart",
         "text": "Islamic Republic of Afghanistan heart",
         "type": "scatter",
         "x": [
          175,
          173,
          173,
          177,
          181,
          181,
          179
         ],
         "y": [
          190,
          192,
          193,
          197,
          193,
          192,
          190
         ]
        },
        {
         "fill": "toself",
         "mode": "lines",
         "name": "South Africa heart",
         "text": "South Africa heart",
         "type": "scatter",
         "x": [
          187,
          185,
          185,
          189,
          193,
          193,
          191
         ],
         "y": [
          178,
          180,
          181,
          185,
          181,
          180,
          178
         ]
        },
        {
         "fill": "toself",
         "mode": "lines",
         "name": "Cambodia hearts",
         "text": "Cambodia hearts",
         "type": "scatter",
         "x": [
          271,
          269,
          269,
          271,
          275,
          277,
          277,
          275
         ],
         "y": [
          172,
          174,
          175,
          177,
          177,
          175,
          174,
          172
         ]
        },
        {
         "fill": "toself",
         "mode": "lines",
         "name": "Asexual flag",
         "text": "Asexual flag",
         "type": "scatter",
         "x": [
          147,
          147,
          156,
          156,
          153,
          153,
          150,
          150,
          148
         ],
         "y": [
          153,
          158,
          158,
          154,
          154,
          158,
          158,
          156,
          153
         ]
        },
        {
         "fill": "toself",
         "mode": "lines",
         "name": "Flag of the United Arab Emirates",
         "text": "Flag of the United Arab Emirates",
         "type": "scatter",
         "x": [
          108,
          108,
          127,
          127
         ],
         "y": [
          165,
          172,
          172,
          165
         ]
        },
        {
         "fill": "toself",
         "mode": "lines",
         "name": "The Beatles",
         "text": "The Beatles",
         "type": "scatter",
         "x": [
          122,
          122,
          151,
          151
         ],
         "y": [
          180,
          188,
          188,
          180
         ]
        },
        {
         "fill": "toself",
         "mode": "lines",
         "name": "Flag of Jamaica",
         "text": "Flag of Jamaica",
         "type": "scatter",
         "x": [
          132,
          132,
          140,
          140
         ],
         "y": [
          165,
          173,
          173,
          165
         ]
        },
        {
         "fill": "toself",
         "mode": "lines",
         "name": "Flag of Bolivia",
         "text": "Flag of Bolivia",
         "type": "scatter",
         "x": [
          147,
          147,
          169,
          169
         ],
         "y": [
          165,
          172,
          172,
          165
         ]
        },
        {
         "fill": "toself",
         "mode": "lines",
         "name": "Flag of Costa Rica",
         "text": "Flag of Costa Rica",
         "type": "scatter",
         "x": [
          140,
          140,
          162,
          162
         ],
         "y": [
          165,
          172,
          172,
          165
         ]
        },
        {
         "fill": "toself",
         "mode": "lines",
         "name": "Flag of Panama",
         "text": "Flag of Panama",
         "type": "scatter",
         "x": [
          140,
          140,
          147,
          147
         ],
         "y": [
          165,
          172,
          172,
          165
         ]
        },
        {
         "fill": "toself",
         "mode": "lines",
         "name": "r/place",
         "text": "r/place",
         "type": "scatter",
         "x": [
          148,
          148,
          154,
          154
         ],
         "y": [
          172,
          178,
          178,
          172
         ]
        },
        {
         "fill": "toself",
         "mode": "lines",
         "name": "Estonia heart",
         "text": "Estonia heart",
         "type": "scatter",
         "x": [
          179,
          179,
          184,
          189,
          189
         ],
         "y": [
          164,
          166,
          171,
          166,
          164
         ]
        },
        {
         "fill": "toself",
         "mode": "lines",
         "name": "YouTube",
         "text": "YouTube",
         "type": "scatter",
         "x": [
          98,
          95,
          95,
          97,
          105,
          108,
          108,
          102
         ],
         "y": [
          122,
          126,
          132,
          134,
          134,
          131,
          128,
          122
         ]
        },
        {
         "fill": "toself",
         "mode": "lines",
         "name": "pepeSmoke",
         "text": "pepeSmoke",
         "type": "scatter",
         "x": [
          60,
          56,
          56,
          64,
          64,
          67,
          71,
          68,
          67,
          67
         ],
         "y": [
          195,
          200,
          204,
          204,
          202,
          202,
          196,
          193,
          194,
          195
         ]
        },
        {
         "fill": "toself",
         "mode": "lines",
         "name": "Bumpty",
         "text": "Bumpty",
         "type": "scatter",
         "x": [
          61,
          54,
          54,
          58,
          66,
          71,
          71,
          70,
          70,
          69,
          69,
          64
         ],
         "y": [
          179,
          185,
          191,
          196,
          196,
          193,
          192,
          191,
          186,
          185,
          183,
          179
         ]
        },
        {
         "fill": "toself",
         "mode": "lines",
         "name": "uwu",
         "text": "uwu",
         "type": "scatter",
         "x": [
          132,
          132,
          148,
          149,
          152,
          152
         ],
         "y": [
          142,
          146,
          146,
          147,
          144,
          142
         ]
        },
        {
         "fill": "toself",
         "mode": "lines",
         "name": "Flag of Spain",
         "text": "Flag of Spain",
         "type": "scatter",
         "x": [
          47,
          47,
          85,
          85
         ],
         "y": [
          73,
          86,
          86,
          73
         ]
        },
        {
         "fill": "toself",
         "mode": "lines",
         "name": "Flag of Sudan",
         "text": "Flag of Sudan",
         "type": "scatter",
         "x": [
          132,
          132,
          139,
          139
         ],
         "y": [
          165,
          170,
          170,
          165
         ]
        },
        {
         "fill": "toself",
         "mode": "lines",
         "name": "Wales heart",
         "text": "Wales heart",
         "type": "scatter",
         "x": [
          253,
          251,
          251,
          255,
          259,
          259,
          257
         ],
         "y": [
          190,
          192,
          193,
          197,
          193,
          192,
          190
         ]
        },
        {
         "fill": "toself",
         "mode": "lines",
         "name": "Technische Universität Hansestadt Hamburg logo",
         "text": "Technische Universität Hansestadt Hamburg logo",
         "type": "scatter",
         "x": [
          239,
          239,
          245,
          245
         ],
         "y": [
          165,
          171,
          171,
          165
         ]
        },
        {
         "fill": "toself",
         "mode": "lines",
         "name": "South Korea heart",
         "text": "South Korea heart",
         "type": "scatter",
         "x": [
          253,
          251,
          251,
          255,
          259,
          259,
          257
         ],
         "y": [
          178,
          180,
          181,
          185,
          181,
          180,
          178
         ]
        },
        {
         "fill": "toself",
         "mode": "lines",
         "name": "Belarusian opposition heart",
         "text": "Belarusian opposition heart",
         "type": "scatter",
         "x": [
          126,
          126,
          133,
          133
         ],
         "y": [
          165,
          172,
          172,
          165
         ]
        },
        {
         "fill": "toself",
         "mode": "lines",
         "name": "Mongolia heart",
         "text": "Mongolia heart",
         "type": "scatter",
         "x": [
          289,
          287,
          287,
          290,
          234,
          234,
          233,
          229,
          227,
          227,
          231,
          235,
          235,
          234,
          234,
          290,
          291,
          295,
          295,
          293
         ],
         "y": [
          178,
          180,
          181,
          184,
          184,
          191,
          190,
          190,
          192,
          193,
          197,
          193,
          192,
          191,
          184,
          184,
          185,
          181,
          180,
          178
         ]
        },
        {
         "fill": "toself",
         "mode": "lines",
         "name": "Lebanon heart",
         "text": "Lebanon heart",
         "type": "scatter",
         "x": [
          277,
          275,
          275,
          279,
          283,
          283,
          281
         ],
         "y": [
          190,
          192,
          193,
          197,
          193,
          192,
          190
         ]
        },
        {
         "fill": "toself",
         "mode": "lines",
         "name": "Uruguay heart",
         "text": "Uruguay heart",
         "type": "scatter",
         "x": [
          265,
          263,
          263,
          267,
          271,
          271,
          269
         ],
         "y": [
          172,
          174,
          175,
          179,
          175,
          174,
          172
         ]
        },
        {
         "fill": "toself",
         "mode": "lines",
         "name": "Russian anti-war heart",
         "text": "Russian anti-war heart",
         "type": "scatter",
         "x": [
          265,
          263,
          263,
          266,
          253,
          251,
          251,
          255,
          259,
          259,
          257,
          266,
          267,
          271,
          271,
          269
         ],
         "y": [
          172,
          174,
          175,
          178,
          178,
          180,
          181,
          185,
          181,
          180,
          178,
          178,
          179,
          175,
          174,
          172
         ]
        },
        {
         "fill": "toself",
         "mode": "lines",
         "name": "Intersex heart",
         "text": "Intersex heart",
         "type": "scatter",
         "x": [
          223,
          221,
          221,
          225,
          229,
          229,
          227
         ],
         "y": [
          178,
          180,
          181,
          185,
          181,
          180,
          178
         ]
        },
        {
         "fill": "toself",
         "mode": "lines",
         "name": "Thailand heart",
         "text": "Thailand heart",
         "type": "scatter",
         "x": [
          277,
          275,
          275,
          279,
          283,
          283,
          281
         ],
         "y": [
          171,
          173,
          175,
          179,
          175,
          173,
          171
         ]
        },
        {
         "fill": "toself",
         "mode": "lines",
         "name": "Polysexual heart",
         "text": "Polysexual heart",
         "type": "scatter",
         "x": [
          241,
          239,
          239,
          243,
          247,
          247,
          245
         ],
         "y": [
          178,
          180,
          181,
          185,
          181,
          180,
          178
         ]
        },
        {
         "fill": "toself",
         "mode": "lines",
         "name": "Arizona heart",
         "text": "Arizona heart",
         "type": "scatter",
         "x": [
          247,
          245,
          245,
          249,
          253,
          253,
          251
         ],
         "y": [
          184,
          186,
          187,
          191,
          187,
          186,
          184
         ]
        },
        {
         "fill": "toself",
         "mode": "lines",
         "name": "Rainbow heart",
         "text": "Rainbow heart",
         "type": "scatter",
         "x": [
          229,
          227,
          227,
          231,
          235,
          235,
          233
         ],
         "y": [
          178,
          180,
          181,
          185,
          181,
          180,
          178
         ]
        },
        {
         "fill": "toself",
         "mode": "lines",
         "name": "Non-binary heart",
         "text": "Non-binary heart",
         "type": "scatter",
         "x": [
          217,
          215,
          215,
          219,
          223,
          223,
          221
         ],
         "y": [
          172,
          174,
          175,
          179,
          175,
          174,
          172
         ]
        },
        {
         "fill": "toself",
         "mode": "lines",
         "name": "Trinidad and Tobago heart",
         "text": "Trinidad and Tobago heart",
         "type": "scatter",
         "x": [
          181,
          179,
          179,
          183,
          187,
          187,
          185
         ],
         "y": [
          184,
          186,
          187,
          191,
          187,
          186,
          184
         ]
        },
        {
         "fill": "toself",
         "mode": "lines",
         "name": "Aromantic heart",
         "text": "Aromantic heart",
         "type": "scatter",
         "x": [
          253,
          251,
          251,
          255,
          259,
          259,
          257
         ],
         "y": [
          172,
          174,
          175,
          179,
          175,
          174,
          172
         ]
        },
        {
         "fill": "toself",
         "mode": "lines",
         "name": "Bisexual heart",
         "text": "Bisexual heart",
         "type": "scatter",
         "x": [
          235,
          233,
          233,
          237,
          241,
          241,
          239
         ],
         "y": [
          172,
          174,
          175,
          179,
          175,
          174,
          172
         ]
        },
        {
         "fill": "toself",
         "mode": "lines",
         "name": "England heart",
         "text": "England heart",
         "type": "scatter",
         "x": [
          259,
          259,
          264,
          272,
          277,
          277
         ],
         "y": [
          165,
          167,
          171,
          171,
          166,
          165
         ]
        },
        {
         "fill": "toself",
         "mode": "lines",
         "name": "Italy heart",
         "text": "Italy heart",
         "type": "scatter",
         "x": [
          259,
          259,
          264,
          269,
          269
         ],
         "y": [
          165,
          166,
          171,
          166,
          165
         ]
        },
        {
         "fill": "toself",
         "mode": "lines",
         "name": "Iceland heart",
         "text": "Iceland heart",
         "type": "scatter",
         "x": [
          283,
          281,
          281,
          285,
          289,
          289,
          287
         ],
         "y": [
          184,
          186,
          187,
          191,
          187,
          186,
          184
         ]
        },
        {
         "fill": "toself",
         "mode": "lines",
         "name": "Transgender flag",
         "text": "Transgender flag",
         "type": "scatter",
         "x": [
          296,
          296,
          315,
          306,
          297,
          295,
          295,
          305,
          307,
          317,
          317,
          319,
          322,
          322
         ],
         "y": [
          131,
          137,
          137,
          145,
          137,
          140,
          141,
          151,
          151,
          141,
          137,
          137,
          134,
          131
         ]
        },
        {
         "fill": "toself",
         "mode": "lines",
         "name": "Kirby",
         "text": "Kirby",
         "type": "scatter",
         "x": [
          293,
          288,
          288,
          290,
          290,
          299,
          303,
          303,
          300
         ],
         "y": [
          114,
          120,
          123,
          125,
          129,
          129,
          126,
          120,
          114
         ]
        },
        {
         "fill": "toself",
         "mode": "lines",
         "name": "Yin-yang symbol",
         "text": "Yin-yang symbol",
         "type": "scatter",
         "x": [
          265,
          263,
          263,
          266,
          269,
          271,
          271,
          269
         ],
         "y": [
          168,
          170,
          172,
          175,
          175,
          173,
          170,
          168
         ]
        },
        {
         "fill": "toself",
         "mode": "lines",
         "name": "Gengar",
         "text": "Gengar",
         "type": "scatter",
         "x": [
          246,
          244,
          244,
          243,
          240,
          240,
          243,
          243,
          244,
          246,
          251,
          252,
          254,
          265,
          264,
          264,
          260,
          257,
          250
         ],
         "y": [
          183,
          185,
          190,
          190,
          193,
          194,
          197,
          200,
          201,
          208,
          208,
          209,
          209,
          201,
          200,
          185,
          185,
          188,
          188
         ]
        },
        {
         "fill": "toself",
         "mode": "lines",
         "name": "Mega Man",
         "text": "Mega Man",
         "type": "scatter",
         "x": [
          256,
          251,
          245,
          245,
          250,
          257,
          260,
          265,
          266,
          293,
          293,
          294,
          299,
          299,
          295,
          294,
          294,
          263,
          263
         ],
         "y": [
          171,
          175,
          181,
          184,
          188,
          188,
          185,
          185,
          186,
          186,
          189,
          189,
          185,
          180,
          176,
          176,
          180,
          179,
          176
         ]
        },
        {
         "fill": "toself",
         "mode": "lines",
         "name": "Transgender flag",
         "text": "Transgender flag",
         "type": "scatter",
         "x": [
          242,
          242,
          258,
          258
         ],
         "y": [
          121,
          125,
          125,
          121
         ]
        },
        {
         "fill": "toself",
         "mode": "lines",
         "name": "Wind turbines",
         "text": "Wind turbines",
         "type": "scatter",
         "x": [
          277,
          271,
          271,
          275,
          275,
          287,
          287,
          320,
          330,
          332,
          332,
          334,
          332,
          332,
          329,
          328
         ],
         "y": [
          114,
          125,
          127,
          127,
          134,
          134,
          139,
          139,
          148,
          148,
          121,
          121,
          117,
          113,
          110,
          114
         ]
        },
        {
         "fill": "toself",
         "mode": "lines",
         "name": "Flag of Australia",
         "text": "Flag of Australia",
         "type": "scatter",
         "x": [
          295,
          295,
          316,
          316
         ],
         "y": [
          144,
          158,
          158,
          144
         ]
        },
        {
         "fill": "toself",
         "mode": "lines",
         "name": "Norway-MrMouton heart",
         "text": "Norway-MrMouton heart",
         "type": "scatter",
         "x": [
          204,
          201,
          201,
          207,
          213,
          213,
          210
         ],
         "y": [
          100,
          103,
          105,
          111,
          105,
          103,
          100
         ]
        },
        {
         "fill": "toself",
         "mode": "lines",
         "name": "Taiwan heart",
         "text": "Taiwan heart",
         "type": "scatter",
         "x": [
          293,
          291,
          291,
          295,
          299,
          299,
          297
         ],
         "y": [
          154,
          156,
          157,
          161,
          157,
          156,
          154
         ]
        },
        {
         "fill": "toself",
         "mode": "lines",
         "name": "TobiasBot",
         "text": "TobiasBot",
         "type": "scatter",
         "x": [
          263,
          259,
          256,
          256,
          261,
          265,
          269,
          273,
          273,
          270,
          267
         ],
         "y": [
          108,
          111,
          116,
          119,
          124,
          125,
          124,
          119,
          114,
          110,
          108
         ]
        },
        {
         "fill": "toself",
         "mode": "lines",
         "name": "Flag of Brazil",
         "text": "Flag of Brazil",
         "type": "scatter",
         "x": [
          221,
          221,
          251,
          251
         ],
         "y": [
          143,
          165,
          165,
          143
         ]
        },
        {
         "fill": "toself",
         "mode": "lines",
         "name": "Greece heart",
         "text": "Greece heart",
         "type": "scatter",
         "x": [
          341,
          339,
          339,
          344,
          349,
          349,
          347
         ],
         "y": [
          161,
          163,
          166,
          171,
          166,
          163,
          161
         ]
        },
        {
         "fill": "toself",
         "mode": "lines",
         "name": "r/Denmark",
         "text": "r/Denmark",
         "type": "scatter",
         "x": [
          344,
          344,
          388,
          388
         ],
         "y": [
          148,
          156,
          156,
          148
         ]
        },
        {
         "fill": "toself",
         "mode": "lines",
         "name": "😭",
         "text": "😭",
         "type": "scatter",
         "x": [
          341,
          338,
          340,
          340,
          343,
          346,
          346,
          343
         ],
         "y": [
          150,
          153,
          155,
          158,
          158,
          155,
          153,
          150
         ]
        },
        {
         "fill": "toself",
         "mode": "lines",
         "name": "North Macedonia heart",
         "text": "North Macedonia heart",
         "type": "scatter",
         "x": [
          365,
          363,
          363,
          368,
          373,
          373,
          371
         ],
         "y": [
          161,
          163,
          166,
          171,
          166,
          163,
          161
         ]
        },
        {
         "fill": "toself",
         "mode": "lines",
         "name": "Europe heart",
         "text": "Europe heart",
         "type": "scatter",
         "x": [
          357,
          355,
          355,
          360,
          365,
          365,
          363
         ],
         "y": [
          161,
          163,
          166,
          171,
          166,
          163,
          161
         ]
        },
        {
         "fill": "toself",
         "mode": "lines",
         "name": "Cascadia heart",
         "text": "Cascadia heart",
         "type": "scatter",
         "x": [
          301,
          299,
          299,
          304,
          309,
          309,
          307
         ],
         "y": [
          161,
          163,
          166,
          171,
          166,
          163,
          161
         ]
        },
        {
         "fill": "toself",
         "mode": "lines",
         "name": "Australian Aboriginal heart",
         "text": "Australian Aboriginal heart",
         "type": "scatter",
         "x": [
          381,
          379,
          379,
          384,
          389,
          389,
          387
         ],
         "y": [
          161,
          163,
          166,
          171,
          166,
          163,
          161
         ]
        },
        {
         "fill": "toself",
         "mode": "lines",
         "name": "Flag of Cyprus",
         "text": "Flag of Cyprus",
         "type": "scatter",
         "x": [
          337,
          337,
          396,
          396
         ],
         "y": [
          179,
          193,
          193,
          179
         ]
        },
        {
         "fill": "toself",
         "mode": "lines",
         "name": "Asexual flag",
         "text": "Asexual flag",
         "type": "scatter",
         "x": [
          351,
          351,
          370,
          370
         ],
         "y": [
          139,
          148,
          148,
          139
         ]
        },
        {
         "fill": "toself",
         "mode": "lines",
         "name": "Pikachu",
         "text": "Pikachu",
         "type": "scatter",
         "x": [
          327,
          324,
          324,
          321,
          320,
          320,
          322,
          324,
          324,
          327,
          332,
          336,
          336,
          338,
          340,
          340,
          337,
          332,
          330,
          329,
          329
         ],
         "y": [
          132,
          135,
          137,
          140,
          142,
          145,
          147,
          147,
          148,
          151,
          153,
          149,
          146,
          141,
          139,
          138,
          135,
          135,
          137,
          137,
          132
         ]
        },
        {
         "fill": "toself",
         "mode": "lines",
         "name": "Flag of New Zealand",
         "text": "Flag of New Zealand",
         "type": "scatter",
         "x": [
          316,
          316,
          337,
          337
         ],
         "y": [
          144,
          158,
          158,
          144
         ]
        },
        {
         "fill": "toself",
         "mode": "lines",
         "name": "Purple Guy",
         "text": "Purple Guy",
         "type": "scatter",
         "x": [
          17,
          15,
          15,
          8,
          8,
          10,
          13,
          17,
          17,
          23,
          21,
          21,
          27,
          27,
          31,
          31,
          27,
          24,
          22
         ],
         "y": [
          117,
          119,
          124,
          124,
          126,
          128,
          130,
          130,
          134,
          134,
          143,
          157,
          157,
          142,
          138,
          136,
          126,
          123,
          117
         ]
        },
        {
         "fill": "toself",
         "mode": "lines",
         "name": "Flag of Kurdistan",
         "text": "Flag of Kurdistan",
         "type": "scatter",
         "x": [
          61,
          58,
          61,
          64
         ],
         "y": [
          254,
          257,
          260,
          257
         ]
        },
        {
         "fill": "toself",
         "mode": "lines",
         "name": "Rubik's Cube",
         "text": "Rubik's Cube",
         "type": "scatter",
         "x": [
          34,
          22,
          22,
          43,
          55,
          55
         ],
         "y": [
          262,
          274,
          295,
          295,
          283,
          262
         ]
        },
        {
         "fill": "toself",
         "mode": "lines",
         "name": "Lake Urmia",
         "text": "Lake Urmia",
         "type": "scatter",
         "x": [
          74,
          74,
          76,
          76
         ],
         "y": [
          283,
          285,
          285,
          283
         ]
        },
        {
         "fill": "toself",
         "mode": "lines",
         "name": "Caspian Sea",
         "text": "Caspian Sea",
         "type": "scatter",
         "x": [
          83,
          81,
          81,
          83,
          88,
          90,
          90
         ],
         "y": [
          276,
          278,
          283,
          285,
          285,
          283,
          276
         ]
        },
        {
         "fill": "toself",
         "mode": "lines",
         "name": "Gulf of Oman",
         "text": "Gulf of Oman",
         "type": "scatter",
         "x": [
          92,
          88,
          91,
          92,
          93,
          102,
          102,
          104,
          104,
          101,
          100,
          95,
          94
         ],
         "y": [
          301,
          306,
          306,
          307,
          307,
          307,
          305,
          303,
          301,
          301,
          302,
          302,
          301
         ]
        },
        {
         "fill": "toself",
         "mode": "lines",
         "name": "Alamo",
         "text": "Alamo",
         "type": "scatter",
         "x": [
          106,
          106,
          101,
          98,
          98,
          95,
          93,
          93,
          120,
          120,
          118,
          116,
          116,
          112,
          111,
          111
         ],
         "y": [
          253,
          255,
          258,
          258,
          263,
          263,
          265,
          266,
          266,
          265,
          263,
          263,
          258,
          258,
          257,
          253
         ]
        },
        {
         "fill": "toself",
         "mode": "lines",
         "name": "Texas A&M Aggies",
         "text": "Texas A&M Aggies",
         "type": "scatter",
         "x": [
          23,
          23,
          46,
          46
         ],
         "y": [
          265,
          271,
          271,
          265
         ]
        },
        {
         "fill": "toself",
         "mode": "lines",
         "name": "1876",
         "text": "1876",
         "type": "scatter",
         "x": [
          1,
          1,
          18,
          18
         ],
         "y": [
          278,
          285,
          285,
          278
         ]
        },
        {
         "fill": "toself",
         "mode": "lines",
         "name": "Guide",
         "text": "Guide",
         "type": "scatter",
         "x": [
          3,
          0,
          0,
          1,
          1,
          0,
          0,
          1,
          1,
          9,
          11,
          11,
          13,
          13,
          12,
          12,
          9,
          7
         ],
         "y": [
          313,
          316,
          318,
          321,
          327,
          328,
          330,
          331,
          337,
          337,
          335,
          332,
          330,
          324,
          323,
          317,
          314,
          313
         ]
        },
        {
         "fill": "toself",
         "mode": "lines",
         "name": "Tic-tac-toe",
         "text": "Tic-tac-toe",
         "type": "scatter",
         "x": [
          22,
          43,
          43,
          22
         ],
         "y": [
          274,
          274,
          295,
          295
         ]
        },
        {
         "fill": "toself",
         "mode": "lines",
         "name": "Iran-Texas heart",
         "text": "Iran-Texas heart",
         "type": "scatter",
         "x": [
          53,
          50,
          50,
          55,
          60,
          60,
          57
         ],
         "y": [
          271,
          274,
          276,
          281,
          276,
          274,
          271
         ]
        },
        {
         "fill": "toself",
         "mode": "lines",
         "name": "Flag of Bulgaria",
         "text": "Flag of Bulgaria",
         "type": "scatter",
         "x": [
          67,
          64,
          67,
          70
         ],
         "y": [
          254,
          257,
          260,
          257
         ]
        },
        {
         "fill": "toself",
         "mode": "lines",
         "name": "Iran heart",
         "text": "Iran heart",
         "type": "scatter",
         "x": [
          83,
          81,
          81,
          85,
          89,
          89,
          87
         ],
         "y": [
          261,
          263,
          264,
          268,
          264,
          263,
          261
         ]
        },
        {
         "fill": "toself",
         "mode": "lines",
         "name": "Flag of Cascadia",
         "text": "Flag of Cascadia",
         "type": "scatter",
         "x": [
          49,
          46,
          48,
          56,
          58,
          55
         ],
         "y": [
          254,
          257,
          259,
          259,
          257,
          254
         ]
        },
        {
         "fill": "toself",
         "mode": "lines",
         "name": "Flag of Cascadia",
         "text": "Flag of Cascadia",
         "type": "scatter",
         "x": [
          0,
          14,
          14,
          16,
          18,
          18,
          25,
          24,
          24,
          26,
          30,
          32,
          32,
          29,
          27,
          25,
          3,
          3,
          0
         ],
         "y": [
          307,
          307,
          315,
          317,
          317,
          338,
          338,
          337,
          330,
          328,
          328,
          330,
          337,
          340,
          340,
          338,
          338,
          343,
          343
         ]
        },
        {
         "fill": "toself",
         "mode": "lines",
         "name": "Costa Rica heart",
         "text": "Costa Rica heart",
         "type": "scatter",
         "x": [
          68,
          66,
          66,
          70,
          74,
          74,
          72
         ],
         "y": [
          251,
          253,
          254,
          258,
          254,
          253,
          251
         ]
        },
        {
         "fill": "toself",
         "mode": "lines",
         "name": "Kurdistan heart",
         "text": "Kurdistan heart",
         "type": "scatter",
         "x": [
          32,
          30,
          30,
          34,
          38,
          38,
          36
         ],
         "y": [
          251,
          253,
          254,
          258,
          254,
          253,
          251
         ]
        },
        {
         "fill": "toself",
         "mode": "lines",
         "name": "Jamaica heart",
         "text": "Jamaica heart",
         "type": "scatter",
         "x": [
          50,
          48,
          48,
          52,
          56,
          56,
          54
         ],
         "y": [
          251,
          253,
          254,
          258,
          254,
          253,
          251
         ]
        },
        {
         "fill": "toself",
         "mode": "lines",
         "name": "Herobrine",
         "text": "Herobrine",
         "type": "scatter",
         "x": [
          94,
          94,
          91,
          91,
          90,
          90,
          98,
          98,
          99,
          109,
          109,
          103,
          103
         ],
         "y": [
          256,
          264,
          264,
          268,
          268,
          276,
          276,
          268,
          267,
          267,
          264,
          264,
          256
         ]
        },
        {
         "fill": "toself",
         "mode": "lines",
         "name": "Texas-Iran-Texas A&M University heart",
         "text": "Texas-Iran-Texas A&M University heart",
         "type": "scatter",
         "x": [
          52,
          50,
          50,
          55,
          60,
          60,
          58
         ],
         "y": [
          272,
          274,
          277,
          282,
          277,
          274,
          272
         ]
        },
        {
         "fill": "toself",
         "mode": "lines",
         "name": "Aroace flag",
         "text": "Aroace flag",
         "type": "scatter",
         "x": [
          94,
          91,
          94,
          97
         ],
         "y": [
          264,
          267,
          270,
          267
         ]
        }
       ],
       "layout": {
        "height": 1000,
        "showlegend": false,
        "template": {
         "data": {
          "bar": [
           {
            "error_x": {
             "color": "#2a3f5f"
            },
            "error_y": {
             "color": "#2a3f5f"
            },
            "marker": {
             "line": {
              "color": "#E5ECF6",
              "width": 0.5
             },
             "pattern": {
              "fillmode": "overlay",
              "size": 10,
              "solidity": 0.2
             }
            },
            "type": "bar"
           }
          ],
          "barpolar": [
           {
            "marker": {
             "line": {
              "color": "#E5ECF6",
              "width": 0.5
             },
             "pattern": {
              "fillmode": "overlay",
              "size": 10,
              "solidity": 0.2
             }
            },
            "type": "barpolar"
           }
          ],
          "carpet": [
           {
            "aaxis": {
             "endlinecolor": "#2a3f5f",
             "gridcolor": "white",
             "linecolor": "white",
             "minorgridcolor": "white",
             "startlinecolor": "#2a3f5f"
            },
            "baxis": {
             "endlinecolor": "#2a3f5f",
             "gridcolor": "white",
             "linecolor": "white",
             "minorgridcolor": "white",
             "startlinecolor": "#2a3f5f"
            },
            "type": "carpet"
           }
          ],
          "choropleth": [
           {
            "colorbar": {
             "outlinewidth": 0,
             "ticks": ""
            },
            "type": "choropleth"
           }
          ],
          "contour": [
           {
            "colorbar": {
             "outlinewidth": 0,
             "ticks": ""
            },
            "colorscale": [
             [
              0,
              "#0d0887"
             ],
             [
              0.1111111111111111,
              "#46039f"
             ],
             [
              0.2222222222222222,
              "#7201a8"
             ],
             [
              0.3333333333333333,
              "#9c179e"
             ],
             [
              0.4444444444444444,
              "#bd3786"
             ],
             [
              0.5555555555555556,
              "#d8576b"
             ],
             [
              0.6666666666666666,
              "#ed7953"
             ],
             [
              0.7777777777777778,
              "#fb9f3a"
             ],
             [
              0.8888888888888888,
              "#fdca26"
             ],
             [
              1,
              "#f0f921"
             ]
            ],
            "type": "contour"
           }
          ],
          "contourcarpet": [
           {
            "colorbar": {
             "outlinewidth": 0,
             "ticks": ""
            },
            "type": "contourcarpet"
           }
          ],
          "heatmap": [
           {
            "colorbar": {
             "outlinewidth": 0,
             "ticks": ""
            },
            "colorscale": [
             [
              0,
              "#0d0887"
             ],
             [
              0.1111111111111111,
              "#46039f"
             ],
             [
              0.2222222222222222,
              "#7201a8"
             ],
             [
              0.3333333333333333,
              "#9c179e"
             ],
             [
              0.4444444444444444,
              "#bd3786"
             ],
             [
              0.5555555555555556,
              "#d8576b"
             ],
             [
              0.6666666666666666,
              "#ed7953"
             ],
             [
              0.7777777777777778,
              "#fb9f3a"
             ],
             [
              0.8888888888888888,
              "#fdca26"
             ],
             [
              1,
              "#f0f921"
             ]
            ],
            "type": "heatmap"
           }
          ],
          "heatmapgl": [
           {
            "colorbar": {
             "outlinewidth": 0,
             "ticks": ""
            },
            "colorscale": [
             [
              0,
              "#0d0887"
             ],
             [
              0.1111111111111111,
              "#46039f"
             ],
             [
              0.2222222222222222,
              "#7201a8"
             ],
             [
              0.3333333333333333,
              "#9c179e"
             ],
             [
              0.4444444444444444,
              "#bd3786"
             ],
             [
              0.5555555555555556,
              "#d8576b"
             ],
             [
              0.6666666666666666,
              "#ed7953"
             ],
             [
              0.7777777777777778,
              "#fb9f3a"
             ],
             [
              0.8888888888888888,
              "#fdca26"
             ],
             [
              1,
              "#f0f921"
             ]
            ],
            "type": "heatmapgl"
           }
          ],
          "histogram": [
           {
            "marker": {
             "pattern": {
              "fillmode": "overlay",
              "size": 10,
              "solidity": 0.2
             }
            },
            "type": "histogram"
           }
          ],
          "histogram2d": [
           {
            "colorbar": {
             "outlinewidth": 0,
             "ticks": ""
            },
            "colorscale": [
             [
              0,
              "#0d0887"
             ],
             [
              0.1111111111111111,
              "#46039f"
             ],
             [
              0.2222222222222222,
              "#7201a8"
             ],
             [
              0.3333333333333333,
              "#9c179e"
             ],
             [
              0.4444444444444444,
              "#bd3786"
             ],
             [
              0.5555555555555556,
              "#d8576b"
             ],
             [
              0.6666666666666666,
              "#ed7953"
             ],
             [
              0.7777777777777778,
              "#fb9f3a"
             ],
             [
              0.8888888888888888,
              "#fdca26"
             ],
             [
              1,
              "#f0f921"
             ]
            ],
            "type": "histogram2d"
           }
          ],
          "histogram2dcontour": [
           {
            "colorbar": {
             "outlinewidth": 0,
             "ticks": ""
            },
            "colorscale": [
             [
              0,
              "#0d0887"
             ],
             [
              0.1111111111111111,
              "#46039f"
             ],
             [
              0.2222222222222222,
              "#7201a8"
             ],
             [
              0.3333333333333333,
              "#9c179e"
             ],
             [
              0.4444444444444444,
              "#bd3786"
             ],
             [
              0.5555555555555556,
              "#d8576b"
             ],
             [
              0.6666666666666666,
              "#ed7953"
             ],
             [
              0.7777777777777778,
              "#fb9f3a"
             ],
             [
              0.8888888888888888,
              "#fdca26"
             ],
             [
              1,
              "#f0f921"
             ]
            ],
            "type": "histogram2dcontour"
           }
          ],
          "mesh3d": [
           {
            "colorbar": {
             "outlinewidth": 0,
             "ticks": ""
            },
            "type": "mesh3d"
           }
          ],
          "parcoords": [
           {
            "line": {
             "colorbar": {
              "outlinewidth": 0,
              "ticks": ""
             }
            },
            "type": "parcoords"
           }
          ],
          "pie": [
           {
            "automargin": true,
            "type": "pie"
           }
          ],
          "scatter": [
           {
            "fillpattern": {
             "fillmode": "overlay",
             "size": 10,
             "solidity": 0.2
            },
            "type": "scatter"
           }
          ],
          "scatter3d": [
           {
            "line": {
             "colorbar": {
              "outlinewidth": 0,
              "ticks": ""
             }
            },
            "marker": {
             "colorbar": {
              "outlinewidth": 0,
              "ticks": ""
             }
            },
            "type": "scatter3d"
           }
          ],
          "scattercarpet": [
           {
            "marker": {
             "colorbar": {
              "outlinewidth": 0,
              "ticks": ""
             }
            },
            "type": "scattercarpet"
           }
          ],
          "scattergeo": [
           {
            "marker": {
             "colorbar": {
              "outlinewidth": 0,
              "ticks": ""
             }
            },
            "type": "scattergeo"
           }
          ],
          "scattergl": [
           {
            "marker": {
             "colorbar": {
              "outlinewidth": 0,
              "ticks": ""
             }
            },
            "type": "scattergl"
           }
          ],
          "scattermapbox": [
           {
            "marker": {
             "colorbar": {
              "outlinewidth": 0,
              "ticks": ""
             }
            },
            "type": "scattermapbox"
           }
          ],
          "scatterpolar": [
           {
            "marker": {
             "colorbar": {
              "outlinewidth": 0,
              "ticks": ""
             }
            },
            "type": "scatterpolar"
           }
          ],
          "scatterpolargl": [
           {
            "marker": {
             "colorbar": {
              "outlinewidth": 0,
              "ticks": ""
             }
            },
            "type": "scatterpolargl"
           }
          ],
          "scatterternary": [
           {
            "marker": {
             "colorbar": {
              "outlinewidth": 0,
              "ticks": ""
             }
            },
            "type": "scatterternary"
           }
          ],
          "surface": [
           {
            "colorbar": {
             "outlinewidth": 0,
             "ticks": ""
            },
            "colorscale": [
             [
              0,
              "#0d0887"
             ],
             [
              0.1111111111111111,
              "#46039f"
             ],
             [
              0.2222222222222222,
              "#7201a8"
             ],
             [
              0.3333333333333333,
              "#9c179e"
             ],
             [
              0.4444444444444444,
              "#bd3786"
             ],
             [
              0.5555555555555556,
              "#d8576b"
             ],
             [
              0.6666666666666666,
              "#ed7953"
             ],
             [
              0.7777777777777778,
              "#fb9f3a"
             ],
             [
              0.8888888888888888,
              "#fdca26"
             ],
             [
              1,
              "#f0f921"
             ]
            ],
            "type": "surface"
           }
          ],
          "table": [
           {
            "cells": {
             "fill": {
              "color": "#EBF0F8"
             },
             "line": {
              "color": "white"
             }
            },
            "header": {
             "fill": {
              "color": "#C8D4E3"
             },
             "line": {
              "color": "white"
             }
            },
            "type": "table"
           }
          ]
         },
         "layout": {
          "annotationdefaults": {
           "arrowcolor": "#2a3f5f",
           "arrowhead": 0,
           "arrowwidth": 1
          },
          "autotypenumbers": "strict",
          "coloraxis": {
           "colorbar": {
            "outlinewidth": 0,
            "ticks": ""
           }
          },
          "colorscale": {
           "diverging": [
            [
             0,
             "#8e0152"
            ],
            [
             0.1,
             "#c51b7d"
            ],
            [
             0.2,
             "#de77ae"
            ],
            [
             0.3,
             "#f1b6da"
            ],
            [
             0.4,
             "#fde0ef"
            ],
            [
             0.5,
             "#f7f7f7"
            ],
            [
             0.6,
             "#e6f5d0"
            ],
            [
             0.7,
             "#b8e186"
            ],
            [
             0.8,
             "#7fbc41"
            ],
            [
             0.9,
             "#4d9221"
            ],
            [
             1,
             "#276419"
            ]
           ],
           "sequential": [
            [
             0,
             "#0d0887"
            ],
            [
             0.1111111111111111,
             "#46039f"
            ],
            [
             0.2222222222222222,
             "#7201a8"
            ],
            [
             0.3333333333333333,
             "#9c179e"
            ],
            [
             0.4444444444444444,
             "#bd3786"
            ],
            [
             0.5555555555555556,
             "#d8576b"
            ],
            [
             0.6666666666666666,
             "#ed7953"
            ],
            [
             0.7777777777777778,
             "#fb9f3a"
            ],
            [
             0.8888888888888888,
             "#fdca26"
            ],
            [
             1,
             "#f0f921"
            ]
           ],
           "sequentialminus": [
            [
             0,
             "#0d0887"
            ],
            [
             0.1111111111111111,
             "#46039f"
            ],
            [
             0.2222222222222222,
             "#7201a8"
            ],
            [
             0.3333333333333333,
             "#9c179e"
            ],
            [
             0.4444444444444444,
             "#bd3786"
            ],
            [
             0.5555555555555556,
             "#d8576b"
            ],
            [
             0.6666666666666666,
             "#ed7953"
            ],
            [
             0.7777777777777778,
             "#fb9f3a"
            ],
            [
             0.8888888888888888,
             "#fdca26"
            ],
            [
             1,
             "#f0f921"
            ]
           ]
          },
          "colorway": [
           "#636efa",
           "#EF553B",
           "#00cc96",
           "#ab63fa",
           "#FFA15A",
           "#19d3f3",
           "#FF6692",
           "#B6E880",
           "#FF97FF",
           "#FECB52"
          ],
          "font": {
           "color": "#2a3f5f"
          },
          "geo": {
           "bgcolor": "white",
           "lakecolor": "white",
           "landcolor": "#E5ECF6",
           "showlakes": true,
           "showland": true,
           "subunitcolor": "white"
          },
          "hoverlabel": {
           "align": "left"
          },
          "hovermode": "closest",
          "mapbox": {
           "style": "light"
          },
          "paper_bgcolor": "white",
          "plot_bgcolor": "#E5ECF6",
          "polar": {
           "angularaxis": {
            "gridcolor": "white",
            "linecolor": "white",
            "ticks": ""
           },
           "bgcolor": "#E5ECF6",
           "radialaxis": {
            "gridcolor": "white",
            "linecolor": "white",
            "ticks": ""
           }
          },
          "scene": {
           "xaxis": {
            "backgroundcolor": "#E5ECF6",
            "gridcolor": "white",
            "gridwidth": 2,
            "linecolor": "white",
            "showbackground": true,
            "ticks": "",
            "zerolinecolor": "white"
           },
           "yaxis": {
            "backgroundcolor": "#E5ECF6",
            "gridcolor": "white",
            "gridwidth": 2,
            "linecolor": "white",
            "showbackground": true,
            "ticks": "",
            "zerolinecolor": "white"
           },
           "zaxis": {
            "backgroundcolor": "#E5ECF6",
            "gridcolor": "white",
            "gridwidth": 2,
            "linecolor": "white",
            "showbackground": true,
            "ticks": "",
            "zerolinecolor": "white"
           }
          },
          "shapedefaults": {
           "line": {
            "color": "#2a3f5f"
           }
          },
          "ternary": {
           "aaxis": {
            "gridcolor": "white",
            "linecolor": "white",
            "ticks": ""
           },
           "baxis": {
            "gridcolor": "white",
            "linecolor": "white",
            "ticks": ""
           },
           "bgcolor": "#E5ECF6",
           "caxis": {
            "gridcolor": "white",
            "linecolor": "white",
            "ticks": ""
           }
          },
          "title": {
           "x": 0.05
          },
          "xaxis": {
           "automargin": true,
           "gridcolor": "white",
           "linecolor": "white",
           "ticks": "",
           "title": {
            "standoff": 15
           },
           "zerolinecolor": "white",
           "zerolinewidth": 2
          },
          "yaxis": {
           "automargin": true,
           "gridcolor": "white",
           "linecolor": "white",
           "ticks": "",
           "title": {
            "standoff": 15
           },
           "zerolinecolor": "white",
           "zerolinewidth": 2
          }
         }
        },
        "width": 1000,
        "xaxis": {
         "constrain": "domain",
         "range": [
          0,
          1000
         ]
        },
        "yaxis": {
         "autorange": "reversed",
         "constrain": "domain",
         "range": [
          0,
          1000
         ],
         "scaleanchor": "x",
         "scaleratio": 1
        }
       }
      }
     },
     "metadata": {},
     "output_type": "display_data"
    }
   ],
   "source": [
    "fig = go.Figure()\n",
    "for i in range(len(df_super_small)):\n",
    "    labels = {f'trace {i}': df_super_small.loc[i, 'name']}\n",
    "    fig.add_trace(go.Scatter(x=df_super_small.x[i], y=df_super_small.y[i], mode='lines', fill=\"toself\", text=df_super_small.name[i], name=df_super_small.name[i]))\n",
    "fig.update_layout(\n",
    "    xaxis=dict(\n",
    "        range=[0, 1000],\n",
    "        constrain=\"domain\"\n",
    "    ),\n",
    "    yaxis=dict(\n",
    "        range=[0, 1000],\n",
    "        scaleanchor = \"x\",\n",
    "        scaleratio = 1,\n",
    "        constrain=\"domain\",\n",
    "        autorange=\"reversed\",\n",
    "    ),\n",
    "    width=1000,\n",
    "    height=1000,\n",
    "    showlegend=False,\n",
    ")\n",
    "fig.show()"
   ]
  },
  {
   "cell_type": "code",
   "execution_count": 34,
   "metadata": {},
   "outputs": [],
   "source": [
    "df_super_small.to_json('atlas_small_400.json')"
   ]
  },
  {
   "cell_type": "code",
   "execution_count": 35,
   "metadata": {},
   "outputs": [],
   "source": [
    "raw_images = {i:f'https://raw.githubusercontent.com/WojciechTyczynski/re-place-2022/main/images400/images%20{i}.png' for i in range(82)}"
   ]
  },
  {
   "cell_type": "code",
   "execution_count": 15,
   "metadata": {},
   "outputs": [],
   "source": [
    "import json"
   ]
  },
  {
   "cell_type": "code",
   "execution_count": 36,
   "metadata": {},
   "outputs": [],
   "source": [
    "with open(\"dict_raw_images.json\", \"w\") as fp:\n",
    "    json.dump(raw_images,fp)"
   ]
  },
  {
   "cell_type": "code",
   "execution_count": 37,
   "metadata": {},
   "outputs": [
    {
     "data": {
      "text/plain": [
       "{0: 'https://raw.githubusercontent.com/WojciechTyczynski/re-place-2022/main/images400/images%200.png',\n",
       " 1: 'https://raw.githubusercontent.com/WojciechTyczynski/re-place-2022/main/images400/images%201.png',\n",
       " 2: 'https://raw.githubusercontent.com/WojciechTyczynski/re-place-2022/main/images400/images%202.png',\n",
       " 3: 'https://raw.githubusercontent.com/WojciechTyczynski/re-place-2022/main/images400/images%203.png',\n",
       " 4: 'https://raw.githubusercontent.com/WojciechTyczynski/re-place-2022/main/images400/images%204.png',\n",
       " 5: 'https://raw.githubusercontent.com/WojciechTyczynski/re-place-2022/main/images400/images%205.png',\n",
       " 6: 'https://raw.githubusercontent.com/WojciechTyczynski/re-place-2022/main/images400/images%206.png',\n",
       " 7: 'https://raw.githubusercontent.com/WojciechTyczynski/re-place-2022/main/images400/images%207.png',\n",
       " 8: 'https://raw.githubusercontent.com/WojciechTyczynski/re-place-2022/main/images400/images%208.png',\n",
       " 9: 'https://raw.githubusercontent.com/WojciechTyczynski/re-place-2022/main/images400/images%209.png',\n",
       " 10: 'https://raw.githubusercontent.com/WojciechTyczynski/re-place-2022/main/images400/images%2010.png',\n",
       " 11: 'https://raw.githubusercontent.com/WojciechTyczynski/re-place-2022/main/images400/images%2011.png',\n",
       " 12: 'https://raw.githubusercontent.com/WojciechTyczynski/re-place-2022/main/images400/images%2012.png',\n",
       " 13: 'https://raw.githubusercontent.com/WojciechTyczynski/re-place-2022/main/images400/images%2013.png',\n",
       " 14: 'https://raw.githubusercontent.com/WojciechTyczynski/re-place-2022/main/images400/images%2014.png',\n",
       " 15: 'https://raw.githubusercontent.com/WojciechTyczynski/re-place-2022/main/images400/images%2015.png',\n",
       " 16: 'https://raw.githubusercontent.com/WojciechTyczynski/re-place-2022/main/images400/images%2016.png',\n",
       " 17: 'https://raw.githubusercontent.com/WojciechTyczynski/re-place-2022/main/images400/images%2017.png',\n",
       " 18: 'https://raw.githubusercontent.com/WojciechTyczynski/re-place-2022/main/images400/images%2018.png',\n",
       " 19: 'https://raw.githubusercontent.com/WojciechTyczynski/re-place-2022/main/images400/images%2019.png',\n",
       " 20: 'https://raw.githubusercontent.com/WojciechTyczynski/re-place-2022/main/images400/images%2020.png',\n",
       " 21: 'https://raw.githubusercontent.com/WojciechTyczynski/re-place-2022/main/images400/images%2021.png',\n",
       " 22: 'https://raw.githubusercontent.com/WojciechTyczynski/re-place-2022/main/images400/images%2022.png',\n",
       " 23: 'https://raw.githubusercontent.com/WojciechTyczynski/re-place-2022/main/images400/images%2023.png',\n",
       " 24: 'https://raw.githubusercontent.com/WojciechTyczynski/re-place-2022/main/images400/images%2024.png',\n",
       " 25: 'https://raw.githubusercontent.com/WojciechTyczynski/re-place-2022/main/images400/images%2025.png',\n",
       " 26: 'https://raw.githubusercontent.com/WojciechTyczynski/re-place-2022/main/images400/images%2026.png',\n",
       " 27: 'https://raw.githubusercontent.com/WojciechTyczynski/re-place-2022/main/images400/images%2027.png',\n",
       " 28: 'https://raw.githubusercontent.com/WojciechTyczynski/re-place-2022/main/images400/images%2028.png',\n",
       " 29: 'https://raw.githubusercontent.com/WojciechTyczynski/re-place-2022/main/images400/images%2029.png',\n",
       " 30: 'https://raw.githubusercontent.com/WojciechTyczynski/re-place-2022/main/images400/images%2030.png',\n",
       " 31: 'https://raw.githubusercontent.com/WojciechTyczynski/re-place-2022/main/images400/images%2031.png',\n",
       " 32: 'https://raw.githubusercontent.com/WojciechTyczynski/re-place-2022/main/images400/images%2032.png',\n",
       " 33: 'https://raw.githubusercontent.com/WojciechTyczynski/re-place-2022/main/images400/images%2033.png',\n",
       " 34: 'https://raw.githubusercontent.com/WojciechTyczynski/re-place-2022/main/images400/images%2034.png',\n",
       " 35: 'https://raw.githubusercontent.com/WojciechTyczynski/re-place-2022/main/images400/images%2035.png',\n",
       " 36: 'https://raw.githubusercontent.com/WojciechTyczynski/re-place-2022/main/images400/images%2036.png',\n",
       " 37: 'https://raw.githubusercontent.com/WojciechTyczynski/re-place-2022/main/images400/images%2037.png',\n",
       " 38: 'https://raw.githubusercontent.com/WojciechTyczynski/re-place-2022/main/images400/images%2038.png',\n",
       " 39: 'https://raw.githubusercontent.com/WojciechTyczynski/re-place-2022/main/images400/images%2039.png',\n",
       " 40: 'https://raw.githubusercontent.com/WojciechTyczynski/re-place-2022/main/images400/images%2040.png',\n",
       " 41: 'https://raw.githubusercontent.com/WojciechTyczynski/re-place-2022/main/images400/images%2041.png',\n",
       " 42: 'https://raw.githubusercontent.com/WojciechTyczynski/re-place-2022/main/images400/images%2042.png',\n",
       " 43: 'https://raw.githubusercontent.com/WojciechTyczynski/re-place-2022/main/images400/images%2043.png',\n",
       " 44: 'https://raw.githubusercontent.com/WojciechTyczynski/re-place-2022/main/images400/images%2044.png',\n",
       " 45: 'https://raw.githubusercontent.com/WojciechTyczynski/re-place-2022/main/images400/images%2045.png',\n",
       " 46: 'https://raw.githubusercontent.com/WojciechTyczynski/re-place-2022/main/images400/images%2046.png',\n",
       " 47: 'https://raw.githubusercontent.com/WojciechTyczynski/re-place-2022/main/images400/images%2047.png',\n",
       " 48: 'https://raw.githubusercontent.com/WojciechTyczynski/re-place-2022/main/images400/images%2048.png',\n",
       " 49: 'https://raw.githubusercontent.com/WojciechTyczynski/re-place-2022/main/images400/images%2049.png',\n",
       " 50: 'https://raw.githubusercontent.com/WojciechTyczynski/re-place-2022/main/images400/images%2050.png',\n",
       " 51: 'https://raw.githubusercontent.com/WojciechTyczynski/re-place-2022/main/images400/images%2051.png',\n",
       " 52: 'https://raw.githubusercontent.com/WojciechTyczynski/re-place-2022/main/images400/images%2052.png',\n",
       " 53: 'https://raw.githubusercontent.com/WojciechTyczynski/re-place-2022/main/images400/images%2053.png',\n",
       " 54: 'https://raw.githubusercontent.com/WojciechTyczynski/re-place-2022/main/images400/images%2054.png',\n",
       " 55: 'https://raw.githubusercontent.com/WojciechTyczynski/re-place-2022/main/images400/images%2055.png',\n",
       " 56: 'https://raw.githubusercontent.com/WojciechTyczynski/re-place-2022/main/images400/images%2056.png',\n",
       " 57: 'https://raw.githubusercontent.com/WojciechTyczynski/re-place-2022/main/images400/images%2057.png',\n",
       " 58: 'https://raw.githubusercontent.com/WojciechTyczynski/re-place-2022/main/images400/images%2058.png',\n",
       " 59: 'https://raw.githubusercontent.com/WojciechTyczynski/re-place-2022/main/images400/images%2059.png',\n",
       " 60: 'https://raw.githubusercontent.com/WojciechTyczynski/re-place-2022/main/images400/images%2060.png',\n",
       " 61: 'https://raw.githubusercontent.com/WojciechTyczynski/re-place-2022/main/images400/images%2061.png',\n",
       " 62: 'https://raw.githubusercontent.com/WojciechTyczynski/re-place-2022/main/images400/images%2062.png',\n",
       " 63: 'https://raw.githubusercontent.com/WojciechTyczynski/re-place-2022/main/images400/images%2063.png',\n",
       " 64: 'https://raw.githubusercontent.com/WojciechTyczynski/re-place-2022/main/images400/images%2064.png',\n",
       " 65: 'https://raw.githubusercontent.com/WojciechTyczynski/re-place-2022/main/images400/images%2065.png',\n",
       " 66: 'https://raw.githubusercontent.com/WojciechTyczynski/re-place-2022/main/images400/images%2066.png',\n",
       " 67: 'https://raw.githubusercontent.com/WojciechTyczynski/re-place-2022/main/images400/images%2067.png',\n",
       " 68: 'https://raw.githubusercontent.com/WojciechTyczynski/re-place-2022/main/images400/images%2068.png',\n",
       " 69: 'https://raw.githubusercontent.com/WojciechTyczynski/re-place-2022/main/images400/images%2069.png',\n",
       " 70: 'https://raw.githubusercontent.com/WojciechTyczynski/re-place-2022/main/images400/images%2070.png',\n",
       " 71: 'https://raw.githubusercontent.com/WojciechTyczynski/re-place-2022/main/images400/images%2071.png',\n",
       " 72: 'https://raw.githubusercontent.com/WojciechTyczynski/re-place-2022/main/images400/images%2072.png',\n",
       " 73: 'https://raw.githubusercontent.com/WojciechTyczynski/re-place-2022/main/images400/images%2073.png',\n",
       " 74: 'https://raw.githubusercontent.com/WojciechTyczynski/re-place-2022/main/images400/images%2074.png',\n",
       " 75: 'https://raw.githubusercontent.com/WojciechTyczynski/re-place-2022/main/images400/images%2075.png',\n",
       " 76: 'https://raw.githubusercontent.com/WojciechTyczynski/re-place-2022/main/images400/images%2076.png',\n",
       " 77: 'https://raw.githubusercontent.com/WojciechTyczynski/re-place-2022/main/images400/images%2077.png',\n",
       " 78: 'https://raw.githubusercontent.com/WojciechTyczynski/re-place-2022/main/images400/images%2078.png',\n",
       " 79: 'https://raw.githubusercontent.com/WojciechTyczynski/re-place-2022/main/images400/images%2079.png',\n",
       " 80: 'https://raw.githubusercontent.com/WojciechTyczynski/re-place-2022/main/images400/images%2080.png',\n",
       " 81: 'https://raw.githubusercontent.com/WojciechTyczynski/re-place-2022/main/images400/images%2081.png'}"
      ]
     },
     "execution_count": 37,
     "metadata": {},
     "output_type": "execute_result"
    }
   ],
   "source": [
    "raw_images"
   ]
  },
  {
   "cell_type": "code",
   "execution_count": 38,
   "metadata": {},
   "outputs": [],
   "source": [
    "communities_raw = {i:f'https://raw.githubusercontent.com/WojciechTyczynski/re-place-2022/main/communities_raw_400/images%20{i+1}.png' for i in range(82)}"
   ]
  },
  {
   "cell_type": "code",
   "execution_count": 39,
   "metadata": {},
   "outputs": [],
   "source": [
    "with open(\"dict_communities_raw.json\", \"w\") as fp:\n",
    "    json.dump(communities_raw,fp)"
   ]
  },
  {
   "cell_type": "code",
   "execution_count": 40,
   "metadata": {},
   "outputs": [],
   "source": [
    "communities_denoised = {i:f'https://raw.githubusercontent.com/WojciechTyczynski/re-place-2022/main/communities_denoised_white/images%20{i}.png' for i in range(82)}"
   ]
  },
  {
   "cell_type": "code",
   "execution_count": 41,
   "metadata": {},
   "outputs": [],
   "source": [
    "with open(\"dict_communities_denoised.json\", \"w\") as fp:\n",
    "    json.dump(communities_denoised,fp)"
   ]
  },
  {
   "cell_type": "code",
   "execution_count": null,
   "metadata": {},
   "outputs": [],
   "source": []
  }
 ],
 "metadata": {
  "kernelspec": {
   "display_name": "Python 3.10.6 ('graph_tool')",
   "language": "python",
   "name": "python3"
  },
  "language_info": {
   "codemirror_mode": {
    "name": "ipython",
    "version": 3
   },
   "file_extension": ".py",
   "mimetype": "text/x-python",
   "name": "python",
   "nbconvert_exporter": "python",
   "pygments_lexer": "ipython3",
   "version": "3.10.6"
  },
  "orig_nbformat": 4,
  "vscode": {
   "interpreter": {
    "hash": "afcb5a70060a8d499c1d54c13859caa2301cbd723cf83d9228d31e131f6080c8"
   }
  }
 },
 "nbformat": 4,
 "nbformat_minor": 2
}

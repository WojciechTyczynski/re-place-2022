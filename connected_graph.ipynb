{
 "cells": [
  {
   "cell_type": "code",
   "execution_count": 4,
   "id": "06d62bab",
   "metadata": {
    "scrolled": true
   },
   "outputs": [
    {
     "ename": "ModuleNotFoundError",
     "evalue": "No module named 'graph_tool'",
     "output_type": "error",
     "traceback": [
      "\u001b[0;31m---------------------------------------------------------------------------\u001b[0m",
      "\u001b[0;31mModuleNotFoundError\u001b[0m                       Traceback (most recent call last)",
      "Input \u001b[0;32mIn [4]\u001b[0m, in \u001b[0;36m<cell line: 2>\u001b[0;34m()\u001b[0m\n\u001b[1;32m      1\u001b[0m \u001b[38;5;28;01mimport\u001b[39;00m \u001b[38;5;21;01mpandas\u001b[39;00m \u001b[38;5;28;01mas\u001b[39;00m \u001b[38;5;21;01mpd\u001b[39;00m\n\u001b[0;32m----> 2\u001b[0m \u001b[38;5;28;01mfrom\u001b[39;00m \u001b[38;5;21;01mgraph_tool\u001b[39;00m\u001b[38;5;21;01m.\u001b[39;00m\u001b[38;5;21;01mall\u001b[39;00m \u001b[38;5;28;01mimport\u001b[39;00m \u001b[38;5;241m*\u001b[39m\n\u001b[1;32m      3\u001b[0m \u001b[38;5;28;01mimport\u001b[39;00m \u001b[38;5;21;01mnumpy\u001b[39;00m \u001b[38;5;28;01mas\u001b[39;00m \u001b[38;5;21;01mnp\u001b[39;00m\n\u001b[1;32m      4\u001b[0m \u001b[38;5;28;01mimport\u001b[39;00m \u001b[38;5;21;01mmatplotlib\u001b[39;00m\n",
      "\u001b[0;31mModuleNotFoundError\u001b[0m: No module named 'graph_tool'"
     ]
    }
   ],
   "source": [
    "import pandas as pd\n",
    "from graph_tool.all import *\n",
    "import numpy as np\n",
    "import matplotlib\n",
    "import csv\n",
    "from datetime import datetime\n",
    "import fastparquet\n",
    "from tqdm import tqdm"
   ]
  },
  {
   "cell_type": "code",
   "execution_count": null,
   "id": "fdc4564e",
   "metadata": {},
   "outputs": [],
   "source": [
    "from PIL import Image\n",
    "import os\n",
    "class PlaceCanvas:\n",
    "    def __init__(self, width, height):\n",
    "        self.canvas = Image.new('RGB', (width, height), color = 'white')\n",
    "\n",
    "\n",
    "    def update_pixel(self, x,y,color):\n",
    "        \"\"\"\n",
    "        Sets the specific x,y coordinate in the canvas to the given hex color.\n",
    "\n",
    "        example:\n",
    "        update_pixel(10,10,\"#B4FBB8\")\n",
    "        \"\"\"\n",
    "#         h = color.lstrip('#')\n",
    "#         rgb_value = tuple(int(h[i:i+2], 16) for i in (0, 2, 4))\n",
    "#         self.canvas.putpixel((x,y), rgb_value)\n",
    "        self.canvas.putpixel((x,y), color)\n",
    "\n",
    "    def save_canvas(self, path = \"images/\"):\n",
    "        if(os.path.exists(f'{path}images.png')):\n",
    "            i = 0 \n",
    "            while(os.path.exists(f'{path}images {i}.png')):\n",
    "                i += 1\n",
    "            self.canvas.save(f'{path}images {i}.png')\n",
    "        else:\n",
    "            self.canvas.save(f'{path}images.png')\n",
    "\n",
    "    def get_image(self):\n",
    "        return self.canvas"
   ]
  },
  {
   "cell_type": "code",
   "execution_count": 3,
   "id": "686d46f0",
   "metadata": {},
   "outputs": [],
   "source": [
    "df = pd.read_parquet('2022_place_deephaven.parquet', engine='fastparquet')\n",
    "df['timestamp'] = pd.to_datetime(df['timestamp'])"
   ]
  },
  {
   "cell_type": "code",
   "execution_count": 4,
   "id": "a9ac75a6",
   "metadata": {},
   "outputs": [
    {
     "name": "stdout",
     "output_type": "stream",
     "text": [
      "CPU times: user 1.43 s, sys: 979 ms, total: 2.41 s\n",
      "Wall time: 2.44 s\n"
     ]
    }
   ],
   "source": [
    "%%time\n",
    "df_small = df[(df['timestamp'] > datetime.strptime('2022-04-01 12:30:00',\"%Y-%m-%d %H:%M:%S\")) & (df['timestamp'] < datetime.strptime('2022-04-01 23:59:00',\"%Y-%m-%d %H:%M:%S\"))]"
   ]
  },
  {
   "cell_type": "code",
   "execution_count": 5,
   "id": "54ff67f6",
   "metadata": {},
   "outputs": [
    {
     "data": {
      "text/html": [
       "<div>\n",
       "<style scoped>\n",
       "    .dataframe tbody tr th:only-of-type {\n",
       "        vertical-align: middle;\n",
       "    }\n",
       "\n",
       "    .dataframe tbody tr th {\n",
       "        vertical-align: top;\n",
       "    }\n",
       "\n",
       "    .dataframe thead th {\n",
       "        text-align: right;\n",
       "    }\n",
       "</style>\n",
       "<table border=\"1\" class=\"dataframe\">\n",
       "  <thead>\n",
       "    <tr style=\"text-align: right;\">\n",
       "      <th></th>\n",
       "      <th>timestamp</th>\n",
       "      <th>user_id</th>\n",
       "      <th>rgb</th>\n",
       "      <th>x1</th>\n",
       "      <th>y1</th>\n",
       "      <th>x2</th>\n",
       "      <th>y2</th>\n",
       "    </tr>\n",
       "  </thead>\n",
       "  <tbody>\n",
       "    <tr>\n",
       "      <th>0</th>\n",
       "      <td>2022-04-01 12:44:10.315</td>\n",
       "      <td>4068945</td>\n",
       "      <td>8318294</td>\n",
       "      <td>42</td>\n",
       "      <td>42</td>\n",
       "      <td>-32768</td>\n",
       "      <td>-32768</td>\n",
       "    </tr>\n",
       "    <tr>\n",
       "      <th>1</th>\n",
       "      <td>2022-04-01 12:44:22.671</td>\n",
       "      <td>4068946</td>\n",
       "      <td>41832</td>\n",
       "      <td>999</td>\n",
       "      <td>999</td>\n",
       "      <td>-32768</td>\n",
       "      <td>-32768</td>\n",
       "    </tr>\n",
       "    <tr>\n",
       "      <th>2</th>\n",
       "      <td>2022-04-01 12:44:26.626</td>\n",
       "      <td>4068947</td>\n",
       "      <td>3576042</td>\n",
       "      <td>44</td>\n",
       "      <td>42</td>\n",
       "      <td>-32768</td>\n",
       "      <td>-32768</td>\n",
       "    </tr>\n",
       "    <tr>\n",
       "      <th>3</th>\n",
       "      <td>2022-04-01 12:44:31.703</td>\n",
       "      <td>4068948</td>\n",
       "      <td>13948889</td>\n",
       "      <td>2</td>\n",
       "      <td>2</td>\n",
       "      <td>-32768</td>\n",
       "      <td>-32768</td>\n",
       "    </tr>\n",
       "    <tr>\n",
       "      <th>4</th>\n",
       "      <td>2022-04-01 12:44:44.409</td>\n",
       "      <td>4068949</td>\n",
       "      <td>3576042</td>\n",
       "      <td>23</td>\n",
       "      <td>23</td>\n",
       "      <td>-32768</td>\n",
       "      <td>-32768</td>\n",
       "    </tr>\n",
       "    <tr>\n",
       "      <th>...</th>\n",
       "      <td>...</td>\n",
       "      <td>...</td>\n",
       "      <td>...</td>\n",
       "      <td>...</td>\n",
       "      <td>...</td>\n",
       "      <td>...</td>\n",
       "      <td>...</td>\n",
       "    </tr>\n",
       "    <tr>\n",
       "      <th>42304561</th>\n",
       "      <td>2022-04-02 23:58:59.982</td>\n",
       "      <td>251570</td>\n",
       "      <td>3576042</td>\n",
       "      <td>72</td>\n",
       "      <td>915</td>\n",
       "      <td>-32768</td>\n",
       "      <td>-32768</td>\n",
       "    </tr>\n",
       "    <tr>\n",
       "      <th>42304562</th>\n",
       "      <td>2022-04-02 23:58:59.984</td>\n",
       "      <td>1175970</td>\n",
       "      <td>16777215</td>\n",
       "      <td>1104</td>\n",
       "      <td>941</td>\n",
       "      <td>-32768</td>\n",
       "      <td>-32768</td>\n",
       "    </tr>\n",
       "    <tr>\n",
       "      <th>42304563</th>\n",
       "      <td>2022-04-02 23:58:59.987</td>\n",
       "      <td>6297831</td>\n",
       "      <td>5368308</td>\n",
       "      <td>688</td>\n",
       "      <td>434</td>\n",
       "      <td>-32768</td>\n",
       "      <td>-32768</td>\n",
       "    </tr>\n",
       "    <tr>\n",
       "      <th>42304564</th>\n",
       "      <td>2022-04-02 23:58:59.995</td>\n",
       "      <td>1273502</td>\n",
       "      <td>0</td>\n",
       "      <td>1016</td>\n",
       "      <td>744</td>\n",
       "      <td>-32768</td>\n",
       "      <td>-32768</td>\n",
       "    </tr>\n",
       "    <tr>\n",
       "      <th>42304565</th>\n",
       "      <td>2022-04-02 23:58:59.997</td>\n",
       "      <td>6141976</td>\n",
       "      <td>13948889</td>\n",
       "      <td>280</td>\n",
       "      <td>342</td>\n",
       "      <td>-32768</td>\n",
       "      <td>-32768</td>\n",
       "    </tr>\n",
       "  </tbody>\n",
       "</table>\n",
       "<p>42304566 rows × 7 columns</p>\n",
       "</div>"
      ],
      "text/plain": [
       "                       timestamp  user_id       rgb    x1   y1     x2     y2\n",
       "0        2022-04-01 12:44:10.315  4068945   8318294    42   42 -32768 -32768\n",
       "1        2022-04-01 12:44:22.671  4068946     41832   999  999 -32768 -32768\n",
       "2        2022-04-01 12:44:26.626  4068947   3576042    44   42 -32768 -32768\n",
       "3        2022-04-01 12:44:31.703  4068948  13948889     2    2 -32768 -32768\n",
       "4        2022-04-01 12:44:44.409  4068949   3576042    23   23 -32768 -32768\n",
       "...                          ...      ...       ...   ...  ...    ...    ...\n",
       "42304561 2022-04-02 23:58:59.982   251570   3576042    72  915 -32768 -32768\n",
       "42304562 2022-04-02 23:58:59.984  1175970  16777215  1104  941 -32768 -32768\n",
       "42304563 2022-04-02 23:58:59.987  6297831   5368308   688  434 -32768 -32768\n",
       "42304564 2022-04-02 23:58:59.995  1273502         0  1016  744 -32768 -32768\n",
       "42304565 2022-04-02 23:58:59.997  6141976  13948889   280  342 -32768 -32768\n",
       "\n",
       "[42304566 rows x 7 columns]"
      ]
     },
     "execution_count": 5,
     "metadata": {},
     "output_type": "execute_result"
    }
   ],
   "source": [
    "df_small.head(5)"
   ]
  },
  {
   "cell_type": "code",
   "execution_count": 6,
   "id": "c8bbf131",
   "metadata": {},
   "outputs": [],
   "source": [
    "colors = [\"#FFFFFF\",\n",
    "\"#E4E4E4\",\n",
    "\"#888888\",\n",
    "\"#222222\",\n",
    "\"#FFA7D1\",\n",
    "\"#E50000\",\n",
    "\"#E59500\",\n",
    "\"#A06A42\",\n",
    "\"#E5D900\",\n",
    "\"#94E044\",\n",
    "\"#02BE01\",\n",
    "\"#00D3DD\",\n",
    "\"#0083C7\",\n",
    "\"#0000EA\",\n",
    "\"#CF6EE4\",\n",
    "\"#820080\"]"
   ]
  },
  {
   "cell_type": "code",
   "execution_count": 8,
   "id": "e42ca842",
   "metadata": {},
   "outputs": [
    {
     "name": "stderr",
     "output_type": "stream",
     "text": [
      "  0%|                                                                        | 587/12258057 [00:00<1:02:37, 3262.18it/s]"
     ]
    },
    {
     "name": "stdout",
     "output_type": "stream",
     "text": [
      "2022-04-01 12:44:10.315000\n"
     ]
    },
    {
     "name": "stderr",
     "output_type": "stream",
     "text": [
      "  1%|▌                                                                      | 101254/12258057 [00:14<26:33, 7629.14it/s]"
     ]
    },
    {
     "name": "stdout",
     "output_type": "stream",
     "text": [
      "2022-04-01 13:21:17.579000\n"
     ]
    },
    {
     "name": "stderr",
     "output_type": "stream",
     "text": [
      "  2%|█▏                                                                     | 201249/12258057 [00:26<25:16, 7950.21it/s]"
     ]
    },
    {
     "name": "stdout",
     "output_type": "stream",
     "text": [
      "2022-04-01 13:31:59.251000\n"
     ]
    },
    {
     "name": "stderr",
     "output_type": "stream",
     "text": [
      "  2%|█▋                                                                     | 301514/12258057 [00:39<26:26, 7537.34it/s]"
     ]
    },
    {
     "name": "stdout",
     "output_type": "stream",
     "text": [
      "2022-04-01 13:41:04.762000\n"
     ]
    },
    {
     "name": "stderr",
     "output_type": "stream",
     "text": [
      "  3%|██▎                                                                    | 401352/12258057 [00:52<24:24, 8098.49it/s]"
     ]
    },
    {
     "name": "stdout",
     "output_type": "stream",
     "text": [
      "2022-04-01 13:49:03.401000\n"
     ]
    },
    {
     "name": "stderr",
     "output_type": "stream",
     "text": [
      "  4%|██▉                                                                    | 501457/12258057 [01:04<24:01, 8158.55it/s]"
     ]
    },
    {
     "name": "stdout",
     "output_type": "stream",
     "text": [
      "2022-04-01 13:56:29.777000\n"
     ]
    },
    {
     "name": "stderr",
     "output_type": "stream",
     "text": [
      "  5%|███▍                                                                   | 601328/12258057 [01:17<23:56, 8112.23it/s]"
     ]
    },
    {
     "name": "stdout",
     "output_type": "stream",
     "text": [
      "2022-04-01 14:03:54.199000\n"
     ]
    },
    {
     "name": "stderr",
     "output_type": "stream",
     "text": [
      "  6%|████                                                                   | 700982/12258057 [01:29<22:50, 8430.13it/s]"
     ]
    },
    {
     "name": "stdout",
     "output_type": "stream",
     "text": [
      "2022-04-01 14:11:22.410000\n"
     ]
    },
    {
     "name": "stderr",
     "output_type": "stream",
     "text": [
      "  7%|████▋                                                                  | 801264/12258057 [01:41<23:01, 8293.88it/s]"
     ]
    },
    {
     "name": "stdout",
     "output_type": "stream",
     "text": [
      "2022-04-01 14:18:40.824000\n"
     ]
    },
    {
     "name": "stderr",
     "output_type": "stream",
     "text": [
      "  7%|█████▏                                                                 | 901120/12258057 [01:53<22:17, 8491.36it/s]"
     ]
    },
    {
     "name": "stdout",
     "output_type": "stream",
     "text": [
      "2022-04-01 14:25:50.212000\n"
     ]
    },
    {
     "name": "stderr",
     "output_type": "stream",
     "text": [
      "  8%|█████▋                                                                | 1000849/12258057 [02:06<24:21, 7704.83it/s]"
     ]
    },
    {
     "name": "stdout",
     "output_type": "stream",
     "text": [
      "2022-04-01 14:32:49.360000\n"
     ]
    },
    {
     "name": "stderr",
     "output_type": "stream",
     "text": [
      "  9%|██████▎                                                               | 1100940/12258057 [02:18<23:14, 8002.87it/s]"
     ]
    },
    {
     "name": "stdout",
     "output_type": "stream",
     "text": [
      "2022-04-01 14:39:35.401000\n"
     ]
    },
    {
     "name": "stderr",
     "output_type": "stream",
     "text": [
      " 10%|██████▊                                                               | 1201145/12258057 [02:30<22:53, 8048.24it/s]"
     ]
    },
    {
     "name": "stdout",
     "output_type": "stream",
     "text": [
      "2022-04-01 14:46:11.918000\n"
     ]
    },
    {
     "name": "stderr",
     "output_type": "stream",
     "text": [
      " 11%|███████▍                                                              | 1300957/12258057 [02:42<21:36, 8452.47it/s]"
     ]
    },
    {
     "name": "stdout",
     "output_type": "stream",
     "text": [
      "2022-04-01 14:52:40.042000\n"
     ]
    },
    {
     "name": "stderr",
     "output_type": "stream",
     "text": [
      " 11%|████████                                                              | 1401215/12258057 [02:55<22:34, 8014.32it/s]"
     ]
    },
    {
     "name": "stdout",
     "output_type": "stream",
     "text": [
      "2022-04-01 14:58:57.353000\n"
     ]
    },
    {
     "name": "stderr",
     "output_type": "stream",
     "text": [
      " 12%|████████▌                                                             | 1501494/12258057 [03:08<23:02, 7781.61it/s]"
     ]
    },
    {
     "name": "stdout",
     "output_type": "stream",
     "text": [
      "2022-04-01 15:05:15.631000\n"
     ]
    },
    {
     "name": "stderr",
     "output_type": "stream",
     "text": [
      " 13%|█████████▏                                                            | 1601342/12258057 [03:21<21:59, 8074.27it/s]"
     ]
    },
    {
     "name": "stdout",
     "output_type": "stream",
     "text": [
      "2022-04-01 15:11:29.617000\n"
     ]
    },
    {
     "name": "stderr",
     "output_type": "stream",
     "text": [
      " 14%|█████████▋                                                            | 1700774/12258057 [03:33<23:37, 7448.88it/s]"
     ]
    },
    {
     "name": "stdout",
     "output_type": "stream",
     "text": [
      "2022-04-01 15:17:39.732000\n"
     ]
    },
    {
     "name": "stderr",
     "output_type": "stream",
     "text": [
      " 15%|██████████▎                                                           | 1800896/12258057 [03:46<21:25, 8133.84it/s]"
     ]
    },
    {
     "name": "stdout",
     "output_type": "stream",
     "text": [
      "2022-04-01 15:23:44.840000\n"
     ]
    },
    {
     "name": "stderr",
     "output_type": "stream",
     "text": [
      " 16%|██████████▊                                                           | 1900993/12258057 [03:59<22:52, 7546.02it/s]"
     ]
    },
    {
     "name": "stdout",
     "output_type": "stream",
     "text": [
      "2022-04-01 15:29:42.787000\n"
     ]
    },
    {
     "name": "stderr",
     "output_type": "stream",
     "text": [
      " 16%|███████████▍                                                          | 2001135/12258057 [04:20<25:52, 6606.52it/s]"
     ]
    },
    {
     "name": "stdout",
     "output_type": "stream",
     "text": [
      "2022-04-01 15:35:43.411000\n"
     ]
    },
    {
     "name": "stderr",
     "output_type": "stream",
     "text": [
      " 17%|████████████                                                          | 2101423/12258057 [04:33<21:56, 7717.70it/s]"
     ]
    },
    {
     "name": "stdout",
     "output_type": "stream",
     "text": [
      "2022-04-01 15:41:41.311000\n"
     ]
    },
    {
     "name": "stderr",
     "output_type": "stream",
     "text": [
      " 18%|████████████▌                                                         | 2201453/12258057 [04:46<21:39, 7736.97it/s]"
     ]
    },
    {
     "name": "stdout",
     "output_type": "stream",
     "text": [
      "2022-04-01 15:47:36.566000\n"
     ]
    },
    {
     "name": "stderr",
     "output_type": "stream",
     "text": [
      " 19%|█████████████▏                                                        | 2301233/12258057 [04:59<19:40, 8435.41it/s]"
     ]
    },
    {
     "name": "stdout",
     "output_type": "stream",
     "text": [
      "2022-04-01 15:53:25.854000\n"
     ]
    },
    {
     "name": "stderr",
     "output_type": "stream",
     "text": [
      " 20%|█████████████▋                                                        | 2401200/12258057 [05:11<19:38, 8364.09it/s]"
     ]
    },
    {
     "name": "stdout",
     "output_type": "stream",
     "text": [
      "2022-04-01 15:59:13.424000\n"
     ]
    },
    {
     "name": "stderr",
     "output_type": "stream",
     "text": [
      " 20%|██████████████▎                                                       | 2501002/12258057 [05:23<19:20, 8404.84it/s]"
     ]
    },
    {
     "name": "stdout",
     "output_type": "stream",
     "text": [
      "2022-04-01 16:05:02.091000\n"
     ]
    },
    {
     "name": "stderr",
     "output_type": "stream",
     "text": [
      " 21%|██████████████▊                                                       | 2601512/12258057 [05:35<19:15, 8354.12it/s]"
     ]
    },
    {
     "name": "stdout",
     "output_type": "stream",
     "text": [
      "2022-04-01 16:10:45.075000\n"
     ]
    },
    {
     "name": "stderr",
     "output_type": "stream",
     "text": [
      " 22%|███████████████▍                                                      | 2701261/12258057 [05:47<19:52, 8015.65it/s]"
     ]
    },
    {
     "name": "stdout",
     "output_type": "stream",
     "text": [
      "2022-04-01 16:16:24.547000\n"
     ]
    },
    {
     "name": "stderr",
     "output_type": "stream",
     "text": [
      " 23%|███████████████▉                                                      | 2800939/12258057 [05:59<18:24, 8565.11it/s]"
     ]
    },
    {
     "name": "stdout",
     "output_type": "stream",
     "text": [
      "2022-04-01 16:22:03.611000\n"
     ]
    },
    {
     "name": "stderr",
     "output_type": "stream",
     "text": [
      " 24%|████████████████▌                                                     | 2901232/12258057 [06:13<19:03, 8183.84it/s]"
     ]
    },
    {
     "name": "stdout",
     "output_type": "stream",
     "text": [
      "2022-04-01 16:27:38.853000\n"
     ]
    },
    {
     "name": "stderr",
     "output_type": "stream",
     "text": [
      " 24%|█████████████████▏                                                    | 3001009/12258057 [06:25<17:51, 8640.09it/s]"
     ]
    },
    {
     "name": "stdout",
     "output_type": "stream",
     "text": [
      "2022-04-01 16:33:12.478000\n"
     ]
    },
    {
     "name": "stderr",
     "output_type": "stream",
     "text": [
      " 25%|█████████████████▋                                                    | 3101356/12258057 [06:37<17:38, 8652.70it/s]"
     ]
    },
    {
     "name": "stdout",
     "output_type": "stream",
     "text": [
      "2022-04-01 16:38:45.363000\n"
     ]
    },
    {
     "name": "stderr",
     "output_type": "stream",
     "text": [
      " 26%|██████████████████▎                                                   | 3201604/12258057 [06:49<18:56, 7968.07it/s]"
     ]
    },
    {
     "name": "stdout",
     "output_type": "stream",
     "text": [
      "2022-04-01 16:44:18.442000\n"
     ]
    },
    {
     "name": "stderr",
     "output_type": "stream",
     "text": [
      " 27%|██████████████████▊                                                   | 3301466/12258057 [07:02<19:34, 7625.86it/s]"
     ]
    },
    {
     "name": "stdout",
     "output_type": "stream",
     "text": [
      "2022-04-01 16:49:51.242000\n"
     ]
    },
    {
     "name": "stderr",
     "output_type": "stream",
     "text": [
      " 28%|███████████████████▍                                                  | 3401527/12258057 [07:15<20:08, 7330.27it/s]"
     ]
    },
    {
     "name": "stdout",
     "output_type": "stream",
     "text": [
      "2022-04-01 16:55:22.756000\n"
     ]
    },
    {
     "name": "stderr",
     "output_type": "stream",
     "text": [
      " 29%|███████████████████▉                                                  | 3501423/12258057 [07:28<18:01, 8099.25it/s]"
     ]
    },
    {
     "name": "stdout",
     "output_type": "stream",
     "text": [
      "2022-04-01 17:00:51.183000\n"
     ]
    },
    {
     "name": "stderr",
     "output_type": "stream",
     "text": [
      " 29%|████████████████████▌                                                 | 3601698/12258057 [07:40<17:28, 8254.79it/s]"
     ]
    },
    {
     "name": "stdout",
     "output_type": "stream",
     "text": [
      "2022-04-01 17:06:21.618000\n"
     ]
    },
    {
     "name": "stderr",
     "output_type": "stream",
     "text": [
      " 30%|█████████████████████▏                                                | 3701092/12258057 [07:52<16:51, 8455.65it/s]"
     ]
    },
    {
     "name": "stdout",
     "output_type": "stream",
     "text": [
      "2022-04-01 17:11:49.749000\n"
     ]
    },
    {
     "name": "stderr",
     "output_type": "stream",
     "text": [
      " 31%|█████████████████████▋                                                | 3800974/12258057 [08:04<17:29, 8055.55it/s]"
     ]
    },
    {
     "name": "stdout",
     "output_type": "stream",
     "text": [
      "2022-04-01 17:17:18.211000\n"
     ]
    },
    {
     "name": "stderr",
     "output_type": "stream",
     "text": [
      " 32%|██████████████████████▎                                               | 3901653/12258057 [08:17<16:08, 8629.76it/s]"
     ]
    },
    {
     "name": "stdout",
     "output_type": "stream",
     "text": [
      "2022-04-01 17:22:41.043000\n"
     ]
    },
    {
     "name": "stderr",
     "output_type": "stream",
     "text": [
      " 33%|██████████████████████▊                                               | 4001430/12258057 [08:28<17:27, 7879.67it/s]"
     ]
    },
    {
     "name": "stdout",
     "output_type": "stream",
     "text": [
      "2022-04-01 17:27:59.573000\n"
     ]
    },
    {
     "name": "stderr",
     "output_type": "stream",
     "text": [
      " 33%|███████████████████████▍                                              | 4101680/12258057 [08:40<15:47, 8607.34it/s]"
     ]
    },
    {
     "name": "stdout",
     "output_type": "stream",
     "text": [
      "2022-04-01 17:33:14.149000\n"
     ]
    },
    {
     "name": "stderr",
     "output_type": "stream",
     "text": [
      " 34%|███████████████████████▉                                              | 4201011/12258057 [08:52<16:27, 8156.15it/s]"
     ]
    },
    {
     "name": "stdout",
     "output_type": "stream",
     "text": [
      "2022-04-01 17:38:26.372000\n"
     ]
    },
    {
     "name": "stderr",
     "output_type": "stream",
     "text": [
      " 35%|████████████████████████▌                                             | 4300935/12258057 [20:33<26:14, 5054.02it/s]"
     ]
    },
    {
     "name": "stdout",
     "output_type": "stream",
     "text": [
      "2022-04-01 17:43:35.343000\n"
     ]
    },
    {
     "name": "stderr",
     "output_type": "stream",
     "text": [
      " 36%|█████████████████████████▏                                            | 4401298/12258057 [20:48<14:14, 9190.12it/s]"
     ]
    },
    {
     "name": "stdout",
     "output_type": "stream",
     "text": [
      "2022-04-01 17:48:41.283000\n"
     ]
    },
    {
     "name": "stderr",
     "output_type": "stream",
     "text": [
      " 37%|█████████████████████████▎                                           | 4501989/12258057 [20:59<12:53, 10027.87it/s]"
     ]
    },
    {
     "name": "stdout",
     "output_type": "stream",
     "text": [
      "2022-04-01 17:53:47.371000\n"
     ]
    },
    {
     "name": "stderr",
     "output_type": "stream",
     "text": [
      " 38%|██████████████████████████▎                                           | 4601733/12258057 [21:09<12:49, 9946.46it/s]"
     ]
    },
    {
     "name": "stdout",
     "output_type": "stream",
     "text": [
      "2022-04-01 18:01:33.106000\n"
     ]
    },
    {
     "name": "stderr",
     "output_type": "stream",
     "text": [
      " 38%|██████████████████████████▊                                           | 4701751/12258057 [21:19<13:01, 9664.97it/s]"
     ]
    },
    {
     "name": "stdout",
     "output_type": "stream",
     "text": [
      "2022-04-01 18:07:34.549000\n"
     ]
    },
    {
     "name": "stderr",
     "output_type": "stream",
     "text": [
      " 39%|███████████████████████████▍                                          | 4800983/12258057 [21:30<13:26, 9251.02it/s]"
     ]
    },
    {
     "name": "stdout",
     "output_type": "stream",
     "text": [
      "2022-04-01 18:12:49.769000\n"
     ]
    },
    {
     "name": "stderr",
     "output_type": "stream",
     "text": [
      " 40%|███████████████████████████▉                                          | 4901567/12258057 [21:41<13:12, 9286.33it/s]"
     ]
    },
    {
     "name": "stdout",
     "output_type": "stream",
     "text": [
      "2022-04-01 18:17:56.785000\n"
     ]
    },
    {
     "name": "stderr",
     "output_type": "stream",
     "text": [
      " 41%|████████████████████████████▌                                         | 5001496/12258057 [21:52<13:06, 9228.58it/s]"
     ]
    },
    {
     "name": "stdout",
     "output_type": "stream",
     "text": [
      "2022-04-01 18:22:56.374000\n"
     ]
    },
    {
     "name": "stderr",
     "output_type": "stream",
     "text": [
      " 42%|█████████████████████████████▏                                        | 5101284/12258057 [22:03<12:57, 9204.35it/s]"
     ]
    },
    {
     "name": "stdout",
     "output_type": "stream",
     "text": [
      "2022-04-01 18:27:54.423000\n"
     ]
    },
    {
     "name": "stderr",
     "output_type": "stream",
     "text": [
      " 42%|█████████████████████████████▋                                        | 5201876/12258057 [22:13<12:06, 9707.54it/s]"
     ]
    },
    {
     "name": "stdout",
     "output_type": "stream",
     "text": [
      "2022-04-01 18:32:51.406000\n"
     ]
    },
    {
     "name": "stderr",
     "output_type": "stream",
     "text": [
      " 43%|██████████████████████████████▎                                       | 5301547/12258057 [22:24<12:42, 9128.93it/s]"
     ]
    },
    {
     "name": "stdout",
     "output_type": "stream",
     "text": [
      "2022-04-01 18:37:48.914000\n"
     ]
    },
    {
     "name": "stderr",
     "output_type": "stream",
     "text": [
      " 44%|██████████████████████████████▊                                       | 5401624/12258057 [22:35<12:46, 8943.82it/s]"
     ]
    },
    {
     "name": "stdout",
     "output_type": "stream",
     "text": [
      "2022-04-01 18:42:43.744000\n"
     ]
    },
    {
     "name": "stderr",
     "output_type": "stream",
     "text": [
      " 45%|███████████████████████████████▍                                      | 5501234/12258057 [22:47<12:27, 9043.88it/s]"
     ]
    },
    {
     "name": "stdout",
     "output_type": "stream",
     "text": [
      "2022-04-01 18:47:34.914000\n"
     ]
    },
    {
     "name": "stderr",
     "output_type": "stream",
     "text": [
      " 46%|███████████████████████████████▉                                      | 5601014/12258057 [22:58<13:15, 8364.34it/s]"
     ]
    },
    {
     "name": "stdout",
     "output_type": "stream",
     "text": [
      "2022-04-01 18:52:26.143000\n"
     ]
    },
    {
     "name": "stderr",
     "output_type": "stream",
     "text": [
      " 47%|████████████████████████████████▌                                     | 5701111/12258057 [23:10<12:07, 9018.03it/s]"
     ]
    },
    {
     "name": "stdout",
     "output_type": "stream",
     "text": [
      "2022-04-01 18:57:14.274000\n"
     ]
    },
    {
     "name": "stderr",
     "output_type": "stream",
     "text": [
      " 47%|█████████████████████████████████▏                                    | 5800789/12258057 [23:26<14:11, 7583.39it/s]"
     ]
    },
    {
     "name": "stdout",
     "output_type": "stream",
     "text": [
      "2022-04-01 19:02:03.531000\n"
     ]
    },
    {
     "name": "stderr",
     "output_type": "stream",
     "text": [
      " 48%|█████████████████████████████████▋                                    | 5900830/12258057 [23:38<12:45, 8308.05it/s]"
     ]
    },
    {
     "name": "stdout",
     "output_type": "stream",
     "text": [
      "2022-04-01 19:06:54.478000\n"
     ]
    },
    {
     "name": "stderr",
     "output_type": "stream",
     "text": [
      " 49%|██████████████████████████████████▎                                   | 6000597/12258057 [23:50<12:11, 8549.81it/s]"
     ]
    },
    {
     "name": "stdout",
     "output_type": "stream",
     "text": [
      "2022-04-01 19:11:45.764000\n"
     ]
    },
    {
     "name": "stderr",
     "output_type": "stream",
     "text": [
      " 50%|██████████████████████████████████▊                                   | 6100746/12258057 [24:04<15:48, 6492.50it/s]"
     ]
    },
    {
     "name": "stdout",
     "output_type": "stream",
     "text": [
      "2022-04-01 19:16:37.568000\n"
     ]
    },
    {
     "name": "stderr",
     "output_type": "stream",
     "text": [
      " 51%|███████████████████████████████████▍                                  | 6201411/12258057 [24:16<12:39, 7970.77it/s]"
     ]
    },
    {
     "name": "stdout",
     "output_type": "stream",
     "text": [
      "2022-04-01 19:21:28.126000\n"
     ]
    },
    {
     "name": "stderr",
     "output_type": "stream",
     "text": [
      " 51%|███████████████████████████████████▉                                  | 6300985/12258057 [24:28<11:22, 8723.67it/s]"
     ]
    },
    {
     "name": "stdout",
     "output_type": "stream",
     "text": [
      "2022-04-01 19:26:18.072000\n"
     ]
    },
    {
     "name": "stderr",
     "output_type": "stream",
     "text": [
      " 52%|████████████████████████████████████▌                                 | 6401248/12258057 [24:39<11:14, 8683.33it/s]"
     ]
    },
    {
     "name": "stdout",
     "output_type": "stream",
     "text": [
      "2022-04-01 19:31:03.221000\n"
     ]
    },
    {
     "name": "stderr",
     "output_type": "stream",
     "text": [
      " 53%|█████████████████████████████████████                                 | 6500923/12258057 [25:14<19:43, 4865.33it/s]"
     ]
    },
    {
     "name": "stdout",
     "output_type": "stream",
     "text": [
      "2022-04-01 19:35:48.002000\n"
     ]
    },
    {
     "name": "stderr",
     "output_type": "stream",
     "text": [
      " 54%|█████████████████████████████████████▋                                | 6601144/12258057 [25:32<15:49, 5960.14it/s]"
     ]
    },
    {
     "name": "stdout",
     "output_type": "stream",
     "text": [
      "2022-04-01 19:43:05.262000\n"
     ]
    },
    {
     "name": "stderr",
     "output_type": "stream",
     "text": [
      " 55%|██████████████████████████████████████▎                               | 6701313/12258057 [25:46<12:15, 7556.50it/s]"
     ]
    },
    {
     "name": "stdout",
     "output_type": "stream",
     "text": [
      "2022-04-01 19:48:41.791000\n"
     ]
    },
    {
     "name": "stderr",
     "output_type": "stream",
     "text": [
      " 55%|██████████████████████████████████████▊                               | 6800860/12258057 [25:59<11:58, 7595.07it/s]"
     ]
    },
    {
     "name": "stdout",
     "output_type": "stream",
     "text": [
      "2022-04-01 19:53:31.881000\n"
     ]
    },
    {
     "name": "stderr",
     "output_type": "stream",
     "text": [
      " 56%|███████████████████████████████████████▍                              | 6901117/12258057 [26:11<10:55, 8166.07it/s]"
     ]
    },
    {
     "name": "stdout",
     "output_type": "stream",
     "text": [
      "2022-04-01 19:58:11.753000\n"
     ]
    },
    {
     "name": "stderr",
     "output_type": "stream",
     "text": [
      " 57%|███████████████████████████████████████▉                              | 7001460/12258057 [26:23<10:58, 7981.08it/s]"
     ]
    },
    {
     "name": "stdout",
     "output_type": "stream",
     "text": [
      "2022-04-01 20:02:42.650000\n"
     ]
    },
    {
     "name": "stderr",
     "output_type": "stream",
     "text": [
      " 58%|████████████████████████████████████████▌                             | 7101091/12258057 [26:35<09:34, 8979.59it/s]"
     ]
    },
    {
     "name": "stdout",
     "output_type": "stream",
     "text": [
      "2022-04-01 20:07:09.092000\n"
     ]
    },
    {
     "name": "stderr",
     "output_type": "stream",
     "text": [
      " 59%|█████████████████████████████████████████                             | 7201204/12258057 [26:46<09:33, 8824.76it/s]"
     ]
    },
    {
     "name": "stdout",
     "output_type": "stream",
     "text": [
      "2022-04-01 20:11:37.543000\n"
     ]
    },
    {
     "name": "stderr",
     "output_type": "stream",
     "text": [
      " 60%|█████████████████████████████████████████▋                            | 7301270/12258057 [26:57<09:09, 9017.11it/s]"
     ]
    },
    {
     "name": "stdout",
     "output_type": "stream",
     "text": [
      "2022-04-01 20:16:02.649000\n"
     ]
    },
    {
     "name": "stderr",
     "output_type": "stream",
     "text": [
      " 60%|██████████████████████████████████████████▎                           | 7401184/12258057 [27:09<09:48, 8246.79it/s]"
     ]
    },
    {
     "name": "stdout",
     "output_type": "stream",
     "text": [
      "2022-04-01 20:20:27.090000\n"
     ]
    },
    {
     "name": "stderr",
     "output_type": "stream",
     "text": [
      " 61%|██████████████████████████████████████████▊                           | 7501455/12258057 [27:20<08:38, 9165.32it/s]"
     ]
    },
    {
     "name": "stdout",
     "output_type": "stream",
     "text": [
      "2022-04-01 20:24:52.352000\n"
     ]
    },
    {
     "name": "stderr",
     "output_type": "stream",
     "text": [
      " 62%|███████████████████████████████████████████▍                          | 7601101/12258057 [27:31<08:39, 8966.70it/s]"
     ]
    },
    {
     "name": "stdout",
     "output_type": "stream",
     "text": [
      "2022-04-01 20:29:10.579000\n"
     ]
    },
    {
     "name": "stderr",
     "output_type": "stream",
     "text": [
      " 63%|███████████████████████████████████████████▉                          | 7701538/12258057 [27:42<07:58, 9522.09it/s]"
     ]
    },
    {
     "name": "stdout",
     "output_type": "stream",
     "text": [
      "2022-04-01 20:33:29.058000\n"
     ]
    },
    {
     "name": "stderr",
     "output_type": "stream",
     "text": [
      " 64%|████████████████████████████████████████████▌                         | 7801532/12258057 [27:54<07:53, 9404.50it/s]"
     ]
    },
    {
     "name": "stdout",
     "output_type": "stream",
     "text": [
      "2022-04-01 20:37:42.492000\n"
     ]
    },
    {
     "name": "stderr",
     "output_type": "stream",
     "text": [
      " 64%|█████████████████████████████████████████████                         | 7901024/12258057 [28:04<07:53, 9192.30it/s]"
     ]
    },
    {
     "name": "stdout",
     "output_type": "stream",
     "text": [
      "2022-04-01 20:41:50.423000\n"
     ]
    },
    {
     "name": "stderr",
     "output_type": "stream",
     "text": [
      " 65%|█████████████████████████████████████████████▋                        | 8001193/12258057 [28:15<07:11, 9857.47it/s]"
     ]
    },
    {
     "name": "stdout",
     "output_type": "stream",
     "text": [
      "2022-04-01 20:46:01.945000\n"
     ]
    },
    {
     "name": "stderr",
     "output_type": "stream",
     "text": [
      " 66%|██████████████████████████████████████████████▎                       | 8101443/12258057 [28:26<07:04, 9788.47it/s]"
     ]
    },
    {
     "name": "stdout",
     "output_type": "stream",
     "text": [
      "2022-04-01 20:50:16.381000\n"
     ]
    },
    {
     "name": "stderr",
     "output_type": "stream",
     "text": [
      " 67%|██████████████████████████████████████████████▊                       | 8201512/12258057 [28:36<07:02, 9596.73it/s]"
     ]
    },
    {
     "name": "stdout",
     "output_type": "stream",
     "text": [
      "2022-04-01 20:54:27.331000\n"
     ]
    },
    {
     "name": "stderr",
     "output_type": "stream",
     "text": [
      " 68%|███████████████████████████████████████████████▍                      | 8301736/12258057 [28:47<07:18, 9021.77it/s]"
     ]
    },
    {
     "name": "stdout",
     "output_type": "stream",
     "text": [
      "2022-04-01 20:58:39.768000\n"
     ]
    },
    {
     "name": "stderr",
     "output_type": "stream",
     "text": [
      " 69%|███████████████████████████████████████████████▉                      | 8401710/12258057 [28:59<06:53, 9325.05it/s]"
     ]
    },
    {
     "name": "stdout",
     "output_type": "stream",
     "text": [
      "2022-04-01 21:02:56.658000\n"
     ]
    },
    {
     "name": "stderr",
     "output_type": "stream",
     "text": [
      " 69%|████████████████████████████████████████████████▌                     | 8501538/12258057 [29:10<06:46, 9245.81it/s]"
     ]
    },
    {
     "name": "stdout",
     "output_type": "stream",
     "text": [
      "2022-04-01 21:07:13.443000\n"
     ]
    },
    {
     "name": "stderr",
     "output_type": "stream",
     "text": [
      " 70%|█████████████████████████████████████████████████                     | 8601682/12258057 [29:21<06:22, 9554.15it/s]"
     ]
    },
    {
     "name": "stdout",
     "output_type": "stream",
     "text": [
      "2022-04-01 21:11:30.345000\n"
     ]
    },
    {
     "name": "stderr",
     "output_type": "stream",
     "text": [
      " 71%|█████████████████████████████████████████████████▋                    | 8701560/12258057 [29:32<06:39, 8906.32it/s]"
     ]
    },
    {
     "name": "stdout",
     "output_type": "stream",
     "text": [
      "2022-04-01 21:15:47.506000\n"
     ]
    },
    {
     "name": "stderr",
     "output_type": "stream",
     "text": [
      " 72%|██████████████████████████████████████████████████▎                   | 8801529/12258057 [29:44<06:45, 8515.18it/s]"
     ]
    },
    {
     "name": "stdout",
     "output_type": "stream",
     "text": [
      "2022-04-01 21:20:06.691000\n"
     ]
    },
    {
     "name": "stderr",
     "output_type": "stream",
     "text": [
      " 73%|██████████████████████████████████████████████████▊                   | 8901390/12258057 [29:55<06:17, 8890.42it/s]"
     ]
    },
    {
     "name": "stdout",
     "output_type": "stream",
     "text": [
      "2022-04-01 21:24:29.502000\n"
     ]
    },
    {
     "name": "stderr",
     "output_type": "stream",
     "text": [
      " 73%|███████████████████████████████████████████████████▍                  | 9001208/12258057 [30:06<06:09, 8805.69it/s]"
     ]
    },
    {
     "name": "stdout",
     "output_type": "stream",
     "text": [
      "2022-04-01 21:28:56.517000\n"
     ]
    },
    {
     "name": "stderr",
     "output_type": "stream",
     "text": [
      " 74%|███████████████████████████████████████████████████▉                  | 9101437/12258057 [30:17<06:04, 8669.25it/s]"
     ]
    },
    {
     "name": "stdout",
     "output_type": "stream",
     "text": [
      "2022-04-01 21:33:24.555000\n"
     ]
    },
    {
     "name": "stderr",
     "output_type": "stream",
     "text": [
      " 75%|████████████████████████████████████████████████████▌                 | 9201275/12258057 [30:31<05:35, 9118.79it/s]"
     ]
    },
    {
     "name": "stdout",
     "output_type": "stream",
     "text": [
      "2022-04-01 21:37:55.516000\n"
     ]
    },
    {
     "name": "stderr",
     "output_type": "stream",
     "text": [
      " 76%|█████████████████████████████████████████████████████                 | 9301403/12258057 [30:42<05:58, 8257.78it/s]"
     ]
    },
    {
     "name": "stdout",
     "output_type": "stream",
     "text": [
      "2022-04-01 21:42:27.288000\n"
     ]
    },
    {
     "name": "stderr",
     "output_type": "stream",
     "text": [
      " 77%|█████████████████████████████████████████████████████▋                | 9401378/12258057 [30:54<05:08, 9245.61it/s]"
     ]
    },
    {
     "name": "stdout",
     "output_type": "stream",
     "text": [
      "2022-04-01 21:47:01.637000\n"
     ]
    },
    {
     "name": "stderr",
     "output_type": "stream",
     "text": [
      " 78%|██████████████████████████████████████████████████████▎               | 9501572/12258057 [31:05<05:32, 8291.12it/s]"
     ]
    },
    {
     "name": "stdout",
     "output_type": "stream",
     "text": [
      "2022-04-01 21:51:40.312000\n"
     ]
    },
    {
     "name": "stderr",
     "output_type": "stream",
     "text": [
      " 78%|██████████████████████████████████████████████████████▊               | 9601816/12258057 [31:16<04:55, 8997.06it/s]"
     ]
    },
    {
     "name": "stdout",
     "output_type": "stream",
     "text": [
      "2022-04-01 21:56:20.203000\n"
     ]
    },
    {
     "name": "stderr",
     "output_type": "stream",
     "text": [
      " 79%|███████████████████████████████████████████████████████▍              | 9701274/12258057 [31:27<04:29, 9475.62it/s]"
     ]
    },
    {
     "name": "stdout",
     "output_type": "stream",
     "text": [
      "2022-04-01 22:00:43.987000\n"
     ]
    },
    {
     "name": "stderr",
     "output_type": "stream",
     "text": [
      " 80%|███████████████████████████████████████████████████████▉              | 9800964/12258057 [31:38<04:36, 8876.43it/s]"
     ]
    },
    {
     "name": "stdout",
     "output_type": "stream",
     "text": [
      "2022-04-01 22:05:37.154000\n"
     ]
    },
    {
     "name": "stderr",
     "output_type": "stream",
     "text": [
      " 81%|████████████████████████████████████████████████████████▌             | 9901807/12258057 [31:48<04:04, 9647.95it/s]"
     ]
    },
    {
     "name": "stdout",
     "output_type": "stream",
     "text": [
      "2022-04-01 22:12:32.531000\n"
     ]
    },
    {
     "name": "stderr",
     "output_type": "stream",
     "text": [
      " 82%|████████████████████████████████████████████████████████▎            | 10001688/12258057 [31:59<03:54, 9616.07it/s]"
     ]
    },
    {
     "name": "stdout",
     "output_type": "stream",
     "text": [
      "2022-04-01 22:17:12.222000\n"
     ]
    },
    {
     "name": "stderr",
     "output_type": "stream",
     "text": [
      " 82%|████████████████████████████████████████████████████████▊            | 10101590/12258057 [32:10<03:50, 9338.83it/s]"
     ]
    },
    {
     "name": "stdout",
     "output_type": "stream",
     "text": [
      "2022-04-01 22:21:35.911000\n"
     ]
    },
    {
     "name": "stderr",
     "output_type": "stream",
     "text": [
      " 83%|█████████████████████████████████████████████████████████▍           | 10201252/12258057 [32:20<03:35, 9530.34it/s]"
     ]
    },
    {
     "name": "stdout",
     "output_type": "stream",
     "text": [
      "2022-04-01 22:25:58.743000\n"
     ]
    },
    {
     "name": "stderr",
     "output_type": "stream",
     "text": [
      " 84%|█████████████████████████████████████████████████████████▉           | 10301681/12258057 [32:31<03:35, 9078.50it/s]"
     ]
    },
    {
     "name": "stdout",
     "output_type": "stream",
     "text": [
      "2022-04-01 22:30:21.737000\n"
     ]
    },
    {
     "name": "stderr",
     "output_type": "stream",
     "text": [
      " 85%|██████████████████████████████████████████████████████████▌          | 10401285/12258057 [32:42<03:20, 9262.16it/s]"
     ]
    },
    {
     "name": "stdout",
     "output_type": "stream",
     "text": [
      "2022-04-01 22:34:37.471000\n"
     ]
    },
    {
     "name": "stderr",
     "output_type": "stream",
     "text": [
      " 86%|███████████████████████████████████████████████████████████          | 10501156/12258057 [32:53<03:07, 9364.51it/s]"
     ]
    },
    {
     "name": "stdout",
     "output_type": "stream",
     "text": [
      "2022-04-01 22:38:52.208000\n"
     ]
    },
    {
     "name": "stderr",
     "output_type": "stream",
     "text": [
      " 86%|███████████████████████████████████████████████████████████▋         | 10601011/12258057 [33:03<02:54, 9497.87it/s]"
     ]
    },
    {
     "name": "stdout",
     "output_type": "stream",
     "text": [
      "2022-04-01 22:43:09.015000\n"
     ]
    },
    {
     "name": "stderr",
     "output_type": "stream",
     "text": [
      " 87%|████████████████████████████████████████████████████████████▏        | 10701388/12258057 [33:14<03:03, 8494.95it/s]"
     ]
    },
    {
     "name": "stdout",
     "output_type": "stream",
     "text": [
      "2022-04-01 22:47:21.942000\n"
     ]
    },
    {
     "name": "stderr",
     "output_type": "stream",
     "text": [
      " 88%|████████████████████████████████████████████████████████████▊        | 10801713/12258057 [33:25<02:27, 9848.66it/s]"
     ]
    },
    {
     "name": "stdout",
     "output_type": "stream",
     "text": [
      "2022-04-01 22:51:48.138000\n"
     ]
    },
    {
     "name": "stderr",
     "output_type": "stream",
     "text": [
      " 89%|█████████████████████████████████████████████████████████████▎       | 10901726/12258057 [33:35<02:17, 9867.77it/s]"
     ]
    },
    {
     "name": "stdout",
     "output_type": "stream",
     "text": [
      "2022-04-01 22:56:05.165000\n"
     ]
    },
    {
     "name": "stderr",
     "output_type": "stream",
     "text": [
      " 90%|█████████████████████████████████████████████████████████████       | 11001209/12258057 [33:45<02:02, 10218.31it/s]"
     ]
    },
    {
     "name": "stdout",
     "output_type": "stream",
     "text": [
      "2022-04-01 23:00:27.803000\n"
     ]
    },
    {
     "name": "stderr",
     "output_type": "stream",
     "text": [
      " 91%|██████████████████████████████████████████████████████████████▍      | 11101024/12258057 [33:55<01:59, 9707.44it/s]"
     ]
    },
    {
     "name": "stdout",
     "output_type": "stream",
     "text": [
      "2022-04-01 23:04:55.637000\n"
     ]
    },
    {
     "name": "stderr",
     "output_type": "stream",
     "text": [
      " 91%|███████████████████████████████████████████████████████████████      | 11201545/12258057 [34:06<01:48, 9748.54it/s]"
     ]
    },
    {
     "name": "stdout",
     "output_type": "stream",
     "text": [
      "2022-04-01 23:09:20.563000\n"
     ]
    },
    {
     "name": "stderr",
     "output_type": "stream",
     "text": [
      " 92%|███████████████████████████████████████████████████████████████▌     | 11301747/12258057 [34:16<01:39, 9604.47it/s]"
     ]
    },
    {
     "name": "stdout",
     "output_type": "stream",
     "text": [
      "2022-04-01 23:13:50.175000\n"
     ]
    },
    {
     "name": "stderr",
     "output_type": "stream",
     "text": [
      " 93%|████████████████████████████████████████████████████████████████▏    | 11401405/12258057 [34:26<01:31, 9377.98it/s]"
     ]
    },
    {
     "name": "stdout",
     "output_type": "stream",
     "text": [
      "2022-04-01 23:18:25.473000\n"
     ]
    },
    {
     "name": "stderr",
     "output_type": "stream",
     "text": [
      " 94%|████████████████████████████████████████████████████████████████▋    | 11501694/12258057 [34:37<01:19, 9540.59it/s]"
     ]
    },
    {
     "name": "stdout",
     "output_type": "stream",
     "text": [
      "2022-04-01 23:22:52.750000\n"
     ]
    },
    {
     "name": "stderr",
     "output_type": "stream",
     "text": [
      " 95%|█████████████████████████████████████████████████████████████████▎   | 11601042/12258057 [34:48<01:07, 9709.19it/s]"
     ]
    },
    {
     "name": "stdout",
     "output_type": "stream",
     "text": [
      "2022-04-01 23:27:20.547000\n"
     ]
    },
    {
     "name": "stderr",
     "output_type": "stream",
     "text": [
      " 95%|█████████████████████████████████████████████████████████████████▊   | 11701228/12258057 [35:06<00:58, 9505.60it/s]"
     ]
    },
    {
     "name": "stdout",
     "output_type": "stream",
     "text": [
      "2022-04-01 23:31:52.298000\n"
     ]
    },
    {
     "name": "stderr",
     "output_type": "stream",
     "text": [
      " 96%|██████████████████████████████████████████████████████████████████▍  | 11801608/12258057 [35:17<00:48, 9485.56it/s]"
     ]
    },
    {
     "name": "stdout",
     "output_type": "stream",
     "text": [
      "2022-04-01 23:36:39.480000\n"
     ]
    },
    {
     "name": "stderr",
     "output_type": "stream",
     "text": [
      " 97%|██████████████████████████████████████████████████████████████████▉  | 11901795/12258057 [35:27<00:36, 9672.03it/s]"
     ]
    },
    {
     "name": "stdout",
     "output_type": "stream",
     "text": [
      "2022-04-01 23:41:34.862000\n"
     ]
    },
    {
     "name": "stderr",
     "output_type": "stream",
     "text": [
      " 98%|███████████████████████████████████████████████████████████████████▌ | 12001351/12258057 [35:38<00:27, 9326.60it/s]"
     ]
    },
    {
     "name": "stdout",
     "output_type": "stream",
     "text": [
      "2022-04-01 23:46:16.027000\n"
     ]
    },
    {
     "name": "stderr",
     "output_type": "stream",
     "text": [
      " 99%|████████████████████████████████████████████████████████████████████ | 12101753/12258057 [35:49<00:17, 9163.46it/s]"
     ]
    },
    {
     "name": "stdout",
     "output_type": "stream",
     "text": [
      "2022-04-01 23:51:10.706000\n"
     ]
    },
    {
     "name": "stderr",
     "output_type": "stream",
     "text": [
      "100%|████████████████████████████████████████████████████████████████████▋| 12200856/12258057 [36:24<00:07, 7909.06it/s]"
     ]
    },
    {
     "name": "stdout",
     "output_type": "stream",
     "text": [
      "2022-04-01 23:56:05.546000\n"
     ]
    },
    {
     "name": "stderr",
     "output_type": "stream",
     "text": [
      "100%|█████████████████████████████████████████████████████████████████████| 12258057/12258057 [36:31<00:00, 5593.66it/s]\n"
     ]
    }
   ],
   "source": [
    "dict_vertex = {}\n",
    "dict_pixel = {}\n",
    "dict_edges = {}\n",
    "\n",
    "\n",
    "grid_size = 1000\n",
    "g = Graph(directed = False)\n",
    "\n",
    "# internal properties\n",
    "v_type = g.new_vertex_property(\"int\") # user id for last action for each pixel\n",
    "v_filter = g.new_vertex_property(\"bool\") # the color of this action\n",
    "v_action_count = g.new_vertex_property(\"int\") # action count for the user\n",
    "v_id = g.new_vertex_property(\"string\") # type of vertex\n",
    "v_last_action_user = g.new_vertex_property(\"string\") # id for vertex\n",
    "v_last_vertex_date = g.new_vertex_property(\"string\")\n",
    "\n",
    "count = 0\n",
    "# user_id = 0\n",
    "canvas_2 = PlaceCanvas(1000,1000)\n",
    "\n",
    "\n",
    "for row in tqdm(df_small.values):\n",
    "        \n",
    "  \n",
    "    date = row[0]\n",
    "#     try:\n",
    "#         date = datetime.strptime(date, \"%Y-%m-%d %H:%M:%S\")\n",
    "#     except:\n",
    "#         date = datetime.strptime(date, \"%Y-%m-%d %H:%M:%S.%f\")\n",
    "    user = row[1]\n",
    "    color = row[2]\n",
    "    coord0 = int(row[3])\n",
    "    coord1 = int(row[4])\n",
    "    coords = f\"{coord0}|{coord1}\"\n",
    "    color_str = str(color)\n",
    "\n",
    "\n",
    "\n",
    "    if True: #date.day == 4 and date.hour < 24:\n",
    "        if coord0 < grid_size and coord1 < grid_size:\n",
    "\n",
    "#                 print(row)\n",
    "            if count % 100000 == 0:\n",
    "                print(date)\n",
    "            canvas_2.update_pixel(coord0, coord1, color)\n",
    "\n",
    "\n",
    "\n",
    "\n",
    "            if user not in dict_vertex:\n",
    "                # if no user in graph add vertex to dictionary, add vertex to graph\n",
    "                dict_vertex[user] = g.add_vertex() # this also adds the vertex to graph g\n",
    "                v_id[dict_vertex[user]] = user # internal property of user id for graph vertices\n",
    "#                 user_id += 1\n",
    "                v_type[dict_vertex[user]] = 0 # internal property of vertex type\n",
    "                v_action_count[dict_vertex[user]] = 1 # internal property of user's actions\n",
    "\n",
    "            else:\n",
    "                v_action_count[dict_vertex[user]] += 1 # add action count for the user\n",
    "                if v_action_count[dict_vertex[user]] >2: # action count boolean property for filtering out users that did only few actions\n",
    "                    v_filter[dict_vertex[user]] = True\n",
    "\n",
    "            if f\"{color}|{coords}\" not in dict_vertex:\n",
    "                # if no color/pixel in graph add vertex to dictionary, add vertex to graph\n",
    "                dict_vertex[f\"{color}|{coords}\"] = g.add_vertex()  \n",
    "                v_id[dict_vertex[f\"{color}|{coords}\"]] = f\"{color}|{coords}\"\n",
    "                v_type[dict_vertex[f\"{color}|{coords}\"]] = 1\n",
    "                v_filter[dict_vertex[f\"{color}|{coords}\"]] = True # always set to true to not filter out pixels\n",
    "\n",
    "\n",
    "\n",
    "            if f\"{user}|{color}|{coords}\" not in dict_edges:\n",
    "                # if a user performed exactly the same action twice we want to have it in the dictionary\n",
    "                e = g.add_edge(dict_vertex[user], dict_vertex[f\"{color}|{coords}\"]) # add edge \n",
    "                dict_edges[f\"{user}|{color}|{coords}\"] = 1 # record that we added this edge already\n",
    "\n",
    "            v_last_vertex_date[dict_vertex[user]] = date\n",
    "            v_last_vertex_date[dict_vertex[f\"{color}|{coords}\"]] = date\n",
    "            v_last_action_user[dict_vertex[f\"{color}|{coords}\"]] = user # overwrite the last action for a color/pixel by user id\n",
    "            dict_pixel[coords] = user\n",
    "\n",
    "            count += 1\n",
    "\n",
    "\n",
    "    else: \n",
    "        break\n",
    "        \n",
    "        \n",
    "canvas_2.save_canvas(path=\"\")"
   ]
  },
  {
   "cell_type": "code",
   "execution_count": 9,
   "id": "ab09fb2b",
   "metadata": {},
   "outputs": [
    {
     "name": "stdout",
     "output_type": "stream",
     "text": [
      "CPU times: user 1.73 s, sys: 278 ms, total: 2.01 s\n",
      "Wall time: 2.01 s\n"
     ]
    }
   ],
   "source": [
    "%%time\n",
    "g.save('graph_full.gt')"
   ]
  },
  {
   "cell_type": "code",
   "execution_count": 10,
   "id": "9e4497dd",
   "metadata": {},
   "outputs": [],
   "source": [
    "g.vp.v_type = v_type\n",
    "g.vp.v_id = v_id\n",
    "g.vp.v_last_action_user = v_last_action_user\n",
    "g.vp.v_last_vertex_date = v_last_vertex_date"
   ]
  },
  {
   "cell_type": "code",
   "execution_count": 11,
   "id": "91d699f3",
   "metadata": {},
   "outputs": [
    {
     "data": {
      "text/plain": [
       "<Graph object, undirected, with 5360337 vertices and 11799409 edges, 4 internal vertex properties, at 0x7f8136597eb0>"
      ]
     },
     "execution_count": 11,
     "metadata": {},
     "output_type": "execute_result"
    }
   ],
   "source": [
    "g"
   ]
  },
  {
   "cell_type": "code",
   "execution_count": 12,
   "id": "c0dc89eb",
   "metadata": {},
   "outputs": [],
   "source": [
    "old_sub = GraphView(g, v_filter)"
   ]
  },
  {
   "cell_type": "code",
   "execution_count": 13,
   "id": "6b283cce",
   "metadata": {},
   "outputs": [],
   "source": [
    "sub_g = Graph(old_sub, prune=True)"
   ]
  },
  {
   "cell_type": "code",
   "execution_count": 14,
   "id": "3e08bc19",
   "metadata": {},
   "outputs": [],
   "source": [
    "# graph_draw(sub_g, vertex_text=sub_g.vertex_index, output=\"whole_graph.pdf\", vertex_fill_color=sub_g.vp.v_type)"
   ]
  },
  {
   "cell_type": "code",
   "execution_count": 15,
   "id": "662a06fd",
   "metadata": {},
   "outputs": [
    {
     "data": {
      "text/plain": [
       "<Graph object, undirected, with 4308685 vertices and 10447334 edges, 4 internal vertex properties, at 0x7f80685df640>"
      ]
     },
     "execution_count": 15,
     "metadata": {},
     "output_type": "execute_result"
    }
   ],
   "source": [
    "sub_g"
   ]
  },
  {
   "cell_type": "markdown",
   "id": "2d91c90a",
   "metadata": {},
   "source": [
    "# Fillter out unconnected nodes"
   ]
  },
  {
   "cell_type": "code",
   "execution_count": 16,
   "id": "d9701e85",
   "metadata": {},
   "outputs": [],
   "source": [
    "in_degs = sub_g.get_in_degrees(sub_g.get_vertices())\n",
    "out_degs = sub_g.get_out_degrees(sub_g.get_vertices())"
   ]
  },
  {
   "cell_type": "code",
   "execution_count": 17,
   "id": "9608eae1",
   "metadata": {},
   "outputs": [],
   "source": [
    "v_filter_deg = sub_g.new_vertex_property(\"bool\")"
   ]
  },
  {
   "cell_type": "code",
   "execution_count": 18,
   "id": "b53e8142",
   "metadata": {},
   "outputs": [],
   "source": [
    "for i in range(len(in_degs)):\n",
    "    if (in_degs[i] != 0) or (out_degs[i] != 0):\n",
    "        v_filter_deg[i] = True"
   ]
  },
  {
   "cell_type": "code",
   "execution_count": 19,
   "id": "5eabb478",
   "metadata": {},
   "outputs": [],
   "source": [
    "v_con_sub_g = GraphView(sub_g, v_filter_deg)"
   ]
  },
  {
   "cell_type": "code",
   "execution_count": 20,
   "id": "b7588648",
   "metadata": {},
   "outputs": [
    {
     "data": {
      "text/plain": [
       "<GraphView object, undirected, with 3947994 vertices and 10447334 edges, 4 internal vertex properties, edges filtered by (<EdgePropertyMap object with value type 'bool', for Graph 0x7f80685ddf60, at 0x7f80685dd510>, False), vertices filtered by (<VertexPropertyMap object with value type 'bool', for Graph 0x7f80685ddf60, at 0x7f80685ddf00>, False), at 0x7f80685ddf60>"
      ]
     },
     "execution_count": 20,
     "metadata": {},
     "output_type": "execute_result"
    }
   ],
   "source": [
    "v_con_sub_g"
   ]
  },
  {
   "cell_type": "code",
   "execution_count": 22,
   "id": "ca08ab7c",
   "metadata": {},
   "outputs": [],
   "source": [
    "# graph_draw(v_con_sub_g, vertex_text=v_con_sub_g.vertex_index, output=\"filtered_graph.pdf\", vertex_fill_color=v_con_sub_g.vp.v_type)"
   ]
  },
  {
   "cell_type": "markdown",
   "id": "d138b07a",
   "metadata": {},
   "source": [
    "## Communities"
   ]
  },
  {
   "cell_type": "code",
   "execution_count": null,
   "id": "7ff49812",
   "metadata": {},
   "outputs": [],
   "source": [
    "state = minimize_blockmodel_dl(v_con_sub_g)"
   ]
  },
  {
   "cell_type": "code",
   "execution_count": 58,
   "id": "7026b0f3",
   "metadata": {},
   "outputs": [
    {
     "data": {
      "text/plain": [
       "<VertexPropertyMap object with value type 'vector<double>', for Graph 0x7f7c94588e50, at 0x7f7d46995330>"
      ]
     },
     "execution_count": 58,
     "metadata": {},
     "output_type": "execute_result"
    }
   ],
   "source": [
    "# state.draw(output=\"football-sbm-fit.pdf\",vertex_font_size=0.4, vertex_text=v_con_sub_g.vp.v_id)"
   ]
  },
  {
   "cell_type": "code",
   "execution_count": 24,
   "id": "b511ade4",
   "metadata": {},
   "outputs": [],
   "source": [
    "b = state.get_blocks()"
   ]
  },
  {
   "cell_type": "code",
   "execution_count": 25,
   "id": "9fc2889c",
   "metadata": {},
   "outputs": [
    {
     "data": {
      "text/plain": [
       "<GraphView object, undirected, with 39808 vertices and 80397 edges, 4 internal vertex properties, edges filtered by (<EdgePropertyMap object with value type 'bool', for Graph 0x7f1e035159c0, at 0x7f1c35d92470>, False), vertices filtered by (<VertexPropertyMap object with value type 'bool', for Graph 0x7f1e035159c0, at 0x7f1c35d93070>, False), at 0x7f1e035159c0>"
      ]
     },
     "execution_count": 25,
     "metadata": {},
     "output_type": "execute_result"
    }
   ],
   "source": [
    "v_con_sub_g"
   ]
  },
  {
   "cell_type": "code",
   "execution_count": 26,
   "id": "57b5f8ed",
   "metadata": {},
   "outputs": [],
   "source": [
    "df = pd.DataFrame(np.column_stack([list(sub_g.vp.v_id), list(b.a),list(sub_g.vp.v_type)]), columns=['id','community','type'])"
   ]
  },
  {
   "cell_type": "code",
   "execution_count": 27,
   "id": "2a8c649d",
   "metadata": {},
   "outputs": [],
   "source": [
    "df_last = pd.DataFrame(np.column_stack([list(sub_g.vp.v_id), list(sub_g.vp.v_last_action_user),list(sub_g.vp.v_type)]), columns=['id','last', 'type'])"
   ]
  },
  {
   "cell_type": "code",
   "execution_count": 28,
   "id": "5c1c7d72",
   "metadata": {},
   "outputs": [],
   "source": [
    "df_last['pixel'] = df_last[df_last.type==\"1\"].id.str.split('|')"
   ]
  },
  {
   "cell_type": "code",
   "execution_count": 29,
   "id": "11730103",
   "metadata": {},
   "outputs": [],
   "source": [
    "last_pixel = pd.DataFrame(np.column_stack([list(dict_pixel.keys()), list(dict_pixel.values())]), columns = ['coords','user'])"
   ]
  },
  {
   "cell_type": "code",
   "execution_count": 30,
   "id": "bd7ff70c",
   "metadata": {},
   "outputs": [],
   "source": [
    "user_community = df[(df.community != 0) & (df.type == '0')]"
   ]
  },
  {
   "cell_type": "code",
   "execution_count": 31,
   "id": "ca334cc4",
   "metadata": {},
   "outputs": [
    {
     "data": {
      "text/plain": [
       "16584    3867\n",
       "18180    3586\n",
       "37835    1807\n",
       "39265    1601\n",
       "35734    1452\n",
       "16130     485\n",
       "3136       26\n",
       "10102       4\n",
       "30369       4\n",
       "Name: community, dtype: int64"
      ]
     },
     "execution_count": 31,
     "metadata": {},
     "output_type": "execute_result"
    }
   ],
   "source": [
    "user_community.community.value_counts()"
   ]
  },
  {
   "cell_type": "code",
   "execution_count": 32,
   "id": "1a40a1d0",
   "metadata": {},
   "outputs": [],
   "source": [
    "df_vis = pd.merge(last_pixel, user_community, how = 'left', left_on='user', right_on = 'id')"
   ]
  },
  {
   "cell_type": "code",
   "execution_count": 33,
   "id": "0fa8d8b3",
   "metadata": {},
   "outputs": [],
   "source": [
    "df_vis = df_vis.dropna()[['coords','community']]"
   ]
  },
  {
   "cell_type": "code",
   "execution_count": 34,
   "id": "5d42b3ea",
   "metadata": {},
   "outputs": [],
   "source": [
    "df_vis.to_csv('df_vis.csv')"
   ]
  },
  {
   "cell_type": "code",
   "execution_count": 34,
   "id": "870f498d",
   "metadata": {},
   "outputs": [
    {
     "data": {
      "text/plain": [
       "16584    3867\n",
       "18180    3586\n",
       "37835    1807\n",
       "39265    1601\n",
       "35734    1452\n",
       "16130     485\n",
       "3136       26\n",
       "10102       4\n",
       "30369       4\n",
       "Name: community, dtype: int64"
      ]
     },
     "execution_count": 34,
     "metadata": {},
     "output_type": "execute_result"
    }
   ],
   "source": [
    "df[(df.community != 0) & (df.type == '0')].community.value_counts()"
   ]
  },
  {
   "cell_type": "markdown",
   "id": "c474666c",
   "metadata": {},
   "source": [
    "## Community vis"
   ]
  },
  {
   "cell_type": "code",
   "execution_count": 45,
   "id": "3ad5293a",
   "metadata": {},
   "outputs": [],
   "source": [
    "canvas = PlaceCanvas(100,100)"
   ]
  },
  {
   "cell_type": "code",
   "execution_count": 46,
   "id": "dbfd0a7d",
   "metadata": {},
   "outputs": [],
   "source": [
    "colors = dict(zip(df_vis['community'].unique(),\n",
    "                  (f'{c}' for c in matplotlib.colors.cnames.values())))"
   ]
  },
  {
   "cell_type": "code",
   "execution_count": 47,
   "id": "8c9bdf6c",
   "metadata": {},
   "outputs": [
    {
     "data": {
      "text/plain": [
       "{'#F0F8FF': '#F0F8FF',\n",
       " '#FAEBD7': '#FAEBD7',\n",
       " '#00FFFF': '#00FFFF',\n",
       " '#7FFFD4': '#7FFFD4',\n",
       " '#F0FFFF': '#F0FFFF',\n",
       " '#F5F5DC': '#F5F5DC',\n",
       " '#FFE4C4': '#FFE4C4',\n",
       " '#000000': '#000000'}"
      ]
     },
     "execution_count": 47,
     "metadata": {},
     "output_type": "execute_result"
    }
   ],
   "source": [
    "colors"
   ]
  },
  {
   "cell_type": "code",
   "execution_count": 49,
   "id": "1fcd1e11",
   "metadata": {},
   "outputs": [],
   "source": [
    "df_vis = df_vis.replace({\"community\": colors})"
   ]
  },
  {
   "cell_type": "code",
   "execution_count": 50,
   "id": "5af2550b",
   "metadata": {},
   "outputs": [],
   "source": [
    "for index, row in df_vis.iterrows():\n",
    "    x,y = row.coords.split(\"|\")\n",
    "    canvas.update_pixel(int(x),int(y),row.community)\n",
    "    "
   ]
  },
  {
   "cell_type": "code",
   "execution_count": 51,
   "id": "cbcc55e2",
   "metadata": {},
   "outputs": [],
   "source": [
    "canvas.save_canvas(path=\"\")"
   ]
  },
  {
   "cell_type": "markdown",
   "id": "4055c864",
   "metadata": {},
   "source": [
    "# Full graph communities"
   ]
  },
  {
   "cell_type": "code",
   "execution_count": 64,
   "id": "b62d6583",
   "metadata": {},
   "outputs": [],
   "source": [
    "g.save('graph_test.gt')"
   ]
  },
  {
   "cell_type": "code",
   "execution_count": 65,
   "id": "85940b84",
   "metadata": {},
   "outputs": [],
   "source": [
    "full_graph = load_graph('graph_test.gt')"
   ]
  },
  {
   "cell_type": "code",
   "execution_count": 5,
   "id": "f8674e08",
   "metadata": {},
   "outputs": [],
   "source": [
    "full_graph = load_graph('my_graph.xml')"
   ]
  },
  {
   "cell_type": "code",
   "execution_count": 7,
   "id": "f1681187",
   "metadata": {},
   "outputs": [
    {
     "data": {
      "text/plain": [
       "<Graph object, directed, with 32351787 vertices and 139834505 edges, at 0x7f1e9b706ce0>"
      ]
     },
     "execution_count": 7,
     "metadata": {},
     "output_type": "execute_result"
    }
   ],
   "source": [
    "full_graph"
   ]
  },
  {
   "cell_type": "code",
   "execution_count": 8,
   "id": "b1971c28",
   "metadata": {},
   "outputs": [],
   "source": [
    "v1 = full_graph.vertex(8093)"
   ]
  },
  {
   "cell_type": "code",
   "execution_count": 66,
   "id": "87edf4bd",
   "metadata": {},
   "outputs": [
    {
     "name": "stdout",
     "output_type": "stream",
     "text": [
      "v_id                   (vertex)  (type: string)\n",
      "v_last_action_user     (vertex)  (type: string)\n",
      "v_type                 (vertex)  (type: int32_t)\n"
     ]
    }
   ],
   "source": [
    "full_graph.list_properties()"
   ]
  },
  {
   "cell_type": "code",
   "execution_count": 67,
   "id": "dbd25dd6",
   "metadata": {},
   "outputs": [
    {
     "data": {
      "text/plain": [
       "{'v_type': <VertexPropertyMap object with value type 'int32_t', for Graph 0x7f1e5b9a11e0, at 0x7f1e5b7879d0>, 'v_id': <VertexPropertyMap object with value type 'string', for Graph 0x7f1e5b9a11e0, at 0x7f1e5b7875b0>, 'v_last_action_user': <VertexPropertyMap object with value type 'string', for Graph 0x7f1e5b9a11e0, at 0x7f1e5b786320>}"
      ]
     },
     "execution_count": 67,
     "metadata": {},
     "output_type": "execute_result"
    }
   ],
   "source": [
    "full_graph.vp"
   ]
  },
  {
   "cell_type": "code",
   "execution_count": null,
   "id": "d2c162a6",
   "metadata": {},
   "outputs": [],
   "source": [
    "in_degs = sub_g.get_in_degrees(sub_g.get_vertices())\n",
    "out_degs = sub_g.get_out_degrees(sub_g.get_vertices())"
   ]
  },
  {
   "cell_type": "code",
   "execution_count": null,
   "id": "c1f0871b",
   "metadata": {},
   "outputs": [],
   "source": [
    "v_filter_deg = sub_g.new_vertex_property(\"bool\")"
   ]
  },
  {
   "cell_type": "markdown",
   "id": "5735f6e6",
   "metadata": {},
   "source": [
    "# Tests"
   ]
  },
  {
   "cell_type": "code",
   "execution_count": 102,
   "id": "5c3fc7ca",
   "metadata": {},
   "outputs": [
    {
     "data": {
      "text/plain": [
       "'8Zbajz0Scbc0fb2vYNo2BNUnW85I1/TBZPoFUTkODd4z/QRk9/AdvaDYd/F34ZTHkgtk7Nvb4a5hyMJXgfflHQ=='"
      ]
     },
     "execution_count": 102,
     "metadata": {},
     "output_type": "execute_result"
    }
   ],
   "source": [
    "v_test = v_con_sub_g.vertex(4275)\n",
    "v_con_sub_g.vp.v_id[v_test]"
   ]
  },
  {
   "cell_type": "code",
   "execution_count": 104,
   "id": "03201574",
   "metadata": {},
   "outputs": [
    {
     "name": "stdout",
     "output_type": "stream",
     "text": [
      "v_type\n",
      "v_id\n"
     ]
    }
   ],
   "source": [
    "for key in v_con_sub_g.vp.keys():\n",
    "    print(key)"
   ]
  },
  {
   "cell_type": "code",
   "execution_count": 105,
   "id": "b18f438e",
   "metadata": {},
   "outputs": [
    {
     "name": "stdout",
     "output_type": "stream",
     "text": [
      "(4275, 4274)\n"
     ]
    }
   ],
   "source": [
    "for edge in g.vertex(4275).all_edges():\n",
    "    print(edge)"
   ]
  },
  {
   "cell_type": "code",
   "execution_count": 115,
   "id": "587278ee",
   "metadata": {},
   "outputs": [],
   "source": [
    "v1 = old_sub.vertex(4275)"
   ]
  },
  {
   "cell_type": "code",
   "execution_count": 117,
   "id": "baf67485",
   "metadata": {},
   "outputs": [
    {
     "data": {
      "text/plain": [
       "'#00A368\"1169|8\"'"
      ]
     },
     "execution_count": 117,
     "metadata": {},
     "output_type": "execute_result"
    }
   ],
   "source": [
    "old_sub.vp.v_id[v1][:15]"
   ]
  },
  {
   "cell_type": "code",
   "execution_count": 108,
   "id": "e3355d3b",
   "metadata": {},
   "outputs": [],
   "source": [
    "v1 = sub_g.vertex(4275)"
   ]
  },
  {
   "cell_type": "code",
   "execution_count": 118,
   "id": "bd55fb8f",
   "metadata": {},
   "outputs": [
    {
     "data": {
      "text/plain": [
       "'8Zbajz0Scbc0fb2'"
      ]
     },
     "execution_count": 118,
     "metadata": {},
     "output_type": "execute_result"
    }
   ],
   "source": [
    "sub_g.vp.v_id[v1][:15]"
   ]
  },
  {
   "cell_type": "code",
   "execution_count": 111,
   "id": "dabc2b73",
   "metadata": {},
   "outputs": [],
   "source": [
    "v1 = g.vertex(8093)"
   ]
  },
  {
   "cell_type": "code",
   "execution_count": 112,
   "id": "483712b1",
   "metadata": {},
   "outputs": [
    {
     "data": {
      "text/plain": [
       "'8Zbajz0Scbc0fb2vYNo2BNUnW85I1/TBZPoFUTkODd4z/QRk9/AdvaDYd/F34ZTHkgtk7Nvb4a5hyMJXgfflHQ=='"
      ]
     },
     "execution_count": 112,
     "metadata": {},
     "output_type": "execute_result"
    }
   ],
   "source": [
    "g.vp.v_id[v1]"
   ]
  },
  {
   "cell_type": "code",
   "execution_count": null,
   "id": "a40e6f93",
   "metadata": {},
   "outputs": [],
   "source": []
  },
  {
   "cell_type": "code",
   "execution_count": 21,
   "id": "9a7f51a8",
   "metadata": {},
   "outputs": [],
   "source": [
    "for edge in old_sub.vertex(4275).all_edges():\n",
    "    print(edge)"
   ]
  },
  {
   "cell_type": "code",
   "execution_count": 11,
   "id": "acb61b91",
   "metadata": {},
   "outputs": [
    {
     "data": {
      "text/plain": [
       "<Graph object, undirected, with 3994 vertices and 959 edges, 3 internal vertex properties, at 0x7f20a1c87520>"
      ]
     },
     "execution_count": 11,
     "metadata": {},
     "output_type": "execute_result"
    }
   ],
   "source": [
    "sub_g"
   ]
  },
  {
   "cell_type": "code",
   "execution_count": 22,
   "id": "4f089b68",
   "metadata": {},
   "outputs": [
    {
     "data": {
      "text/plain": [
       "['#D4D7D9\"52|7\"',\n",
       " '1',\n",
       " '#FFFFFF\"24|96\"',\n",
       " '#000000\"15|2\"',\n",
       " '#FFFFFF\"64|22\"',\n",
       " '#E4ABFF\"0|6\"',\n",
       " '#515252\"54|78\"',\n",
       " '#7EED56\"0|0\"',\n",
       " '#000000\"85|29\"',\n",
       " '#000000\"81|94\"',\n",
       " '#000000\"3|0\"',\n",
       " '#2450A4\"68|98\"',\n",
       " '11',\n",
       " '#00CC78\"75|76\"',\n",
       " '#FFFFFF\"2|38\"',\n",
       " '#000000\"52|7\"',\n",
       " '#FFFFFF\"78|11\"',\n",
       " '#DE107F\"4|0\"',\n",
       " '#000000\"69|69\"',\n",
       " '#000000\"34|4\"',\n",
       " '#FFFFFF\"18|87\"',\n",
       " '#BE0039\"93|47\"',\n",
       " '21',\n",
       " '#9C6926\"2|65\"',\n",
       " '#FFFFFF\"36|99\"',\n",
       " '23',\n",
       " '#000000\"52|64\"',\n",
       " '#000000\"54|65\"',\n",
       " '#FFFFFF\"0|33\"',\n",
       " '#51E9F4\"0|4\"',\n",
       " '#FFFFFF\"5|57\"',\n",
       " '28',\n",
       " '#000000\"20|82\"',\n",
       " '#000000\"2|2\"',\n",
       " '#FFFFFF\"60|21\"',\n",
       " '#E4ABFF\"1|81\"',\n",
       " '#FFFFFF\"0|0\"',\n",
       " '#515252\"2|2\"',\n",
       " '#000000\"24|95\"',\n",
       " '#000000\"75|13\"',\n",
       " '#FFFFFF\"26|26\"',\n",
       " '#000000\"33|17\"',\n",
       " '#FFFFFF\"0|1\"',\n",
       " '#000000\"8|28\"',\n",
       " '#FFFFFF\"0|3\"',\n",
       " '#000000\"5|57\"',\n",
       " '#000000\"76|23\"',\n",
       " '#7EED56\"5|0\"',\n",
       " '#2450A4\"69|92\"',\n",
       " '#000000\"80|9\"',\n",
       " '48',\n",
       " '#FFFFFF\"21|95\"',\n",
       " '50',\n",
       " '#FFFFFF\"31|79\"',\n",
       " '#000000\"56|0\"',\n",
       " '#811E9F\"0|0\"',\n",
       " '#FFFFFF\"74|6\"',\n",
       " '#FFA800\"8|0\"',\n",
       " '#000000\"22|95\"',\n",
       " '#000000\"69|6\"',\n",
       " '#000000\"0|0\"',\n",
       " '#BE0039\"1|35\"',\n",
       " '#FFA800\"3|0\"',\n",
       " '#FF4500\"6|0\"',\n",
       " '#DE107F\"18|11\"',\n",
       " '#00CC78\"29|72\"',\n",
       " '#009EAA\"0|3\"',\n",
       " '#000000\"27|0\"',\n",
       " '#000000\"71|9\"',\n",
       " '#FFFFFF\"56|0\"',\n",
       " '#2450A4\"94|81\"',\n",
       " '#00CC78\"24|72\"',\n",
       " '#FFD635\"96|84\"',\n",
       " '#000000\"54|69\"',\n",
       " '#6D482F\"0|7\"',\n",
       " '#FF99AA\"21|96\"',\n",
       " '#FF4500\"0|7\"',\n",
       " '#FFFFFF\"73|21\"',\n",
       " '#000000\"43|7\"',\n",
       " '#000000\"14|9\"',\n",
       " '#000000\"85|30\"',\n",
       " '#FFFFFF\"71|9\"',\n",
       " '#FFFFFF\"52|99\"',\n",
       " '#FFA800\"0|8\"',\n",
       " '#000000\"18|11\"',\n",
       " '#FF4500\"94|85\"',\n",
       " '#FF99AA\"0|0\"',\n",
       " '#FFFFFF\"21|96\"',\n",
       " '#FFFFFF\"0|5\"',\n",
       " '#811E9F\"1|35\"',\n",
       " '#000000\"48|99\"',\n",
       " '#FFFFFF\"80|9\"',\n",
       " '97',\n",
       " '#FFFFFF\"14|72\"',\n",
       " '#FF4500\"97|82\"',\n",
       " '#FF3881\"0|9\"',\n",
       " '#000000\"60|21\"',\n",
       " '#FFFFFF\"0|8\"',\n",
       " '#FFFFFF\"2|0\"',\n",
       " '104',\n",
       " '#000000\"1|91\"',\n",
       " '#FF99AA\"0|10\"',\n",
       " '#FFFFFF\"27|0\"',\n",
       " '#FFFFFF\"4|0\"',\n",
       " '#DE107F\"0|0\"',\n",
       " '#811E9F\"9|0\"',\n",
       " '#000000\"31|31\"',\n",
       " '#D4D7D9\"0|0\"',\n",
       " '#000000\"73|21\"',\n",
       " '113',\n",
       " '#FFFFFF\"9|88\"',\n",
       " '#000000\"33|37\"',\n",
       " '#00A368\"0|11\"',\n",
       " '#FFFFFF\"54|98\"',\n",
       " '#515252\"0|11\"',\n",
       " '#51E9F4\"22|96\"',\n",
       " '#FFFFFF\"0|7\"',\n",
       " '#000000\"1|0\"',\n",
       " '#FF4500\"97|81\"',\n",
       " '123',\n",
       " '#000000\"50|84\"',\n",
       " '#000000\"7|12\"',\n",
       " '#FFFFFF\"72|13\"',\n",
       " '127',\n",
       " '#2450A4\"13|71\"',\n",
       " '#51E9F4\"0|17\"',\n",
       " '#000000\"14|41\"',\n",
       " '#FFFFFF\"40|99\"',\n",
       " '131',\n",
       " '#FF99AA\"0|1\"',\n",
       " '#000000\"55|69\"',\n",
       " '#000000\"50|47\"',\n",
       " '#51E9F4\"36|12\"',\n",
       " '#7EED56\"68|98\"',\n",
       " '#FFFFFF\"3|0\"',\n",
       " '#FFFFFF\"75|13\"',\n",
       " '139',\n",
       " '#2450A4\"68|92\"',\n",
       " '#FFFFFF\"0|17\"',\n",
       " '#000000\"86|82\"',\n",
       " '#B44AC0\"0|14\"',\n",
       " '#811E9F\"70|98\"',\n",
       " '#51E9F4\"10|0\"',\n",
       " '146',\n",
       " '#FFFFFF\"28|90\"',\n",
       " '#FFFFFF\"9|0\"',\n",
       " '148',\n",
       " '#000000\"72|14\"',\n",
       " '149',\n",
       " '#FF4500\"12|71\"',\n",
       " '#FF4500\"14|52\"',\n",
       " '#FF4500\"4|8\"',\n",
       " '152',\n",
       " '#000000\"71|13\"',\n",
       " '153',\n",
       " '#000000\"52|84\"',\n",
       " '#FFFFFF\"0|2\"',\n",
       " '#000000\"36|12\"',\n",
       " '#6D001A\"14|0\"',\n",
       " '#FF3881\"4|50\"',\n",
       " '158',\n",
       " '#00A368\"36|76\"',\n",
       " '#811E9F\"0|12\"',\n",
       " '#FFFFFF\"0|9\"',\n",
       " '#FFFFFF\"1|57\"',\n",
       " '#51E9F4\"53|87\"',\n",
       " '#2450A4\"0|0\"',\n",
       " '165',\n",
       " '#FFFFFF\"0|14\"',\n",
       " '#2450A4\"86|82\"',\n",
       " '#000000\"25|10\"',\n",
       " '#000000\"60|25\"',\n",
       " '#BE0039\"2|64\"',\n",
       " '#FFFFFF\"0|10\"',\n",
       " '#FFFFFF\"14|52\"',\n",
       " '#000000\"15|72\"',\n",
       " '#6D482F\"55|90\"',\n",
       " '#000000\"60|24\"',\n",
       " '176',\n",
       " '#000000\"0|81\"',\n",
       " '#FFFFFF\"14|0\"',\n",
       " '#000000\"60|23\"',\n",
       " '179',\n",
       " '#FFD635\"36|75\"',\n",
       " '180',\n",
       " '#000000\"1|57\"',\n",
       " '#000000\"60|22\"',\n",
       " '#FFFFFF\"87|10\"',\n",
       " '#B44AC0\"94|76\"',\n",
       " '#000000\"62|86\"',\n",
       " '#000000\"4|8\"',\n",
       " '#FFFFFF\"0|12\"',\n",
       " '#FFFFFF\"65|7\"',\n",
       " '#000000\"60|26\"',\n",
       " '#811E9F\"68|98\"',\n",
       " '#00CC78\"28|72\"',\n",
       " '#2450A4\"97|85\"',\n",
       " '#FFFFFF\"0|6\"',\n",
       " '#FFFFFF\"60|22\"',\n",
       " '197',\n",
       " '#FFFFFF\"64|59\"',\n",
       " '198',\n",
       " '#D4D7D9\"1|80\"',\n",
       " '200',\n",
       " '#FFFFFF\"4|50\"',\n",
       " '201',\n",
       " '#000000\"2|64\"',\n",
       " '#FF4500\"15|12\"',\n",
       " '#FFFFFF\"87|11\"',\n",
       " '#000000\"65|7\"',\n",
       " '#FFFFFF\"10|0\"',\n",
       " '207',\n",
       " '#FFFFFF\"14|41\"',\n",
       " '#000000\"60|20\"',\n",
       " '#FFFFFF\"90|43\"',\n",
       " '#D4D7D9\"60|23\"',\n",
       " '213',\n",
       " '#51E9F4\"0|91\"',\n",
       " '#2450A4\"94|76\"',\n",
       " '#000000\"2|0\"',\n",
       " '#FFFFFF\"60|23\"',\n",
       " '217',\n",
       " '#000000\"15|12\"',\n",
       " '220',\n",
       " '#FFFFFF\"60|26\"',\n",
       " '#FF4500\"5|21\"',\n",
       " '#FFFFFF\"60|25\"',\n",
       " '#7EED56\"37|45\"',\n",
       " '#FFFFFF\"0|11\"',\n",
       " '#DE107F\"0|6\"',\n",
       " '226',\n",
       " '#00A368\"5|79\"',\n",
       " '#FFD635\"31|69\"',\n",
       " '#000000\"4|50\"',\n",
       " '#FFFFFF\"8|0\"',\n",
       " '#BE0039\"0|0\"',\n",
       " '#515252\"6|30\"',\n",
       " '#000000\"21|85\"',\n",
       " '#FFFFFF\"60|24\"',\n",
       " '#3690EA\"10|0\"',\n",
       " '#FFFFFF\"60|20\"',\n",
       " '#FFFFFF\"14|90\"',\n",
       " '#FFFFFF\"89|94\"',\n",
       " '#000000\"64|54\"',\n",
       " '#FF4500\"1|94\"',\n",
       " '#000000\"87|11\"',\n",
       " '245',\n",
       " '#000000\"84|74\"',\n",
       " '#000000\"11|91\"',\n",
       " '247',\n",
       " '#00A368\"8|80\"',\n",
       " '#000000\"6|10\"',\n",
       " '#51E9F4\"58|94\"',\n",
       " '250',\n",
       " '#FFFFFF\"16|72\"',\n",
       " '251',\n",
       " '#000000\"0|80\"',\n",
       " '#FFFFFF\"37|45\"',\n",
       " '#FFFFFF\"13|8\"',\n",
       " '#BE0039\"3|3\"',\n",
       " '#FFD635\"62|19\"',\n",
       " '#000000\"23|98\"',\n",
       " '#000000\"24|98\"',\n",
       " '#FF4500\"17|10\"',\n",
       " '#FFFFFF\"1|0\"',\n",
       " '#51E9F4\"24|96\"',\n",
       " '#000000\"87|10\"',\n",
       " '#FFFFFF\"48|99\"',\n",
       " '#FF4500\"0|0\"',\n",
       " '#FFD635\"0|0\"',\n",
       " '#FFFFFF\"14|8\"',\n",
       " '#FFFFFF\"43|33\"',\n",
       " '#E4ABFF\"5|22\"',\n",
       " '#000000\"1|32\"',\n",
       " '#000000\"3|3\"',\n",
       " '#000000\"81|9\"',\n",
       " '#FFD635\"58|56\"',\n",
       " '#000000\"6|30\"',\n",
       " '#000000\"13|8\"',\n",
       " '#000000\"56|11\"',\n",
       " '#493AC1\"57|8\"',\n",
       " '#FFFFFF\"5|0\"',\n",
       " '#00CC78\"25|10\"',\n",
       " '#FFFFFF\"5|21\"',\n",
       " '#BE0039\"3|37\"',\n",
       " '#FFA800\"52|12\"',\n",
       " '#2450A4\"84|74\"',\n",
       " '#51E9F4\"45|98\"',\n",
       " '#FFFFFF\"12|14\"',\n",
       " '#FFA800\"1|0\"',\n",
       " '#000000\"52|12\"',\n",
       " '#FFFFFF\"3|37\"',\n",
       " '#00CC78\"1|94\"',\n",
       " '#FFFFFF\"7|0\"',\n",
       " '#FF4500\"22|88\"',\n",
       " '#000000\"57|8\"',\n",
       " '#FFFFFF\"5|22\"',\n",
       " '#000000\"39|86\"',\n",
       " '#000000\"17|10\"',\n",
       " '#FFFFFF\"99|39\"',\n",
       " '#000000\"22|98\"',\n",
       " '#6D001A\"89|95\"',\n",
       " '#000000\"62|19\"',\n",
       " '#FF3881\"33|7\"',\n",
       " '#FFD635\"69|69\"',\n",
       " '#FFFFFF\"31|18\"',\n",
       " '#000000\"14|8\"',\n",
       " '#BE0039\"90|43\"',\n",
       " '#2450A4\"1|1\"',\n",
       " '#000000\"74|6\"',\n",
       " '#000000\"31|18\"',\n",
       " '320',\n",
       " '#00CC78\"34|65\"',\n",
       " '#898D90\"86|83\"',\n",
       " '#FFD635\"45|94\"',\n",
       " '323',\n",
       " '#000000\"84|75\"',\n",
       " '#FF4500\"66|92\"',\n",
       " '325',\n",
       " '#BE0039\"2|82\"',\n",
       " '#FF3881\"37|38\"',\n",
       " '#000000\"33|7\"',\n",
       " '331',\n",
       " '#00CC78\"69|69\"',\n",
       " '#493AC1\"24|0\"',\n",
       " '#000000\"1|1\"',\n",
       " '#51E9F4\"21|95\"',\n",
       " '335',\n",
       " '#000000\"23|85\"',\n",
       " '#000000\"57|97\"',\n",
       " '#000000\"58|76\"',\n",
       " '#FFFFFF\"81|9\"',\n",
       " '340',\n",
       " '#000000\"92|75\"',\n",
       " '#FF4500\"27|11\"',\n",
       " '342',\n",
       " '#FF4500\"65|92\"',\n",
       " '#FFFFFF\"24|0\"',\n",
       " '#6D001A\"0|0\"',\n",
       " '#E4ABFF\"0|0\"',\n",
       " '#FFFFFF\"6|0\"',\n",
       " '#FFFFFF\"97|98\"',\n",
       " '#000000\"27|11\"',\n",
       " '#FFFFFF\"75|6\"',\n",
       " '#00A368\"0|0\"',\n",
       " '#FF3881\"37|39\"',\n",
       " '#FFFFFF\"0|4\"',\n",
       " '#2450A4\"84|75\"',\n",
       " '#2450A4\"96|84\"',\n",
       " '#FFFFFF\"26|97\"',\n",
       " '#2450A4\"4|4\"',\n",
       " '#000000\"2|32\"',\n",
       " '#00CC78\"33|65\"',\n",
       " '#FFFFFF\"37|38\"',\n",
       " '362',\n",
       " '#51E9F4\"45|94\"',\n",
       " '#000000\"21|97\"',\n",
       " '#00756F\"64|54\"',\n",
       " '#FFFFFF\"86|83\"',\n",
       " '#000000\"12|14\"',\n",
       " '#3690EA\"90|40\"',\n",
       " '#2450A4\"37|41\"',\n",
       " '#6A5CFF\"6|5\"',\n",
       " '#51E9F4\"57|97\"',\n",
       " '#000000\"1|94\"',\n",
       " '#000000\"75|27\"',\n",
       " '#515252\"50|99\"',\n",
       " '#00CC78\"0|1\"',\n",
       " '#000000\"4|4\"',\n",
       " '#000000\"25|97\"',\n",
       " '#000000\"6|5\"',\n",
       " '#000000\"1|10\"',\n",
       " '#FFFFFF\"50|99\"',\n",
       " '385',\n",
       " '#000000\"58|56\"',\n",
       " '387',\n",
       " '#FFFFFF\"37|39\"',\n",
       " '#FFFFFF\"89|95\"',\n",
       " '#000000\"83|4\"',\n",
       " '#515252\"93|9\"',\n",
       " '#FFFFFF\"80|14\"',\n",
       " '#2450A4\"92|75\"',\n",
       " '#FFFFFF\"37|41\"',\n",
       " '#51E9F4\"7|88\"',\n",
       " '#000000\"0|33\"',\n",
       " '399',\n",
       " '#000000\"84|76\"',\n",
       " '401',\n",
       " '#FFFFFF\"48|0\"',\n",
       " '#515252\"92|9\"',\n",
       " '#2450A4\"14|99\"',\n",
       " '#2450A4\"66|90\"',\n",
       " '#E4ABFF\"10|5\"',\n",
       " '#FFFFFF\"35|8\"',\n",
       " '#2450A4\"84|76\"',\n",
       " '412',\n",
       " '#FF4500\"66|88\"',\n",
       " '#898D90\"92|10\"',\n",
       " '#000000\"21|96\"',\n",
       " '418',\n",
       " '#FFA800\"54|65\"',\n",
       " '421',\n",
       " '#FFFFFF\"22|53\"',\n",
       " '423',\n",
       " '#000000\"92|76\"',\n",
       " '#FFFFFF\"93|9\"',\n",
       " '#FF4500\"78|31\"',\n",
       " '#000000\"81|36\"',\n",
       " '#7EED56\"53|87\"',\n",
       " '#B44AC0\"3|37\"',\n",
       " '#00CC78\"60|91\"',\n",
       " '#000000\"10|5\"',\n",
       " '#2450A4\"24|88\"',\n",
       " '#51E9F4\"58|95\"',\n",
       " '#6D001A\"25|96\"',\n",
       " '#000000\"47|47\"',\n",
       " '436',\n",
       " '#000000\"78|50\"',\n",
       " '#6A5CFF\"0|54\"',\n",
       " '#000000\"5|29\"',\n",
       " '440',\n",
       " '#FFFFFF\"4|84\"',\n",
       " '#FF4500\"12|65\"',\n",
       " '#FF4500\"50|84\"',\n",
       " '#000000\"78|31\"',\n",
       " '#000000\"5|20\"',\n",
       " '#51E9F4\"22|97\"',\n",
       " '#000000\"35|8\"',\n",
       " '#FFFFFF\"6|4\"',\n",
       " '#00CC78\"32|65\"',\n",
       " '#000000\"50|98\"',\n",
       " '#000000\"97|98\"',\n",
       " '#FFFFFF\"11|4\"',\n",
       " '#FFFFFF\"33|8\"',\n",
       " '458',\n",
       " '#FF4500\"24|90\"',\n",
       " '#000000\"6|4\"',\n",
       " '#6D482F\"13|13\"',\n",
       " '#000000\"0|54\"',\n",
       " '#BE0039\"24|24\"',\n",
       " '#00CCC0\"0|0\"',\n",
       " '#FFFFFF\"6|36\"',\n",
       " '#2450A4\"92|76\"',\n",
       " '#000000\"23|95\"',\n",
       " '#FFFFFF\"5|20\"',\n",
       " '#FFA800\"55|66\"',\n",
       " '471',\n",
       " '#FF4500\"23|90\"',\n",
       " '#00CC78\"1|0\"',\n",
       " '#000000\"24|24\"',\n",
       " '#000000\"94|81\"',\n",
       " '476',\n",
       " '#2450A4\"65|90\"',\n",
       " '#811E9F\"6|36\"',\n",
       " '#FF4500\"68|19\"',\n",
       " '#00CC78\"0|0\"',\n",
       " '#00CC78\"31|65\"',\n",
       " '#51E9F4\"24|97\"',\n",
       " '#51E9F4\"23|97\"',\n",
       " '#FFFFFF\"81|94\"',\n",
       " '#2450A4\"46|73\"',\n",
       " '#000000\"11|4\"',\n",
       " '#000000\"33|8\"',\n",
       " '488',\n",
       " '#FFFFFF\"24|91\"',\n",
       " '#FFD635\"33|69\"',\n",
       " '#FFFFFF\"24|98\"',\n",
       " '#FFFFFF\"80|22\"',\n",
       " '495',\n",
       " '#000000\"84|77\"',\n",
       " '#000000\"68|19\"',\n",
       " '498',\n",
       " '#000000\"62|73\"',\n",
       " '#00CC78\"3|0\"',\n",
       " '500',\n",
       " '#FFFFFF\"22|95\"',\n",
       " '#FFA800\"39|98\"',\n",
       " '#000000\"13|13\"',\n",
       " '#000000\"93|10\"',\n",
       " '#000000\"91|21\"',\n",
       " '#000000\"50|97\"',\n",
       " '#000000\"1|58\"',\n",
       " '514',\n",
       " '#FFFFFF\"23|91\"',\n",
       " '#FFFFFF\"64|45\"',\n",
       " '516',\n",
       " '#000000\"92|77\"',\n",
       " '#FFFFFF\"92|10\"',\n",
       " '#000000\"21|95\"',\n",
       " '#FFFFFF\"16|7\"',\n",
       " '#FFA800\"56|66\"',\n",
       " '524',\n",
       " '#6D482F\"9|67\"',\n",
       " '#000000\"99|72\"',\n",
       " '#FFFFFF\"50|97\"',\n",
       " '#000000\"87|21\"',\n",
       " '#000000\"16|7\"',\n",
       " '#000000\"89|80\"',\n",
       " '#FFFFFF\"33|37\"',\n",
       " '534',\n",
       " '#FFFFFF\"21|91\"',\n",
       " '#2450A4\"84|77\"',\n",
       " '#51E9F4\"58|96\"',\n",
       " '#493AC1\"89|80\"',\n",
       " '542',\n",
       " '#2450A4\"92|77\"',\n",
       " '#898D90\"2|2\"',\n",
       " '#000000\"89|63\"',\n",
       " '#000000\"68|98\"',\n",
       " '#FFFFFF\"6|72\"',\n",
       " '#B44AC0\"4|37\"',\n",
       " '#FFFFFF\"1|1\"',\n",
       " '#3690EA\"67|47\"',\n",
       " '#2450A4\"89|80\"',\n",
       " '#FFFFFF\"72|14\"',\n",
       " '554',\n",
       " '#898D90\"94|70\"',\n",
       " '#FFFFFF\"26|50\"',\n",
       " '557',\n",
       " '#00A368\"0|77\"',\n",
       " '#000000\"51|13\"',\n",
       " '#FFFFFF\"28|8\"',\n",
       " '#00CC78\"27|72\"',\n",
       " '#FFFFFF\"87|21\"',\n",
       " '#FF4500\"77|92\"',\n",
       " '#FFFFFF\"5|4\"',\n",
       " '#FFFFFF\"51|98\"',\n",
       " '#51E9F4\"58|97\"',\n",
       " '568',\n",
       " '#811E9F\"4|37\"',\n",
       " '#000000\"92|9\"',\n",
       " '572',\n",
       " '#FFFFFF\"1|58\"',\n",
       " '#00CC78\"26|72\"',\n",
       " '#FF4500\"69|90\"',\n",
       " '577',\n",
       " '#898D90\"95|70\"',\n",
       " '#6D001A\"14|7\"',\n",
       " '#FFFFFF\"50|98\"',\n",
       " '#000000\"5|4\"',\n",
       " '#3690EA\"65|85\"',\n",
       " '#000000\"28|8\"',\n",
       " '#000000\"54|78\"',\n",
       " '#FFFFFF\"11|91\"',\n",
       " '#000000\"26|50\"',\n",
       " '#000000\"24|81\"',\n",
       " '#3690EA\"0|0\"',\n",
       " '#E4ABFF\"43|99\"',\n",
       " '#BE0039\"71|11\"',\n",
       " '#FFFFFF\"29|8\"',\n",
       " '#51E9F4\"6|6\"',\n",
       " '#FFFFFF\"63|40\"',\n",
       " '#000000\"25|96\"',\n",
       " '597',\n",
       " '#FFA800\"57|67\"',\n",
       " '#FF4500\"52|84\"',\n",
       " '#000000\"5|26\"',\n",
       " '#00CC78\"16|72\"',\n",
       " '#FFFFFF\"81|19\"',\n",
       " '603',\n",
       " '#000000\"54|79\"',\n",
       " '#FFFFFF\"90|71\"',\n",
       " '#FFFFFF\"31|49\"',\n",
       " '#000000\"14|7\"',\n",
       " '#000000\"29|8\"',\n",
       " '#FFFFFF\"71|11\"',\n",
       " '#FF4500\"68|90\"',\n",
       " '613',\n",
       " '#000000\"15|78\"',\n",
       " '#000000\"6|6\"',\n",
       " '#FF4500\"21|98\"',\n",
       " '#000000\"72|13\"',\n",
       " '#7EED56\"36|7\"',\n",
       " '#FF4500\"20|97\"',\n",
       " '#000000\"81|19\"',\n",
       " '#000000\"0|61\"',\n",
       " '622',\n",
       " '#898D90\"94|71\"',\n",
       " '#00756F\"69|69\"',\n",
       " '624',\n",
       " '#000000\"36|7\"',\n",
       " '#000000\"89|9\"',\n",
       " '#BE0039\"89|19\"',\n",
       " '#FFFFFF\"4|27\"',\n",
       " '#FFFFFF\"23|97\"',\n",
       " '#000000\"71|7\"',\n",
       " '#00CCC0\"55|10\"',\n",
       " '#000000\"72|7\"',\n",
       " '635',\n",
       " '#000000\"61|58\"',\n",
       " '#51E9F4\"49|11\"',\n",
       " '638',\n",
       " '#FFFFFF\"71|13\"',\n",
       " '#000000\"89|19\"',\n",
       " '#000000\"3|28\"',\n",
       " '#2450A4\"70|98\"',\n",
       " '#FF3881\"20|97\"',\n",
       " '#515252\"24|98\"',\n",
       " '#3690EA\"68|85\"',\n",
       " '649',\n",
       " '#000000\"88|74\"',\n",
       " '#000000\"55|10\"',\n",
       " '#000000\"58|97\"',\n",
       " '#000000\"63|40\"',\n",
       " '#009EAA\"5|53\"',\n",
       " '#000000\"54|80\"',\n",
       " '#FFFFFF\"23|95\"',\n",
       " '#FFFFFF\"24|95\"',\n",
       " '#FFD635\"3|4\"',\n",
       " '#000000\"49|11\"',\n",
       " '#51E9F4\"0|0\"',\n",
       " '#FFFFFF\"26|96\"',\n",
       " '#00CCC0\"23|97\"',\n",
       " '#3690EA\"7|9\"',\n",
       " '#000000\"63|71\"',\n",
       " '#000000\"5|53\"',\n",
       " '#FFFFFF\"94|82\"',\n",
       " '#9C6926\"75|87\"',\n",
       " '#FFFFFF\"5|26\"',\n",
       " '676',\n",
       " '#000000\"22|22\"',\n",
       " '#000000\"7|9\"',\n",
       " '679',\n",
       " '#FFF8B8\"62|92\"',\n",
       " '#FFFFFF\"22|96\"',\n",
       " '#BE0039\"19|89\"',\n",
       " '#51E9F4\"23|96\"',\n",
       " '#D4D7D9\"40|10\"',\n",
       " '#FFFFFF\"35|4\"',\n",
       " '#2450A4\"88|74\"',\n",
       " '#FFFFFF\"89|63\"',\n",
       " '#3690EA\"65|86\"',\n",
       " '#000000\"3|4\"',\n",
       " '#000000\"50|99\"',\n",
       " '#000000\"20|81\"',\n",
       " '#BE0039\"33|10\"',\n",
       " '#000000\"0|60\"',\n",
       " '#7EED56\"55|90\"',\n",
       " '#000000\"40|10\"',\n",
       " '#000000\"62|91\"',\n",
       " '#FFFFFF\"38|9\"',\n",
       " '703',\n",
       " '#00A368\"35|79\"',\n",
       " '#000000\"83|80\"',\n",
       " '#515252\"48|13\"',\n",
       " '#000000\"98|33\"',\n",
       " '#000000\"33|10\"',\n",
       " '#000000\"35|4\"',\n",
       " '713',\n",
       " '#000000\"99|52\"',\n",
       " '#FFFFFF\"30|79\"',\n",
       " '#000000\"7|5\"',\n",
       " '#FFFFFF\"0|60\"',\n",
       " '#FF4500\"65|88\"',\n",
       " '#2450A4\"94|82\"',\n",
       " '#FFFFFF\"92|22\"',\n",
       " '#000000\"71|8\"',\n",
       " '#000000\"48|13\"',\n",
       " '#000000\"7|44\"',\n",
       " '#FFF8B8\"0|0\"',\n",
       " '#811E9F\"1|0\"',\n",
       " '#FFFFFF\"91|21\"',\n",
       " '#000000\"37|45\"',\n",
       " '#000000\"38|9\"',\n",
       " '#94B3FF\"18|32\"',\n",
       " '#000000\"11|28\"',\n",
       " '#FFFFFF\"25|97\"',\n",
       " '#FFFFFF\"95|84\"',\n",
       " '#000000\"17|74\"',\n",
       " '#000000\"4|27\"',\n",
       " '#000000\"18|32\"',\n",
       " '#7EED56\"57|90\"',\n",
       " '#51E9F4\"2|0\"',\n",
       " '#000000\"37|71\"',\n",
       " '#FFFFFF\"71|8\"',\n",
       " '#2450A4\"83|80\"',\n",
       " '#000000\"0|6\"',\n",
       " '#000000\"21|92\"',\n",
       " '#FFFFFF\"7|44\"',\n",
       " '#7EED56\"0|1\"',\n",
       " '#000000\"22|92\"',\n",
       " '#FFFFFF\"71|7\"',\n",
       " '#811E9F\"1|2\"',\n",
       " '753',\n",
       " '#FFFFFF\"0|61\"',\n",
       " '#FFFFFF\"22|98\"',\n",
       " '#FFFFFF\"41|42\"',\n",
       " '#000000\"10|87\"',\n",
       " '#FFF8B8\"0|15\"',\n",
       " '#FFFFFF\"22|97\"',\n",
       " '#FFFFFF\"23|98\"',\n",
       " '#FFFFFF\"21|98\"',\n",
       " '#811E9F\"6|0\"',\n",
       " '#000000\"80|33\"',\n",
       " '#00CC78\"19|72\"',\n",
       " '#FFFFFF\"47|25\"',\n",
       " '#000000\"10|91\"',\n",
       " '#FFFFFF\"90|51\"',\n",
       " '#493AC1\"1|1\"',\n",
       " '#3690EA\"11|8\"',\n",
       " '#FFFFFF\"20|97\"',\n",
       " '#000000\"41|42\"',\n",
       " '#000000\"1|2\"',\n",
       " '#00CC78\"20|72\"',\n",
       " '#000000\"9|89\"',\n",
       " '#000000\"37|52\"',\n",
       " '#000000\"11|8\"',\n",
       " '#FFFFFF\"75|87\"',\n",
       " '#94B3FF\"3|0\"',\n",
       " '#FFFFFF\"98|33\"',\n",
       " '#FFFFFF\"91|20\"',\n",
       " '#898D90\"4|2\"',\n",
       " '#000000\"65|85\"',\n",
       " '#3690EA\"66|86\"',\n",
       " '#FF3881\"1|1\"',\n",
       " '#FFFFFF\"22|92\"',\n",
       " '789',\n",
       " '#000000\"47|91\"',\n",
       " '#FFFFFF\"96|84\"',\n",
       " '#FFD635\"20|81\"',\n",
       " '#FFFFFF\"21|97\"',\n",
       " '#811E9F\"1|45\"',\n",
       " '#000000\"63|87\"',\n",
       " '#00CC78\"25|72\"',\n",
       " '#009EAA\"0|0\"',\n",
       " '#B44AC0\"2|1\"',\n",
       " '#FFFFFF\"0|15\"',\n",
       " '798',\n",
       " '#FFFFFF\"39|66\"',\n",
       " '#FFFFFF\"23|96\"',\n",
       " '#51E9F4\"58|98\"',\n",
       " '#000000\"4|2\"',\n",
       " '#000000\"1|64\"',\n",
       " '#FFFFFF\"80|33\"',\n",
       " '#000000\"31|13\"',\n",
       " '#6A5CFF\"38|48\"',\n",
       " '#00CC78\"30|65\"',\n",
       " '#FF4500\"0|2\"',\n",
       " '#000000\"38|48\"',\n",
       " '#811E9F\"11|82\"',\n",
       " '#000000\"75|12\"',\n",
       " '#51E9F4\"58|99\"',\n",
       " '814',\n",
       " '#811E9F\"39|66\"',\n",
       " '#000000\"8|11\"',\n",
       " '#FFFFFF\"95|83\"',\n",
       " '#FFD635\"0|2\"',\n",
       " '#000000\"2|1\"',\n",
       " '#3690EA\"7|7\"',\n",
       " '#E4ABFF\"30|11\"',\n",
       " '#FFA800\"0|3\"',\n",
       " '#FFFFFF\"27|26\"',\n",
       " '#FFFFFF\"12|83\"',\n",
       " '#2450A4\"1|32\"',\n",
       " '#FF4500\"13|64\"',\n",
       " '#000000\"6|17\"',\n",
       " '#9C6926\"3|65\"',\n",
       " '#00CC78\"21|72\"',\n",
       " '830',\n",
       " '#000000\"2|67\"',\n",
       " '#FFB470\"0|0\"',\n",
       " '#51E9F4\"1|70\"',\n",
       " '#515252\"30|11\"',\n",
       " '#FFFFFF\"19|25\"',\n",
       " '#000000\"7|7\"',\n",
       " '#00A368\"2|0\"',\n",
       " '#000000\"85|74\"',\n",
       " '#000000\"71|95\"',\n",
       " '#FFFFFF\"82|21\"',\n",
       " '#000000\"46|67\"',\n",
       " '#811E9F\"0|4\"',\n",
       " '#000000\"75|26\"',\n",
       " '#000000\"26|22\"',\n",
       " '#FF4500\"4|6\"',\n",
       " '#000000\"9|81\"',\n",
       " '#00A368\"69|69\"',\n",
       " '#811E9F\"0|5\"',\n",
       " '#BE0039\"1|64\"',\n",
       " '#000000\"30|11\"',\n",
       " '#BE0039\"4|6\"',\n",
       " '#000000\"4|6\"',\n",
       " '#DE107F\"1|1\"',\n",
       " '#3690EA\"6|72\"',\n",
       " '#FFFFFF\"92|9\"',\n",
       " '#000000\"0|76\"',\n",
       " '#00A368\"0|82\"',\n",
       " '#2450A4\"85|74\"',\n",
       " '#51E9F4\"0|1\"',\n",
       " '#000000\"57|11\"',\n",
       " '#FFFFFF\"3|3\"',\n",
       " '#000000\"19|25\"',\n",
       " '#000000\"0|88\"',\n",
       " '868',\n",
       " '#BE0039\"29|13\"',\n",
       " '#FFFFFF\"37|52\"',\n",
       " '#7EED56\"42|13\"',\n",
       " '#FF4500\"21|50\"',\n",
       " '#00A368\"12|81\"',\n",
       " '#FFFFFF\"46|67\"',\n",
       " '#FFFFFF\"26|22\"',\n",
       " '#E4ABFF\"1|2\"',\n",
       " '#FFFFFF\"49|25\"',\n",
       " '#000000\"42|13\"',\n",
       " '#D4D7D9\"24|0\"',\n",
       " '#FFFFFF\"15|72\"',\n",
       " '#FFFFFF\"5|5\"',\n",
       " '#FFD635\"50|84\"',\n",
       " '#000000\"29|13\"',\n",
       " '#7EED56\"32|21\"',\n",
       " '#000000\"21|50\"',\n",
       " '#BE0039\"8|31\"',\n",
       " '#2450A4\"0|55\"',\n",
       " '#000000\"64|22\"',\n",
       " '#FFD635\"0|86\"',\n",
       " '#2450A4\"14|71\"',\n",
       " '#FFFFFF\"24|97\"',\n",
       " '#515252\"0|0\"',\n",
       " '#000000\"86|75\"',\n",
       " '#000000\"72|23\"',\n",
       " '#FFFFFF\"72|6\"',\n",
       " '#000000\"5|54\"',\n",
       " '#FFFFFF\"96|97\"',\n",
       " '#FF4500\"46|88\"',\n",
       " '#FFFFFF\"8|52\"',\n",
       " '#7EED56\"2|1\"',\n",
       " '#000000\"8|31\"',\n",
       " '#000000\"5|5\"',\n",
       " '#000000\"71|10\"',\n",
       " '#FFFFFF\"6|17\"',\n",
       " '#000000\"49|98\"',\n",
       " '#FFFFFF\"87|0\"',\n",
       " '#000000\"93|75\"',\n",
       " '#811E9F\"2|2\"',\n",
       " '#000000\"96|97\"',\n",
       " '#9C6926\"4|65\"',\n",
       " '#000000\"0|93\"',\n",
       " '#FFFFFF\"69|69\"',\n",
       " '#000000\"39|27\"',\n",
       " '#2450A4\"86|75\"',\n",
       " '#FFFFFF\"33|33\"',\n",
       " '929',\n",
       " '#000000\"0|64\"',\n",
       " '#BE0039\"1|1\"',\n",
       " '#2450A4\"15|71\"',\n",
       " '#000000\"49|99\"',\n",
       " '#FFFFFF\"49|98\"',\n",
       " '#FFFFFF\"72|23\"',\n",
       " '#51E9F4\"56|96\"',\n",
       " '#2450A4\"57|76\"',\n",
       " '#000000\"22|85\"',\n",
       " '#D4D7D9\"4|50\"',\n",
       " '#D4D7D9\"5|23\"',\n",
       " '#FFA800\"71|95\"',\n",
       " '#FFFFFF\"71|10\"',\n",
       " '#FFFFFF\"32|21\"',\n",
       " '#6A5CFF\"1|0\"',\n",
       " '#FFFFFF\"0|55\"',\n",
       " '#FFFFFF\"49|99\"',\n",
       " '#FFFFFF\"96|83\"',\n",
       " '#000000\"68|85\"',\n",
       " '#000000\"5|25\"',\n",
       " '#94B3FF\"1|0\"',\n",
       " '#000000\"85|76\"',\n",
       " '#FFFFFF\"56|96\"',\n",
       " '#000000\"23|82\"',\n",
       " '#2450A4\"65|86\"',\n",
       " '#811E9F\"5|73\"',\n",
       " '#FF4500\"68|86\"',\n",
       " '#BE0039\"63|22\"',\n",
       " '#000000\"99|39\"',\n",
       " '#9C6926\"1|65\"',\n",
       " '#000000\"93|76\"',\n",
       " '#00A368\"95|83\"',\n",
       " '#FFA800\"3|48\"',\n",
       " '#FF3881\"94|95\"',\n",
       " '#00CC78\"57|90\"',\n",
       " '976',\n",
       " '#2450A4\"93|76\"',\n",
       " '#FFFFFF\"5|25\"',\n",
       " '982',\n",
       " '#2450A4\"93|75\"',\n",
       " '#00A368\"96|83\"',\n",
       " '#FF4500\"60|20\"',\n",
       " '#000000\"78|51\"',\n",
       " '#BE0039\"0|2\"',\n",
       " '#FFFFFF\"5|23\"',\n",
       " '#493AC1\"2|3\"',\n",
       " '#BE0039\"2|81\"',\n",
       " '#FFFFFF\"6|6\"',\n",
       " '#00A368\"0|81\"',\n",
       " '#000000\"94|95\"',\n",
       " '#D4D7D9\"0|9\"',\n",
       " '#000000\"2|3\"',\n",
       " '993',\n",
       " '#FFFFFF\"22|8\"',\n",
       " '#2450A4\"85|76\"',\n",
       " '#6D001A\"8|31\"',\n",
       " '#2450A4\"58|20\"',\n",
       " '#00CCC0\"39|10\"',\n",
       " '#000000\"59|40\"',\n",
       " '#000000\"85|77\"',\n",
       " '#FF4500\"24|92\"',\n",
       " '#000000\"1|15\"',\n",
       " '#E4ABFF\"0|1\"',\n",
       " '#FFFFFF\"63|22\"',\n",
       " '#000000\"15|62\"',\n",
       " '#FFFFFF\"3|48\"',\n",
       " '#BE0039\"36|74\"',\n",
       " '#FF3881\"52|11\"',\n",
       " '#000000\"94|74\"',\n",
       " '#000000\"93|77\"',\n",
       " '#FFFFFF\"22|9\"',\n",
       " '#FFFFFF\"59|40\"',\n",
       " '#00CCC0\"83|96\"',\n",
       " '#000000\"52|11\"',\n",
       " '#000000\"59|41\"',\n",
       " '#FFA800\"53|64\"',\n",
       " '#FFA800\"58|68\"',\n",
       " '#2450A4\"93|77\"',\n",
       " '#00CC78\"46|21\"',\n",
       " '#BE0039\"3|2\"',\n",
       " '#000000\"22|9\"',\n",
       " '#7EED56\"61|58\"',\n",
       " '#000000\"89|21\"',\n",
       " '#000000\"22|8\"',\n",
       " '#FFFFFF\"80|23\"',\n",
       " '#000000\"58|20\"',\n",
       " '#FF4500\"55|8\"',\n",
       " '#00A368\"35|76\"',\n",
       " '#BE0039\"2|2\"',\n",
       " '#000000\"27|51\"',\n",
       " '#FFD635\"3|3\"',\n",
       " '#00A368\"96|84\"',\n",
       " '#FF4500\"28|88\"',\n",
       " '#FFFFFF\"59|41\"',\n",
       " '#2450A4\"85|77\"',\n",
       " '#00CC78\"29|65\"',\n",
       " '#000000\"73|23\"',\n",
       " '#000000\"93|74\"',\n",
       " '#000000\"89|13\"',\n",
       " '#515252\"1|32\"',\n",
       " '#000000\"55|8\"',\n",
       " '#FFFFFF\"12|17\"',\n",
       " '#000000\"74|73\"',\n",
       " '#FFD635\"59|17\"',\n",
       " '#FFFFFF\"46|21\"',\n",
       " '#000000\"80|23\"',\n",
       " '#00A368\"95|84\"',\n",
       " '#000000\"39|10\"',\n",
       " '#FFFFFF\"85|73\"',\n",
       " '#FFA800\"17|76\"',\n",
       " '#000000\"59|17\"',\n",
       " '#FFFFFF\"83|96\"',\n",
       " '#000000\"10|68\"',\n",
       " '1067',\n",
       " '#898D90\"82|83\"',\n",
       " '#FFFFFF\"62|9\"',\n",
       " '#FFFFFF\"86|73\"',\n",
       " '#FF4500\"3|2\"',\n",
       " '#FF3881\"0|0\"',\n",
       " '#FFFFFF\"57|24\"',\n",
       " '#FFFFFF\"89|13\"',\n",
       " '#000000\"48|90\"',\n",
       " '#000000\"5|87\"',\n",
       " '#7EED56\"0|70\"',\n",
       " '#000000\"3|2\"',\n",
       " '#BE0039\"7|0\"',\n",
       " '#000000\"94|58\"',\n",
       " '#FFFFFF\"91|73\"',\n",
       " '#6D001A\"0|33\"',\n",
       " '#FFFFFF\"82|83\"',\n",
       " '1087',\n",
       " '#FFFFFF\"1|81\"',\n",
       " '#FFD635\"4|4\"',\n",
       " '#FFA800\"60|69\"',\n",
       " '#000000\"62|9\"',\n",
       " '1093',\n",
       " '#000000\"81|65\"',\n",
       " '#000000\"89|10\"',\n",
       " '#000000\"20|77\"',\n",
       " '#000000\"15|79\"',\n",
       " '1098',\n",
       " '#000000\"62|53\"',\n",
       " '#7EED56\"94|58\"',\n",
       " '#FFFFFF\"92|73\"',\n",
       " '#FFFFFF\"48|23\"',\n",
       " '#6D001A\"3|37\"',\n",
       " '#000000\"7|47\"',\n",
       " '#00CC78\"23|72\"',\n",
       " '#FFFFFF\"23|53\"',\n",
       " '#51E9F4\"89|10\"',\n",
       " '#FFFFFF\"62|53\"',\n",
       " '#000000\"21|94\"',\n",
       " '1115',\n",
       " '#00CC78\"13|53\"',\n",
       " '#000000\"89|74\"',\n",
       " '#000000\"8|18\"',\n",
       " '#7EED56\"3|2\"',\n",
       " '1122',\n",
       " '#FFFFFF\"61|9\"',\n",
       " ...]"
      ]
     },
     "execution_count": 22,
     "metadata": {},
     "output_type": "execute_result"
    }
   ],
   "source": [
    "list(sub_g.vp.v_id)"
   ]
  },
  {
   "cell_type": "code",
   "execution_count": 15,
   "id": "856126fc",
   "metadata": {},
   "outputs": [
    {
     "name": "stdout",
     "output_type": "stream",
     "text": [
      "(200, 199)\n",
      "(200, 2259)\n",
      "(200, 3277)\n",
      "(200, 3280)\n"
     ]
    }
   ],
   "source": [
    "for edge in g.vertex(200).all_edges():\n",
    "    print(edge)"
   ]
  },
  {
   "cell_type": "code",
   "execution_count": 16,
   "id": "4792b1d1",
   "metadata": {},
   "outputs": [
    {
     "name": "stdout",
     "output_type": "stream",
     "text": [
      "(200, 199)\n"
     ]
    }
   ],
   "source": [
    "for edge in sub_g.vertex(200).all_edges():\n",
    "    print(edge)"
   ]
  },
  {
   "cell_type": "code",
   "execution_count": 23,
   "id": "3b16246a",
   "metadata": {},
   "outputs": [
    {
     "name": "stdout",
     "output_type": "stream",
     "text": [
      "(4275, 4276)\n",
      "(4275, 5783)\n",
      "(4275, 7356)\n",
      "(4275, 8919)\n",
      "(4275, 11625)\n",
      "(4275, 13096)\n",
      "(4275, 14497)\n",
      "(4275, 16119)\n",
      "(4275, 17713)\n"
     ]
    }
   ],
   "source": [
    "for edge in v_con_sub_g.vertex(4275).all_edges():\n",
    "    print(edge)"
   ]
  },
  {
   "cell_type": "code",
   "execution_count": 25,
   "id": "d6364dfa",
   "metadata": {},
   "outputs": [
    {
     "name": "stdout",
     "output_type": "stream",
     "text": [
      "(8093, 8094)\n",
      "(8093, 10976)\n",
      "(8093, 14092)\n",
      "(8093, 17252)\n",
      "(8093, 22818)\n",
      "(8093, 25944)\n",
      "(8093, 28964)\n",
      "(8093, 32542)\n",
      "(8093, 36025)\n"
     ]
    }
   ],
   "source": [
    "for edge in dict_vertex['8Zbajz0Scbc0fb2vYNo2BNUnW85I1/TBZPoFUTkODd4z/QRk9/AdvaDYd/F34ZTHkgtk7Nvb4a5hyMJXgfflHQ=='].all_edges():\n",
    "    print(edge)"
   ]
  },
  {
   "cell_type": "code",
   "execution_count": null,
   "id": "7a9bb460",
   "metadata": {},
   "outputs": [],
   "source": []
  },
  {
   "cell_type": "code",
   "execution_count": 256,
   "id": "7e0e7a2c",
   "metadata": {},
   "outputs": [
    {
     "data": {
      "text/plain": [
       "{'neOdfPFywDW+27oZPIQTTND8XrdpxNprL3djflcEse30DvB3cUeXmkk0433s1u6hTKS0sJlauy97nxfffnZD7A==': <Vertex object with index '0' at 0x1d59a07b0>,\n",
       " '#FFFFFF\"1169|8\"': <Vertex object with index '1' at 0x1d59a3370>,\n",
       " 'Uj516Da76vRFlduIU/9XCjkqKkjkOadNy9l7Uou5kUQT8YLBb8+BUMHb9KhMQ07vOgMdueM4jXrAfOWspzmWFA==': <Vertex object with index '2' at 0x1d59a2340>,\n",
       " '#BE0039\"9|1349\"': <Vertex object with index '3' at 0x1d59a2110>,\n",
       " 'lSzxKxeOO7wPnHVJZukNkE6KKpPxgfjdFYpTsgcrmsLQXj1M8VcIhxgxzNouuUU+1pgOWIZNwOI3rhZp7U3b0Q==': <Vertex object with index '4' at 0x1d59a2490>,\n",
       " '#D4D7D9\"52|7\"': <Vertex object with index '5' at 0x1d59a1fc0>,\n",
       " 'NEPi1MYeEzOQ2ectLpueAhcHPH+2qKYLlQWgPBEGrJF1UnEZV8QVKPsZT1SviB4YfQSwUyqfgz0Lp5qnnyH4/A==': <Vertex object with index '6' at 0x1d59a2180>,\n",
       " '#FFA800\"385|2\"': <Vertex object with index '7' at 0x1d59a12a0>,\n",
       " '8XKUQZ6w0aHrrZM7Sevh7Fq9QFPl8wLP/XiJxvyzGVed2K9p21zNFd+XvifN6FccpGeHirL1Dsgo0hT1sJ5ZvA==': <Vertex object with index '8' at 0x1d59a1000>,\n",
       " '#000000\"1|1971\"': <Vertex object with index '9' at 0x1d59a1700>,\n",
       " 'ze0X0VWjDN6PGpRrO84Wn9U2Q+LrFc5Erzl9bjhbw3M0TaTwYh1j9jkwxLh/8GnPCualDLaATUhukabfUX+c0g==': <Vertex object with index '10' at 0x1d59a3f40>,\n",
       " '#FF4500\"2|853\"': <Vertex object with index '11' at 0x1d59a3920>,\n",
       " 'ZgZRU2TyMsvlI8S8HfMDt33CJprvo760wpQYWrS+xgJXldK0/oQwEkJnh+HMyU7QR4bENrq++wY4QLMDYtnYiQ==': <Vertex object with index '12' at 0x1d59a3760>,\n",
       " '#000000\"6|773\"': <Vertex object with index '13' at 0x1d59a35a0>,\n",
       " '3mazyh8djcVkvhKnR3sqsECpChWuJewcIDLu/BqErrLKfP21oL6YlUyPqoaCbciwRlFFdLbQV3QlcFjtSTa6zw==': <Vertex object with index '14' at 0x1d59a3140>,\n",
       " '#000000\"15|2\"': <Vertex object with index '15' at 0x1d59a2ea0>,\n",
       " 'IKdV2K1L7FWnaKDW37uYe37MrmQ7DvWjkQ1BMPNuEBobD5wFGRfGy1Uh5DTKIIQ50JJnmCE+gDM20n6rIsqsLA==': <Vertex object with index '16' at 0x1d59a2c00>,\n",
       " '#E4ABFF\"0|6\"': <Vertex object with index '17' at 0x1d59a2960>,\n",
       " '4dk0dzF+bNvc6q+dZYkgHlwO+ex63PfZTu7zNMLXe1ok/7dcgeWBRf8i98lGmFdZi85xO6bV15e7YIZq2TT4Tw==': <Vertex object with index '18' at 0x1d59a2a40>,\n",
       " '#3690EA\"1999|1\"': <Vertex object with index '19' at 0x1d59a2c70>,\n",
       " '2o+sLujGurNBvx/2riYRpz76ceDXJkUFYhTlw/R8X92E5RzKvUYEHSvUrc8gMD9cHT7i0NuRTlTL14yMFZUZpQ==': <Vertex object with index '20' at 0x1d59a2f10>,\n",
       " '#9C6926\"0|1999\"': <Vertex object with index '21' at 0x1d59a3450>,\n",
       " '96L59Pl9m9b+8LzK3Io+2mv/Jg0FufvV/Cr1Jaeyxq4kLvgZZY9WOacAsoaGdWrfnyr4yQksIBVyNd7PE7CdoQ==': <Vertex object with index '22' at 0x1d59a3610>,\n",
       " '#FFA800\"645|8\"': <Vertex object with index '23' at 0x1d59a37d0>,\n",
       " 'QFSnFw/HBAUHVRZnkjd47Q78ksq6ZQ5mcnLVfDPdzRVm90Qw5sDR3BHnYYI2kLzMyEjepkh2BwmPAoxqeBgpfw==': <Vertex object with index '24' at 0x1d59a3a70>,\n",
       " '#FFFFFF\"898|0\"': <Vertex object with index '25' at 0x1d59a1620>,\n",
       " '3C006yRIg6yhbLbvGac07oIyXHg+dB+TQlIZYyUnyh8P1Sv0Bh16i3Liv31dE3HSTSN5ipLwNZ5b6yTogMA3kA==': <Vertex object with index '26' at 0x1d59a0430>,\n",
       " '#9C6926\"3|1093\"': <Vertex object with index '27' at 0x1d59a0900>,\n",
       " '+YmaVHoF3QugjYUHYPPtlsJKSZeAE3aE8bw4najohmW/azqJ5cm7ZdeSRkVkcVX+8yZ9AGzvn0Q1hhg4pdhigg==': <Vertex object with index '28' at 0x1d59a13f0>,\n",
       " '#2450A4\"1|139\"': <Vertex object with index '29' at 0x1d59a0e40>,\n",
       " 'buaSYXNGZU8fWpsIFF8+QZ8xjiDoE1tbI7p6CcfVWK/70tcYP46FDGCNsSq8wIDTOk4VvGdGOPj3pM9HCy5FGQ==': <Vertex object with index '30' at 0x1d59a1460>,\n",
       " '#FFFFFF\"8|1250\"': <Vertex object with index '31' at 0x1d59a1690>,\n",
       " 'DI+eGOl/1vNE7onKfNwQ5Xkn3o1gfC+2iDHDh64AVVtNjjdtiNekky/vdJIHpocMFsIj/AhnsLPqUb/yXhGkHQ==': <Vertex object with index '32' at 0x1d59a3ed0>,\n",
       " '#3690EA\"759|7\"': <Vertex object with index '33' at 0x1d59a38b0>,\n",
       " 'U7ZGIDmgxWHUBUudhpLMyAYF3n/qrUV3bqWRQ2X/8WQRAY7QupZ2JhMwmeoK/kAWkmYkeGN3SJm8mAYFdLKVRw==': <Vertex object with index '34' at 0x1d59a36f0>,\n",
       " '#7EED56\"0|0\"': <Vertex object with index '35' at 0x1d59a3530>,\n",
       " 'sL+mAK6GZf8lzBrcy0i+zBYPktFJU02cZZv3JGSLf17D5wMTjpGUJsCuIriSnmK36rvQQ8jWm3ycBYu9sIJmtg==': <Vertex object with index '36' at 0x1d59a30d0>,\n",
       " '#000000\"7|1035\"': <Vertex object with index '37' at 0x1d59a2e30>,\n",
       " 'RXoPlk4SnX2mEFnEHi42JWwWh/oM2p+TXcL9NamrLLGPyUqvxo2VHk1/aqFaZ+tML8OxVLPA318Jxm2v1Okqag==': <Vertex object with index '38' at 0x1d59a2b90>,\n",
       " '#898D90\"9|840\"': <Vertex object with index '39' at 0x1d59a28f0>,\n",
       " 'G9Pu4A1bw12oHuF7d06IiilNEOgOR/PttpDhAjvbnYRiYpRJL5fkiB8nZdn0RhGwFgmMHimYfeRnAvETeU4kzA==': <Vertex object with index '40' at 0x1d59a2ab0>,\n",
       " '#000000\"0|745\"': <Vertex object with index '41' at 0x1d59a2ce0>,\n",
       " 'MTggz+AEX4pa9RYrrwwT4dvRJ8o4kJmxYgBIVUWnHur6h6QXkCvrTZv3dU8gXU7U4wR6UdsuhnC1hdoaDneFtw==': <Vertex object with index '42' at 0x1d59a2f80>,\n",
       " '#51E9F4\"0|1173\"': <Vertex object with index '43' at 0x1d59a34c0>,\n",
       " 'W+LOryEkIw7iR+q/2csXKU6WiqffjtrGmxvRCag4NyjivL2DvYZ1b/ax+qiPbfKSur8RgQHcZmVEWItZYNQo6w==': <Vertex object with index '44' at 0x1d59a3680>,\n",
       " '#FFD635\"0|1087\"': <Vertex object with index '45' at 0x1d59a3840>,\n",
       " 'wPjdReSoOZ5JPkYV0S+XpmZovl8NLOvJdx2EgJEsUzFoc/owgbFOgnOf8ZWoCeKUi24nZEUqbTcSzOVVIGRFEg==': <Vertex object with index '46' at 0x1d59a3ae0>,\n",
       " '#000000\"7|1102\"': <Vertex object with index '47' at 0x1d59a0c80>,\n",
       " 'igqlBWvUKpbF3UFBAkdmhxn4fP97CXVNKFpteSrusqpPkr/+JB4ZJ9L/NEyVVSY2wHgpLAfiWEW5ek5G0TnHNw==': <Vertex object with index '48' at 0x1d59a0270>,\n",
       " '#000000\"1921|8\"': <Vertex object with index '49' at 0x1d59a0580>,\n",
       " 'AmSH2p94LnojB7Yg1tWQjTECc2YfFI1qtboIeTbn+mvsePPd89To1kD5d/KS0TiCGeg6GK0Z0dXgZGfgTP087g==': <Vertex object with index '50' at 0x1d59a0f90>,\n",
       " '#7EED56\"5|1972\"': <Vertex object with index '51' at 0x1d59a0040>,\n",
       " 'XEXKsoWyobl0oAdVQmstRGrlLK3b/qWINxcgHkR/hYD3apc1flHBsB8qWdTpE53HN1U5v0o+ZGnw9LLPH/WJCQ==': <Vertex object with index '52' at 0x1d59a0a50>,\n",
       " '#FFFFFF\"7|169\"': <Vertex object with index '53' at 0x1d59a1150>,\n",
       " 'ynMXOzy20nVxipJmufBfe1KfCuFHDONU8bq6DnFmoTk2tv0RKqchVDmgWcFRf6QN+ZOyz+F26zcVHgJmW5NNuQ==': <Vertex object with index '54' at 0x1d59a3d80>,\n",
       " '#000000\"3|0\"': <Vertex object with index '55' at 0x1d59a3220>,\n",
       " 'HpOOkT4X/F/q7EwXudOEAn4OeP6vroCeEHmIw59+wAX1AUNlQcEt3R5JKvt8s/tBMk0XdSlCVPI8YPvXfFOWjA==': <Vertex object with index '56' at 0x1d59a2dc0>,\n",
       " '#BE0039\"1516|6\"': <Vertex object with index '57' at 0x1d59a2ff0>,\n",
       " '2x6c3HvoZ7siIuU0sDeAA04iSKr37eRxJIK4fpOo83UTABzJWdqzuX7xTABtYt+zcWqhxPldRsycgSEDLfX0RQ==': <Vertex object with index '58' at 0x1d59a3b50>,\n",
       " '#000000\"4|1292\"': <Vertex object with index '59' at 0x1d59a3df0>,\n",
       " '1ascqS/lRqP+WLBzOAXl5i+JtjEfXCPK9jah8+awrehXTYJGwJBrmpeTwU4jQfhG/r4FEpc3eBDKPayG+e3j9g==': <Vertex object with index '60' at 0x1d59a0f20>,\n",
       " '#000000\"0|1999\"': <Vertex object with index '61' at 0x1d59a0ac0>,\n",
       " 'nKHGeeUjHbZfUvGqXb/IThkQ5Ifhn8a8zqHPDmrnjtC4+w55k2K74CNYNtj5CPuhqopK7L4ddOu4htn0AiPkKw==': <Vertex object with index '62' at 0x1d59a04a0>,\n",
       " '#FFB470\"9|328\"': <Vertex object with index '63' at 0x1d59a0740>,\n",
       " 'W4ZCIMrSZd5buXpn2jHK8Ibq8iN9MvYIH2RSX4zj4JduA1lKV/tuzot4w6dJB+DcM3alLHm+8GQv2r5WHqsYkg==': <Vertex object with index '64' at 0x1d59a0c10>,\n",
       " '#000000\"1906|2\"': <Vertex object with index '65' at 0x1d59a3d10>,\n",
       " 'tWGOm2F8Q6bnegMo50XAeVkbVo5DkM9G9P+ZNmY/uHubjVy45OokFZL6VtorhjTvTqSoIvF8zzkYqK+dRTO0sQ==': <Vertex object with index '66' at 0x1d59a31b0>,\n",
       " '#000000\"4|1461\"': <Vertex object with index '67' at 0x1d59a2d50>,\n",
       " 'lwrTPEdrCFMcXeOSWUkgtB2sxPy2ZADffHi4CoA1OlR5uQ4+iCTYDSgYUEqV0lpFMWibc07KeRAIlum10tSeMg==': <Vertex object with index '68' at 0x1d59a3060>,\n",
       " '2nSKNnWwzW1gNi5fdHbdu5gAw4hm/jj6Li3Ha9N8OmBUZAlzpCsMyz/riYuqwSHqW+bnIBoCwUNlWeL6zsua0Q==': <Vertex object with index '69' at 0x1d59a3bc0>,\n",
       " '#FFFFFF\"0|1124\"': <Vertex object with index '70' at 0x1d59a3e60>,\n",
       " '7ufXsMzMpA9FnFL5r4XUUHbAoOP3yAsSoGV3vSLMlJkRj+HXat6rIiB0uCmLTMbL8+vPS7ZT8pIRwaCMg/1ZTw==': <Vertex object with index '71' at 0x1d59a0510>,\n",
       " '#FFA800\"643|0\"': <Vertex object with index '72' at 0x1d59a0890>,\n",
       " 'NJ+sxhMxESKkws6OUswPOLNkI9lamQqRcsjuQt3erQZ4Zfo8rzAvE9Fyg29C5jvduW9MqeV/CxsPC1fY77A4gA==': <Vertex object with index '73' at 0x1d59a0970>,\n",
       " '#000000\"6|728\"': <Vertex object with index '74' at 0x1d59a0ba0>,\n",
       " 'jatP/z3pznNJrgaTM/Nn8qGiLpIZB+79b1fdi3bNIw4EbmNJHBQr1VrkkrwPg09UpqHw6ty1CWark+aUZAZdxQ==': <Vertex object with index '75' at 0x1d59a0820>,\n",
       " '#D4D7D9\"1994|6\"': <Vertex object with index '76' at 0x1d59a0660>,\n",
       " 'L1WSNEz+AqFGqzuepRB2ObH/MSsd8re8frkhzN9jklAWLPCeErMAeDTjSraOKf3KkNutzOicumkQemhpl6mpAg==': <Vertex object with index '77' at 0x1ec5b7370>,\n",
       " '#51E9F4\"5|262\"': <Vertex object with index '78' at 0x1ec5b73e0>,\n",
       " 'o8UBXrokTPyhW5R5pjJ9/RmA52Jh7VpVGqmGU8LmBDWxGEwG1qyIGIMm7pCQ6gtfle2cq9qIr0YnUIgH8Svx4A==': <Vertex object with index '79' at 0x1ec5b7680>,\n",
       " '#000000\"0|1463\"': <Vertex object with index '80' at 0x1ec5b7a70>,\n",
       " '70RL8HptQptkN6Y+ocHtZqbBgoXaNfZQkDc/cmdrAT1ctwJol5wlMUabVPjj3P0mGi3plqiMl5SruG7EToGmZw==': <Vertex object with index '81' at 0x1ec5b7f40>,\n",
       " '#FFFFFF\"1001|1\"': <Vertex object with index '82' at 0x1ec5b78b0>,\n",
       " 'a8JPIosTd7i76XG8ZBb3PQ4BqoUiiAp2kjYG+3CZQJl+W0esb/Yj3LL8ETfDj8Bf5r09tB/+JKj+A+jx81FeeQ==': <Vertex object with index '83' at 0x1ec5b7d80>,\n",
       " '#FFFFFF\"2|38\"': <Vertex object with index '84' at 0x1ec5b7a00>,\n",
       " 'IZENVMQ/lQp06GT5LBgJe0458Qw85AIz7yDTNPKvT/jiJXEgFZz1Kc6TPRIJVZ8u0/YHgIRl5n7VhtF5EPSejA==': <Vertex object with index '85' at 0x1ec5b7530>,\n",
       " '#2450A4\"0|1464\"': <Vertex object with index '86' at 0x1ec5b74c0>,\n",
       " 'YOdesgs6KocOXK9rmLstl/yJte1q6WPMEOyo3VDMZL+/J+tFTLH8v9KXDwrSx/vcW+n/pY/VhSL4/luwr2KXsA==': <Vertex object with index '87' at 0x1ec5b77d0>,\n",
       " '#00A368\"1|1971\"': <Vertex object with index '88' at 0x2024714d0>,\n",
       " 's1RpCjiRdUP41ZhNaadB9lzl7OwbMuLC1T+nuUqHOQ6Ul+1iMRdYPfvTfalzQNWDqJbsbfY1d6JW6ZvLA7z3fQ==': <Vertex object with index '89' at 0x202471460>,\n",
       " '#493AC1\"1999|0\"': <Vertex object with index '90' at 0x202470c80>,\n",
       " 'zuoXTJQbFhaDOARvRYQk69kfF0W0pXWwb0Q0mMItIiapuvXw+Z3siIuX4s6a3pI2JK8MnzA6T/lENffVgPvNeQ==': <Vertex object with index '91' at 0x202470e40>,\n",
       " '#FFFFFF\"1899|4\"': <Vertex object with index '92' at 0x202470040>,\n",
       " '/bpA0XRSq8UoxbCpIZSvjvgH7wZo8yDhki0UiCAbuJOf2n5Tf8UX/837zx4KeGyGPE5UFBkA6eX3zT0Zn7a6KA==': <Vertex object with index '93' at 0x2024700b0>,\n",
       " '#3690EA\"0|429\"': <Vertex object with index '94' at 0x202470120>,\n",
       " 'd/bP+b8zMc7Ax020FqLSgjNw0X4wJuM91yy87zM8OIZ3NUjXPj3V12O1Dj+5ZpbNHf3NXwow0Yn+um8G3TEXYg==': <Vertex object with index '95' at 0x202470190>,\n",
       " '#000000\"7|1314\"': <Vertex object with index '96' at 0x202470200>,\n",
       " 'xBDifQKlElYZRv6sWZKOjTH+1UJuc1Ig1SRABT8vjwMiuQCaZGKhfXZFHj/5vNbdxJ/i5rzyGzW1GTx96kiA/w==': <Vertex object with index '97' at 0x202470270>,\n",
       " '#000000\"52|7\"': <Vertex object with index '98' at 0x2024702e0>,\n",
       " 'irKCfcVJSdSx8SOqlYEqM+V/eYvgAU2kIS+dC5MbdfEshw8DwbmZXb1F7XrgHVu/yokH6P7ls3wUdJS+b6qVfA==': <Vertex object with index '99' at 0x202470350>,\n",
       " '#000000\"136|6\"': <Vertex object with index '100' at 0x2024703c0>,\n",
       " 'jdqUEWwl1hznnrtjmLlLdzO5fUySjnVfovJbT/sSpUXa1cQWE7Wq3ix4Y9KjBFE4BeLhQ2uj8Acvb02qe/+9NA==': <Vertex object with index '101' at 0x202470430>,\n",
       " 'upPM7wRpO6Z+q2Ye8wybaXQ5X9WFQsFqUNRKkZXqq93nfy9uD63WEb+P7irR6vjrYpx0Mvwzg3dEGPuI7cGLPQ==': <Vertex object with index '102' at 0x2024704a0>,\n",
       " '#00A368\"1|1976\"': <Vertex object with index '103' at 0x202470510>,\n",
       " '2HuLdniFUHe2RM3eOQMIx5afyD34CFpzuVIfJGygbGUU5Q/2GDMcE/DUOJuzlNWnT3ZWFfdD2xVippTtregfcg==': <Vertex object with index '104' at 0x202470580>,\n",
       " '#FFD635\"8|1267\"': <Vertex object with index '105' at 0x2024705f0>,\n",
       " 's2tGjKe6PXB+n5AV8ttKUoQBejpG3KsfD4Loa/sCJN3YiNbY2q+0DQWGDpFfEGtbr9kcE/T5apQ/EP+K331OkA==': <Vertex object with index '106' at 0x202470660>,\n",
       " '#000000\"5|774\"': <Vertex object with index '107' at 0x2024706d0>,\n",
       " '05ekjvkR6UF6l7e4QmB51bowHmb26re3Tq2yTqp1vGluSrlloJRZDIHKS1cGmCfdLJKaFZ8IzGQg6ZpWRFbG0A==': <Vertex object with index '108' at 0x202470740>,\n",
       " '#51E9F4\"1809|9\"': <Vertex object with index '109' at 0x2024707b0>,\n",
       " 'vHeCb9xjiGzokpaBVc72kJX5rcxDEIwkayFVRsZPmeDJVAKdd8GopbDHXrpHf0Rz1fj+oLDjrRmO5DoLb//jLA==': <Vertex object with index '110' at 0x202470820>,\n",
       " '#000000\"8|423\"': <Vertex object with index '111' at 0x202470890>,\n",
       " 'XyqsHET1U2T/+LSRaGLrPs3E/VifG7N89kEBNzSuMbQ0e42t/XAj2lIC7rZ03uXLL2JMIrKUi5J//GbYbrOMaQ==': <Vertex object with index '112' at 0x202470900>,\n",
       " '#FFA800\"1|604\"': <Vertex object with index '113' at 0x202470970>,\n",
       " 'zu+qd85qTLPJzEopBGzXI3bk/dFIoOYlAxBbTXH0hO8wZUyWXK5QZoR3H34HXdhpj49JvFWrezMIQHiTdKnpOA==': <Vertex object with index '114' at 0x2024709e0>,\n",
       " '#FFFFFF\"6|1197\"': <Vertex object with index '115' at 0x202470a50>,\n",
       " 'uwJCmSxM0UlklccQy+tpZpTgIht+WcnFRXmzfYrbYFLGXMxReO8xpe51/sqKQ4uIsqr2eqFFLJ1grLYAnIhWyg==': <Vertex object with index '116' at 0x1d66ceb90>,\n",
       " '#DE107F\"4|0\"': <Vertex object with index '117' at 0x1d66ce1f0>,\n",
       " 'dnbzt212k8exEm2ZXm460RplfaTrjWO7y8k2NNK+rU5e/c5cdTBQ4glkeBOwkQPE5AYaiNg5hy/zKP1S2cBdUA==': <Vertex object with index '118' at 0x1d66ce180>,\n",
       " '#493AC1\"391|9\"': <Vertex object with index '119' at 0x1d66ce110>,\n",
       " 'GB52obkAqKna2oDS1tUHqFYVPQlOPVZE/Co2s5FwzAUYH0DN9jk6QYEJhHmjJIXRdnWlBpYF0/VnyYeNf6WIFw==': <Vertex object with index '120' at 0x1d66ce0a0>,\n",
       " '#00A368\"3|1252\"': <Vertex object with index '121' at 0x1d66ce030>,\n",
       " 'M6RjnCdNoDaveRSi4ARz/hZgmlmpBlI+/lMXbLdONXg1iWWBuGTn8ylunFbh6oftTph6JN7Te1FXfYMGlkXXXQ==': <Vertex object with index '122' at 0x1d66cdfc0>,\n",
       " '#FF4500\"4|437\"': <Vertex object with index '123' at 0x1d66cdf50>,\n",
       " 'kNJrrilUI/8EPhVg7FYKu7K8cHlZb7CwkwrA/FiuLNh+MvHVWTH9JXYLLxgHnAw4AHxp1j0PSn1zUp9PYwsPqw==': <Vertex object with index '124' at 0x1d66cdee0>,\n",
       " '#FF4500\"1160|3\"': <Vertex object with index '125' at 0x1d66cde70>,\n",
       " 'Wi9chh1936GOyUTFh4GzGRHlrNNlL7GUWC7PKnuBhkWbNBjQRXC+BwXGJDKG+gyk5hKp4LC40mEpX4cvqfWdMg==': <Vertex object with index '126' at 0x1d66cdd20>,\n",
       " '#000000\"34|4\"': <Vertex object with index '127' at 0x1d66cdcb0>,\n",
       " 'mt9V0Xa3N3TxwhPA02oaApiVVAghuF4syzWPvqPyAAq7N6NhVNfYvbgDa+AnfbsXGzgOuqq6GiSvX6ZqtEAsaw==': <Vertex object with index '128' at 0x1d66cdc40>,\n",
       " '#7EED56\"796|4\"': <Vertex object with index '129' at 0x1d66cdb60>,\n",
       " 'UN6xaGgb/i6Hl2lmBcDcPuvQB9m4st1Nz5iDfAls+Yjj2wfZbnJsDv4s6MB8G+KQfDxHiCP8KkShjjk7SVdYbA==': <Vertex object with index '130' at 0x1d66cdaf0>,\n",
       " '#FF4500\"7|1006\"': <Vertex object with index '131' at 0x1d66cdbd0>,\n",
       " 'oCYqPjIIKRcTLUpfeaJEDWKA3ta8VWqbd0aFa9yD4iL+kJLbu8ZSLnZYLOXNPWajml3RPwuVuaWR6S3usNxfFw==': <Vertex object with index '132' at 0x1d66cde00>,\n",
       " '#811E9F\"0|722\"': <Vertex object with index '133' at 0x1d66cdd90>,\n",
       " 'TK3qNEct8b1NQbCXvP0T2Oc2yvlkNs9jb4WsK1dpolLg/yQFcYfcrV5FUqNpun7qQeixg6f1x6zgUrPBofFNhQ==': <Vertex object with index '134' at 0x1d66ceb20>,\n",
       " '#2450A4\"3|743\"': <Vertex object with index '135' at 0x1d66ceab0>,\n",
       " 'UmUEG/HSlxD3p/0fxHCyV8xmJ3ebUGQpwGnh8bnLQ5f6Wf3brLYUNTvU56C2UC/AxLf+o4JN+xzCed+PR3AqsA==': <Vertex object with index '136' at 0x1d66cea40>,\n",
       " '#000000\"9|1492\"': <Vertex object with index '137' at 0x1d66ce9d0>,\n",
       " 'i213XphaVbNxHh4hc5xzB5VbwfmGp/r0HL7hjayJlVeXlnnW53suruOWt4LyCvOTgWNOff8w43m5DALO+kdx/Q==': <Vertex object with index '138' at 0x1d66ce960>,\n",
       " '#2450A4\"0|1999\"': <Vertex object with index '139' at 0x1d66ce8f0>,\n",
       " 'TC3xlv5Wz4XwQn9ehmIcxD+nvgHXFzXGsqoI0lr6Ma48TqhAXYg45WD7y1BRtNAM3oCwBOMmw0ZsUl7z7WrA7g==': <Vertex object with index '140' at 0x1d66ce880>,\n",
       " '#6D001A\"5|262\"': <Vertex object with index '141' at 0x1d66ce810>,\n",
       " 'Q2BR3xQQe08LPHLEYDwupFNyxwPy6bJXp9Vop2enopaYieIG0Rupl5m4cBmdjlfhnD3+aCz2YfUaEDVqn4ROGw==': <Vertex object with index '142' at 0x1d66ce7a0>,\n",
       " '#000000\"1214|0\"': <Vertex object with index '143' at 0x1d66ce730>,\n",
       " 'qy81GvhUBRk0xbp8I7orV8o8n84DJ6VNh/ostyqT2zju95N4bcPKpLDmGz0CgnxqvLigltZusS/K8Ldlb8y15A==': <Vertex object with index '144' at 0x1d66ce6c0>,\n",
       " '#51E9F4\"7|1893\"': <Vertex object with index '145' at 0x1d66ce650>,\n",
       " 'JpS7OCOK7TD65rGSZaSrSk9Hvs3lFrIO/6W0T+HkpKcoyveFW+g+Y1XNvq4maBK1U94sTM5/BD2wj0pI301DHA==': <Vertex object with index '146' at 0x1d66ce5e0>,\n",
       " '#000000\"1|1998\"': <Vertex object with index '147' at 0x1d66ce570>,\n",
       " '0nBa2NRieSaC4jh84XZnTKfGvPZ3vrGakAan1MKB2uVZvN9Ow6TxWsYdURJPwlq4Ot8OC1qhPe/DpkOhEc0PxQ==': <Vertex object with index '148' at 0x1d66ce500>,\n",
       " '#9C6926\"2|65\"': <Vertex object with index '149' at 0x1d66ce490>,\n",
       " 'SRwfGiMUQeLNhx03aCifXKFhAOOU3yVDRwgNJiLmcaLesq/6erJpLHpDQ199jP4vh8wkR+VHtli2mgYdWEYtow==': <Vertex object with index '150' at 0x1d66ce420>,\n",
       " '#2450A4\"0|942\"': <Vertex object with index '151' at 0x1d66ce3b0>,\n",
       " 'O5KTqB0U748XshNdqD8CFYuWuO1uaRvQlESFdTmvvs1Uq4YMLK4z0p4enUHG8Hms0dUqoaaMR11180fSeEkcfQ==': <Vertex object with index '152' at 0x1d66ce340>,\n",
       " '#2450A4\"7|1862\"': <Vertex object with index '153' at 0x1d66ce2d0>,\n",
       " '5dYYjoetomdrGjOxMGG12dFtgrp9Erll1XrAKuGn/UTII10aifp8k2KgUmvOiC81xwmWAQPEjKMYPha1LudZ3A==': <Vertex object with index '154' at 0x1d66ce260>,\n",
       " '#9C6926\"4|1035\"': <Vertex object with index '155' at 0x1d66cf140>,\n",
       " 's7c+Jx0vVl325/1owD+4wWEocSZxi5Z4uEZrCT6pytbuOQsteoR6T1DIB84Zlhbd29MmgTmq42k7DjLpn1krfA==': <Vertex object with index '156' at 0x1d66cfdf0>,\n",
       " '#2450A4\"3|1467\"': <Vertex object with index '157' at 0x1d66cf1b0>,\n",
       " '3q8P/8mkra0qa28YZRoFqfDWwrwFqi9Zyu7U2er3bfYeFlJquqolhbhMX+0wBYank57X5DnW86pHF6Joc5BL6A==': <Vertex object with index '158' at 0x1d66cfbc0>,\n",
       " '#000000\"4|437\"': <Vertex object with index '159' at 0x1d66cfca0>,\n",
       " 'lEAJHG3cL7qxdnBmUgKHO37Nd9uD02jjRuz+TNM/xyp+5yGFxkAhtASJuC/Eh2inJttskMupYlTkTibcYVf8Rg==': <Vertex object with index '160' at 0x1d66cfe60>,\n",
       " '#000000\"4|408\"': <Vertex object with index '161' at 0x1d66cff40>,\n",
       " 'R1QnNo4NyefUKjdK+FaW8z4glrQzua9THlDX5gHUS67hL3Sv5bjOei/E5QeoOoZ3COLpCZp5UqmmuwZOWDt8EQ==': <Vertex object with index '162' at 0x1d66cfc30>,\n",
       " '#FFA800\"7|1062\"': <Vertex object with index '163' at 0x1d66cf530>,\n",
       " 'RXGfBcmeLJ18uK6ox+LaABN2qpspYkzYrSqAMtKXJ/7NBPwXr/pWclnfMLvHql4kcNN27Z3HOyJYYoBr4S4ORA==': <Vertex object with index '164' at 0x1d66cef80>,\n",
       " '#FFFFFF\"0|33\"': <Vertex object with index '165' at 0x1d66cf840>,\n",
       " '3hy6b+4wsMU/cR1STAmwf1ps+lOlvMyn+cQT+gJORRkAlkIg8f4KNUp9ip5dAFcpHM2uvBhFGG7MBGDevyhx+w==': <Vertex object with index '166' at 0x1d66cf060>,\n",
       " '#000000\"8|1267\"': <Vertex object with index '167' at 0x1ec618f90>,\n",
       " 'Hscia1aZT//vvHI2ZaIvcLiFZhsMIRkmywFpDhNBHncFyYazJnbGa1kU6AYoLSO78vJEuW6SRvAnm4R9TfjoLg==': <Vertex object with index '168' at 0x1ec618c10>,\n",
       " '#FF4500\"0|853\"': <Vertex object with index '169' at 0x1ec618510>,\n",
       " 'GuAW/0S9OWM638uegCjhRClsyg1q0Cua/DuIGBVnXy/vzli46SBGKeZQkOi8wa8ggYTgBKLUc7RajzEcMqoxkg==': <Vertex object with index '170' at 0x1ec618580>,\n",
       " '#000000\"405|1\"': <Vertex object with index '171' at 0x1ec618660>,\n",
       " 'IgCbeFtPon+hpdNnnCW+7olJd2ZurcrricYEzfeeKDIWdglzgjdcdgw3QumNSX0iJ4m8J4m85mQ6eCmeD7+SCg==': <Vertex object with index '172' at 0x1ec6185f0>,\n",
       " '#000000\"6|1386\"': <Vertex object with index '173' at 0x1ec6186d0>,\n",
       " 'ZXPcWm4hN4IhD6uCFEopUINtwoQzzGLwDb8a0eX7mcMkg+bfegUkfbjJLYTLdwmq/AB8kPIuzpWz9LUYlb3rAg==': <Vertex object with index '174' at 0x1ec618740>,\n",
       " '#51E9F4\"0|4\"': <Vertex object with index '175' at 0x1ec618820>,\n",
       " 't7BUpZ3qJw+NEThueHtVuPMd9UIXkSkmy5h6aXF9tv+TWEfnJPn0283DxwhB1G813jjYdOVffILBBPzmfZgNxQ==': <Vertex object with index '176' at 0x1ec618900>,\n",
       " '#FFA800\"1431|8\"': <Vertex object with index '177' at 0x1ec6187b0>,\n",
       " 'BOAiWO7rUkJNWt+DOdBAV1bWilj3hdFppbT6mLc9A+rANjnukp3okRsKsC70RAXeGSqV+I611AagFIoc0SHlfQ==': <Vertex object with index '178' at 0x1ec618970>,\n",
       " '#000000\"4|1360\"': <Vertex object with index '179' at 0x1ec6189e0>,\n",
       " 'pAQLk+ddLMUgSRp9/x2mI+fada9xGVPDS54o96+l1Faildqx6WofJFeLTZ+SsdN++qb+V4zpoxHnt4NgH685CA==': <Vertex object with index '180' at 0x1ec618a50>,\n",
       " '#FFFFFF\"5|57\"': <Vertex object with index '181' at 0x1ec618ac0>,\n",
       " 'WF46MFYOmFyLzGd6BCLQR+CKve+FEmNkBNJnoKg+irXpnaEGLvKz2N+dZ1cn11V5aSvRoIoQp7DcGJMTkjV3DQ==': <Vertex object with index '182' at 0x1ec618120>,\n",
       " '#FFA800\"1425|5\"': <Vertex object with index '183' at 0x1ec6183c0>,\n",
       " '8igrQHi3IDEM1qYlWrfOcwQWsTF572UTIdpV/ZIKR2wqmD7d3ON73OqXif8Zgf4Qr3AF+ivBrB7mAL6tic1ZGA==': <Vertex object with index '184' at 0x1ec618430>,\n",
       " '#2450A4\"0|1840\"': <Vertex object with index '185' at 0x1ec618350>,\n",
       " 'I5G7Vf77WxOIBjoi5TpgtaVmZL3KB5xZmtLTktS5UCMXK5KHT1VLN/smzewPEIO+tNyK7UtzZHyPnkK3mHiaRA==': <Vertex object with index '186' at 0x1ec618270>,\n",
       " '#FFFFFF\"653|3\"': <Vertex object with index '187' at 0x1ec618190>,\n",
       " 'lcDUt9yjSMRo5dBfcVaSaCaMjvZrBtS7JJI4nLlz+CF10hAuNmZXRCQ3j2kAj/skYHK1TS5Xm1cxL/rmkx64cg==': <Vertex object with index '188' at 0x1ec618200>,\n",
       " '#BE0039\"0|1999\"': <Vertex object with index '189' at 0x1ec6182e0>,\n",
       " '2ct/Ho8a5W+gqQXT/TymFDjZqHQeUPCjBZI25H/b7rf2W8ZLVN1229tGN8uTnPEbTaam6oDJx0/XTgifRzydfQ==': <Vertex object with index '190' at 0x1ec6180b0>,\n",
       " '#811E9F\"1878|0\"': <Vertex object with index '191' at 0x1ec618040>,\n",
       " 'GFbW3ytQFqkwq7zCh90X8yq5pY5Uvfsj5wm4TgfyenO81e3/jatGS+1JK35UR0tb73fU8mWVd6msWgU4HcbUEw==': <Vertex object with index '192' at 0x1ec618eb0>,\n",
       " '#000000\"1|1228\"': <Vertex object with index '193' at 0x1ec619000>,\n",
       " 'h0vBUI4F9IPOwm6rgCMhc7YZL5ep/Xoy6fI7cITlZuvLgcWt2tcxydXsFseHHj/mmFanQlHGjYmV3p/XyOT0bg==': <Vertex object with index '194' at 0x1ec619070>,\n",
       " '#BE0039\"928|0\"': <Vertex object with index '195' at 0x1ec619230>,\n",
       " 'e98mtu8L7k8EoOu7+B/RNTxavRQOK3MR0JAoatgFR/FDCMfUc/0lm/jv8WJAseoPpHnPoXAkbM6Qjerc5Gi4ug==': <Vertex object with index '196' at 0x1ec6191c0>,\n",
       " '#FF4500\"4|1142\"': <Vertex object with index '197' at 0x1ec619310>,\n",
       " '+K0T322T8/S9xMavV0+vTTfY837QvDI3MadSX6Ob8iBfAQQZAwJAVc/z3QJUSY6tJal1c9L96JD1y3Kb/Jh1+A==': <Vertex object with index '198' at 0x1ec619380>,\n",
       " '#FFD635\"4|1292\"': <Vertex object with index '199' at 0x1ec619460>,\n",
       " '4cPOQH8iVmtmXLvlZ7nQLo08ywxkpqDQgJaZFvnltcd647z8tEa5xSiElqfUaF4NQU8dq6pVylgrVkOJfUAX9Q==': <Vertex object with index '200' at 0x1ec6192a0>,\n",
       " '#FF4500\"1|144\"': <Vertex object with index '201' at 0x1ec6193f0>,\n",
       " '9CE5pfHWV8CMQTojdJeFffWu6vMD2IYH72Nmnq8i9ThGvBwZ8w0iT3dZk3jlHbrg48a/cnGVjJYk9H0v4UoqFQ==': <Vertex object with index '202' at 0x1ec6194d0>,\n",
       " '#000000\"2|2\"': <Vertex object with index '203' at 0x1ec619540>,\n",
       " 'HM/eIGobA0Dsz27H/Ge9b1Xg3i3Fhrk19Tcc+Zd2HFU/iGl+hLVhdqoVbW25b1KYYuE/ic9jFXfOHuJ3+84N4A==': <Vertex object with index '204' at 0x1ec6195b0>,\n",
       " '#811E9F\"296|0\"': <Vertex object with index '205' at 0x1ec619620>,\n",
       " 'WZVJkctw1HgbD/AOvo1g5lI9iTntJ1/pmKIuupaPAU87t6eVxTOU8E+RnjwdKN7ZvjqKOncfkUzn0DGzbTlY9Q==': <Vertex object with index '206' at 0x1ec619690>,\n",
       " '#000000\"208|6\"': <Vertex object with index '207' at 0x1ec619700>,\n",
       " 'OLsavIvqyGUu6tYrF4jjPClwrn1AZIxv/FZClIOs49tgd/MrVAHouT472GsHKDptcM9XXG7PT1hgXusLD4FaNw==': <Vertex object with index '208' at 0x1ec619770>,\n",
       " '#2450A4\"3|1464\"': <Vertex object with index '209' at 0x1ec6197e0>,\n",
       " 'NAH4+oNbTFRjEKOFIPulobrAK8BAS2fqtt5k38ZzH/4pRN8Y3Uoa/Y9/+QW0kQDaZqr5/2sNtBAVx5X+pH7jjA==': <Vertex object with index '210' at 0x1ec619850>,\n",
       " '#B44AC0\"7|1409\"': <Vertex object with index '211' at 0x1ec6198c0>,\n",
       " 'OH3yoBvDP7NvUJaUwnqxRlhqiWJwcdHsNc9oqekYZdU+4Q4OXm7z180nNN6YHdT3HZNyNcmArxI6QpJdbuqVfQ==': <Vertex object with index '212' at 0x1ec619930>,\n",
       " '#2450A4\"1998|0\"': <Vertex object with index '213' at 0x1ec6199a0>,\n",
       " 'aIcz0amiJuotx0/Xk63SY+86/vzdUZN7xK8hfGwepHWo41u28++c4bQ30XwTiDBRu1+QzZ9ccP6FEp7oJubnvw==': <Vertex object with index '214' at 0x1ec619a10>,\n",
       " 'SkS792AZL7Adbg2ppCmagaFLy9k0EPSF6sU3qzj6hRUTh2HCkXR+0ZqpIxiDpzUxwdL8f8uKGwVnFLQ9G9LgcQ==': <Vertex object with index '215' at 0x1ec619a80>,\n",
       " '#00A368\"1146|6\"': <Vertex object with index '216' at 0x1ec619af0>,\n",
       " 'n/lqwCJQptUTJokRFp9zcF7r0Hzmn1oluH6r+tpCX1SKT0n9ZvSjzlv3i3L+K39HUn7HerX0MJlPaOMkIynK9w==': <Vertex object with index '217' at 0x1ec619b60>,\n",
       " '#FF4500\"6|955\"': <Vertex object with index '218' at 0x1ec619bd0>,\n",
       " 'oaOzTpCYlf6uKWtJ6WeEVro2pMjVGXfH3HAt4D3Syt2h+dFeB87redqPTMEaWJ6LMpVuWl8O+ubCond4s8Ab+Q==': <Vertex object with index '219' at 0x1ec619c40>,\n",
       " '#811E9F\"1987|0\"': <Vertex object with index '220' at 0x1ec619cb0>,\n",
       " 'G64DsUvzbz3akfikylamX7vNX71KmMZW/JRXJcnpWYRUdqc/yS7qXUMjh1hKBSbA6m8ac4nl7PBrcAVykZvy8A==': <Vertex object with index '221' at 0x1ec619d20>,\n",
       " '#000000\"9|1467\"': <Vertex object with index '222' at 0x1ec619d90>,\n",
       " 'qJoSuBC+T3mXxarpndKfNWnOBvpFfnRsh3zl/kDNJUISCljdS3vTTKWoa+8BIGUOn0RTNMYCO8nRPKQD0AMu7g==': <Vertex object with index '223' at 0x1ec619e00>,\n",
       " '#E4ABFF\"1|81\"': <Vertex object with index '224' at 0x1ec619e70>,\n",
       " 'e+jEAROxsQjzVwFjXNobEoSfitYkRltwVcI3hv+jDz9jHOF6dOGlT8TBdkVsGUqL7NEZiuhW7p3O/WhhOguf+A==': <Vertex object with index '225' at 0x1ec619ee0>,\n",
       " '+Z5CbwUjSVlK03HbJCflvFGtlwfJqjqCc/vZ8akmt3Y+5Z2+STE+WqTX6AaPDZZZItfyq8k31Rs7BlkOeL7ccg==': <Vertex object with index '226' at 0x1ec619f50>,\n",
       " '#000000\"1000|0\"': <Vertex object with index '227' at 0x1ec619fc0>,\n",
       " 'aSCRp4VwnZMb9GyL3QJIbdH6UGQGOHb3J4PoAHPZ1/U1RD6YA4UoWxji/cFsjHcqyFo8fzNDiWlTyqc7L5v4pg==': <Vertex object with index '228' at 0x1ec61a030>,\n",
       " '#FFFFFF\"0|0\"': <Vertex object with index '229' at 0x1ec61a0a0>,\n",
       " 'F3EfLYbB1mpqoRBdLS3j75GXnozxVWzz/rnIPpDckUeq/lm4SgQD1AyAZQfQbIrHzRYBx+2edRPkleRP9l7eqw==': <Vertex object with index '230' at 0x1ec61a110>,\n",
       " '#FFA800\"809|3\"': <Vertex object with index '231' at 0x1ec61a180>,\n",
       " '5KPQEtYKQ3JYMZLhp6At3DqEi2n0VfY9lx1ocPQLWmtEVR+X2nCeV3wX6wb6LEFEBRGBwW8Fi+8fIQiSUuGodA==': <Vertex object with index '232' at 0x1ec61a1f0>,\n",
       " '#FF3881\"1997|0\"': <Vertex object with index '233' at 0x1ec61a260>,\n",
       " '7Y3Dd8DPfhV1xEBzh5f/TcTKC7hmd2PzElnzB6Mb7pl5dTx6EsdBtGqa2w+WqPdXhnTz6DzWCV6Ip1Smm7g8RQ==': <Vertex object with index '234' at 0x1ec61a2d0>,\n",
       " '#515252\"2|2\"': <Vertex object with index '235' at 0x1ec61a340>,\n",
       " 'c4ilvvJbi7PxhOJPSkazSXx+wvbj3P4/SPh25DZt/DmkKdQPAw+JMiKg7eL1BWZsXwvmm6qbavhH+L7nHNV5ag==': <Vertex object with index '236' at 0x1ec61a3b0>,\n",
       " '#E4ABFF\"1899|4\"': <Vertex object with index '237' at 0x1ec61a420>,\n",
       " '3/s0vsJVOQnIwAcdDY/sluZQ0HNKdqaM+uevINbN2zOgR5ZqYwWT3to2C5K7V0ar7H2tLkg7psX/aozuATB/Gw==': <Vertex object with index '238' at 0x1ec61a490>,\n",
       " '#FF4500\"4|1398\"': <Vertex object with index '239' at 0x1ec61a500>,\n",
       " 'z/vOMgfdQ9fICaG5WCVIrbXMIyh4BKGwfhoWTdOIr9RqruHpJF+BvOsfFTUboYpo1rBfe7LMYu5duN6/15J4KA==': <Vertex object with index '240' at 0x1ec61a570>,\n",
       " '#FFA800\"1843|9\"': <Vertex object with index '241' at 0x1ec61a5e0>,\n",
       " 'UHDPzI/hsjf4STlqAOjpWf7Akvt619EmdeRq+fWECKd5fzCIySU/XzFFIUVcrKmx7l8M4RSSXV6Pb1iENV6bDw==': <Vertex object with index '242' at 0x1ec61a650>,\n",
       " '7KnGeEheyObbykZ8jJmAZD9e3SOI+6ILjsrEsoO6EKXrVRcaUUj+0PjkvO/UAcaEMEMcgeBXwo414NRuiBo5XA==': <Vertex object with index '243' at 0x1ec61a6c0>,\n",
       " '#FFFFFF\"9|1094\"': <Vertex object with index '244' at 0x1ec61a730>,\n",
       " 'TWv6a8Q1eG7et3NU/7lRT3WUJblA62Qp98PmUm02t6SIuC6UaGYqyb8HEh7kwnJ8MhS6b6SrplRk+lqsF+l1Sg==': <Vertex object with index '245' at 0x1ec61a7a0>,\n",
       " '#6D482F\"0|1999\"': <Vertex object with index '246' at 0x1ec61a810>,\n",
       " '4j7M0D/IefNFNT44fmPGO82blxo9kGJBaaAroLH08hEOBHL33TKmqeSZ5ziykmOmuTdJqa3R043D71cwYBlY8w==': <Vertex object with index '247' at 0x1ec61a880>,\n",
       " '#2450A4\"4|1526\"': <Vertex object with index '248' at 0x1ec61a8f0>,\n",
       " 'DNUcDzl+kxecDqj2uNwWyUCPXsK/1uDn6NeZpXWZmUE5vxw1qc9QlTV6LN+4UJIU5jWSgR/w2LDBMkEP/7jNdQ==': <Vertex object with index '249' at 0x1ec61a960>,\n",
       " '#000000\"0|1464\"': <Vertex object with index '250' at 0x1ec61a9d0>,\n",
       " 'laL0dbbmjDXWiTBOGt733eM2Ag7HwfoZPaj2rIgIkhOixsgbm2A96/9/pmFlKVp0BCZi6FO7v+VRlK/sVJPx6Q==': <Vertex object with index '251' at 0x1ec61aa40>,\n",
       " '#FFFFFF\"0|1\"': <Vertex object with index '252' at 0x1ec61aab0>,\n",
       " 'Zh0fbTNBJ2oU/434qLuUwDFwnKj7BHd8z+TYqtZwD6ZoFTie/f6yui4RKbr72b0vYxTx0Kxb2iYtpufi3R5XsA==': <Vertex object with index '253' at 0x1ec61ab20>,\n",
       " '#FFA800\"1402|0\"': <Vertex object with index '254' at 0x1ec61ab90>,\n",
       " '3FeEFw3hHVb8gxEJoP8z8c44sOGinrlRnL3hU58mDYhKtgFPlJ/uFp/KVgQO0FNIhR6xnw4kOmS4awynBj3fcg==': <Vertex object with index '255' at 0x1ec61ac00>,\n",
       " '#000000\"730|5\"': <Vertex object with index '256' at 0x1ec61ac70>,\n",
       " 'EELHoKxfR+aqUH0YDgxCDqeUCXHDnpjxqknAsgb+BXvqEQDOaa8po2SGK/cD8CGW3TK7d3VyEmhm3eZJjPlvIQ==': <Vertex object with index '257' at 0x1ec61ace0>,\n",
       " '/ZryLC8wwcfPtKCg7LA/jAzCcYd0t6ixijO8rn002z4Xzwc3IgUVMFwKgLZOSqBjH2SiC9KZY2zGByOjE4BJbg==': <Vertex object with index '258' at 0x1ec61ad50>,\n",
       " '#000000\"8|28\"': <Vertex object with index '259' at 0x1ec61adc0>,\n",
       " 'MG2guY+zQEv6WBHwDun5KxQQaWdjpxb82ILoeK1H1kM0884/1UcWPw7IiYogb8SQe9Nk+HqDyQPBH9XwBoKsbQ==': <Vertex object with index '260' at 0x1ec61ae30>,\n",
       " '#FFFFFF\"0|3\"': <Vertex object with index '261' at 0x1ec61aea0>,\n",
       " 'Ype4QgodnYSC/avkYBz8/BVYcEeiMjf/5sJKhkbhqTfTAvduPgdkX16jHbtA5MAf7Nsh4syn7Jx4zWM2+d51ew==': <Vertex object with index '262' at 0x1ec61af10>,\n",
       " '#000000\"8|402\"': <Vertex object with index '263' at 0x1ec61af80>,\n",
       " '8TpcUs9qMwzMuj9bvFckZyAzEmeH3lDPXAsvzjAi2itcIcKad/53D7FD6J5j3T0mKSR44fhdUWTsOMXJ0UXcsw==': <Vertex object with index '264' at 0x1ec61aff0>,\n",
       " 'N6FhLoQbpx9L2NkNowx94VtopgG8RG5o6dhbYQ/8y/PFExnZEJuKZ+HJ4ddKxX3+8YYSa9r59NFyAkfrYbCUxg==': <Vertex object with index '265' at 0x1ec61b060>,\n",
       " '#000000\"7|319\"': <Vertex object with index '266' at 0x1ec61b0d0>,\n",
       " 'kGpJp+4MyzXLJ0vms1RusW7Ei+Ru3Q4Z+UpKOrKvnz3wae7jxsMd0OAjrUX/aYPBn/uQi0rEtoBxc99hW8DLwA==': <Vertex object with index '267' at 0x1ec61b140>,\n",
       " '#00A368\"797|6\"': <Vertex object with index '268' at 0x1ec61b1b0>,\n",
       " 'cjn6+pRzRTUTpEhMp7JojKzKSbE3NyOwYoke1zQP2E7XKgDsLIxNdwdR6v0IYD+4qkTVptxAWkPUv7ksGnsWeA==': <Vertex object with index '269' at 0x1ec61b220>,\n",
       " '#00756F\"1|991\"': <Vertex object with index '270' at 0x1ec61b290>,\n",
       " 'uQ6jSK2TWgPNX6WWsdK+o+8tE1w9zGbRYzBpqJH+V7uRljBG5z2/+K/pKJ69MmErG+hOQVdq3BqezXyjq27avA==': <Vertex object with index '271' at 0x1ec61b300>,\n",
       " '#FF4500\"1999|0\"': <Vertex object with index '272' at 0x1ec61b370>,\n",
       " 'YKOWOZXXfynSjG5QhuslqWoSrj1u+hcOjsZf+aO3o4ZwISXhkyEEffi9ZgUD+xg+E7ukGJ4J7MTLbRbkzsYFOA==': <Vertex object with index '273' at 0x1ec61b3e0>,\n",
       " '#9C6926\"3|1094\"': <Vertex object with index '274' at 0x1ec61b450>,\n",
       " 'EaUTIJegDDvLh94/uEAczwO1g4f+KZ1+r06ljhUsNv4bALZlpR78rFYwi6FYqW6WBCzVjrwoaxTG1TK8rTuM1w==': <Vertex object with index '275' at 0x1ec61b4c0>,\n",
       " '#000000\"6|1824\"': <Vertex object with index '276' at 0x1ec61b530>,\n",
       " 'ujh3AhyxH5CuKaDdETmOq/4ampWrYacy1IJ9iQ9wwqWpB3U3RynyNF3WJWNnuGuITJCexIKJ4778hN5guIqERQ==': <Vertex object with index '277' at 0x1ec61b5a0>,\n",
       " 'KZ6jnP+DRD6faurKHDzvQzcRJGsuQdGc1gpdeBi+9kyKfcY6sQEoqYo/QuS/gs1vkdjcZ06DF5DKyth6RPpDiA==': <Vertex object with index '278' at 0x1ec61b610>,\n",
       " '#000000\"1|1464\"': <Vertex object with index '279' at 0x1ec61b680>,\n",
       " 'yN5JMTFT/GMNGtrch+8OgFxt61yhM0Po8IwjviROkqP55NSrb9CB5dvvTtI4ejYyEN36hVsvV6VOVeSr+YBEBA==': <Vertex object with index '280' at 0x1ec61b6f0>,\n",
       " '#FF99AA\"2|1964\"': <Vertex object with index '281' at 0x1ec61b760>,\n",
       " 'SnGryp7kqbeYkpmMolqS7hKjtgPn1sY6FZi+kZVpJZx0ZdMZwTHVFfAfybZCiX7z4BdXc+Bk5gWNtxt+O7IIsA==': <Vertex object with index '282' at 0x1ec61b7d0>,\n",
       " '#FFFFFF\"231|0\"': <Vertex object with index '283' at 0x1ec61b840>,\n",
       " 'w4eDVkQrgIiTE48s5mSDufQom7M/sOl0ANn4qNjWEBZB+FOdAJ2+6X+8v23wDXenquVq70nOrMHrYH9T049R8g==': <Vertex object with index '284' at 0x1ec61b8b0>,\n",
       " '#FFFFFF\"1693|3\"': <Vertex object with index '285' at 0x1ec61b920>,\n",
       " 'h4dbqnrw7quDznhvWysNun+sL13StRHSpdRF19s/83Btn3gNNLwtYgSQCZhdL47Ci6nE0BcAGJJoyMN1i97pFw==': <Vertex object with index '286' at 0x1ec61b990>,\n",
       " '#3690EA\"4|437\"': <Vertex object with index '287' at 0x1ec61ba00>,\n",
       " 'z9ujeEVMFpT4Bo7eyx0oOhT90z+7sgZUg0RVHrJbUYg9HmgNlVN7Qd4rtqZbiJWdaHTuLYj24Zd1eiYaOR477Q==': <Vertex object with index '288' at 0x1ec61ba70>,\n",
       " '#000000\"5|57\"': <Vertex object with index '289' at 0x1ec61bae0>,\n",
       " 'KF5r536Vi/XcOwYrBM9YasCehZWusAh2V9DXf1ncNE7McJVVcWGLdm/CZMB3hhmGXIYxfmRBsrCLhY71IpQVFw==': <Vertex object with index '290' at 0x1ec61bb50>,\n",
       " 'wpHzWzFiMhVBWdJiB7Tq4yJKY0u3j5tdAXffqKyKoObnzKxD9i3F7+YYCSQuGNXu+LslkhopdPsJn7OSS+bssw==': <Vertex object with index '291' at 0x1ec61bbc0>,\n",
       " 'owPQTq5bIp9Z40Jc4k8QLyDGvbu25xHgdPaJTILjXpP4PH5GX+9E1wOHa54AdTJh9UuEJvYE60DuH/jvOTYvGw==': <Vertex object with index '292' at 0x1ec61bc30>,\n",
       " '#51E9F4\"1830|6\"': <Vertex object with index '293' at 0x1ec61bca0>,\n",
       " '7OTe+UD0j9B01PFzz4BcYfcqS7hyKnfKTeNA+AS7EH+PdSeE91dCAlo49hZi9dl5E8ZeW2NXM7vqukQjiZuX3g==': <Vertex object with index '294' at 0x1ec61bd10>,\n",
       " '#7EED56\"5|0\"': <Vertex object with index '295' at 0x1ec61bd80>,\n",
       " '0EariFePAKI0STaYN3U1NgA+RX+T8b1873oLbNSx0sKocxK53Aim0+MrV6Pvej7LrCfTGrF4KqPYhGCVFaqzIQ==': <Vertex object with index '296' at 0x1ec61bdf0>,\n",
       " '#FFD635\"3|1292\"': <Vertex object with index '297' at 0x1ec61be60>,\n",
       " 'Yk2qecwj/7BhRHlbxGfCfgfEzulQ3WQX2Hv0W+ZI+7/n5inB9ZRDHpRczfldnwYUbhn+CI8objdPKnAB6LBaew==': <Vertex object with index '298' at 0x1ec61bed0>,\n",
       " '#FF4500\"1491|2\"': <Vertex object with index '299' at 0x1ec61bf40>,\n",
       " 'I6v0EatsnSprf/IAKl5e93Km6wZLHcWgM2/2Lf9gE3F7kb2X1vlJPYICKos53eWuE78GNMuDnRBfeK+3TMmtuQ==': <Vertex object with index '300' at 0x1ec618dd0>,\n",
       " '#BE0039\"6|1354\"': <Vertex object with index '301' at 0x1ec6184a0>,\n",
       " 'h7zjNqbLZDjpU6JvK9g8ILZ8lGzoMaDcly8dB5jbXJMjA5JbZTMT/DJHxAa4syrRCVM5GSiWIzNtOxoMURHxXA==': <Vertex object with index '302' at 0x1d689d2a0>,\n",
       " '#000000\"809|3\"': <Vertex object with index '303' at 0x1d689ff40>,\n",
       " 'XJr4QgzBAuG+wscDWSMteE5fqQrjvNPrrGwIIfRNryjtkVaa6AOAtYmSQj8LpRFBD3usJnfAY4Wn0DVLD3lRKw==': <Vertex object with index '304' at 0x1d689fed0>,\n",
       " '#00CC78\"1999|0\"': <Vertex object with index '305' at 0x1d689fe60>,\n",
       " 'zhz06Yfd6oSktIcaBpX6PlubFMJueJ9vZsvbvdYi7WkF6jvZOJnK2aedTcAE7qgIYGN8zY0+tC3QMcy6SkLsWQ==': <Vertex object with index '306' at 0x1d689fdf0>,\n",
       " '#811E9F\"1|722\"': <Vertex object with index '307' at 0x1d689fd80>,\n",
       " '0tcp8bERs/4/BvziKvzEnxlslpy7gM1rPiM2cnf1AkEEbLCCZaylxlfgBwBOEf1c5Ku229rt32dDbySzx8JTFA==': <Vertex object with index '308' at 0x1d689fd10>,\n",
       " 'jJW4r6j7Ry0HftDjDCgBcKuElln8D33k5xcZ6qF6vIl489zmFgHylTLWkbIaQcfdJkmqmGMrcUGkdQ0QMOvG3g==': <Vertex object with index '309' at 0x1d689fca0>,\n",
       " '#7EED56\"4|1922\"': <Vertex object with index '310' at 0x1d689fc30>,\n",
       " '6xJWj5JhuFHeXDwvlCR/q8d1zvaa92TX9NC+7mGDgeHkPi5Yvfegqgji8i609oGyYx7DPsBKzqLT4kNptr/egw==': <Vertex object with index '311' at 0x1d689fbc0>,\n",
       " '#FF3881\"1998|0\"': <Vertex object with index '312' at 0x1d689fb50>,\n",
       " '8aDt7zhQANRo+IfV48Q143yMZqIC06RqQK2IYpMDDlyfTxNJkGcJfoIDoRzgyXzCF+I+QkWaskWDN3Z/jF10Ag==': <Vertex object with index '313' at 0x1d689fae0>,\n",
       " '#000000\"80|9\"': <Vertex object with index '314' at 0x1d689fa70>,\n",
       " 'EnhLhRuirobYpxNK42ogZchZ2fpQzdGeWwyQbvpZB4LPl2cRwNru9y2c9uNbPaIeX010ihIMcOz/rmQh87HcAA==': <Vertex object with index '315' at 0x1d689fa00>,\n",
       " '#000000\"135|6\"': <Vertex object with index '316' at 0x1d689f990>,\n",
       " 'xNS5pQySrSkLU6PXklQ3MvRmOHqLE6M7O1z/nzDytP4OIlOPF1UyhcmHU93RkfyYWjIRxYvRknWkk2coZby9hg==': <Vertex object with index '317' at 0x1d689f920>,\n",
       " '#51E9F4\"9|1390\"': <Vertex object with index '318' at 0x1d689f8b0>,\n",
       " 'F7rlLryOb53SEX6DqT3D+9i/bSNCRRlIIbTAqOrwwFKYnXWJFlH2/vcryAu9Jut5TCHnKI1rDNKQ0icIt0XYtA==': <Vertex object with index '319' at 0x1d689f840>,\n",
       " '#D4D7D9\"1986|2\"': <Vertex object with index '320' at 0x1d689f7d0>,\n",
       " 'rlvQEqdwUl/KfOrpT1s/XStTFS/anMRvi8TekNLGoXoOp04zL/vE7xtTUmevMTa/DPHSt7T59nix+l61b47+Qg==': <Vertex object with index '321' at 0x1d689f760>,\n",
       " '#BE0039\"1906|6\"': <Vertex object with index '322' at 0x1d689f6f0>,\n",
       " 'cwL87B1EGX22r1LX1tjaZ4kBpAb3qqMop71RYwrbjCVRTqd7fYO7NIAWj2stsgbIpGjpiAo6Ft5e6/DeP+8tFg==': <Vertex object with index '323' at 0x1d689f680>,\n",
       " '#00CC78\"8|1991\"': <Vertex object with index '324' at 0x1d689f610>,\n",
       " 'cDkPPcMs/XYICY2OgQoIDmfrFImZI1Wr3CM1xjun79Y5ynZA67I6HddCfWXx7TecwUDJMQYX9IeLa+ug/HvcyQ==': <Vertex object with index '325' at 0x1d689f5a0>,\n",
       " '#BE0039\"6|852\"': <Vertex object with index '326' at 0x1d689f530>,\n",
       " '2Q+9SZovG7srtBX9G+XnBDXyorMOQWozr2ihRQZ+5lFLmDlQ3ZGD0LiJ1sJof/PS+dI+O8P8mRhCopGoN5z/oA==': <Vertex object with index '327' at 0x1d689f4c0>,\n",
       " '#000000\"0|1481\"': <Vertex object with index '328' at 0x1d689f450>,\n",
       " '7XH8C2ZjP6jEvOG3yqUV0xM2pG8W0bbjYGKndkWWVp3t+qBrgqCdpm6MbPPQuwbmAO5YciTJeQ/Q33ghBPcStg==': <Vertex object with index '329' at 0x1d689f3e0>,\n",
       " '#FFFFFF\"9|1250\"': <Vertex object with index '330' at 0x1d689f370>,\n",
       " 'DyAbsyg9ZDGz8mbI1Ypmv27ra3NpT/ro5Iqr7LPYRd2CCOjGVxdsWV1itsP0Gy+Q31IV8n2c0au3bSvlcm0pBQ==': <Vertex object with index '331' at 0x1d689f300>,\n",
       " '#FFA800\"4|759\"': <Vertex object with index '332' at 0x1d689f290>,\n",
       " '/E1Uo5NwzTlkpXiAneSyH52u7PDcjgkl86g8Lc8cu6E19y5C1itOtuUGWzjqR6O+Z6s+o+X6wEIJMQ28TJcZKQ==': <Vertex object with index '333' at 0x1d689f220>,\n",
       " '#FFFFFF\"3|1482\"': <Vertex object with index '334' at 0x1d689f1b0>,\n",
       " 'D8yo3h89+zQsNRuk/EM0M0sue/UK6TDg4cYcN9iGfydJJrlLTIrtZN2UEpOhelAikH89cRTrb7j03v+uD9ooOQ==': <Vertex object with index '335' at 0x1d689f140>,\n",
       " '#2450A4\"1|1517\"': <Vertex object with index '336' at 0x1d689f0d0>,\n",
       " 'kYCmrTyPe/NPsLdRjq03CF89ftnnePzFgg7/s+7OZrTVujS5ApCHxhANXpOqNvRXvZUuODrc1WPhBcwj/sOBIQ==': <Vertex object with index '337' at 0x1d689f060>,\n",
       " '#00CC78\"1269|8\"': <Vertex object with index '338' at 0x1d689eff0>,\n",
       " 'ZZkg7o/neJKa7yYq9EmIqqPBhN7bKRHTjPOc4uLgt3bzqqxpSfB4i5+dxu7uH9XqJZBb7cOaNjXjWDwtp/4c0Q==': <Vertex object with index '339' at 0x1d689ef80>,\n",
       " '#2450A4\"5|1547\"': <Vertex object with index '340' at 0x1d689ef10>,\n",
       " '3K8S8cxvXPHadKoqclN2XXPUR2U1EMQs+tbCfqXJqPmDuwpaBvfn3FrteQOfWLuArcS8E+c99MgbIL0WkzV3vQ==': <Vertex object with index '341' at 0x1d689eea0>,\n",
       " '#FFD635\"5|1035\"': <Vertex object with index '342' at 0x1d689ee30>,\n",
       " 'LC2tFN/QDuALc+1nemFXwVsoqrIuMs2/o2WWhR5ej6/i1j7YdyakAaFbrCAVFS05Y4MLklZQdQigQdnUNaRWyw==': <Vertex object with index '343' at 0x1d689edc0>,\n",
       " 'e5kDZW0tDgPbYBBzK/QfDzOdJ2ERiw1oYjue6PtrU0ooJzWpxlPpnTVqe++xb91kwFyCCOFelv68AVr5PASXuw==': <Vertex object with index '344' at 0x1d689ed50>,\n",
       " '#000000\"56|0\"': <Vertex object with index '345' at 0x1d689ece0>,\n",
       " 'e/maDG5Tu6OxHIObQ3N1/GetnfgOAGl7ZaeHxJWP9WvI8s6ZIQHru7maE5HlfZHwaCCMfG0y9FbzTsTMV+1SiQ==': <Vertex object with index '346' at 0x1d689ec70>,\n",
       " 'J5SYHRIlW2E4EuH45ypzPhjoFlDkPq9lCpHcPqzq+Vj21RdKKdULuanLd4JL/h16z7a3Wc5BLUBTmLI5zXSq+Q==': <Vertex object with index '347' at 0x1d689ec00>,\n",
       " '#FFFFFF\"1|322\"': <Vertex object with index '348' at 0x1d689eb90>,\n",
       " 'oHRAZHU1LdJ4RurbuRCSDd/MM6dOMz1+GfnEHy77x+ftPyMg7OTKINmWcWDOhztMd4OJCejbhwlbAMITrTW2tg==': <Vertex object with index '349' at 0x1d689eb20>,\n",
       " '#FFFFFF\"9|1095\"': <Vertex object with index '350' at 0x1d689eab0>,\n",
       " '8arsCDvScEgmn6CGcmTd9BdZlqYjEVLGhwdXI7xdsAlx+wB2cJSF7SZPAmQysdS1+zd+yBJDOZKF2+6O46FhgQ==': <Vertex object with index '351' at 0x1d689ea40>,\n",
       " '#000000\"2|1998\"': <Vertex object with index '352' at 0x1d689e9d0>,\n",
       " 'd/w2gZm2wsBR53euf36E0XWkpn1RkqYyjOTYSvJhuHc96tIG2dIBEjGJMcyGNI3T8TbTVmnrC7oxpEYRiuA7HQ==': <Vertex object with index '353' at 0x1d689e960>,\n",
       " '#811E9F\"0|0\"': <Vertex object with index '354' at 0x1d689e8f0>,\n",
       " 'xTVmc4LL3mWJETCKCxV8sF1/B5VPqcohdey2gk3PaFzZ0/3guZtEDmyqAq4fOZCTXru4Y/eZOLdlSLeIefdqRw==': <Vertex object with index '355' at 0x1d689e880>,\n",
       " 'V/jwWvkiUp7xDKOA+9BlU6MXiqNHPctxtxIZTm9dA0mcc41vZFwHX0/2hc1X0BrcjTTsTnRJUAulXDZfUBb5lg==': <Vertex object with index '356' at 0x1d689e810>,\n",
       " '#00756F\"5|287\"': <Vertex object with index '357' at 0x1d689e7a0>,\n",
       " '4f0uMATS62AkzKkwO1MZkrSvjufYndxKKseZ1f3h4rALqcZmumFY27vzEXuQtYpDzykhW1SVkIUaGwKq0xP7Aw==': <Vertex object with index '358' at 0x1d689e730>,\n",
       " '#FFFFFF\"74|6\"': <Vertex object with index '359' at 0x1d689e6c0>,\n",
       " 'MVXEFFsozPDw7sEqZ4T13mKZmDaUBHBYHggOE/ARPVz2jBHwqSjpu8t+t1zu8l76X+a04zUU8UgMXIxN8CiePQ==': <Vertex object with index '360' at 0x1d689e650>,\n",
       " '#FF4500\"4|175\"': <Vertex object with index '361' at 0x1d689e5e0>,\n",
       " 'cvia8xk8PmgpubRHAOONfAStOZQary3GQh8z2BieCrNQtAz7uK8zkYqneOqH2BIBQxDuF3SGWoGo0d8yap8Glw==': <Vertex object with index '362' at 0x1d689e570>,\n",
       " '#2450A4\"7|1944\"': <Vertex object with index '363' at 0x1d689e500>,\n",
       " 'pH0cSpC4y10r32xFntqztTdsghaskWH2TDmr2PwapaqA1t5FyXoSyN33eUhOxwisvj9h/ABOINjKhKdTMPUQpg==': <Vertex object with index '364' at 0x1d689e490>,\n",
       " '#000000\"809|2\"': <Vertex object with index '365' at 0x1d689e420>,\n",
       " '47QNTOL2s3TwMHZX6d3D+BBt+1tmTsxsw8rSxKQhEnQH/3IgoFnSJJuvc12R9vu9Uqx991euWvofHvXEXKLhXw==': <Vertex object with index '366' at 0x1d689e3b0>,\n",
       " '#FFFFFF\"1|1111\"': <Vertex object with index '367' at 0x1d689e340>,\n",
       " 'x+5/8RFk/c5YdrasOQnfuqqm1Zge4tQbCF8HZ0CO3frW3+EJq/Nz6zjcurH4/htFx9qkKmnAeoV6xGpWa3ld9g==': <Vertex object with index '368' at 0x1d689e2d0>,\n",
       " '#2450A4\"1328|7\"': <Vertex object with index '369' at 0x1d689e260>,\n",
       " 'C7EuNNcq9ylzjgrCKNdvPHUuDv+ghK9moqX6/2SaehBvwsd0d/LHmUSYto5xX+8GTdKVPE94W2DWfQvoTFXpqw==': <Vertex object with index '370' at 0x1d689e1f0>,\n",
       " 'QgvfN33Ku17FyyeoFcbZOJ90QHG4oUL3cDKeP/HSRpjrZALdkM3fGHz9HS7di60129jFGGRp57QiyatGylmTlg==': <Vertex object with index '371' at 0x1d689e180>,\n",
       " '#2450A4\"1|1464\"': <Vertex object with index '372' at 0x1d689e110>,\n",
       " 'hxA04V2c0rWN6kVeuhJ/D8OwWbQyq/TwTJfz/JyEVB7oeSMkunKP8mBCUxS1meMmrDb/pwxHleP3AHDTlenPjw==': <Vertex object with index '373' at 0x1d689e0a0>,\n",
       " '#FFA800\"8|0\"': <Vertex object with index '374' at 0x1d689e030>,\n",
       " 'zlcaQdhtvCJU9c+GGEb1FL8EGPHjbADQnep6zKRayH5MXRKXKiz+YXN/gYLufgOaPRfLL1Qg/e7apsaRRFKkOA==': <Vertex object with index '375' at 0x1d689dfc0>,\n",
       " '#51E9F4\"5|1396\"': <Vertex object with index '376' at 0x1d689df50>,\n",
       " 'KATNicu2+wQw958twSpnwG2ein0ThPQ5vrPOjgPjMWKETqc4GdKFPQ7gUxHC5dTiDbPM/FCe2P2liYOGD6Ze2Q==': <Vertex object with index '377' at 0x1d689dee0>,\n",
       " '#00CC78\"0|1395\"': <Vertex object with index '378' at 0x1d689de70>,\n",
       " 'v83J1bow1FM/w5oW2N2lAwXHRp32qM4nPOEOtJ/zK+KPq67HFgZGrVBZ1ZHECyAaKlvYCY737XSMf2G6ZPVrsQ==': <Vertex object with index '379' at 0x1d689de00>,\n",
       " '#2450A4\"671|2\"': <Vertex object with index '380' at 0x1d689dd90>,\n",
       " 'Ylo5NLeJIMLYyyQkmxXvlazymMBkeq8JeULmfcRjr6q7Bt8kosRmAXyWSFC8UYtS/nx6/xHmlcoguNtfr14aAw==': <Vertex object with index '381' at 0x1d689dd20>,\n",
       " '#000000\"142|9\"': <Vertex object with index '382' at 0x1d689dcb0>,\n",
       " 'AMIPWivAtbC8jlzm7vDqO/3vROlZLGd60QjQwiLJ2DxEVV4iQTlQIaKX4hRr8M7G3DWL0pNJQjiGJdk5fUHy/g==': <Vertex object with index '383' at 0x1d689dc40>,\n",
       " '#000000\"1|1997\"': <Vertex object with index '384' at 0x1d689dbd0>,\n",
       " 'ZTFgwEu0DxloWoyXxTK5Grc5zfIZTAxfYW0boJ1HzpFLDFXxsyhKy8fRNh1qFNLrs14MoRQ4fiHc1petXingHw==': <Vertex object with index '385' at 0x1d689db60>,\n",
       " '#000000\"5|1408\"': <Vertex object with index '386' at 0x1d689daf0>,\n",
       " 'E592uMqIGfuEEpYa7/GU0Es8X8J2lJ98qgghvhkR3H0q6hvZbUEBsQVF/dbEc0uoCyE7zg5f27MsN8L2Le44hw==': <Vertex object with index '387' at 0x1d689da80>,\n",
       " '#000000\"0|1124\"': <Vertex object with index '388' at 0x1d689da10>,\n",
       " 'WEaqXqhVjf9YE9BDqZbLNCaTG6NOh2kmNbwiOBjUwWttycBQRgRFnq3/vyVMM8ZLVR/mLjSKqV5JZz8x1x3pcg==': <Vertex object with index '389' at 0x1d689d9a0>,\n",
       " '#898D90\"1657|8\"': <Vertex object with index '390' at 0x1d689d930>,\n",
       " 'PnQPdQ+XNMIBnqmvVE9HSDQKGv0xctfMykBwYpG5BZzEmH+6y4bI5bHPI56bfdtUjSwJy6Z4ET847Pn+V9YiMg==': <Vertex object with index '391' at 0x1d689d8c0>,\n",
       " '#000000\"69|6\"': <Vertex object with index '392' at 0x1d689d850>,\n",
       " 'LJ3gJUG5WAn30gD1dAGhJrLZcv/LD5NbPr8cWAEGRe4nLx8FmkD82yvFEt7reMe0hv1yUhapsHXMf8FpJqsPPA==': <Vertex object with index '393' at 0x1d689d770>,\n",
       " 'rkZLsGcks1VnAq0sESyr+FYPuDr5LWTqiV+0jZhTKP0ky4gyEs10Mg/I96vxgk2gB4nxnPBNaJ9vCh3kZQ+MQQ==': <Vertex object with index '394' at 0x1d689d7e0>,\n",
       " '#FFF8B8\"1|1441\"': <Vertex object with index '395' at 0x1d689d4d0>,\n",
       " 'X9mfqZkuq8EdESoWAc3v9ZrciU0aq1/xpek7rWZXKfTJHERA7ncM38rRZBbQ9920jgwu02vMAjauUDucx9CvAQ==': <Vertex object with index '396' at 0x1d689d540>,\n",
       " '#000000\"0|0\"': <Vertex object with index '397' at 0x1d689d690>,\n",
       " 'EUrrj4p6903i78SaQaHj1ZifekdFQ46QRKzxxLynkOC7OeaRLF1d83nyAQml2p+2iEyL4q8ZM+EiZD/2I9SFHQ==': <Vertex object with index '398' at 0x1d689d700>,\n",
       " '#BE0039\"1|35\"': <Vertex object with index '399' at 0x1d689d620>,\n",
       " 'EN7jbqtjD6zF1H5UKmqyaDoLvbstOgge2sVaZQcuYKmxEZzIqtsaJvhdS875TGd0ab7YzyecphhHYK/It8t4LQ==': <Vertex object with index '400' at 0x1d689d5b0>,\n",
       " '#BE0039\"6|1459\"': <Vertex object with index '401' at 0x1d689ccf0>,\n",
       " 'UKsr3Sc4W+XU5fsVuq5rn93dW4UTCV3S+hKa0DG3xqc1DWSIHcbdwbUIE71eTFzQ0NhBkcEryGai7kf5h0Me8g==': <Vertex object with index '402' at 0x1d689cb30>,\n",
       " '#2450A4\"0|1562\"': <Vertex object with index '403' at 0x1d689cba0>,\n",
       " 'KuMkUrMl61cAjEddd6rYLGmaFyq9Cx0E424mK831D6IO58bm7WqLKnVJgL4RAHt/eXGFa0VAd1GKaZHcK5RS1A==': <Vertex object with index '404' at 0x1d689c7b0>,\n",
       " '#FFD635\"8|1250\"': <Vertex object with index '405' at 0x1d689c6d0>,\n",
       " 'ZI0/8TtYHmq7It2zIlAXL5qT+ZsUcM+6z3LiTHyMGmWUJfj8n1WLqWegIeDX/W23sPtvTWVhbBEhcXdDJg83mQ==': <Vertex object with index '406' at 0x1d689c660>,\n",
       " '#FF4500\"8|1153\"': <Vertex object with index '407' at 0x1d689c5f0>,\n",
       " '1y5Nahd7+nFSiO+oIEvvUtHQqBAgwL4dbUQMhsGSy+24ElrHjVIr7TCeUI0nLpcExwa171hy+EnegGNcUMTRwQ==': <Vertex object with index '408' at 0x1d689c580>,\n",
       " '#BE0039\"2|1149\"': <Vertex object with index '409' at 0x1d689c4a0>,\n",
       " 'Xf49d5iBsGPwhTS6KV42CWgM7EmawL7E/vmd6XxQOIx0LEYkDabao9mkGCtFrASMK7iAAY3qRYTsa0xsKMBNlg==': <Vertex object with index '410' at 0x1d689c510>,\n",
       " '#6A5CFF\"826|1\"': <Vertex object with index '411' at 0x1d689c3c0>,\n",
       " 'keljV1Zj4Rh8QlAUsEtVdC8TP0WPc7eDQrkmkocz9iKndVMjnKc/q8lb60ZcZFerKdYqD0sEAt2NQVf/YNfLWw==': <Vertex object with index '412' at 0x1d689c350>,\n",
       " '#000000\"3|1999\"': <Vertex object with index '413' at 0x1d689c2e0>,\n",
       " 'zSkToPv55MHuYgLwaZ10t2LbT5gRG3jbL92FsdkAo/JtJcbsLZOlpc2TSPY204dgAjUMrQ+5JnYQS4idEFsLQQ==': <Vertex object with index '414' at 0x1d689c270>,\n",
       " '#2450A4\"3|1306\"': <Vertex object with index '415' at 0x1d689c200>,\n",
       " 'qUwXQo5SCPDJBQzqX406kzsnCYHk6V1G2UJ18grAE98E3HyKROg+hTYZaZpfCqbZr9b117JysSMNBVZDHGvZXg==': <Vertex object with index '416' at 0x1d689c190>,\n",
       " '#2450A4\"3|759\"': <Vertex object with index '417' at 0x1d689c120>,\n",
       " 'LKuIYxZPHmnuy+/uwtjP/+nQ94ehmvDQGQRFYVazQmSWmFOHnjv4MEOMwlok31l9j6WRDVPYxCMNm2QeE7SQpg==': <Vertex object with index '418' at 0x1d689c0b0>,\n",
       " '#FFFFFF\"4|450\"': <Vertex object with index '419' at 0x1d689c040>,\n",
       " 'fDwd81QeucJKu5Mmzs++zZF4lgAHxz73GIlfwQAbDXoyDIao41UNBZkgosdk3u9/3m05vUPkKsODYSM4nVVqMw==': <Vertex object with index '420' at 0x1d689d460>,\n",
       " '#FFA800\"3|0\"': <Vertex object with index '421' at 0x1d689cd60>,\n",
       " '3bCqadIOvd4GTYme3r8I0jboO+tyHv4xpArH0vxALEPAzHJ22+c7qsXWAI5sIYrlXk8c1hV6r2qLEFtuhpGmOg==': <Vertex object with index '422' at 0x1d689cdd0>,\n",
       " '#7EED56\"1692|0\"': <Vertex object with index '423' at 0x1d689cc10>,\n",
       " 'zrL5ZKyJGoiEp+XgMS8wAdiWFd5erGHGtNyHyWuFamdEO88nZ1qKEvNhHezK7yDTGNdP6B+Nos1c0l3BqQQFHA==': <Vertex object with index '424' at 0x1d689cc80>,\n",
       " '#FF4500\"6|0\"': <Vertex object with index '425' at 0x1d689cf20>,\n",
       " 'j73ZYVTexcsRpmKrwhG2lDwYqBze+dW9hYh9+yPqMSlcaZDKc1gHXHbatk3G4SSpHeACsD970dm3tTjvYHmsVw==': <Vertex object with index '426' at 0x1d689ceb0>,\n",
       " '#FFFFFF\"2|1233\"': <Vertex object with index '427' at 0x1d689cf90>,\n",
       " 'Nt3jj+ciC40T5D4Ndm8kvjd589L5biIVuKo4rzh/voyF5ufAoaqDKKqD2VNH22r+9QpfTHAaFnIY2YP3EoEzvA==': <Vertex object with index '428' at 0x1d689ce40>,\n",
       " '#3690EA\"1392|8\"': <Vertex object with index '429' at 0x1d689d000>,\n",
       " 'lkFJkGIFZM/sHRQ32hoAhbhQ04/RYdkzgR0iA3UG2t/Cjk+cxgVZ6p9sBBklkN1sj7ZdJI3FQRgwBrDmNxEMOw==': <Vertex object with index '430' at 0x1d689d070>,\n",
       " 'gQAqypzO/S1DbSerz3oFdLojruh5TmY6EmZSD3UPvi26Z7YSrTWPmJNmYASdfVBDP0LMfU9iqxt5XlbIR1eY9A==': <Vertex object with index '431' at 0x1d689d150>,\n",
       " '+/fCt/XtpGTUBQvfWnHLWCWYm6snneGJ91IRezMa2JjVykfkGQKHvx28m0O2B0RMyjM6I7RfWJ+54+JePhjmZA==': <Vertex object with index '432' at 0x1d689d0e0>,\n",
       " '#FFFFFF\"1059|6\"': <Vertex object with index '433' at 0x1d689d1c0>,\n",
       " '4H+Ayff/z8yuKKm/uDE+6dwOecXXKUBVaB4GNn3OX29J8Q8PiZ2EI2hkT3twE57f1CEXjaMdm6pGNNdmo64+XQ==': <Vertex object with index '434' at 0x1d689c900>,\n",
       " '#BE0039\"9|379\"': <Vertex object with index '435' at 0x1d689c430>,\n",
       " 'xHmzkM3/KrW0nvcwj4DOWLl2O/a/6AjHaJmYs4VYH3eB/JqUdRohDW0JgQnhlF/WFcxWxyM3W+07JxtAtOCS+A==': <Vertex object with index '436' at 0x1d689cac0>,\n",
       " 'nVfCnxGDR8RfGxUEerBQKJMQWiXeKh80S3GG7wcmgQnnBlRy9madX70QfrFYJUZiHfmlqufw8wrU0nGuFJVq2g==': <Vertex object with index '437' at 0x1d689c820>,\n",
       " '#FFFFFF\"2|1464\"': <Vertex object with index '438' at 0x1d689c970>,\n",
       " 'WvDTtlEcUZwunHQZuEKavJh2yIB5jgIM/LaxJSM1P0f+YWtJrSa4FQXBjxsda3nX37MHIlFWjw+RAXIyaxcz3A==': <Vertex object with index '439' at 0x1d689c890>,\n",
       " '#FFA800\"7|1176\"': <Vertex object with index '440' at 0x1d689ca50>,\n",
       " 'yJHaYl+ZovcJgHTWRzIbcnCyFHabQiL/MSheVM75bTzPYDzHZEBAQ3u2zaEGlTlC4u+VNLbuY6G7zSmgmpSwEQ==': <Vertex object with index '441' at 0x1d689c9e0>,\n",
       " '#BE0039\"0|762\"': <Vertex object with index '442' at 0x1d689d380>,\n",
       " 'P1vvAN/QAm1EUUrgaFO2wG1XQA6+q+XYisPr88JLiCCOGSn/57hRXsNEbtoj7H5EsgCwShuJgwsm5EHrMgdOjw==': <Vertex object with index '443' at 0x1d689d3f0>,\n",
       " '#009EAA\"0|3\"': <Vertex object with index '444' at 0x1d689d230>,\n",
       " 'JrK5XpVvGp4v7WJ/TZegNwHuBYr3W1igIMwp819YFLm6q/XXl/QDxqaU9l2jOjgmtXRFhZp4KnIf9+fOLrirMQ==': <Vertex object with index '445' at 0x201eec9e0>,\n",
       " '#2450A4\"9|1746\"': <Vertex object with index '446' at 0x201eefd80>,\n",
       " 'OdgcrUNlwjlm95eWn5dc0M9XmMIpHzECK7KgQqP8FIqY9uN2GhXN+7hZwmY5mvhsucjcxlMGSem2fRL2zQU8dw==': <Vertex object with index '447' at 0x201eec660>,\n",
       " '#000000\"499|0\"': <Vertex object with index '448' at 0x201eec5f0>,\n",
       " 'I9ApwjtEVQY1IWPdwBNWdiLAj97V6e7pz9Ku33EgCQv4kVWoMIg6hMAMOxr4TlbvNaeA2j0Efoj28MAyMDhtUg==': <Vertex object with index '449' at 0x201eec580>,\n",
       " '#000000\"2|1276\"': <Vertex object with index '450' at 0x201eec510>,\n",
       " 'ExihqaC2j0FxTX+Jkp0sPTWLRzrtB6n9q7LAwxVoEZz+onE0D2Ll+9KNY2e1Cxh1L8Yy3bSe/t51u4AmOWPPDQ==': <Vertex object with index '451' at 0x201eec4a0>,\n",
       " '#7EED56\"1999|1\"': <Vertex object with index '452' at 0x201eec430>,\n",
       " 'VGHfI/tXiV0uqs57vZJMS7q1F6iX+Unr5dm8Qwlj6bTzFEQKl+X7bDO1c00Jt86wQHM+PKys+J7mx5CVuXIskg==': <Vertex object with index '453' at 0x201eec3c0>,\n",
       " '#000000\"27|0\"': <Vertex object with index '454' at 0x201eec350>,\n",
       " 'YvGlrUxLhHPKrlsNR8bwxZTQh1swKMCz+fN2ltYPVVVMSaDk4HkB8oC7L+l/AF7PPDUVE2FqASFQPUDatw9rSA==': <Vertex object with index '455' at 0x201eec2e0>,\n",
       " '1qA+/+p+xLDfhezd/SmNPF9k7BchnF9dbtS7fqUopzxqhfKEWzQiFn9QLY6Nz4mfA2ePOdT4zjHNTUHBiA1ObQ==': <Vertex object with index '456' at 0x201eec270>,\n",
       " '#000000\"2|1036\"': <Vertex object with index '457' at 0x201eec200>,\n",
       " 'XQKdimUbaZQqSH9sbXIOH2W9XDWqeyNPoNJflS2ofP7ZpNgECc3kdj7tV3yBRJ7ijDnjlm3PcB8/aWyYNqBflg==': <Vertex object with index '458' at 0x201eec190>,\n",
       " '#000000\"71|9\"': <Vertex object with index '459' at 0x201eec120>,\n",
       " 'yGqWOjJ1gxf3fzuaf7d5Y40Y8KGvnTpweBaoB7csNG6zajosWpbgoQPV+MczCv8piwk/S+HmkiOngp/+C1OfuA==': <Vertex object with index '460' at 0x201eec0b0>,\n",
       " '#000000\"252|0\"': <Vertex object with index '461' at 0x201eec040>,\n",
       " 'i+Xgi5f9DJbjCguo4tki6hoX6lJxYi7Kuk3rauIe6uFcMeDP37yAAyWwonok5+vFuRN9Vy3+QRZkCfxQz1izIw==': <Vertex object with index '462' at 0x201eef7d0>,\n",
       " '#FFA800\"1195|2\"': <Vertex object with index '463' at 0x201ee8200>,\n",
       " 'cBAsmTFer78nHx1tMMFnSh6tHKvOmU/PKtq4m9AJRyDP2kmp2LfAnX85tD7c2CKhfX9sXtR6AHBkOcWk9tlArQ==': <Vertex object with index '464' at 0x201ee8120>,\n",
       " '#6D001A\"1817|6\"': <Vertex object with index '465' at 0x201ee8270>,\n",
       " 'CBjT9jOpmsw1r5tlHA1+rFy/EaAyvZ/4E+pXJmPt2WrUtIzLYeXkJu7Zj+L1MsNsKMiNT9Fpj7RKWRI2qWs4qg==': <Vertex object with index '466' at 0x201ee82e0>,\n",
       " '#FFFFFF\"56|0\"': <Vertex object with index '467' at 0x201ee8350>,\n",
       " 'lYTU8HPpSH/8xP72/P5yK0E7SyWeQKGvyn1zUtp8ED4yYg25dRWTR8j5WMVFDojRftjEnHpe/6bvQDyCVLk4OQ==': <Vertex object with index '468' at 0x201ee83c0>,\n",
       " '#FFD635\"5|725\"': <Vertex object with index '469' at 0x201ee87b0>,\n",
       " 'oYbMvzDW7YwFBveNeRnGy9jMZYzWiFxZ1GHWAaa4DTf4pxIAS/w54OlGQIEuI0E1kFXZVErXQg/9EJJGxszXIg==': <Vertex object with index '470' at 0x201ee8740>,\n",
       " 'SteXhwXCMVifEs0/TFRp/ymYYyBDTqkI9fh08nbCOZZsgB/QEk24prc1J2BnJt08Qy2Mar+/FCBZ8QG/RY+kmA==': <Vertex object with index '471' at 0x201ee8820>,\n",
       " '#FF4500\"8|532\"': <Vertex object with index '472' at 0x201ee8890>,\n",
       " '403m+PqOszMMCd3TL5VwtMpkO3n76XgaJQiLA9KZSlbvbhpUJQKJaOCqQDCfijTGvhflkOeEg9F6Hb6XcX/EOg==': <Vertex object with index '473' at 0x201ee8900>,\n",
       " 'j74R9r/fXGOherOtydWuwsAT1fYJvZ6Ytx8/7itum3nMZdSaUp4/sJnrGNtAnEgG207gqi8X+q5sIr8jLdABRw==': <Vertex object with index '474' at 0x201ee8970>,\n",
       " 'HvOeBYvBvwLeg3UoIsE1zseW7OWXa1lraa+HPOGlyX3vUNde3k9kg6QeqFqGdphmGbwKYxnTK/ZA+Y5o8wW3GQ==': <Vertex object with index '475' at 0x201ee89e0>,\n",
       " '#FFFFFF\"0|1999\"': <Vertex object with index '476' at 0x201ee8a50>,\n",
       " 'Vx9xjOVWTUncoZqMZXmAMux0owD64R4Z7rCyLNpx8AX2/PUh+362ZbOQQUvkwSbhs+pVdBrZ3SB4IgAloIksFg==': <Vertex object with index '477' at 0x201ee8ac0>,\n",
       " '#FFD635\"6|729\"': <Vertex object with index '478' at 0x201ee8b30>,\n",
       " 'h/PfajZKyZlt3ghh5ywYUpA+Cn8BafMOxvYiARTIxr/Bbu6rnQys1HfTWTvGaNuaRC9mOvPb/5bTSlEMjcqaKA==': <Vertex object with index '479' at 0x201ee8ba0>,\n",
       " '#000000\"3|1231\"': <Vertex object with index '480' at 0x201ee8c10>,\n",
       " '3wJFAAYrb+qNx8ozkQsqfgyW0Fpg5z5klYD3G9ztDHzNyEloCVlMjG5JsMgNP1WZUxpVYIGS/JlUTXVc/a7KWA==': <Vertex object with index '481' at 0x201ee8c80>,\n",
       " '#FFD635\"4|1041\"': <Vertex object with index '482' at 0x201ee8cf0>,\n",
       " 'ENU9AQAWRQfcIPsSH0cD4vMMHnZPsDBaHsDzeO6bbtPNYTQDZ8eJ+pNQqeGBhbSQIePB3tHjYCSYR/Or6TmBYg==': <Vertex object with index '483' at 0x201ee8d60>,\n",
       " '#FF4500\"7|169\"': <Vertex object with index '484' at 0x201ee8dd0>,\n",
       " 'aJdDlYxMuv0cN1CZcsS0GeHR12PDH0ybeuPYrdNzVrOTqZ5cOBCL8vQXGcih+n9PI7du1gMYkQUD0YE9Gvy1rA==': <Vertex object with index '485' at 0x201ee8e40>,\n",
       " '#FF4500\"386|2\"': <Vertex object with index '486' at 0x201ee8eb0>,\n",
       " 'ofrB6tIvflOYTkc+ixKRCOw0KCQWmOSezeU1nkseGEjCmx1ilOWgKbSGqWFRhh9i2bPyA1oRSxAkFj+/AxGL0w==': <Vertex object with index '487' at 0x201ee8f20>,\n",
       " 'XS+RlBPAJ57kZVg8EIPlVjh4yT+DhZswoTxx5zc7Frl90EtEYoeNzVONyKjFZcGPCcMpH/FiZec843rBTkGCSA==': <Vertex object with index '488' at 0x201ee8f90>,\n",
       " '#9C6926\"3|1095\"': <Vertex object with index '489' at 0x201ee9000>,\n",
       " 'RrKLjYF5p+1xxLtcYUWmp7X7ChnVHcc1sVUoTPKW99l+i7M8313JdRC8uK4K3vHqSsNJpLmkWoxQIhGTmTgjdA==': <Vertex object with index '490' at 0x201ee9070>,\n",
       " '#6D001A\"2|1428\"': <Vertex object with index '491' at 0x201ee90e0>,\n",
       " '4/21S1l/mLucJ9e9meU0d+gWzIsidlSzLn1EIC7VEGq20Za9pRSAHvlftOqqFUSPRhdNIG+VvN4Ty+Q4z4bztw==': <Vertex object with index '492' at 0x201ee9150>,\n",
       " '#3690EA\"0|1968\"': <Vertex object with index '493' at 0x201ee91c0>,\n",
       " 'vwERTRmOdbkilKPw90u5EUzsfbsYw4365ib5wwm0FAcRrw8JLEhtAL+tQAGB8M8yYsmIYn+Hqd6CkhmEZC4G5A==': <Vertex object with index '494' at 0x201ee9230>,\n",
       " '#6D482F\"0|7\"': <Vertex object with index '495' at 0x201ee92a0>,\n",
       " 'CBJ5zQx4OjxwBdxslHV7HcZ/BVcqu2grdnv5APQaQqrxsATxtv+xd2sa13EzRmmF7AheQxkFzA1t63/g62XWLA==': <Vertex object with index '496' at 0x201ee9310>,\n",
       " 'IMF05kCuCCUQRnPm3c5AVBMDB1K3P9+y1szD3oCviItj3aYMqxXdX1nus4rBs238OD4WTkBcL7mv6lCo/lfO1g==': <Vertex object with index '497' at 0x201ee9380>,\n",
       " '#00A368\"5|1942\"': <Vertex object with index '498' at 0x201ee93f0>,\n",
       " 'dusn9uJkdgzmGkOeyB/98pmaNR2LXocYkmtPkpDMwaYFFk7qidK6kZ4DG+q5hHM5FP2eQqpym2Qu8+/4jOz06w==': <Vertex object with index '499' at 0x201ee9460>,\n",
       " '#FFFFFF\"5|444\"': <Vertex object with index '500' at 0x201ee94d0>,\n",
       " 'VfoqEYRadJ2dGTIE4oBZgCzbD8vdez/sHsMlZlvYtN8INqGU+YyLxhK3CctCrrwwljg7b1HEJ7JOBhFZ4FQZXQ==': <Vertex object with index '501' at 0x201ee9540>,\n",
       " '#000000\"731|6\"': <Vertex object with index '502' at 0x201ee95b0>,\n",
       " '+p86FIvXv9rK2RbzZ+x1sXC4YdwXKspoYIqBDnyDx5VrEs+hzuDM2TNtCa7d3RgnFQqaujFM/koZ4F2b40SqFw==': <Vertex object with index '503' at 0x201ee9620>,\n",
       " '#FF4500\"0|7\"': <Vertex object with index '504' at 0x201ee9690>,\n",
       " 'ict97JYZovrRAOo/3XcXGrFgQCkZ9/qB8sxcspN5Y5JCDxKIEfsCaZYyK17aYwyfUoYdg1bGibxPmGGpOThqzQ==': <Vertex object with index '505' at 0x201ee9700>,\n",
       " '#000000\"43|7\"': <Vertex object with index '506' at 0x201ee9770>,\n",
       " 'tg8WsfO64d0dG/9meY/4RP6GbtXPpVwVUFs49VHys8+2x4b/UOrzP7fPyJtr3PKEyAEMsjOlrfLgsSqRhSmowA==': <Vertex object with index '507' at 0x201ee97e0>,\n",
       " '#000000\"14|9\"': <Vertex object with index '508' at 0x201ee9850>,\n",
       " '2pEbsVFRQpCmFH9dXzfoi5N2/4F8eHSDYg/s1b/yA8aVijSw0CMg1LZxSu1yAKbh9Xq5pAPLKDyk+VfFUbbrnQ==': <Vertex object with index '509' at 0x201ee98c0>,\n",
       " 'jkHCI05Iq4IBvQeVBXmuudCxRwKpFIj3K+X5TVkmhu5m2W+qi+9pWMaViN1hNjyLX/PtmXk/xLQaEHhyBWjGUQ==': <Vertex object with index '510' at 0x201ee9930>,\n",
       " '#2450A4\"1147|4\"': <Vertex object with index '511' at 0x201ee99a0>,\n",
       " 'Pc55jZk5+EvINsEJ0kn7pii4+PwxnDuveC8TiEMk0M1c2QFApu6pbd5/jHRrg9mfstuZVeE4+Mq2ZxY96qHXtA==': <Vertex object with index '512' at 0x201ee9a10>,\n",
       " 'EcU4a6mA+UflFvKtKEU560H4XCEMnPdtiV2cFofpXvxQYEgBVQxCi+AlEpE8TebMfewWBnBwdcPDVVS3sY8fuQ==': <Vertex object with index '513' at 0x201ee9a80>,\n",
       " '#94B3FF\"7|1366\"': <Vertex object with index '514' at 0x201ee9af0>,\n",
       " 'lSyGvLRWCDPV0rxepYSL2vLqHa/0sbr7wo0MpfNAGm9+ZNGkCzwV4AndioT5VXEg1mx1034H3BfKSrIewYQPIg==': <Vertex object with index '515' at 0x201ee9b60>,\n",
       " '#000000\"815|2\"': <Vertex object with index '516' at 0x201ee9bd0>,\n",
       " 'uyV4sb1JOp8AxY5sqmqeE7wretmgGvGq0J2LaqF5B0P80AxhWeTRGBvM5H01PcwvAwWEthS3wN4QauC3eSty2w==': <Vertex object with index '517' at 0x201ee9c40>,\n",
       " 'S5OEHjwUncftyBAvc5yq9N14lHiNm/67S4UJ7NyhHiHlX8uura+XCdNccxqZL3E+PxoQLwqEJFh65RRSHLha1Q==': <Vertex object with index '518' at 0x201ee9cb0>,\n",
       " '#FFA800\"1717|5\"': <Vertex object with index '519' at 0x201ee9d20>,\n",
       " 'he3CiKZ+PLfcxFJSrSTb4mUEN8HFmPu4apXZXYfhKjY7NBidlFpMRChZtAOQ0t++bocRUMgIuCC2LOFqTBAvkA==': <Vertex object with index '520' at 0x201ee9d90>,\n",
       " '#000000\"6|480\"': <Vertex object with index '521' at 0x201ee9e00>,\n",
       " 'k89ekLMhrF9ZO8KAycCKEDEehjAq8/ppfquxm3x0m8DexZUcgZbGf9rICjNzRI5k6FmvF2c/GuxTAHMm9wmazA==': <Vertex object with index '522' at 0x201ee9e70>,\n",
       " '#FFFFFF\"71|9\"': <Vertex object with index '523' at 0x201ee9ee0>,\n",
       " 'iBil87mTl9E9j0mz6MKlopWmFNddzb7Zyxt00G55DI3rRv1qyGVL3PyJ2io3JngCPyqLqrlRIv3pI9ncXXnxow==': <Vertex object with index '524' at 0x201ee9f50>,\n",
       " '#FFFFFF\"1348|4\"': <Vertex object with index '525' at 0x201ee9fc0>,\n",
       " '94vN/RFijNIbOQ7GgWhUOe35hbzMHkt9zoCY0yXj7Z0yiV/fsallW8uXgdl6cPI9I/GwaEGfui6e6Szh7oUi3A==': <Vertex object with index '526' at 0x201eea030>,\n",
       " '#2450A4\"9|216\"': <Vertex object with index '527' at 0x201eea0a0>,\n",
       " 'bo2NoKVWcZh4bsRdZuh2WRSi1d6EXhAC2APIy0Sd/2JKXUjT7H3dYkvPBRwVIGhO3Fay3ROzHmV+3AaFhAtnXQ==': <Vertex object with index '528' at 0x201eea110>,\n",
       " '#2450A4\"0|1638\"': <Vertex object with index '529' at 0x201eea180>,\n",
       " 'nPIFq+5NkHIV5Yd+9ydiIhHXlmz0ZnOQSLpR9AaEbUHFdUL7HZDYDMDa4nordXCWrnYO439/KSDLXbPm048F5w==': <Vertex object with index '530' at 0x201eea1f0>,\n",
       " '#DE107F\"0|1999\"': <Vertex object with index '531' at 0x201eea260>,\n",
       " 'cusPGbo58tPf81kUleHcA3YaWP63olmjWQZZTY8p2egXBxz2V9LyxOeC2/L8DnsO/wfmE6NvKJ8dSi6Vxcikww==': <Vertex object with index '532' at 0x201eea2d0>,\n",
       " 'OWZn/C2014dQezut2LQ+bFbNMs9VNvPwDdXatLc4O3yYKd2NzOJZ8B5pY7f8wodYGys+9wapde27D1jRXa2n4A==': <Vertex object with index '533' at 0x201eea340>,\n",
       " '#FFA800\"0|8\"': <Vertex object with index '534' at 0x201eea3b0>,\n",
       " 'owdKTsHLuKptNFeAcwBwsvY7BlqZD2YgLpjWKlGlbe/LjCUtc+elgOZ/Ckx/QOQcMBG6DarSPU9gU8FfgTT1nQ==': <Vertex object with index '535' at 0x201eea420>,\n",
       " '#2450A4\"1197|8\"': <Vertex object with index '536' at 0x201eea490>,\n",
       " '4abo173CpdOrDywHlXxoLaP/XBnTM9z+meN0+GtZhxLuJKTV3OmCrPgAZX/9WQWYwEIlIFWh6Zo5k0CIUgBO9w==': <Vertex object with index '537' at 0x201eea500>,\n",
       " '#FFFFFF\"5|287\"': <Vertex object with index '538' at 0x201eea570>,\n",
       " 'F59I+kPlW0141jR0piNMJ7gDECQELl0ESstZ90zpiX8VIzvUzDCs2Z8lroBOamwiHNpVKu988S/7wjYouq931Q==': <Vertex object with index '539' at 0x201eea5e0>,\n",
       " '#94B3FF\"1|697\"': <Vertex object with index '540' at 0x201eea650>,\n",
       " 'sBAsLuuni6i2wNOxDhCYvTQ89WudGsTAzA0nsxozD/dA3vpxKHusm8zNamGT7dJMtoseUg6yAwaeh972+uQC/Q==': <Vertex object with index '541' at 0x201eea6c0>,\n",
       " '#FF99AA\"5|774\"': <Vertex object with index '542' at 0x201eea730>,\n",
       " '61Mc/1GERtIJJn2BcZup/hVp+QFP8QzqMwDYG9zVjqhzENHAEWq/0Y5o7ezc3bPWZlOx8FEnn9Qm+8hRE1S/CA==': <Vertex object with index '543' at 0x201eea7a0>,\n",
       " '#000000\"0|1226\"': <Vertex object with index '544' at 0x201eea810>,\n",
       " 'QO9FJ7fMyzuZrAoLD8bysBIgM0Kp/LXkUWXEvKDf95QU8hYI8e0L0V3IHA7grt3+MlSZBOAyxBwOnVL9x4t+9A==': <Vertex object with index '545' at 0x201eea880>,\n",
       " '#FFFFFF\"8|787\"': <Vertex object with index '546' at 0x201eea8f0>,\n",
       " '9uVYuf4xqKKl4AdUVKOAsy/OuAHJ89e9eWvLJEDfsymCnYj8Vzy8ehHveiRNhjV7dOSvsoDA1YwC9Veda3SXvw==': <Vertex object with index '547' at 0x201eea960>,\n",
       " '#FF4500\"1|434\"': <Vertex object with index '548' at 0x201eea9d0>,\n",
       " 'aFwM/LqxEG5jwsgSXFLLGnnBkSRDkb2CB9TT6+eh9UzjYZcPVj9ViMFxe1DXUJ0IwbBc+sYMsqcb2WMEdJyUEA==': <Vertex object with index '549' at 0x201eeaa40>,\n",
       " '#000000\"1|1807\"': <Vertex object with index '550' at 0x201eeaab0>,\n",
       " 'l97jGWZ+ZRRX+FJmwjrBmWm1t8QBR1eWaUiF4mWJ+D42BE6VUYDAEyLCnt0BDAl1WxFBtGp4i+rjGTW96sLGyw==': <Vertex object with index '551' at 0x201eeab20>,\n",
       " 'mywOPHZ/GwcKIHaUbGYnIYLI51zIPD663FCYAY5aGDAAZ7rp/0IEAwW0gnXUJ6+N29AOsHfhA7R/4uxF5F0drg==': <Vertex object with index '552' at 0x201eeab90>,\n",
       " '#FF4500\"7|956\"': <Vertex object with index '553' at 0x201eeac00>,\n",
       " 'Q/6UqEnlvrxgSXyZfPB7mX2IF9YymrLKN08uYdi3QF3J3FS2LTqNvBEmoxCaTBDYmmflRRsZTDAJ/HrlT/+xbw==': <Vertex object with index '554' at 0x201eeac70>,\n",
       " '#00A368\"1212|1\"': <Vertex object with index '555' at 0x201eeace0>,\n",
       " '1hTOTAzon0SQW3kQCBiGww1lKU2yjSz03BG51Szr3PzRifk7oe84oYslQCfnDBIbGQb+ydnFuXT3hFpDp0DFJg==': <Vertex object with index '556' at 0x201eead50>,\n",
       " '#FFFFFF\"7|170\"': <Vertex object with index '557' at 0x201eeadc0>,\n",
       " 'jTz70Dg1NTriFSlZMTSppAk+nW7wya3l/4pUVJAt8uB7/L+Xsq9joZDaagm7COmzPspp2d1h9L1gb3YBBrtvpA==': <Vertex object with index '558' at 0x201eeae30>,\n",
       " '#00CC78\"1203|9\"': <Vertex object with index '559' at 0x201eeaea0>,\n",
       " '3CWVYhHnn7baIJ+ieJ8eJIoo/Y4mgn70ZZKgGNlyzu18+Y6pcsfLibB/6PR89WL0x3fQV+mMOHIZTO2GCBg9+g==': <Vertex object with index '560' at 0x201eeaf10>,\n",
       " '#FF99AA\"0|0\"': <Vertex object with index '561' at 0x201eeaf80>,\n",
       " 've36qQ6naNklN7kiqaSgu7lxYpZ6XG3/hWBXSYWXFxQwA6bfVIjrhFIEoaAN84Zg6aGRaPM2NyW3BTv6T7pUog==': <Vertex object with index '562' at 0x201eeaff0>,\n",
       " '#FFFFFF\"8|1095\"': <Vertex object with index '563' at 0x201eeb060>,\n",
       " 'QwyBr7EsnrxwVC2sRTbiMoNauwhxRjsQqEulVyDrKk2zmTECljaGQb0xf0cW4Eo/pbiB4sdOZ3r7fiwIxrt4tA==': <Vertex object with index '564' at 0x201eeb0d0>,\n",
       " 'AOrMYX6sR89110JgsKVLQVqXZuPLo00Tf8ryUiLCUurQF0k1JaVgeWSCpLvFse3GZusKwFHYglVQiivkkRH3Hg==': <Vertex object with index '565' at 0x201eeb140>,\n",
       " '#FFA800\"1148|0\"': <Vertex object with index '566' at 0x201eeb1b0>,\n",
       " 'uOyzSgSVfyCaecmx5ajrXAGvxshxvjFsM2ZWnlykWlsMx/uw/ZDoE0g+fzqnMcCRKtrRumNp+KWO3dl4fPMUdQ==': <Vertex object with index '567' at 0x201eeb220>,\n",
       " '#00A368\"3|1243\"': <Vertex object with index '568' at 0x201eeb290>,\n",
       " '9VphDjxu/yYQ7rvOQZlXJ9rWquCxlek9p/ATX4LFwZ51MzUY4cYs6UpENrP1LjKCy4UfAk7z51lmY7hiuQWXrg==': <Vertex object with index '569' at 0x201eeb300>,\n",
       " '#FFD635\"799|3\"': <Vertex object with index '570' at 0x201eeb370>,\n",
       " 'VLM9H4dOW/Ac3jrBX1fYMxR4o+nAp2oQ/RLOwfgje4k2den4YSgaBuxAn/0ApIomNGzQ8uPJMlpqApqWQiTa6g==': <Vertex object with index '571' at 0x201eeb3e0>,\n",
       " '#FFFFFF\"0|5\"': <Vertex object with index '572' at 0x201eeb450>,\n",
       " 'WD8fQlFragRkvUy7t680A5KkYv7Iw+l8uO4KaCoArdLljq6n36OOsT90fr9mCJ7sTaHdgQ+EhbsVYELxAZl3wQ==': <Vertex object with index '573' at 0x201eeb4c0>,\n",
       " '#FFFFFF\"3|1524\"': <Vertex object with index '574' at 0x201eeb530>,\n",
       " 'veMJlqy5+jGIToYJ/IT3/+Ni5hS63WYTptu7vPy5qCtBdoGDjLyxTjrDT40bEXxl8l54HeqxgNPAjTf+wxNR1A==': <Vertex object with index '575' at 0x201eeb5a0>,\n",
       " 'wEj2nhofybO6aS/8VaQTfURr0cwfO2vVCiAMVX842zIHkNdQ2YKBxS2gznwIThE9T+yEVb8od0SlQ3BYHVwd+Q==': <Vertex object with index '576' at 0x201eeb610>,\n",
       " '#493AC1\"0|1966\"': <Vertex object with index '577' at 0x201eeb680>,\n",
       " 'up4P37U0F456EADqwKx0+1Koz+O5n0VYxYDyi+zeSfTX7wC86agvWSN2T2NZkYDy6xWTXAPEXDDKKW/jNXnvUA==': <Vertex object with index '578' at 0x201eeb6f0>,\n",
       " '#FFFFFF\"635|6\"': <Vertex object with index '579' at 0x201eeb760>,\n",
       " 'S4IgcDrPGJ/VVSzz6y/Kkrw948YzsLdlcslwcUFzV7IpL0UcYjeX2f+p8qzueedZ7GmpPyZ1tlXjwf9klK6wvw==': <Vertex object with index '580' at 0x201eeb7d0>,\n",
       " '02KLSuqksKDvI1qbD3QVMQ+heiXfRw3krAYC00hIvfck+l9hNbzbS8JIJKm263NpqRSuVfqej3MOB89OFLYtHA==': <Vertex object with index '581' at 0x201eeb840>,\n",
       " '#493AC1\"0|1798\"': <Vertex object with index '582' at 0x201eeb8b0>,\n",
       " 'Adq2CYaKz0almUT5JQsayZRCD/Ps1vTiKR5FMkkT4HAi7pcTeGC/xqCuI1sVrJLraaUHPLICQQeM0wpPEf5tqg==': <Vertex object with index '583' at 0x201eeb920>,\n",
       " '#00A368\"0|1264\"': <Vertex object with index '584' at 0x201eeb990>,\n",
       " 'aA30y96jSU+RG95q1Xpr0nuU35WTroRYbgV32d/zecIp/kbuSO9e33wRqtcIqh9HGMXYzfp0ltT1ORRxmuz8kg==': <Vertex object with index '585' at 0x201eeba00>,\n",
       " '#6D482F\"1402|0\"': <Vertex object with index '586' at 0x201eeba70>,\n",
       " 'GA+0cvsT2iW2Anldd4LkfGYttJB6lZ/kHV/dyqO5zo7Q0mGkI2pwUWqEx9bzMQaCEntO9UdFwmBtud8LGIIbIQ==': <Vertex object with index '587' at 0x201eebae0>,\n",
       " '#7EED56\"5|444\"': <Vertex object with index '588' at 0x201eebb50>,\n",
       " 'y+Ii6+Ag0zLZuBsmZkX6lPWrovQClupXK+BeFlgoggZC6cnZG1MYqk18GBDXejezitp8/TGj7WdcZZB8EW/CyA==': <Vertex object with index '589' at 0x201eebbc0>,\n",
       " 'yew34uhm2uR+N6NcKIgZ1pqVi87C6mw85ODL264/RqkRtDog9GLL+PVT2Xi1unxuYFJXYezE6asaj8dJdvpjYQ==': <Vertex object with index '590' at 0x201eebc30>,\n",
       " '#51E9F4\"1364|3\"': <Vertex object with index '591' at 0x201eebca0>,\n",
       " 'JU2hjuj1m2F/U4f4uutt7VL05Oc9FvaB4+L1uEJLBEI3YB+SVUWUruHQ0uxEfNkNyrs39K2zOUZNd6fLIVSU7g==': <Vertex object with index '592' at 0x201eebd10>,\n",
       " '9qEYT0twWrxnKkmTlJj/prGRsL0zpWV6BbrmFs8IBUbKT8EBVsLpDN9WEtWncZh64DZ/MeDbEIHpKJ1xZdXdXQ==': <Vertex object with index '593' at 0x201eebd80>,\n",
       " '#6D001A\"0|762\"': <Vertex object with index '594' at 0x201eebdf0>,\n",
       " '6MVuvvU76WlTTOs9O3AN7ltWR07mTg5IvToeLSXGOJOfR0ffHYXODr2gxqkSbubuguLD8+x4xMcFhb5ZkRoDxA==': <Vertex object with index '595' at 0x201eebe60>,\n",
       " '#811E9F\"1|35\"': <Vertex object with index '596' at 0x201eebed0>,\n",
       " 'lO/0K1cOdhd753SBjCYD2cmPuxiC9+AavIbbNeq7xlyavSOL81IT0rZk6j7HIFkAmUbo4wvsMj8JJSI/J/4q+Q==': <Vertex object with index '597' at 0x201eebf40>,\n",
       " '#BE0039\"775|7\"': <Vertex object with index '598' at 0x203328040>,\n",
       " 'ujoLwhtJxcQ8GpkJau8DLYBeUmQSBywtGHWsgMLWJzIcKJuTDxN1OQAklpCgnzf8lt4Cmzki9Jexa9Cq7+lLWA==': <Vertex object with index '599' at 0x2033280b0>,\n",
       " 'tiWVeVwtRvaKF0WlsasfV5Sn97O4YuNVcmIkFyS/AX38hXnwoDCIGQdPBuWO60tQ8i/Kn1M+1pi6GeS3v49avQ==': <Vertex object with index '600' at 0x203328120>,\n",
       " '#FFD635\"1898|3\"': <Vertex object with index '601' at 0x203328190>,\n",
       " '7tnTmkQvjx08ntTiOHcDk8CRlJk372NxUYTCiNUjL/J9iKL28zvteTw1qegyfJvvYCIRBLz5teu11eu8BxrXVw==': <Vertex object with index '602' at 0x203328200>,\n",
       " '#7EED56\"4|450\"': <Vertex object with index '603' at 0x203328270>,\n",
       " 'R9e4Tgf93He6hAwkB+66bawafK9e2eNJAY4hotutegenXsk7ge82d3BZ+Ozqm1TfJDT8Sa9VWnBhYx1UWsReDQ==': <Vertex object with index '604' at 0x2033282e0>,\n",
       " '#FFD635\"1146|6\"': <Vertex object with index '605' at 0x203328350>,\n",
       " 'sKpAMFfYkM3WYfNWYr2nXgY/4oI81RSZFBMUn2IAJHwE4IDgeCheQEdtAsBzRzMXgjYnOyUUk0+MKUnLK62rHQ==': <Vertex object with index '606' at 0x2033283c0>,\n",
       " '#811E9F\"1976|0\"': <Vertex object with index '607' at 0x203328430>,\n",
       " 'dvFx6rfvnuXJuON+NR3TCOvBc+JxzBhy3F+7jnToO9zHOzOv2jKPPKFHLjVwDKmUdxrmJl0I8frYHSxlX36gig==': <Vertex object with index '608' at 0x2033284a0>,\n",
       " '#000000\"2|1461\"': <Vertex object with index '609' at 0x203328510>,\n",
       " 'D/YCMcZsV0OSTHzisP2btEbSPX+wGN62eJfLgggJkl8UkAzT6+UYNUCWCewj9ApSW3F1Lmd3NVgLoUsGw14sQA==': <Vertex object with index '610' at 0x203328580>,\n",
       " '#FFD635\"3|1472\"': <Vertex object with index '611' at 0x2033285f0>,\n",
       " '30ioa0Vs0yvBnGWrQa5f1Nh5/c3HIimscOtj92L1vnQ3QSyg6V4Y6GPqZsIBBYtlndeysui+dABoMoZw/hf7Sw==': <Vertex object with index '612' at 0x203328660>,\n",
       " '#FFFFFF\"80|9\"': <Vertex object with index '613' at 0x2033286d0>,\n",
       " 'K4ZKTAFZ+JmbN2M9jjFXOC5idaK7mDSoIiGKI0MxN7IvW0rra/Hd2e1yARvQW9YYgkptpBUuYY9HVpB2tgqUpA==': <Vertex object with index '614' at 0x203328740>,\n",
       " '#FF4500\"0|715\"': <Vertex object with index '615' at 0x2033287b0>,\n",
       " 'aKnvmqeH5ejmew22MPGGmM2Ua+GyMkyCLWTmntYhOqOdARyczgTa2EVGEUd3av2kjrmnMwB3+tD1bb6Ij67yvA==': <Vertex object with index '616' at 0x203328820>,\n",
       " '#3690EA\"1|434\"': <Vertex object with index '617' at 0x203328890>,\n",
       " 'E69Lk009CHCfDKlGWjhMwUjIvY2UUQhPTsHbHwWsrSnTSDSPoH46eo3OOpeG7FZCAEj/ObJgMK4scSBZw5fj1w==': <Vertex object with index '618' at 0x203328900>,\n",
       " '#FF3881\"6|1906\"': <Vertex object with index '619' at 0x203328970>,\n",
       " 'ViIb+PMQiawa2thZFh5iLEcEocIgjr0Cj1yBin6eAWTGfPkSz2z9huBh6xdFBTNWySHUPxfogbVJKq32mYhm4Q==': <Vertex object with index '620' at 0x2033289e0>,\n",
       " '#FFA800\"8|267\"': <Vertex object with index '621' at 0x203328a50>,\n",
       " 'bz6Cmb/ZgwKC2ne9DGpm/YRc93tEzYbnSvOGOW+BRu5JLz6A4aIwydKqkHMD9IZySzCZF208++MRvK2qszpO9g==': <Vertex object with index '622' at 0x203328ac0>,\n",
       " '#FF3881\"0|9\"': <Vertex object with index '623' at 0x203328b30>,\n",
       " 'LNq1fdBLlQg2QRqsPHnVkFOTwW39fCVrVkUhGA3ltOTDhEnDRWFq13pXQbTZuzmfLo2II1Z2L8zkmK/dfngV1g==': <Vertex object with index '624' at 0x203328ba0>,\n",
       " '#FFFFFF\"9|1470\"': <Vertex object with index '625' at 0x203328c10>,\n",
       " 'BLhL//JjMrH4K0OWkXtklMD7u2njupQn7EiQOJ4FhjSyqoBgZO4OVd4W9PYpmafa9epytBCMPzatzU+C90VIiQ==': <Vertex object with index '626' at 0x203328c80>,\n",
       " '#BE0039\"2|1297\"': <Vertex object with index '627' at 0x203328cf0>,\n",
       " 'VTLMQp5ngd+jNYVwVxjUVaZgH5EgmLfLI/l95lD8N3yhzBz99JTVxqNEIuxAmL2KAt4Ddd5/B3JKNXCYKb7pnQ==': <Vertex object with index '628' at 0x203328d60>,\n",
       " '#FFFFFF\"0|8\"': <Vertex object with index '629' at 0x203328dd0>,\n",
       " 'Hq/qts/ZYNo9U5O2KNLZjyTIkSHVI6kS8y3xcwSyqOJijEOpUGuIIUW8buoEoHi7c230R8v4RIOc+kIegjjp1w==': <Vertex object with index '630' at 0x203328e40>,\n",
       " '#000000\"1310|5\"': <Vertex object with index '631' at 0x203328eb0>,\n",
       " 'E9t2Res7CQArQOnRRIoehBGtblCNnN8FL25lMzPEiCou4lxKR8j7gA/Ig6VpkscuGWswVyGvZx73u05HAbWnpw==': <Vertex object with index '632' at 0x203328f20>,\n",
       " '#FFFFFF\"2|0\"': <Vertex object with index '633' at 0x203328f90>,\n",
       " 'UUKPSs8kgxERk+hLzbeOwy7t/8jTHbwoAM4tPsAUVSwGDTGauiXtl+OOdREjkhGDB2X0gg9Kcz88O9xSg8UfQA==': <Vertex object with index '634' at 0x203329000>,\n",
       " '#000000\"1|91\"': <Vertex object with index '635' at 0x203329070>,\n",
       " 'RDc/KMqG2GY59s/bk3FJL5LbzVSXAs7iDW2IlOAb4zk2v/ugu5p45c5S6Z3vuUXkoD1Q0Fiiv7PhFO/NI3lp2g==': <Vertex object with index '636' at 0x2033290e0>,\n",
       " '#BE0039\"1694|3\"': <Vertex object with index '637' at 0x203329150>,\n",
       " 'ET+pYJ299bTqPlrYUjqI31h0xLd+szNLpPjSDaz+67o1l8Ey6tmthmNtXTSIvJNC+QUj5k/gVD1CakF2oXa4Ug==': <Vertex object with index '638' at 0x2033291c0>,\n",
       " '#FF4500\"6|170\"': <Vertex object with index '639' at 0x203329230>,\n",
       " 'vzCMymnutvsbP9Dpgx5R2OissPKRRUmIne1Wz+8cyYBN03/rKWrghyztlsFt2SKEDXx1ysiAon+1ptnyCXH2nw==': <Vertex object with index '640' at 0x2033292a0>,\n",
       " '#FF99AA\"0|10\"': <Vertex object with index '641' at 0x203329310>,\n",
       " 'gRZc6O1Cq6fmbwT9lSbcgx6S7uny/K2bMv7n9DDY6fDon5DeeQ50neKHyZlW8Ps+/p8c4R7wfd3n3EqCBX4vrQ==': <Vertex object with index '642' at 0x203329380>,\n",
       " '#FFD635\"7|1037\"': <Vertex object with index '643' at 0x2033293f0>,\n",
       " '11Da2LGgppxNxBCep9aQCEuW5o/mF1mK6TFn2iJIZrEKEvWZ5ub7NDNFV/XLrOm2PFOLpWR9YtVHWREWlQ64gw==': <Vertex object with index '644' at 0x203329460>,\n",
       " 'pzGVeLCZKBhh//2OhwVAN3BwkJ3ppHihy6Ytokg0x2uvcuG8h7lGpqY2iV6Lhxmy/xYZowmk8HT6iUcM1X9JXg==': <Vertex object with index '645' at 0x2033294d0>,\n",
       " '#FFFFFF\"27|0\"': <Vertex object with index '646' at 0x203329540>,\n",
       " 'ys1wWY3Kk20OoeYuTfUlaNY2gvSNkK1687xeIH6zmSDKuv51oNuH4BJJ6NjXyR3Ja4nztQ0l518wxr0KllfVOg==': <Vertex object with index '647' at 0x2033295b0>,\n",
       " '#000000\"772|5\"': <Vertex object with index '648' at 0x203329620>,\n",
       " 'iOBonq8rWt5Ftldekyo6WDR2ZgclmCHtV10wlF3J5FqTBTU3lU5NTAIdZnj7rjEf0tbP7OBvGLSaijI4zZ1Vtg==': <Vertex object with index '649' at 0x203329690>,\n",
       " '#00A368\"1|766\"': <Vertex object with index '650' at 0x203329700>,\n",
       " 'h+ktgZ+JGLSDR9szhyXm/KRmJ6jacOQAXRFXIyzFIEj71KthByhNOrKLyZU25yjfK6Abif3GFcPkqMyh3ZovUg==': <Vertex object with index '651' at 0x203329770>,\n",
       " '#FFFFFF\"8|532\"': <Vertex object with index '652' at 0x2033297e0>,\n",
       " 'bWqSVtVSt5dea5rumVVJQR4FOFdSx6U5/STephmcJ6tsRStaH9zpDrsnqXkhlaXTrPiia4OQDdwpu95N5j6GiQ==': <Vertex object with index '653' at 0x203329850>,\n",
       " '#FFA800\"5|995\"': <Vertex object with index '654' at 0x2033298c0>,\n",
       " 'KJ5lJo2dFSzWPpBy/wZkE7MQufZq87p0pYtqCAyvI2hQyCGu/LvcP3foQ+oAb/CL5JlU85cWkpLLlAW03Hw+0w==': <Vertex object with index '655' at 0x203329930>,\n",
       " '#FFA800\"814|0\"': <Vertex object with index '656' at 0x2033299a0>,\n",
       " '/M7KpgGPlI31utF/tYclY/DG5og/CmaEBjVh8TAMukEsy2vMm0wlz9cpqpsNNvmOMuYhfmPT2QFxWfn16WuDXw==': <Vertex object with index '657' at 0x203329a10>,\n",
       " '#94B3FF\"1|698\"': <Vertex object with index '658' at 0x203329a80>,\n",
       " '0wgnAl9c864IPIkWujGcwfBBu9BswZi/kq1p2lZ1AReX944sUjrRhqcaFqv0RXUdkzUb7Ew4swOvrcmTqpQ7MQ==': <Vertex object with index '659' at 0x203329af0>,\n",
       " '#FFFFFF\"4|0\"': <Vertex object with index '660' at 0x203329b60>,\n",
       " 'Feaj55hER3Gmt16SsvJxNpS1T/0DOiUnbsPAy/VPaC4mvUaajCQjtQF7DGWvfxSsOFTyy7ru3S8d3l05siQdKw==': <Vertex object with index '661' at 0x203329bd0>,\n",
       " '#3690EA\"8|1967\"': <Vertex object with index '662' at 0x203329c40>,\n",
       " 'iU+y7rblm/jTuo0t1q0lG5JRVcGkW7jI56tXTUhTj1mmElwwkNrtmVnoGATEwquAFxF0BTag652nBFTTbF/HpA==': <Vertex object with index '663' at 0x203329cb0>,\n",
       " '#FFD635\"1920|9\"': <Vertex object with index '664' at 0x203329d20>,\n",
       " 'CoJUWWJlcsSZPbzxoNA3aMZQgBLQIWA25QLh1T5gn+BJY4gBKRW2AjFJytSEnz9UH1ZmfmwN+tTh75ZUIVAqHQ==': <Vertex object with index '665' at 0x203329d90>,\n",
       " '#FFD635\"9|1250\"': <Vertex object with index '666' at 0x203329e00>,\n",
       " 'F68iTTMLluU9Bsji2V/D5/PeNTtCOcnoVqX81JFmW/nABQbl7p+4xMvWmumAl8Rh6P/3BQ7U2NPGS1M37OIRMg==': <Vertex object with index '667' at 0x203329e70>,\n",
       " '#DE107F\"0|0\"': <Vertex object with index '668' at 0x203329ee0>,\n",
       " 'O9Isi8uQRGhUNq+RG/EVVIRL8lvr538uI00xdWiTkFsUeL/nW551QoJU0vwCe22mFtXJOqkQpXzxLJ0vaZi0XA==': <Vertex object with index '669' at 0x203329f50>,\n",
       " '#811E9F\"9|0\"': <Vertex object with index '670' at 0x203329fc0>,\n",
       " 'W6ZQz/7D1EnW3BChtu0+HooSrE0oSz4iYXBGvHdwekzea3ctiHGqiy9b8Dx4ytMhi/Arebfs4La0f99sPmgCfw==': <Vertex object with index '671' at 0x20332a030>,\n",
       " '#FFA800\"1629|7\"': <Vertex object with index '672' at 0x20332a0a0>,\n",
       " '4eNzoygIOJ7etAhxwQdXyjoPahvTKRr2oyzsBuIY0u1MifoFRkPQSceAY225Lh1Yrt+5nKLTl2aCpIL4K4+muQ==': <Vertex object with index '673' at 0x20332a110>,\n",
       " '#2450A4\"1|1467\"': <Vertex object with index '674' at 0x20332a180>,\n",
       " 'q6iuR8/Jf8iY9OiARkNiIkjbKjewipwcXHvx4OGPr2T8ZbeUcD7J55GUoFCutOv9Pj5/uF7Ct4X0z6GlpYHJcw==': <Vertex object with index '675' at 0x20332a1f0>,\n",
       " '#898D90\"1|729\"': <Vertex object with index '676' at 0x20332a260>,\n",
       " 'NPMXWYkZEIUCTOMlYQqubpAR+w7fraeqOjkqdG0rM9zY2W661H12bNHkUC4gysYwHl/1d6c+gw4HqeBmwPV4jg==': <Vertex object with index '677' at 0x20332a2d0>,\n",
       " '#FF3881\"0|762\"': <Vertex object with index '678' at 0x20332a340>,\n",
       " 'QU+sIPffKRBapPb3Gqvm7dHcZKTUYNBfJ59GoNFvHmdmNsKatGTKCKZuX/nuIqqrAd628PumRDYRfSDeMjWV/w==': <Vertex object with index '679' at 0x20332a3b0>,\n",
       " '#000000\"6|1345\"': <Vertex object with index '680' at 0x20332a420>,\n",
       " '6+On7DlnRHzWnn50rHeMqIBaPUq4vtAP3zEVxMfQmUf36FPZGOlYObWWPMF3OwffFrHQzwU/0oOq0ECeouonpQ==': <Vertex object with index '681' at 0x20332a490>,\n",
       " '#FFD635\"4|1046\"': <Vertex object with index '682' at 0x20332a500>,\n",
       " '3X/q1uzQJgN0vDZljOU6FISg3IY1ImuJhJoUA7rDFh92VnS+IuGA3gMK817LgJNewnLNCHriXm/fNkOzhjQdjg==': <Vertex object with index '683' at 0x20332a570>,\n",
       " '#D4D7D9\"0|0\"': <Vertex object with index '684' at 0x20332a5e0>,\n",
       " 'Nr2jkXFnqRY0AprnMkvONwUhsI3nlmufcpz7gq06XE5MRe9+KuIlCXw9bYEc1ESN567YjO04hSdD5vU3ne9g9A==': <Vertex object with index '685' at 0x201eeca50>,\n",
       " '#000000\"8|1127\"': <Vertex object with index '686' at 0x201eeeb20>,\n",
       " 'B2CMpDCBW6LGT950xJJGOcjrqtYcn9xoC5USdzHMYkBzvNmUUcTSSILHFPPcDdb4kqMC9QDxIJtiAuJtZy3x9g==': <Vertex object with index '687' at 0x201eef610>,\n",
       " '#FF99AA\"0|1999\"': <Vertex object with index '688' at 0x201eef450>,\n",
       " 'Ecxz4mxJX0GitmUjiEVGBk5EHBDvxlKw7LoPK56C7xZzL0D5bItD7IVPZttnT5h6VP8XFkKoaICitmfTd9vy+A==': <Vertex object with index '689' at 0x201eecd60>,\n",
       " '#000000\"1951|9\"': <Vertex object with index '690' at 0x201eee420>,\n",
       " 'mY+3IJETxdcsJiouaFIzG+T0IZY0CciAT+PX65/i7QO+b44rJy0wYBA1pvGkM9yu1F8vkFGdRlvgxAUQpeVqFA==': <Vertex object with index '691' at 0x201eef840>,\n",
       " '#2450A4\"8|1552\"': <Vertex object with index '692' at 0x201eef680>,\n",
       " 'O4kAW8tb4gZyN3cPBO5hV8KRhJ/Ul7Cfe149LU7F2Diuj52kRrlNGTAp/gRL5Lc1+ydOqXVkLxRv0ZF2Bj0n8g==': <Vertex object with index '693' at 0x201eef8b0>,\n",
       " '#000000\"0|843\"': <Vertex object with index '694' at 0x201eecc80>,\n",
       " 'UptMNrVV2Ll80sImUCwhMfP16YKiamamiWw60575pG1PUxnUq/PjUZfgYOFxSu/NYpZsh8NG4TIXG5Mt3H2Evg==': <Vertex object with index '695' at 0x201eece40>,\n",
       " 'yZC8WUYUAbSCZpxzsqsnFbE4ZCLRzQQK48uw7ikzFnUtAWA+GRBjFyazJxhslwsCI6PRipKuJ93BoUnaUg9brA==': <Vertex object with index '696' at 0x201eecf20>,\n",
       " '#000000\"2|595\"': <Vertex object with index '697' at 0x201eef760>,\n",
       " '6mZfqGiKzFBc+YN9i3FtAdGWRu5rY0y2H0XW2REXDz9xAM6c3dJf2yyY07lsC7fgCswBQ5xIpBCw+ZatyL+kRg==': <Vertex object with index '698' at 0x201eef920>,\n",
       " '#00CC78\"1392|4\"': <Vertex object with index '699' at 0x201eef990>,\n",
       " 'aKK1FKIQ08AJP0eg0+qgIQ21jGzQbjwwdJ2P27CnJ+eoWjm/mI7yZCK+KILdqUIVNpVvueZLiIuHraveKwyp+w==': <Vertex object with index '700' at 0x201eefa00>,\n",
       " '#000000\"5|444\"': <Vertex object with index '701' at 0x201eefa70>,\n",
       " '5crIkUnxoDlJah5vUiVmbthGptaFGBInjidWomPyHFYX7Qkx7SVeq9EkdIuJwWyGUWMadKtE70yNTvy9eQIpIQ==': <Vertex object with index '702' at 0x201eefae0>,\n",
       " '#FFFFFF\"7|692\"': <Vertex object with index '703' at 0x201eefb50>,\n",
       " 'S+eQ3Up8ldKSLWX1h+v8pPMtKtxpfPNU5RkeJ5Uc5Ujp9p+ETkrrzRQoUTvcfcu/IrfuN3nDR6HLTaz6yoXqNQ==': <Vertex object with index '704' at 0x201eefbc0>,\n",
       " '#00A368\"1|986\"': <Vertex object with index '705' at 0x201eefc30>,\n",
       " 'EdHZbJJQKS2/tzIqgSeVzngZovwRs0XA6GLPqAMLGlCc7VofXql9LLsm1TzIKs4iM2m/vn9UTRXfYYupN4Ldpg==': <Vertex object with index '706' at 0x201eefca0>,\n",
       " '#FFFFFF\"9|88\"': <Vertex object with index '707' at 0x201eed700>,\n",
       " 'Uolp20K3k5E8Nsli6xqJgvRPwcsn5jAO4zFXOfeURxDFdmaLZEqelsNgCXEiz5Lm+D5kcQnovKNuen/y2OUFEA==': <Vertex object with index '708' at 0x201eed930>,\n",
       " '#00A368\"0|11\"': <Vertex object with index '709' at 0x201eedaf0>,\n",
       " 'oXMkp+am8rkijoBd7dipalHT6/r6gm3HJ3u/TO6MnhGcjMjTvlcd+ExCRZ9SfApmCzDxFMBnJa1Qcjd3xfHxsA==': <Vertex object with index '710' at 0x201eed690>,\n",
       " '83E2kUuop20iSH5opRGaYiOqmNjoldWXRDxHRuz4vJHfFg2JcKWoSd+Z61fzXkFtUlvlFB/7NT7jv0mTXBBsKw==': <Vertex object with index '711' at 0x201eedd20>,\n",
       " '#000000\"3|1269\"': <Vertex object with index '712' at 0x201eed540>,\n",
       " 'JeakvDsm3AnhSQMwleUWYZHRaKvEBes4jBnAiKeGFh+HFyERefIGo5dlShSY66w2THvWcTL6zCF0x2fNOvRH0A==': <Vertex object with index '713' at 0x201eed7e0>,\n",
       " '#000000\"8|1391\"': <Vertex object with index '714' at 0x201eec6d0>,\n",
       " 'IuSOqL5tkewHJmIuPhyLLVK4O7UmCXrkuErYXlG+3ev5T0RAKi/2PfWjsRMs4vOB9AmVp7gCBUla0BJluSeqSA==': <Vertex object with index '715' at 0x201eeea40>,\n",
       " '#515252\"0|11\"': <Vertex object with index '716' at 0x201eed770>,\n",
       " 'd5vkutJQL7NwXxzLQNRiAx/nMLzLBg9bU4FcuO2HYu+hLFwRL4Bfjg4WGBIlGetswsYL5K9tZeZ9Zq7uxZBtXQ==': <Vertex object with index '717' at 0x201eee180>,\n",
       " '#FFFFFF\"0|7\"': <Vertex object with index '718' at 0x201eee1f0>,\n",
       " '7qKYmTBu4GdUtYT64QERtnNwb8myKRLSfeRxBS+fHCJmLdt2HGIaPC+Vnh5CvmKlkNdgoEZdijlF6ZWw4oztGg==': <Vertex object with index '719' at 0x201eee490>,\n",
       " '#000000\"1999|0\"': <Vertex object with index '720' at 0x201eeeab0>,\n",
       " 'WEToQQB+/Cied+NPmF9q2ERJgkj4YxeXfzKE7aSkT5RT4BV/3lJPR2Bf0DUgEKSWDS2NzBryP0LYgVXwYsoRNA==': <Vertex object with index '721' at 0x201eedd90>,\n",
       " '#000000\"1|0\"': <Vertex object with index '722' at 0x201eed9a0>,\n",
       " 'nRzxbnMi3E7YrzAq8qO4Box5x/o155/79jW42Xhkf6tcwe9FMZ/lMxybyRgzg8arE6PpC55FXk+gSc+J22cKNQ==': <Vertex object with index '723' at 0x201eef300>,\n",
       " '#BE0039\"8|267\"': <Vertex object with index '724' at 0x201eeeb90>,\n",
       " '+8iiiW84FZOx2iMuCxWlN+LBbvCUN/d3nRv+7ej1AYZKTHeYJ7ni38e5sb7gjXvumam2ZhgKayJ1D+6ibo5Q7Q==': <Vertex object with index '725' at 0x201eef5a0>,\n",
       " '#2450A4\"6|953\"': <Vertex object with index '726' at 0x201eed3f0>,\n",
       " 'YrlfG9+O+HwM/XAsl+d6HW2QPwbNKnxZn390BcttMUvIB1Wmg1dDDb5TxECSF1yy751MgDb0VyWjreXYMvag1A==': <Vertex object with index '727' at 0x201eefd10>,\n",
       " '#B44AC0\"1|255\"': <Vertex object with index '728' at 0x201eefe60>,\n",
       " '46Az2Jk1MvbwfM1RE+GBzeHUxcqF3jjhmoNeGIaKydDwd2VSd+yuqgYj70vII6LWkBbVNmASUEAcNCX20lRsRw==': <Vertex object with index '729' at 0x201eefdf0>,\n",
       " '#00A368\"0|1319\"': <Vertex object with index '730' at 0x201eefed0>,\n",
       " '9LfCiwkMrtXhPC2v9F7+hDGajL5a2F2c+UIAw5Zeake10vkrIqNaHvEBV/7FxXGSkcA1R6TPttzYh1blV3obKg==': <Vertex object with index '731' at 0x201eeff40>,\n",
       " '#BE0039\"0|1072\"': <Vertex object with index '732' at 0x201ee8040>,\n",
       " '55hUIPRL6LIIDQXfwNkNPBuaiUDcJ3jQxorZb6nG5q7e3bcJ0egtvaax0QpOoqSklzplfuALy8/o/K40zAnGbw==': <Vertex object with index '733' at 0x201ee80b0>,\n",
       " '#00CC78\"8|1978\"': <Vertex object with index '734' at 0x201ee8190>,\n",
       " 'T9dhM4UdVBrzFkw4hiMHeuO+hQFcrnRLGntBoM0pE5IMJEznumr1y/0/TYqpu1MhDHVijiQJN6TsNPDUUF9D0A==': <Vertex object with index '735' at 0x20332a650>,\n",
       " '#000000\"3|1276\"': <Vertex object with index '736' at 0x20332a6c0>,\n",
       " 'CaJGXaiQg0feRVSCK6fFPjC0psETt9vIjG3d394YEwUEjKaZkVnhc20qgnbyd554OEr114sk7jnL84kmrFRMHQ==': <Vertex object with index '737' at 0x20332a730>,\n",
       " 'mANAC7CPkThicXbloLDadzqA0XQfcoN8oYttrPSV+qJ342advdQ5v8C1sv9enODzOlTMp2/UOjiBANClaM/GsA==': <Vertex object with index '738' at 0x20332a7a0>,\n",
       " '#000000\"0|1235\"': <Vertex object with index '739' at 0x20332a810>,\n",
       " 'K6IMP3nIALh5gSL8Fyv1t5JBS30eNyACRUouI1yAUN5fI3rjriltbRaVA5V/WnUuCl26gv9nuoxV/M4F21C00w==': <Vertex object with index '740' at 0x20332a880>,\n",
       " '#FFF8B8\"4|1441\"': <Vertex object with index '741' at 0x20332a8f0>,\n",
       " 'b8A03/5OAbz7DOZFfnK1MemVC3dnTysObj+SJOTV29W8eZkb4nPBhLiqhdizvnqIiIY13YdcLuVNbr3K/C3opg==': <Vertex object with index '742' at 0x20332a960>,\n",
       " '#FFF8B8\"0|144\"': <Vertex object with index '743' at 0x20332a9d0>,\n",
       " 'A9IDAIom61+JYmx5FDAIKozxmsn1r6o95f1+OkOvIGNQHKzTBjXsIXtnudbioVvjF1BrIUxWGNoeR9Po4DcznQ==': <Vertex object with index '744' at 0x20332aa40>,\n",
       " '#FFA800\"0|1193\"': <Vertex object with index '745' at 0x20332aab0>,\n",
       " 'Qo06/0OzV8UhvB+ioTJeAL0zElMIorp65cGyvpKeMySsNo1ZTktku9sIHNi9QhZ7dNK4bARh2pbteBwI+0mkmw==': <Vertex object with index '746' at 0x20332ab20>,\n",
       " '#00A368\"5|405\"': <Vertex object with index '747' at 0x20332ab90>,\n",
       " 'E0s73YSblNe/hW3DLVdv/PSW5ciYZv2uKp34wX/QqjFA3owI0S+D/WnY+jywL2giRBarZlFscErnNknHNwzmjQ==': <Vertex object with index '748' at 0x20332ac00>,\n",
       " '#FFD635\"1921|8\"': <Vertex object with index '749' at 0x20332ac70>,\n",
       " '3KUf1KuXokf9rZlWPvdMI0+OPLj0K452bUSQSbDjmgCUej3aiDLRuLyp491AN0fxFk9ZrDuDuKBWAWRMdylglg==': <Vertex object with index '750' at 0x20332ace0>,\n",
       " '#000000\"1629|3\"': <Vertex object with index '751' at 0x20332ad50>,\n",
       " 'CTw1OGY9fn7iUbUgRfNhwAJ4yPxZOK+CeOiEvFzPymrmfj9Tn+gRvz8lL2x9Mt9qPo4MJuZ37UB1R8JRHoEPhA==': <Vertex object with index '752' at 0x20332adc0>,\n",
       " '#FFD635\"2|1276\"': <Vertex object with index '753' at 0x20332ae30>,\n",
       " 'JAw6jDjMdeOj4Dt0c4PaPGAbJeTPE7ggD7aYvaoetl5oLuAKntfhcgzOVeWqzuCdxdGxl42bbF9f6yQkSMDLCg==': <Vertex object with index '754' at 0x20332aea0>,\n",
       " '#000000\"7|12\"': <Vertex object with index '755' at 0x20332af10>,\n",
       " 'vlff9XfjtRhGqTmL0v0EMHWiuiTDa/mh/55/m+gkdKK9q/nehui5m4FJGWHZXoJ1mVDR3TewQO2u6MCe9DRyUw==': <Vertex object with index '756' at 0x20332af80>,\n",
       " '#FFFFFF\"4|807\"': <Vertex object with index '757' at 0x20332aff0>,\n",
       " 'kZFqRXi84qOoGy6zurG9PRK6yOJARrnbpuS2emHwnHIAQZiritU87IVJ3vZUpMKtW92TjQdOeYw+0ZaJ2LOfSA==': <Vertex object with index '758' at 0x20332b060>,\n",
       " 'JmLTlQ5bgVNz/ZB/DDFwMtIGkt5gqm65rOZbXD8gryjAg+KTJnF+yB+FntK67/1xN5QfQ3rAccuYWIzwEvFp/A==': <Vertex object with index '759' at 0x20332b0d0>,\n",
       " '#51E9F4\"0|17\"': <Vertex object with index '760' at 0x20332b140>,\n",
       " 'b64dUUaMfJnHx8BroMW3ljZ4ucQzWXtUq3M9xQHGu0KQtc1/K7/akhD06VQdBm2QgKLhiRwRHM9xU+hYz8b6Vg==': <Vertex object with index '761' at 0x20332b1b0>,\n",
       " '#FF4500\"4|1006\"': <Vertex object with index '762' at 0x20332b220>,\n",
       " '08Pb7kaS73qw3fqaThAxNjLT22cAsWYTFln/0oL4ia4KISfcOh88nNSk577Dwrh900vErfC1/N7Zz9zQdYoWgg==': <Vertex object with index '763' at 0x20332b290>,\n",
       " '#51E9F4\"1817|6\"': <Vertex object with index '764' at 0x20332b300>,\n",
       " 'HwsljJY1UIUsi072qXlsvAKAZ6e+ynKUBPrXpfFohNzKJ31ywaYfU2a53wGaSHcSLDjONUnced2tnFcN1kK5oQ==': <Vertex object with index '765' at 0x20332b370>,\n",
       " '#51E9F4\"0|1395\"': <Vertex object with index '766' at 0x20332b3e0>,\n",
       " 'AOV+/t+ntTYEJT/xam58AEL1MI4gMkGrdZphQ5agm/MoMRPdgrZzmWsbEFw1JPSO3MLDR+ooZ+osI9JD7vg+QQ==': <Vertex object with index '767' at 0x20332b450>,\n",
       " '#FFFFFF\"0|249\"': <Vertex object with index '768' at 0x20332b4c0>,\n",
       " 'jFH5s0MB+c4/7wOLmANPCokejeFfsr3W+v+lyXJztpHOD9gubUAcrsaTPnIP1KTC9Ql/xkO+MepqQpWHqo7I/Q==': <Vertex object with index '769' at 0x20332b530>,\n",
       " 'dUGfkyEIAb9z3p90fI9yyfo6KiTUlUcuf+OP44mO2FbjvD1KcjEism983ZAwXQ50koGRn5zpJ42VjADUpkXBVg==': <Vertex object with index '770' at 0x20332b5a0>,\n",
       " '#00756F\"1900|9\"': <Vertex object with index '771' at 0x20332b610>,\n",
       " 'fuuuITPL3XyZldsdxbmY6ddEbgf+4Ox8w2F50xPdEm3uhOPdxUuIvQdTvAj4WWmfS00jbfem68g+fdwDmSwyIA==': <Vertex object with index '772' at 0x20332b680>,\n",
       " '#FF99AA\"5|1809\"': <Vertex object with index '773' at 0x20332b6f0>,\n",
       " 'lXEPprAoLCTb7aAqEnKvUM2bi69keaoHbjv5zh0T8WL1TWv6MJ+RJLTYtY8ftBO6/RIYSewJ5Jvjrq9BVWKo3w==': <Vertex object with index '774' at 0x20332b760>,\n",
       " '#515252\"2|1228\"': <Vertex object with index '775' at 0x20332b7d0>,\n",
       " 'VqEbzF4sYUIYjKGYclv9/x1NQFm3RXNWEH1opBbKkSZrv0VMNXEeRuZMaTJZVr6Pvh8b5/JRTDnwVM7ArRLdLA==': <Vertex object with index '776' at 0x20332b840>,\n",
       " '#00756F\"0|1730\"': <Vertex object with index '777' at 0x20332b8b0>,\n",
       " 'djPyMCL0JGCPzcHqHmvjyauXHEgvyKgc/VQRbYsZNaRi8cd8kcDrypkhIjXTKpV2mLhdjJOLBRNnP66vgy0K0w==': <Vertex object with index '778' at 0x20332b920>,\n",
       " '#00CC78\"1392|5\"': <Vertex object with index '779' at 0x20332b990>,\n",
       " '0MSg0iADhLOFEAzNNsmJ48eEGIzqA/UPQeSWUr12zFcC6NOswFDo+ay7TlDnDsTEyo5UlmWXTQBdmHzYbVOA6A==': <Vertex object with index '780' at 0x20332ba00>,\n",
       " '#000000\"2|1228\"': <Vertex object with index '781' at 0x20332ba70>,\n",
       " '3kJHW45kuzXCQvldLL88OXdYCBpD6ORJcAiFBsm8+IFkziQ3IXhzXvkshgHb3wAMy7faWP0DkhQ42y5fN941ZA==': <Vertex object with index '782' at 0x20332bae0>,\n",
       " '#6D001A\"8|267\"': <Vertex object with index '783' at 0x20332bb50>,\n",
       " '1D2E1d6WiDm2MratI3CVD1USJU2qfk+fR6nUNHZA/U34lAzFuGz4c63o9oZR3Nz3w0gjf6M2kK2H4f5/2ZHQYQ==': <Vertex object with index '784' at 0x20332bbc0>,\n",
       " '#FFFFFF\"0|373\"': <Vertex object with index '785' at 0x20332bc30>,\n",
       " '8eqYRE+0bXhvnAp/KpaVxmdshZVG7BRg8X5MZGc3yAjc9BzchG4JGMQZqTnUN7nCOxhK/kQZzfjcA10mnR4Jzg==': <Vertex object with index '786' at 0x20332bca0>,\n",
       " '#000000\"3|1036\"': <Vertex object with index '787' at 0x20332bd10>,\n",
       " 'aO9MhthGEV6seexWYJLv2ma97BaHYsm4wILT60dyevRpaV8qUYx95wdbhW9booTwKbzrLxaoaifto+T653wo9A==': <Vertex object with index '788' at 0x20332bd80>,\n",
       " '#811E9F\"1692|0\"': <Vertex object with index '789' at 0x20332bdf0>,\n",
       " 'Z2mdDtGQEBQ8mHpYR1KLt17Nho+5qRUKjXmpt52EIn+76zt4lPq/oeidQ6pbeE3aTo/sMnXvswyY8Nj+WmJh1w==': <Vertex object with index '790' at 0x20332be60>,\n",
       " '#FF99AA\"0|1\"': <Vertex object with index '791' at 0x20332bed0>,\n",
       " 'LV3DbgJhfIc+jER0lCAv2LaxVNgKjLTKUx6HmxsCxBWYV6r5aeANdGi5L9OwgtpK/DMIQsa2qKt+eeGRkDORGQ==': <Vertex object with index '792' at 0x20332bf40>,\n",
       " '#3690EA\"246|0\"': <Vertex object with index '793' at 0x20332c040>,\n",
       " 'JekqSLToo8YC8Af8jfnoQnYFUlbEW9s+L+xOoLKbOB72rnF+olMeuTKfchyVm48v3GZ8ENzkd4OvloY1MVNKdg==': <Vertex object with index '794' at 0x20332c0b0>,\n",
       " '#FFFFFF\"1|1998\"': <Vertex object with index '795' at 0x20332c120>,\n",
       " '0E51abz0XDwZKuN27/N//dtmdtdL1Gg3f6ofe1uR1wQ7jQCUZfCucsIHnqBCvzVfBXGXtGgfDLtmh1SriX+Ogw==': <Vertex object with index '796' at 0x20332c190>,\n",
       " '#51E9F4\"8|1378\"': <Vertex object with index '797' at 0x20332c200>,\n",
       " '3vnaBnwcZZJ1Z+CTRkfx31c9w8VDWddks05X+VLyxvO9RmXlLcaXAzGpMCjAfyv7Ly5Yq00TN7IIcNMoNVp/hg==': <Vertex object with index '798' at 0x20332c270>,\n",
       " '#FFFFFF\"1059|9\"': <Vertex object with index '799' at 0x20332c2e0>,\n",
       " 'mMRUB6vXgc54GFE8KYRkI7pPdqrIvz6bx1fLID1s2t77iesdhl2TB8w911EXLJHImM0N+XLhMC2e82q4YmkNLw==': <Vertex object with index '800' at 0x20332c350>,\n",
       " '#FF4500\"1007|6\"': <Vertex object with index '801' at 0x20332c3c0>,\n",
       " 'zHu+xHkqXf+TDiHRTsmdTuA/kMRUcNLX66S3YbkvfMM9wZfgd6yomsaSA46NRZ9XVHV4qldT1GRBFXW/cYBS3Q==': <Vertex object with index '802' at 0x20332c430>,\n",
       " '#000000\"9|835\"': <Vertex object with index '803' at 0x20332c4a0>,\n",
       " 'udB2NxtdyzTh8WquL53z/ZXldDjh26SxRwKEG9M29OAy1ie00CuzTVOu9zZTvXUQL+xt2Apq1psfjLnvpaiBrw==': <Vertex object with index '804' at 0x20332c510>,\n",
       " '#B44AC0\"8|583\"': <Vertex object with index '805' at 0x20332c580>,\n",
       " 'TyiOm5aDdSxDQocRFfqewmu5Ua5vOvDjhabUjjsGJvXp2zUCC0EWJ9mb2JGWmg9ROq+n4bkgbAkKRvKm284VQw==': <Vertex object with index '806' at 0x20332c5f0>,\n",
       " 'k66wNG7Ifg266nZRVtj86eHoXdkUZ+Rl4ObHR25F3zFfSqePwE/QAHGtSLngJnHjvv2bsu4fRPSXRug/EVPSLg==': <Vertex object with index '807' at 0x20332c660>,\n",
       " '#FFD635\"4|725\"': <Vertex object with index '808' at 0x20332c6d0>,\n",
       " 'PZrMVpwqWoxVsTAeVWy70nRYW8BUDzBym+hAVw7W+pFtqg1INkYXZvMFZc8SeSvtk2wKFH6NB/Jqko7ti72W2Q==': <Vertex object with index '809' at 0x20332c740>,\n",
       " '#FFD635\"1758|0\"': <Vertex object with index '810' at 0x20332c7b0>,\n",
       " 'Zn9v03K9IQB1cdj0mhyr1zQfL8cIzKN2wdzuwGuI1sU0gVgYfw5fJ6khWFL3bvmsYPH6tLM7BkShN5hkBzPj2Q==': <Vertex object with index '811' at 0x20332c820>,\n",
       " '#FF4500\"8|169\"': <Vertex object with index '812' at 0x20332c890>,\n",
       " 'uMW14MqjZe/4pmdHzChCFl+jsALZnTH093xXmznheneKFJJ3YMLEDbN27aIbLI2SVmogRFPEmTW1Hz0rva69Lw==': <Vertex object with index '813' at 0x20332c900>,\n",
       " '#2450A4\"2|1464\"': <Vertex object with index '814' at 0x20332c970>,\n",
       " 'l+oDrHJ9DnzNrniIlDyNyns4lZiLDJ60s5qKoxyc9Wfh0UHe8jskiRFPlCN0ECRQxr/kVzgYHwRAtGGOTi4oiw==': <Vertex object with index '815' at 0x20332c9e0>,\n",
       " '#000000\"0|370\"': <Vertex object with index '816' at 0x20332ca50>,\n",
       " 'EcG9hHeHw9l4s/t05AHb1VqBcX5lhSWOpHlrxEOr+ydT9k1TQuV8+MpVKw5sP7Mx7RXa1sLNp89daXvok/lFgg==': <Vertex object with index '817' at 0x20332cac0>,\n",
       " '#FF4500\"648|1\"': <Vertex object with index '818' at 0x20332cb30>,\n",
       " 'SgillYgxdzwzzQDx6TOQXC3tVsaPMLKhfdDkeyVSLhWHIV4VXfzBq7XZ/QD6YTyCZcIKjG0UWYT28QNV35/SIw==': <Vertex object with index '819' at 0x20332cba0>,\n",
       " '#FFA800\"1651|5\"': <Vertex object with index '820' at 0x20332cc10>,\n",
       " 'GwJKcr4EwF7I3cLRTJ9KWcBDWlgbKwpnPhbSywnuFl/Ok7WyAfAb5moQ2A/QOu8uh2zsF7J/rjKzsePoCCqO1Q==': <Vertex object with index '821' at 0x20332cc80>,\n",
       " '#FFD635\"3|1269\"': <Vertex object with index '822' at 0x20332ccf0>,\n",
       " 'qMBgIdwltbwbvCZv+6EMS8luq7ta/3Y8mrflCpSjsZaNYNKX27Jgql/iukp8INzPu9ZjA2yIQwjtrCV9SIVBVg==': <Vertex object with index '823' at 0x20332cd60>,\n",
       " '#FFFFFF\"3|0\"': <Vertex object with index '824' at 0x20332cdd0>,\n",
       " '9/LS4uAsYqq3djBhOFj2fmA6SzIxpHexQr/98dCalLhyqxrJgUP1LVeTe9u4xA0HW1W99Ju1V0qfRWB47HXoIA==': <Vertex object with index '825' at 0x20332ce40>,\n",
       " '#000000\"1843|6\"': <Vertex object with index '826' at 0x20332ceb0>,\n",
       " 'DOBEIpXZzMlXrycAKM1aJAgl7v8GHt/1fHg8NtZqQBy8Gg6AtRs5yPVWHl8M6iyARy12UWRcZc8CdMggJ2HodQ==': <Vertex object with index '827' at 0x20332cf20>,\n",
       " '#000000\"1980|7\"': <Vertex object with index '828' at 0x20332cf90>,\n",
       " 'ruw/DelP9aXDjgsJ8reMC+1+g3nhrIwiE5OPHl0Mf3y8rhxtx04kF7Kby/gPhNLyFqcJdeCPk0OJ02l0eXT2Og==': <Vertex object with index '829' at 0x20332d000>,\n",
       " '#6D482F\"5|191\"': <Vertex object with index '830' at 0x20332d070>,\n",
       " 'ErJhVd1X3gZ9RADrXlfxepo6zLct8EgEpHNroamtUS1Gd625LXesMNC2Dzne3kTJHDFM8RJBeCA04hwMi7MJBg==': <Vertex object with index '831' at 0x20332d0e0>,\n",
       " '#FFFFFF\"7|1944\"': <Vertex object with index '832' at 0x20332d150>,\n",
       " 'fBUbd2g2stKFFHjWoVBeyETunVMYu5OnrA1wAivVxznu8UeO0QH8nQoS7PrULfkhNoanIh5+8KlBHRQnvKKDyA==': <Vertex object with index '833' at 0x20332d1c0>,\n",
       " '#FF4500\"2|1149\"': <Vertex object with index '834' at 0x20332d230>,\n",
       " 's53oyLNAil3cvpuxcOG33C7/MTEC200trOWIb8qAS6sGtzdE3MglUXpygFMy5AyV590+fHejvh9ZdjkvOD0qQg==': <Vertex object with index '835' at 0x20332d2a0>,\n",
       " '#FFFFFF\"0|17\"': <Vertex object with index '836' at 0x20332d310>,\n",
       " 'Ki0h3pMF/MJtA0y50GCwqn0COQvU+yBotPDDdTbRMfs8at6z8mtxq+loKBIwvoIewPDNLb5EjE5cRIxOVPGL6w==': <Vertex object with index '837' at 0x20332d380>,\n",
       " '#2450A4\"5|954\"': <Vertex object with index '838' at 0x20332d3f0>,\n",
       " '6RNuCZAlRXsKeGUKSg9gs25waHDQX4w/LwitD7k864btozpXr8HWp3o048Sx1Ng/jx+iSkAEE8C9C+KwqE7U/Q==': <Vertex object with index '839' at 0x20332d460>,\n",
       " '#3690EA\"772|5\"': <Vertex object with index '840' at 0x20332d4d0>,\n",
       " 'M64tlxoGU/s39u8OTUQd8c7Dz1gLZFhjKIWSGJBy8GI/ulaX+upCNyly2CWnYyTAHHscrEDa6tj42WeKXpwZjg==': <Vertex object with index '841' at 0x20332d540>,\n",
       " 'LG6aloODE64fP14JosWHNB2M3AUiwIzPEVPYHF0zsnMzuybwhIS5xVL8baSHjmQTPnITLYGUV5Ky57Bz3Qokaw==': <Vertex object with index '842' at 0x20332d5b0>,\n",
       " '#FFFFFF\"1694|3\"': <Vertex object with index '843' at 0x20332d620>,\n",
       " 'aGwFnrPivivL/VcPomefAkMXrcxUlO6SmhjWiasCwvDiddeXOYy3LkEyRoGDnECzOq5fVxVHbLhEWNz//3yv1w==': <Vertex object with index '844' at 0x20332d690>,\n",
       " '#811E9F\"1999|0\"': <Vertex object with index '845' at 0x20332d700>,\n",
       " 'Vgu3VI2i73Mw1ZiMlrqqlYH/3aGpH/0DdCGf6aUTTrLi7Foaob4RtMB2q297QMc5isBcMzDId4DJQYbJQWnKLw==': <Vertex object with index '846' at 0x20332d770>,\n",
       " '#2450A4\"3|1472\"': <Vertex object with index '847' at 0x20332d7e0>,\n",
       " 'i10g90AnrUKRH5SQoizNhBPxF6CY249pEnD0x3Or0tq021om6uijzhODmUCw0VpEI52a7HTgxM6O/2nSFP/lSw==': <Vertex object with index '848' at 0x20332d850>,\n",
       " '#B44AC0\"0|14\"': <Vertex object with index '849' at 0x20332d8c0>,\n",
       " 'zMn1x5sTpw15a9MRW45MHIzMUk1NKU3ZTX3sKsfl1gHdWGl0s6fZjtjGdIg4d3FCJM9fwJe92GKnrO83LFd3zQ==': <Vertex object with index '850' at 0x20332d930>,\n",
       " 'mz7Ckuph0PSZFT/DrWj37jmm+8Vaoq6tx7fuUabri5hyD+5GGQqKrZbgPz4eQ9k2nNLLGdovf32eCGaJxiFmZg==': <Vertex object with index '851' at 0x20332d9a0>,\n",
       " '#FFFFFF\"1156|7\"': <Vertex object with index '852' at 0x20332da10>,\n",
       " 'wiL0YTgOYqaWiYmKCpLaCOJgIXXN7aWxitBzj1VRWszGl5wS+YvwdutiYjofubif4S0tz9o7l9mQMcWNQV9k7A==': <Vertex object with index '853' at 0x20332da80>,\n",
       " '#000000\"0|1466\"': <Vertex object with index '854' at 0x20332daf0>,\n",
       " 'bJXL13+vLUH2fxqq0SksLj/jIEUeX8b+R+zNyLPesFkqNd22ikBea4tYvNz0qyCHRZcm/pXQFfpF9/AhLNMNFQ==': <Vertex object with index '855' at 0x20332db60>,\n",
       " '#000000\"1377|4\"': <Vertex object with index '856' at 0x20332dbd0>,\n",
       " 'SSTSEGhrDiArShbP351WJwa7iN2TBMJ4tpuRrVr9zYO+ZUMfVAmaF6gb4BVfdumNhIINY/hGSfrIRo884Civ9A==': <Vertex object with index '857' at 0x20332dc40>,\n",
       " '#94B3FF\"1|1210\"': <Vertex object with index '858' at 0x20332dcb0>,\n",
       " 's9IszCalipuyBIASD7OI4pUmUvUMviBhWmIOii3bAd2JcTXp96CoY9TfU1ovTzNhXmoOzAabUfbBg5L/bDL93g==': <Vertex object with index '859' at 0x20332dd20>,\n",
       " '#E4ABFF\"1898|3\"': <Vertex object with index '860' at 0x20332dd90>,\n",
       " 'c5Ot9zEBxiJLXqVHBQSxobon82Avr8wz2H6XPo6qedllS06zeDZl0561KOHtQOcicQ5PHlYzt8mwbgXvLxv6EA==': <Vertex object with index '861' at 0x20332de00>,\n",
       " '#00A368\"8|993\"': <Vertex object with index '862' at 0x20332de70>,\n",
       " 'n4FL+fDb5n0acwl4s2vt5uHJxVpe1MYbP+1lYxnwAHxnMk3eQpN+cyBU8fGC+sQGfN8tUWJZ8i839hvIqv0QUg==': <Vertex object with index '863' at 0x20332dee0>,\n",
       " '#FFFFFF\"8|170\"': <Vertex object with index '864' at 0x20332df50>,\n",
       " '+sLr/o/EX07f3z5A6xNzdqeA+s+UgUosbWmCUZokkkZCRe/0tQbIxNwIy19ajqRfy1CndsemXjabiIp1prOpRw==': <Vertex object with index '865' at 0x20332dfc0>,\n",
       " '#9C6926\"4|191\"': <Vertex object with index '866' at 0x20332e030>,\n",
       " 'xcJRk8zK4lQWqQbvlmqirmSd7GOyDFc44cVoKFcYvOpVvug3vfWFyKKMbCU6vaYr99THw7DJg6vO3vlcm88C2g==': <Vertex object with index '867' at 0x20332e0a0>,\n",
       " '#00CC78\"4|328\"': <Vertex object with index '868' at 0x20332e110>,\n",
       " 'g4U6pWLvp8Ejp4yLJNYgyFtb0/pllvalslwOj73jY/k0PwGMWd5P/x0McMNCfAo6ZxK1NrGPAFv0NrUk0kj7Tg==': <Vertex object with index '869' at 0x20332e180>,\n",
       " '#FF4500\"0|311\"': <Vertex object with index '870' at 0x20332e1f0>,\n",
       " '9xvZkhPmZVbwdQ9XyHKR8bkablo8suvMZL9TBzutai8XKq9eVbg91etTv3c7AA69CQIPhgvhTILjWyh/lwQESQ==': <Vertex object with index '871' at 0x20332e260>,\n",
       " '#FFA800\"3|1229\"': <Vertex object with index '872' at 0x20332e2d0>,\n",
       " 'mHO/9Xca23Yp4ujzTuNGNdwqlReyXepLI4srXQRdFiIslpKhvuJooZHOm45FrYKOOJwEW/C2I30r4nQ/QHoJAQ==': <Vertex object with index '873' at 0x20332e340>,\n",
       " '#FFFFFF\"0|1070\"': <Vertex object with index '874' at 0x20332e3b0>,\n",
       " 'yy9fFz3fp2DMKOdcSWHjSw97ib+6VCvIyCepru+i6t5Y9AKfOiYuAtnOQhEo/qOelSM8ZBfG9za/EaNwu8HzAw==': <Vertex object with index '875' at 0x20332e420>,\n",
       " '#FFFFFF\"0|1233\"': <Vertex object with index '876' at 0x20332e490>,\n",
       " 'f7ViDuJSbZvJvprm3aIQIGDxxGYrSGdYuhxTkch+hP3h3EdfgnJ2OwGwXoJr239JglkLkTViq/ZjpX72WgpRdQ==': <Vertex object with index '877' at 0x20332e500>,\n",
       " '#FFA800\"1615|3\"': <Vertex object with index '878' at 0x20332e570>,\n",
       " 'crflJD4hA7p00gNRymwrlQmdKixIe/T0Kp5dpLvT9CQnBWSDLYv69MzPBbyhhlCCWenNZyq+VwnQWzaKhRS4aw==': <Vertex object with index '879' at 0x20332e5e0>,\n",
       " '/ZHRab3CiuTMUWmob4G1NpqqsdxJU1lZvhh8LJJnXfgpH2i0Jw0LumvZPwO+85PMF/hz7unAcg5vv7Tfp0xaxw==': <Vertex object with index '880' at 0x20332e650>,\n",
       " '#3690EA\"0|1464\"': <Vertex object with index '881' at 0x20332e6c0>,\n",
       " '6g42In7ehRwl+zI1mJm8KAFbh2uXl1ac82mVDnTmNUwjc1tfls3moyaeP9Ek7msC5/sDZs0nG9jNXS2BKUjbYQ==': <Vertex object with index '882' at 0x20332e730>,\n",
       " '#51E9F4\"10|0\"': <Vertex object with index '883' at 0x20332e7a0>,\n",
       " 'Szu5lxkM1WLH/4LpAnMO6imWTxxZzJ9XgV2Ry2k4WNnoUqq2ClVrBePHCDrHi2vULd1Bm9S9MGOKr7VyQqV0HA==': <Vertex object with index '884' at 0x20332e810>,\n",
       " '#FFFFFF\"138|6\"': <Vertex object with index '885' at 0x20332e880>,\n",
       " 'sgcEzXcBLnDM6J+NHSXLUXWW4ZCiRZkvppGhQBW0mO2WlLX8Rweu3Rc0kgFSqn0or9ekypFT/YfUL7IYFl8wdA==': <Vertex object with index '886' at 0x20332e8f0>,\n",
       " '1K3/ORyOz9iS6lgoZojXfKUF3Hmxl8SGv/PSHtpHk/AehwBGEoKEpvCbKSTLZCWNwlUMBstMhNh7K4baAtRhAA==': <Vertex object with index '887' at 0x20332e960>,\n",
       " '#2450A4\"1|1873\"': <Vertex object with index '888' at 0x20332e9d0>,\n",
       " 'zNfhAHE1q+ErbU8r1XeBKkKis49Y+xwDMmMTPw/Zl4aDb/Ddj1I0mSPm9I4y/e84Kkq5u0PTJzRzkiws0ETH+A==': <Vertex object with index '889' at 0x20332ea40>,\n",
       " '#000000\"4|1161\"': <Vertex object with index '890' at 0x20332eab0>,\n",
       " 'gCx/kMhYMq9FfsLBRN0n0qT+qGEnA5oFlpAQ2fCNHOBdKGC5sYmbizIMyhZ5s5foOsn3b4Rq8LDkNhzUq404EQ==': <Vertex object with index '891' at 0x20332eb20>,\n",
       " '#FFFFFF\"9|0\"': <Vertex object with index '892' at 0x20332eb90>,\n",
       " 'RB7Mya2Te38O2t2tQTXozHWPskcIsDRuSXj60i3twnrFD+nVN8OsLr7K1POgQWFMlcj5lvUmoTc+raZhZ+3pdA==': <Vertex object with index '893' at 0x20332ec00>,\n",
       " '#000000\"754|4\"': <Vertex object with index '894' at 0x20332ec70>,\n",
       " '8Q/LCmROFx+DcOeCyv7TONslbxcblb0fS3hOPJfc1n3w5apSuiI5/ltfoFtZsRp4Mdwn7mNnGldXJsw1GGQpIg==': <Vertex object with index '895' at 0x20332ece0>,\n",
       " '#FFD635\"256|0\"': <Vertex object with index '896' at 0x20332ed50>,\n",
       " 'Qq6LLBWGpnQSU3yWk3LXohSSFHM2XbeMyi/uuONbSJwReDhTaAwR/fiqbY5nZ5iBkWEfxZWIZe+e5mnxwmU9fQ==': <Vertex object with index '897' at 0x20332edc0>,\n",
       " '#FFD635\"3|1276\"': <Vertex object with index '898' at 0x20332ee30>,\n",
       " 'J2XIMvijW9XEUhUXnNreywfz6yxJ28RqYg9ehzJF3uiW27/MFdFf6wgj/Kn6Ims4cDW9ymupmPUySyVgL9Shuw==': <Vertex object with index '899' at 0x20332eea0>,\n",
       " 'e+ilIBIs31ZqFoNZr0XoRoByGoJ8RAewOoiX5fpliU7OkrXuO4xP9gBD/QgAkDl1+M/Q3QFwHAV74f0LFuDtTA==': <Vertex object with index '900' at 0x20332ef10>,\n",
       " '#000000\"2|1237\"': <Vertex object with index '901' at 0x20332ef80>,\n",
       " 'Ra3bRxgkqfF3Cv1em4ICvAeBbvJ4cDjjgeHZqACzYmaYBHOebG09ecqhyAUfh05f8O2XvGZQ68IhQmV8bXRdYA==': <Vertex object with index '902' at 0x20332eff0>,\n",
       " '#2450A4\"1437|6\"': <Vertex object with index '903' at 0x20332f060>,\n",
       " '/3zHthC8t7lr4NrGNeqnJuwD9pbYaJkOOvNDQdkY0mYRRFrX8RL9JHU21v6V76mkpMI5xA20ng/vVD+FO1Me5A==': <Vertex object with index '904' at 0x20332f0d0>,\n",
       " '#FFFFFF\"1|255\"': <Vertex object with index '905' at 0x20332f140>,\n",
       " 'n/Q/OCDg6vEZiLi+ySZA3FBdJznNWQS44Mt5Dd4MeEn4HwJJSZZTRpDbvNxu3t3EZkVFqVTX622Djomb7G8iPg==': <Vertex object with index '906' at 0x20332f1b0>,\n",
       " '#FFFFFF\"1007|6\"': <Vertex object with index '907' at 0x20332f220>,\n",
       " 'eMjikkZoMO/h1kJZnBsLe4ZkhAVggl/YSILLEkewZX/RbVmVS+cIbjO+ZtPkUQi/NR+ygQ75nNqVQaocCVz2nA==': <Vertex object with index '908' at 0x20332f290>,\n",
       " '#000000\"1918|5\"': <Vertex object with index '909' at 0x20332f300>,\n",
       " 'dwNuvtq4a7sF4ebAdPVVmnZSseY9nEVaIMjOBgXCcovi+ziCuW4ezdVW3R8YSxf6XtaZ3Ngthf0yO0FMgThq2A==': <Vertex object with index '910' at 0x20332f370>,\n",
       " '#FFFFFF\"6|807\"': <Vertex object with index '911' at 0x20332f3e0>,\n",
       " 'DGCm2nkDRyzEn9BxDsjYTTQi0mAD7UN+p0B4Igf6fNETVH8m3RoyHfaJjpFmeC/Kdn3VrAjKj6TvP+IB8ibbGg==': <Vertex object with index '912' at 0x20332f450>,\n",
       " 'V6dNSNcoyg+rCASzT7LJfCQyH+An7o/kaAi33FH4dAh7bIeLhiHAIAd7rPT0pgq5dnlzzEI+pezFopFoRVZlAQ==': <Vertex object with index '913' at 0x20332f4c0>,\n",
       " '#FF4500\"4|8\"': <Vertex object with index '914' at 0x20332f530>,\n",
       " 'psLxNgHo98sagpqYSaN4rK4eSgcHPqJPqjpA7yT7Aqzm3wZsH5smcghBWpSqKG1/9hukxSipnBvHi1hUWOvSSg==': <Vertex object with index '915' at 0x20332f5a0>,\n",
       " '#51E9F4\"648|1\"': <Vertex object with index '916' at 0x20332f610>,\n",
       " 'MKSP3pmgNxe9WepZubVVXnkduzvAebmXkhpirJ7FJeI7l/zbjytRYFMfRKT48YuNUAdryEL10Oo7YKtTUU7cGQ==': <Vertex object with index '917' at 0x20332f680>,\n",
       " 'dBhuAWWV1qlBw/7tfMDB4dN2V2ayoOY/0Phz70hIXzx5GX6HVE0NZzq6OKjIbTg230Ys6zEQyDFNKoypUXczPw==': <Vertex object with index '918' at 0x20332f6f0>,\n",
       " '#000000\"1378|4\"': <Vertex object with index '919' at 0x20332f760>,\n",
       " '9BQDWVkfmzHaCRnyscePJE2U183tIEb24PMpJNSLC9x6V1hkxjdfha5t5S+lqy9ioGx/Brikpw2/M8YTaXRFiQ==': <Vertex object with index '920' at 0x20332f7d0>,\n",
       " '#FFFFFF\"0|2\"': <Vertex object with index '921' at 0x20332f840>,\n",
       " 'jlK09agUy4cTjc5OJ6TyVbOkyPhg/NcfEn5T+z222s3vjn0lvK7d6D6zM0FwAEOgngYjdbHp3pbx9R9qdkQKkA==': <Vertex object with index '922' at 0x20332f8b0>,\n",
       " '#6D001A\"14|0\"': <Vertex object with index '923' at 0x20332f920>,\n",
       " 'lCmPiLauS11waSC3R1f4aW31aYs16ogU9O6djJqNfWGBCnhp9QMhDsrgRRfcQGkCliHylZsDyhFckP2/1Qdn/g==': <Vertex object with index '924' at 0x20332f990>,\n",
       " '#FFD635\"1624|3\"': <Vertex object with index '925' at 0x20332fa00>,\n",
       " 'alZw0V7fqpmz++lePYoS2A1YnpD6ph389B/2AFZcvJiG5ferYJB9NNSlGSYJwapEKOS3zR+fpa7WGjHMjWwURw==': <Vertex object with index '926' at 0x20332fa70>,\n",
       " '#00756F\"0|1171\"': <Vertex object with index '927' at 0x20332fae0>,\n",
       " 'nlfV4SHNGkaLXf1l5m7JhNcLApVsnvLWAAROWVOXdnHEtOs0MYH/aSo4g11D8gLE+ps65xOA90D4CBR6cLqieQ==': <Vertex object with index '928' at 0x20332fb50>,\n",
       " '#FFD635\"2|1297\"': <Vertex object with index '929' at 0x20332fbc0>,\n",
       " 'V/pTvpGWOo8t5TWFVuUK/yEMEUMEMSQlRdzXNAaULMkeMKwHjYS2WcHqfSiISK6ftlkZ3dKmdYvOW+czC0VjdA==': <Vertex object with index '930' at 0x20332fc30>,\n",
       " '#000000\"4|1355\"': <Vertex object with index '931' at 0x20332fca0>,\n",
       " 'jTcU8NUxzl9ZeUdxOtZBsAzYuckBh7Bcxy6FqZPQ0Ka6p6k0QnVH9zkoEvyceXVqi6guetCYjWyOdweHQiSbiQ==': <Vertex object with index '932' at 0x20332fd10>,\n",
       " '#7EED56\"4|328\"': <Vertex object with index '933' at 0x20332fd80>,\n",
       " 'kKtHbha7JzF1bEMK6EF29K/bfXarupL2y785SfD0rc/XI2H/VQUFjfmaA0kSsRhHVby/ozIw3HGXiy8fW/FaTg==': <Vertex object with index '934' at 0x20332fdf0>,\n",
       " '#FF3881\"4|50\"': <Vertex object with index '935' at 0x20332fe60>,\n",
       " 'tsWmhecZCpIfoo3ecqqTD+Gc8SKrI9417h0kMz7tl+8K+81hhiasmm+F0eavLQGsy61km4DrEZa5SjSPQjilCA==': <Vertex object with index '936' at 0x20332fed0>,\n",
       " '#FFD635\"1|1171\"': <Vertex object with index '937' at 0x20332ff40>,\n",
       " '+jaSZk0gS/aMKrRfiW4Ff4Ir5NYcpPQVCqFV2/hbmVMUELk3Z2Jesj+G94s/IWBz9g/XxIC+ujJBpKoQGR9EFg==': <Vertex object with index '938' at 0x203330040>,\n",
       " '#000000\"0|1983\"': <Vertex object with index '939' at 0x2033300b0>,\n",
       " 'lQcVXhT7YdnO9bqpJyY9KecMqJqRUFNy1ZYfvpSbmzeWMzf/xXe0eauHhpLTJ80+uK0HDbMSZLni0NE4XS8dYA==': <Vertex object with index '940' at 0x203330120>,\n",
       " '#FF3881\"0|1999\"': <Vertex object with index '941' at 0x203330190>,\n",
       " 'UaqLzRKxObniON6oxK/dm4Hh56DFeXfyY13qRrlephjBskybjCr5HJFl3pyXr+AtgExCykyNawhzbu0EIRhKMg==': <Vertex object with index '942' at 0x203330200>,\n",
       " '#FF3881\"7|1906\"': <Vertex object with index '943' at 0x203330270>,\n",
       " '5t1h9oiQ5wR6KmKFtMU7FbyheKhGo/eDNWInPvWnPHjnZjiVoa5yqNn+/PrQ8nvigYj3QzeKdGKrijMWdOVfrg==': <Vertex object with index '944' at 0x2033302e0>,\n",
       " '#FFFFFF\"2|825\"': <Vertex object with index '945' at 0x203330350>,\n",
       " 'ZoFlmjYk6nl2geTcvmzjtOHRuHVRw1v9SgAa7j/a+NOyGfg6fPasxsggj8JWH+gn0hwHKe4OZxnR7zzIY8O0RQ==': <Vertex object with index '946' at 0x2033303c0>,\n",
       " '#000000\"4|807\"': <Vertex object with index '947' at 0x203330430>,\n",
       " '3YxC1XdqN2oIEaYFKA7fpSPBFmyQB32dhDJS0iBBSUzPWTFpbfcOfM37RGkG7q9++LP1yrx9ef9+Gawf5CCrdA==': <Vertex object with index '948' at 0x2033304a0>,\n",
       " '#6A5CFF\"1937|4\"': <Vertex object with index '949' at 0x203330510>,\n",
       " '9aabQ5zl6QTD7hVzumTR2zPYumO4UNN7Z6TFC3lxYIAGfcfxpSoG1HvdwqZ/3vvR8+X65ZPdtfGGQgv5zFfILQ==': <Vertex object with index '950' at 0x203330580>,\n",
       " '#7EED56\"1379|4\"': <Vertex object with index '951' at 0x2033305f0>,\n",
       " 'pZk9tapqnxt575KVQkxna9t2yK64wTQjmWggx07NK/3GiAviXwEGMlccMsFsmXfTEemEVlIzZitUVIZnNPhb4w==': <Vertex object with index '952' at 0x203330660>,\n",
       " '#FFFFFF\"1937|3\"': <Vertex object with index '953' at 0x2033306d0>,\n",
       " 'QsqKiy8yOlRauBCPJfi8GbAzbtIg/2RmYCpBcM/zFQaBUrmhTrklDht6eXxMxzIH9r5Y598juRg/z+xNLMCSZg==': <Vertex object with index '954' at 0x203330740>,\n",
       " 'q7DtOu09k0I7CxU1v7FhWqKKyTLGOQUu+zR70f7VP+aZ4T32QxRL2nc50y2obQfOfujXs3vf4UA+3XVgJTh8Mg==': <Vertex object with index '955' at 0x2033307b0>,\n",
       " '#FF4500\"1217|5\"': <Vertex object with index '956' at 0x203330820>,\n",
       " '/ApSU5bxfEz2Yv3B/VHBt3lD3EeEB+sYYmQ9Rk5fRtIuuptkwbn7tarVc2ndppmxyO4G+Iwyd/EDzlGyYNpg+Q==': <Vertex object with index '957' at 0x203330890>,\n",
       " '#00A368\"1912|9\"': <Vertex object with index '958' at 0x203330900>,\n",
       " '87XOMdbIfdcmtKWk6HNI65ZQJNSqUqV9L/FYpuR2IT/v8UeaGYcME1oU69a2VGWyByV742PMB+Zsu8zC6HeD4w==': <Vertex object with index '959' at 0x203330970>,\n",
       " '#811E9F\"0|12\"': <Vertex object with index '960' at 0x2033309e0>,\n",
       " 'ShhJjxu6NYWI7eH1Ei2iBCgemj61tuZdGUGsfbaw+AQXhp3y2g82YbDjmDGxyU2PUZPuNL1GlEA1hKquW8bKTw==': <Vertex object with index '961' at 0x203330a50>,\n",
       " '#FFFFFF\"1936|3\"': <Vertex object with index '962' at 0x203330ac0>,\n",
       " 'B6ErH4+C7tJ6qs94m2ZsET/snmsE6/5kqZGppvVHyx/78gv7j5uAZM4dkynbQ9zhlL9TWCCMxPsMbTVbPqOmAA==': <Vertex object with index '963' at 0x203330b30>,\n",
       " '#00756F\"535|1\"': <Vertex object with index '964' at 0x203330ba0>,\n",
       " 'uVci1OdektjSBiDpMYQ5cUqUgwrW4x4FS9wEBeE1KYg3ka+cwzyej2Nd/vYolTFgA35SssTS5UpCXqKjky/mEw==': <Vertex object with index '965' at 0x203330c10>,\n",
       " '#000000\"5|908\"': <Vertex object with index '966' at 0x203330c80>,\n",
       " 'fUplSdlNEAnGC4eDHCsLa1jVXvI1l6b9el94Tg2i0ZKp7jx/Evt4VAgDu+M4PyIaGxxl/i41Gqey+rpRREZphg==': <Vertex object with index '967' at 0x203330cf0>,\n",
       " 'utGiWPcYJVaHcV8M89zSOV7tfx5ZTrihzjS231t8a5qHz9/CsJjOlj8F6yY+8XvnHtRIHK+eyE9nG0+ZMqhzaw==': <Vertex object with index '968' at 0x203330d60>,\n",
       " '#FFFFFF\"0|9\"': <Vertex object with index '969' at 0x203330dd0>,\n",
       " '1CFeVTDEWv/gWMOGZxN3DwAY2ATXvY34UDNg1Qa0pQntrlv6Wsf/+JPtdV9rYUAKXVC131s7eSZti0DbdMg7uw==': <Vertex object with index '970' at 0x203330e40>,\n",
       " '#FFFFFF\"1|697\"': <Vertex object with index '971' at 0x203330eb0>,\n",
       " 'czMhUS9mAEhYyZqNfcLw5oPFypP60DQykVmmK/aBbWUWGSIGg2sQvn0JkSqOS2R4oE+DlR5rizjBslIsGjzGIw==': <Vertex object with index '972' at 0x203330f20>,\n",
       " '#FFFFFF\"1|57\"': <Vertex object with index '973' at 0x203330f90>,\n",
       " 'h2+95BhjId30pIcTJgniZdSypHNkLRSQftkDWEq/uWsoZZ2YgecXZucyoJaL50/i37nidbVNfnLW0FsAT9wgHw==': <Vertex object with index '974' at 0x203331000>,\n",
       " '#2450A4\"5|1589\"': <Vertex object with index '975' at 0x203331070>,\n",
       " 'pEq0ofDIp5uzL1vaQ4IfUwpPsaHZc8k8gw0K/w3H6SyyjRP2WFiCPjeIJODQMXcjOmnYmo+cKiq5VhsMxum5YQ==': <Vertex object with index '976' at 0x2033310e0>,\n",
       " '#515252\"8|1127\"': <Vertex object with index '977' at 0x203331150>,\n",
       " 'rtZ0C/wLuipWqgDkRsscy2CyX2POsqXzKiogdfQXy5R2C7XnxTJ0DysluQr9ep/fLkSy+zPxa4CNSz8sgogM/w==': <Vertex object with index '978' at 0x2033311c0>,\n",
       " '#BE0039\"7|1385\"': <Vertex object with index '979' at 0x203331230>,\n",
       " 'FQBZDOkmw6w4E/hSotUqldo58ARLIpj43kRvUpMJyswIeTz7HhWGrPGrT4i5gsFxqOTM2xNuDvY9xwl/SVPziA==': <Vertex object with index '980' at 0x2033312a0>,\n",
       " '#FFD635\"3|1432\"': <Vertex object with index '981' at 0x203331310>,\n",
       " 'tT2A5dHhcr4545o19Jez+TsOYHPMGtjFi90XeyubEMXl5q7YCXj9nD2mqEo96Itu4cGqRaB3Xhjjxhu1sp+12w==': <Vertex object with index '982' at 0x203331380>,\n",
       " '#2450A4\"0|0\"': <Vertex object with index '983' at 0x2033313f0>,\n",
       " 'BoL700QhTkrKuQK6eVGv9A3h8+nxmlfoJlzoNH/Js8ssNIh2fGCKim4yOtUJ7uV6PJYuqr8ZGnslPySqm0A02Q==': <Vertex object with index '984' at 0x203331460>,\n",
       " '#FF4500\"9|170\"': <Vertex object with index '985' at 0x2033314d0>,\n",
       " 'HsQ6gmeBh8UHGsZdKjsMPeY/arqiebbaI0KBev286YYDf0KrWhRWvPzXoH2LZu0PmU0fa61Irp/Gr9eJVnfsNQ==': <Vertex object with index '986' at 0x203331540>,\n",
       " '#FFFFFF\"4|1206\"': <Vertex object with index '987' at 0x2033315b0>,\n",
       " 'F63C9u8FdR3ZdbVq1t4bsWR4w1BdBFbzYahGGfFv+HKkQwCryCi2175oHk3rvpoK0WMKmIzixS770F+eNz2LrQ==': <Vertex object with index '988' at 0x203331620>,\n",
       " '#FFA800\"1970|5\"': <Vertex object with index '989' at 0x203331690>,\n",
       " 'gYNwDrKWYpmGuu1xhF+Jh67j4W+l1k5Fhc1zsuG6YORSEaJaOrjdinrSE+cyWOnGcHTh57TW1l96mlvsYgnRxA==': <Vertex object with index '990' at 0x203331700>,\n",
       " '#2450A4\"1995|6\"': <Vertex object with index '991' at 0x203331770>,\n",
       " '08jS4Tl5ilrEEr8+XThP5pjZi5XMIMmAl+T8B9RE/c0RR1U6X3fcGP57DCT45wiXId1nNnXvW8+B42qfpbwtzA==': <Vertex object with index '992' at 0x2033317e0>,\n",
       " '#00A368\"8|1978\"': <Vertex object with index '993' at 0x203331850>,\n",
       " 'j5FAAWNXLIVNmB0gvexJX2V2QBXznRuuV8DIBMYQf1TQvp9JRc40fZl29lLmkeuApTBSUEpNolewiwjtiI2nMA==': <Vertex object with index '994' at 0x2033318c0>,\n",
       " '#7EED56\"1380|4\"': <Vertex object with index '995' at 0x203331930>,\n",
       " '5ONlAxOXmG/8Xrb5WhHRxR/SR3rDcpED2Q5zdvB/vsGwEOqGHpuOWoKFPf/wswQ22EpM0DrxhTiFy/ZWT5RyfA==': <Vertex object with index '996' at 0x2033319a0>,\n",
       " '#D4D7D9\"391|9\"': <Vertex object with index '997' at 0x203331a10>,\n",
       " 'V2DxmLpKLPzPzS0llrWuEeinRHSE1UhyfRXoXS6dQ/rSqMYCRFTBzRkiaICo+ySDyNrK+xCGXdpEUmUF9Ttftg==': <Vertex object with index '998' at 0x203331a80>,\n",
       " '#000000\"5|1465\"': <Vertex object with index '999' at 0x203331af0>,\n",
       " ...}"
      ]
     },
     "execution_count": 256,
     "metadata": {},
     "output_type": "execute_result"
    }
   ],
   "source": [
    "dict_vertex"
   ]
  },
  {
   "cell_type": "markdown",
   "id": "71b2b919",
   "metadata": {},
   "source": [
    "# Image segmentation"
   ]
  },
  {
   "cell_type": "code",
   "execution_count": 9,
   "id": "7900e81e",
   "metadata": {},
   "outputs": [],
   "source": [
    "import matplotlib.pyplot as plt"
   ]
  },
  {
   "cell_type": "code",
   "execution_count": null,
   "id": "ca634ae2",
   "metadata": {},
   "outputs": [],
   "source": []
  },
  {
   "cell_type": "code",
   "execution_count": 67,
   "id": "7f255916",
   "metadata": {},
   "outputs": [
    {
     "data": {
      "text/plain": [
       "<matplotlib.image.AxesImage at 0x7f1daedf8100>"
      ]
     },
     "execution_count": 67,
     "metadata": {},
     "output_type": "execute_result"
    },
    {
     "data": {
      "image/png": "[encoded data removed]",
      "text/plain": [
       "<Figure size 1500x1500 with 2 Axes>"
      ]
     },
     "metadata": {},
     "output_type": "display_data"
    }
   ],
   "source": [
    "# Importing required boundaries\n",
    "from skimage.segmentation import slic, mark_boundaries\n",
    "from skimage.data import astronaut\n",
    " \n",
    "# Setting the plot figure as 15, 15\n",
    "plt.figure(figsize=(15, 15))\n",
    " \n",
    "# Sample Image of scikit-image package\n",
    "# astronaut = astronaut()\n",
    "astronaut = plt.imread('images 21.png')\n",
    " \n",
    "# Applying SLIC segmentation\n",
    "# for the edges to be drawn over\n",
    "astronaut_segments = slic(astronaut,\n",
    "                          n_segments=20) #, compactness=1)\n",
    " \n",
    "plt.subplot(1, 2, 1)\n",
    " \n",
    "# Plotting the original image\n",
    "plt.imshow(astronaut)\n",
    " \n",
    "# Detecting boundaries for labels\n",
    "plt.subplot(1, 2, 2)\n",
    " \n",
    "# Plotting the output of marked_boundaries\n",
    "# function i.e. the image with segmented boundaries\n",
    "plt.imshow(mark_boundaries(astronaut, astronaut_segments))"
   ]
  },
  {
   "cell_type": "code",
   "execution_count": 62,
   "id": "ba2fddae",
   "metadata": {},
   "outputs": [],
   "source": [
    "def image_show(image, nrows=1, ncols=1, cmap='gray'):\n",
    "    fig, ax = plt.subplots(nrows=nrows, ncols=ncols, figsize=(14, 14))\n",
    "    ax.imshow(image, cmap='gray')\n",
    "    ax.axis('off')\n",
    "    return fig, ax"
   ]
  },
  {
   "cell_type": "code",
   "execution_count": 65,
   "id": "87f0020e",
   "metadata": {},
   "outputs": [
    {
     "data": {
      "text/plain": [
       "array([[ 1,  1,  1, ...,  2,  2,  2],\n",
       "       [ 1,  1,  1, ...,  2,  2,  2],\n",
       "       [ 1,  1,  1, ...,  2,  2,  2],\n",
       "       ...,\n",
       "       [36, 36, 36, ..., 44, 44, 44],\n",
       "       [36, 36, 36, ..., 44, 44, 44],\n",
       "       [36, 36, 36, ..., 44, 44, 44]])"
      ]
     },
     "execution_count": 65,
     "metadata": {},
     "output_type": "execute_result"
    }
   ],
   "source": [
    "astronaut_segments"
   ]
  },
  {
   "cell_type": "code",
   "execution_count": 64,
   "id": "f0ddb452",
   "metadata": {},
   "outputs": [
    {
     "data": {
      "text/plain": [
       "array([[[1.        , 1.        , 1.        ],\n",
       "        [0.98039216, 0.92156863, 0.84313726],\n",
       "        [1.        , 1.        , 1.        ],\n",
       "        ...,\n",
       "        [1.        , 1.        , 1.        ],\n",
       "        [0.98039216, 0.92156863, 0.84313726],\n",
       "        [0.98039216, 0.92156863, 0.84313726]],\n",
       "\n",
       "       [[0.98039216, 0.92156863, 0.84313726],\n",
       "        [1.        , 1.        , 1.        ],\n",
       "        [1.        , 1.        , 1.        ],\n",
       "        ...,\n",
       "        [0.49803922, 1.        , 0.83137256],\n",
       "        [1.        , 1.        , 1.        ],\n",
       "        [0.        , 1.        , 1.        ]],\n",
       "\n",
       "       [[1.        , 1.        , 1.        ],\n",
       "        [1.        , 1.        , 1.        ],\n",
       "        [0.98039216, 0.92156863, 0.84313726],\n",
       "        ...,\n",
       "        [1.        , 1.        , 1.        ],\n",
       "        [0.        , 1.        , 1.        ],\n",
       "        [0.        , 1.        , 1.        ]],\n",
       "\n",
       "       ...,\n",
       "\n",
       "       [[1.        , 1.        , 1.        ],\n",
       "        [1.        , 1.        , 1.        ],\n",
       "        [0.        , 1.        , 1.        ],\n",
       "        ...,\n",
       "        [0.        , 0.        , 0.        ],\n",
       "        [1.        , 1.        , 1.        ],\n",
       "        [1.        , 1.        , 1.        ]],\n",
       "\n",
       "       [[1.        , 1.        , 1.        ],\n",
       "        [1.        , 1.        , 1.        ],\n",
       "        [0.        , 1.        , 1.        ],\n",
       "        ...,\n",
       "        [1.        , 0.89411765, 0.76862746],\n",
       "        [1.        , 1.        , 1.        ],\n",
       "        [0.        , 1.        , 1.        ]],\n",
       "\n",
       "       [[1.        , 1.        , 1.        ],\n",
       "        [1.        , 1.        , 1.        ],\n",
       "        [1.        , 1.        , 1.        ],\n",
       "        ...,\n",
       "        [1.        , 1.        , 1.        ],\n",
       "        [1.        , 1.        , 1.        ],\n",
       "        [1.        , 0.89411765, 0.76862746]]], dtype=float32)"
      ]
     },
     "execution_count": 64,
     "metadata": {},
     "output_type": "execute_result"
    }
   ],
   "source": [
    "astronaut"
   ]
  },
  {
   "cell_type": "code",
   "execution_count": 63,
   "id": "43323c45",
   "metadata": {},
   "outputs": [
    {
     "ename": "AttributeError",
     "evalue": "'int' object has no attribute 'label2rgb'",
     "output_type": "error",
     "traceback": [
      "\u001b[0;31m---------------------------------------------------------------------------\u001b[0m",
      "\u001b[0;31mAttributeError\u001b[0m                            Traceback (most recent call last)",
      "Cell \u001b[0;32mIn [63], line 1\u001b[0m\n\u001b[0;32m----> 1\u001b[0m image_show(color\u001b[38;5;241m.\u001b[39mlabel2rgb(astronaut_segments, astronaut, kind\u001b[38;5;241m=\u001b[39m\u001b[38;5;124m'\u001b[39m\u001b[38;5;124mavg\u001b[39m\u001b[38;5;124m'\u001b[39m))\n",
      "\u001b[0;31mAttributeError\u001b[0m: 'int' object has no attribute 'label2rgb'"
     ]
    }
   ],
   "source": [
    "image_show(color.label2rgb(astronaut_segments, astronaut, kind='avg'))"
   ]
  },
  {
   "cell_type": "code",
   "execution_count": 70,
   "id": "1719be5f",
   "metadata": {},
   "outputs": [],
   "source": [
    "import cv2\n",
    "import numpy as np"
   ]
  },
  {
   "cell_type": "code",
   "execution_count": 95,
   "id": "7fcff5bf",
   "metadata": {},
   "outputs": [],
   "source": [
    "# read the image\n",
    "image = cv2.imread(\"images 21.png\")"
   ]
  },
  {
   "cell_type": "code",
   "execution_count": 96,
   "id": "8931da2f",
   "metadata": {},
   "outputs": [],
   "source": [
    "image = cv2.cvtColor(image, cv2.COLOR_BGR2RGB)\n",
    "# reshape the image to a 2D array of pixels and 3 color values (RGB)\n",
    "pixel_values = image.reshape((-1, 3))\n",
    "# convert to float\n",
    "pixel_values = np.float32(pixel_values)"
   ]
  },
  {
   "cell_type": "code",
   "execution_count": 97,
   "id": "6a725042",
   "metadata": {},
   "outputs": [],
   "source": [
    "# define stopping criteria\n",
    "criteria = (cv2.TERM_CRITERIA_EPS + cv2.TERM_CRITERIA_MAX_ITER, 100, 0.2)"
   ]
  },
  {
   "cell_type": "code",
   "execution_count": 102,
   "id": "e9018a66",
   "metadata": {},
   "outputs": [],
   "source": [
    "# number of clusters (K)\n",
    "k = 5\n",
    "_, labels, (centers) = cv2.kmeans(pixel_values, k, None, criteria, 10, cv2.KMEANS_RANDOM_CENTERS)"
   ]
  },
  {
   "cell_type": "code",
   "execution_count": 103,
   "id": "c1723da7",
   "metadata": {},
   "outputs": [],
   "source": [
    "# convert back to 8 bit values\n",
    "centers = np.uint8(centers)\n",
    "\n",
    "# flatten the labels array\n",
    "labels = labels.flatten()"
   ]
  },
  {
   "cell_type": "code",
   "execution_count": 104,
   "id": "b94e58f1",
   "metadata": {},
   "outputs": [],
   "source": [
    "# convert all pixels to the color of the centroids\n",
    "segmented_image = centers[labels.flatten()]"
   ]
  },
  {
   "cell_type": "code",
   "execution_count": 105,
   "id": "306495bf",
   "metadata": {},
   "outputs": [
    {
     "data": {
      "image/png": "[encoded data removed]",
      "text/plain": [
       "<Figure size 640x480 with 1 Axes>"
      ]
     },
     "metadata": {},
     "output_type": "display_data"
    }
   ],
   "source": [
    "# reshape back to the original image dimension\n",
    "segmented_image = segmented_image.reshape(image.shape)\n",
    "# show the image\n",
    "plt.imshow(segmented_image)\n",
    "plt.show()"
   ]
  },
  {
   "cell_type": "code",
   "execution_count": 2,
   "id": "9729be6c",
   "metadata": {},
   "outputs": [],
   "source": [
    "import cv2\n"
   ]
  },
  {
   "cell_type": "code",
   "execution_count": null,
   "id": "48f04a4a",
   "metadata": {},
   "outputs": [],
   "source": [
    "import cv2\n",
    " \n",
    "# Read the original image\n",
    "img = cv2.imread(\"images 21.png\") \n",
    "# Display original image\n",
    "cv2.imshow('Original', img)\n",
    "# cv2.waitKey(0)\n",
    " \n",
    "# Convert to graycsale\n",
    "img_gray = cv2.cvtColor(img, cv2.COLOR_BGR2GRAY)\n",
    "# Blur the image for better edge detection\n",
    "img_blur = cv2.GaussianBlur(img_gray, (3,3), 0) \n",
    " \n",
    "# Sobel Edge Detection\n",
    "sobelx = cv2.Sobel(src=img_blur, ddepth=cv2.CV_64F, dx=1, dy=0, ksize=5) # Sobel Edge Detection on the X axis\n",
    "sobely = cv2.Sobel(src=img_blur, ddepth=cv2.CV_64F, dx=0, dy=1, ksize=5) # Sobel Edge Detection on the Y axis\n",
    "sobelxy = cv2.Sobel(src=img_blur, ddepth=cv2.CV_64F, dx=1, dy=1, ksize=5) # Combined X and Y Sobel Edge Detection\n",
    "# Display Sobel Edge Detection Images\n",
    "cv2.imshow('Sobel X', sobelx)\n",
    "cv2.waitKey(0)\n",
    "cv2.imshow('Sobel Y', sobely)\n",
    "cv2.waitKey(0)\n",
    "cv2.imshow('Sobel X Y using Sobel() function', sobelxy)\n",
    "cv2.waitKey(0)\n",
    " \n",
    "# Canny Edge Detection\n",
    "edges = cv2.Canny(image=img_blur, threshold1=100, threshold2=200) # Canny Edge Detection\n",
    "# Display Canny Edge Detection Image\n",
    "cv2.imshow('Canny Edge Detection', edges)\n",
    "# cv2.waitKey(0)\n",
    " \n",
    "# cv2.destroyAllWindows()"
   ]
  },
  {
   "cell_type": "code",
   "execution_count": 4,
   "id": "ba9fe015",
   "metadata": {},
   "outputs": [],
   "source": [
    "import numpy as np"
   ]
  },
  {
   "cell_type": "code",
   "execution_count": 13,
   "id": "ff67ec47",
   "metadata": {},
   "outputs": [],
   "source": [
    "img = plt.imread(\"images 21.png\").astype(float)\n"
   ]
  },
  {
   "cell_type": "code",
   "execution_count": 15,
   "id": "eb61af49",
   "metadata": {},
   "outputs": [],
   "source": [
    "mask = img.astype(bool)\n"
   ]
  },
  {
   "cell_type": "code",
   "execution_count": 14,
   "id": "fd15b70f",
   "metadata": {},
   "outputs": [
    {
     "data": {
      "text/plain": [
       "<matplotlib.image.AxesImage at 0x7f7d1424d090>"
      ]
     },
     "execution_count": 14,
     "metadata": {},
     "output_type": "execute_result"
    },
    {
     "data": {
      "image/png": "[encoded data removed]",
      "text/plain": [
       "<Figure size 640x480 with 1 Axes>"
      ]
     },
     "metadata": {},
     "output_type": "display_data"
    }
   ],
   "source": [
    "plt.imshow(img)"
   ]
  },
  {
   "cell_type": "code",
   "execution_count": 17,
   "id": "80621f56",
   "metadata": {},
   "outputs": [],
   "source": [
    "from sklearn.feature_extraction import image\n",
    "\n",
    "graph = image.img_to_graph(img, mask=mask)"
   ]
  },
  {
   "cell_type": "code",
   "execution_count": 18,
   "id": "04deefea",
   "metadata": {},
   "outputs": [],
   "source": [
    "graph.data = np.exp(-graph.data / graph.data.std())\n"
   ]
  },
  {
   "cell_type": "code",
   "execution_count": 19,
   "id": "f7b09539",
   "metadata": {},
   "outputs": [
    {
     "name": "stderr",
     "output_type": "stream",
     "text": [
      "Clipping input data to the valid range for imshow with RGB data ([0..1] for floats or [0..255] for integers).\n"
     ]
    },
    {
     "data": {
      "image/png": "[encoded data removed]",
      "text/plain": [
       "<Figure size 1000x500 with 2 Axes>"
      ]
     },
     "metadata": {},
     "output_type": "display_data"
    }
   ],
   "source": [
    "from sklearn.cluster import spectral_clustering\n",
    "import matplotlib.pyplot as plt\n",
    "\n",
    "labels = spectral_clustering(graph, n_clusters=4, eigen_solver=\"arpack\")\n",
    "label_im = np.full(mask.shape, -1.0)\n",
    "label_im[mask] = labels\n",
    "\n",
    "fig, axs = plt.subplots(nrows=1, ncols=2, figsize=(10, 5))\n",
    "axs[0].matshow(img)\n",
    "axs[1].matshow(label_im)\n",
    "\n",
    "plt.show()"
   ]
  },
  {
   "cell_type": "code",
   "execution_count": 3,
   "id": "1fa5a8c1",
   "metadata": {},
   "outputs": [
    {
     "data": {
      "text/plain": [
       "array([[[154, 147, 151],\n",
       "        [109, 103, 124],\n",
       "        [ 63,  58, 102],\n",
       "        ...,\n",
       "        [127, 120, 115],\n",
       "        [120, 117, 106],\n",
       "        [125, 119, 110]],\n",
       "\n",
       "       [[177, 171, 171],\n",
       "        [144, 141, 143],\n",
       "        [113, 114, 124],\n",
       "        ...,\n",
       "        [127, 118, 112],\n",
       "        [124, 115, 108],\n",
       "        [121, 116, 105]],\n",
       "\n",
       "       [[201, 194, 193],\n",
       "        [182, 178, 175],\n",
       "        [168, 165, 164],\n",
       "        ...,\n",
       "        [128, 120, 117],\n",
       "        [126, 116, 112],\n",
       "        [124, 114, 109]],\n",
       "\n",
       "       ...,\n",
       "\n",
       "       [[186, 170, 176],\n",
       "        [186, 170, 177],\n",
       "        [183, 168, 170],\n",
       "        ...,\n",
       "        [  0,   0,   0],\n",
       "        [  0,   0,   1],\n",
       "        [  0,   0,   0]],\n",
       "\n",
       "       [[183, 169, 170],\n",
       "        [182, 167, 171],\n",
       "        [185, 164, 176],\n",
       "        ...,\n",
       "        [  0,   0,   1],\n",
       "        [  1,   1,   1],\n",
       "        [  0,   0,   0]],\n",
       "\n",
       "       [[184, 167, 172],\n",
       "        [183, 165, 169],\n",
       "        [180, 162, 171],\n",
       "        ...,\n",
       "        [  0,   0,   0],\n",
       "        [  1,   1,   1],\n",
       "        [  0,   0,   0]]], dtype=uint8)"
      ]
     },
     "execution_count": 3,
     "metadata": {},
     "output_type": "execute_result"
    }
   ],
   "source": [
    "astronaut"
   ]
  },
  {
   "cell_type": "code",
   "execution_count": 15,
   "id": "61a8324f",
   "metadata": {
    "scrolled": true
   },
   "outputs": [
    {
     "data": {
      "text/plain": [
       "<matplotlib.image.AxesImage at 0x7ff52e753580>"
      ]
     },
     "execution_count": 15,
     "metadata": {},
     "output_type": "execute_result"
    },
    {
     "data": {
      "image/png": "[encoded data removed]",
      "text/plain": [
       "<Figure size 1500x1500 with 2 Axes>"
      ]
     },
     "metadata": {},
     "output_type": "display_data"
    }
   ],
   "source": [
    "# Importing required libraries\n",
    "from skimage.segmentation import slic\n",
    "from skimage.data import astronaut\n",
    "from skimage.color import label2rgb\n",
    "import matplotlib.pyplot as plt \n",
    "# Setting the plot size as 15, 15\n",
    "plt.figure(figsize=(15,15))\n",
    " \n",
    "# Sample Image of scikit-image package\n",
    "# astronaut = astronaut()\n",
    "astronaut = plt.imread('images 21.png')\n",
    "# Applying Simple Linear Iterative\n",
    "# Clustering on the image\n",
    "# - 50 segments & compactness = 10\n",
    "astronaut_segments = slic(astronaut,\n",
    "                          n_segments=100,\n",
    "                          compactness=1)\n",
    "plt.subplot(1,2,1)\n",
    " \n",
    "# Plotting the original image\n",
    "plt.imshow(astronaut)\n",
    "plt.subplot(1,2,2)\n",
    " \n",
    "# Converts a label image into\n",
    "# an RGB color image for visualizing\n",
    "# the labeled regions.\n",
    "plt.imshow(label2rgb(astronaut_segments,\n",
    "                     astronaut,\n",
    "                     kind = 'overlay'))"
   ]
  },
  {
   "cell_type": "code",
   "execution_count": 16,
   "id": "0603a5f8",
   "metadata": {},
   "outputs": [
    {
     "name": "stderr",
     "output_type": "stream",
     "text": [
      "UsageError: %colors: you must specify a color scheme. See '%colors?'\n"
     ]
    }
   ],
   "source": [
    "colors"
   ]
  },
  {
   "cell_type": "code",
   "execution_count": 24,
   "id": "3f46d78c",
   "metadata": {},
   "outputs": [],
   "source": [
    "import cv2\n",
    "from PIL import ImageColor\n",
    "import numpy as np"
   ]
  },
  {
   "cell_type": "code",
   "execution_count": 58,
   "id": "0360c338",
   "metadata": {},
   "outputs": [],
   "source": [
    "im = cv2.imread('images 21.png') # read input image\n",
    "\n",
    "def getClosestColor(pixel,color_set_rgb): # Get the closest color for the pixel\n",
    "    closest_color = None\n",
    "    cost_init = 10000\n",
    "    pixel = np.array(pixel)\n",
    "    for color in color_set_rgb:\n",
    "        color = np.array(color)\n",
    "        cost = np.sum((color - pixel)**2)\n",
    "        if cost < cost_init:\n",
    "            cost_init = cost\n",
    "            closest_color = color\n",
    "    return closest_color\n",
    "\n",
    "def getClosestImage(im): # Get the closest image\n",
    "    color_set = [\n",
    " '#faebd7',\n",
    " '#f5f5dc',\n",
    " '#f0ffff',\n",
    " '#7fffd4',\n",
    " '#00ffff',\n",
    " '#ffe4c4',\n",
    " '#f0f8ff'] # Given Colorset\n",
    "    color_set_rgb= [ImageColor.getrgb(color) for color in color_set] # RGB Colorset\n",
    "\n",
    "    height, width, channels = im.shape\n",
    "    im_out = np.zeros((height,width,channels))\n",
    "\n",
    "    for y in range(0, height):\n",
    "        for x in range(0, width):\n",
    "            closest_color = getClosestColor(im[y, x],color_set_rgb)\n",
    "            im_out[y,x,:] = closest_color\n",
    "    return im_out"
   ]
  },
  {
   "cell_type": "code",
   "execution_count": 59,
   "id": "295f344e",
   "metadata": {},
   "outputs": [],
   "source": [
    "from PIL import Image\n",
    "img = Image.open('images 21.png')\n",
    "colr = img.getcolors()\n"
   ]
  },
  {
   "cell_type": "code",
   "execution_count": 60,
   "id": "17f240f2",
   "metadata": {},
   "outputs": [
    {
     "data": {
      "text/plain": [
       "[(3468, (255, 255, 255)),\n",
       " (1485, (250, 235, 215)),\n",
       " (833, (245, 245, 220)),\n",
       " (997, (240, 255, 255)),\n",
       " (933, (127, 255, 212)),\n",
       " (1442, (0, 255, 255)),\n",
       " (2, (255, 228, 196)),\n",
       " (839, (240, 248, 255)),\n",
       " (1, (0, 0, 0))]"
      ]
     },
     "execution_count": 60,
     "metadata": {},
     "output_type": "execute_result"
    }
   ],
   "source": [
    "colr"
   ]
  },
  {
   "cell_type": "code",
   "execution_count": 61,
   "id": "87259816",
   "metadata": {},
   "outputs": [
    {
     "data": {
      "text/plain": [
       "'ffffc3'"
      ]
     },
     "execution_count": 61,
     "metadata": {},
     "output_type": "execute_result"
    }
   ],
   "source": [
    "def rgb_to_hex(rgb):\n",
    "    return '%02x%02x%02x' % rgb\n",
    "rgb_to_hex((255, 255, 195))"
   ]
  },
  {
   "cell_type": "code",
   "execution_count": 62,
   "id": "6c659b20",
   "metadata": {},
   "outputs": [
    {
     "data": {
      "image/png": "[encoded data removed]",
      "text/plain": [
       "<PIL.PngImagePlugin.PngImageFile image mode=RGB size=100x100>"
      ]
     },
     "execution_count": 62,
     "metadata": {},
     "output_type": "execute_result"
    }
   ],
   "source": [
    "img"
   ]
  },
  {
   "cell_type": "code",
   "execution_count": 63,
   "id": "a2270fb5",
   "metadata": {},
   "outputs": [
    {
     "data": {
      "text/plain": [
       "['#ffffff',\n",
       " '#faebd7',\n",
       " '#f5f5dc',\n",
       " '#f0ffff',\n",
       " '#7fffd4',\n",
       " '#00ffff',\n",
       " '#ffe4c4',\n",
       " '#f0f8ff',\n",
       " '#000000']"
      ]
     },
     "execution_count": 63,
     "metadata": {},
     "output_type": "execute_result"
    }
   ],
   "source": [
    "[f'#{rgb_to_hex(color[1])}' for color in colr]\n"
   ]
  },
  {
   "cell_type": "code",
   "execution_count": 38,
   "id": "73580bc9",
   "metadata": {},
   "outputs": [],
   "source": [
    "from PIL import Image\n",
    "\n",
    "def rgb2hex(r, g, b):\n",
    "    return '#{:02x}{:02x}{:02x}'.format(r, g, b)\n",
    "\n",
    "img = Image.open('images 21.png')\n",
    "\n",
    "if img.mode in ('RGBA', 'LA') or (img.mode == 'P' and 'transparency' in img.info):   \n",
    "    pixels = list(img.convert('RGBA').getdata())\n",
    "\n",
    "    for r, g, b, a in pixels: # just ignore the alpha channel\n",
    "        print(rgb2hex(r, g, b))"
   ]
  },
  {
   "cell_type": "code",
   "execution_count": 39,
   "id": "2fa5c496",
   "metadata": {},
   "outputs": [
    {
     "data": {
      "image/png": "[encoded data removed]",
      "text/plain": [
       "<PIL.PngImagePlugin.PngImageFile image mode=RGB size=100x100>"
      ]
     },
     "execution_count": 39,
     "metadata": {},
     "output_type": "execute_result"
    }
   ],
   "source": [
    "img"
   ]
  },
  {
   "cell_type": "code",
   "execution_count": 65,
   "id": "56ab7273",
   "metadata": {},
   "outputs": [
    {
     "data": {
      "text/plain": [
       "(100, 100, 3)"
      ]
     },
     "execution_count": 65,
     "metadata": {},
     "output_type": "execute_result"
    }
   ],
   "source": [
    "im.shape"
   ]
  },
  {
   "cell_type": "code",
   "execution_count": 69,
   "id": "a864bbb9",
   "metadata": {},
   "outputs": [
    {
     "data": {
      "text/plain": [
       "(100, 100, 3)"
      ]
     },
     "execution_count": 69,
     "metadata": {},
     "output_type": "execute_result"
    }
   ],
   "source": [
    "np.array(img).shape"
   ]
  },
  {
   "cell_type": "code",
   "execution_count": 64,
   "id": "a677411f",
   "metadata": {},
   "outputs": [
    {
     "ename": "AttributeError",
     "evalue": "shape",
     "output_type": "error",
     "traceback": [
      "\u001b[0;31m---------------------------------------------------------------------------\u001b[0m",
      "\u001b[0;31mAttributeError\u001b[0m                            Traceback (most recent call last)",
      "Cell \u001b[0;32mIn [64], line 1\u001b[0m\n\u001b[0;32m----> 1\u001b[0m getClosestImage(img)\u001b[38;5;241m.\u001b[39mastype(\u001b[38;5;28mint\u001b[39m)\n",
      "Cell \u001b[0;32mIn [58], line 26\u001b[0m, in \u001b[0;36mgetClosestImage\u001b[0;34m(im)\u001b[0m\n\u001b[1;32m     16\u001b[0m    color_set \u001b[38;5;241m=\u001b[39m [\n\u001b[1;32m     17\u001b[0m \u001b[38;5;124m'\u001b[39m\u001b[38;5;124m#faebd7\u001b[39m\u001b[38;5;124m'\u001b[39m,\n\u001b[1;32m     18\u001b[0m \u001b[38;5;124m'\u001b[39m\u001b[38;5;124m#f5f5dc\u001b[39m\u001b[38;5;124m'\u001b[39m,\n\u001b[0;32m   (...)\u001b[0m\n\u001b[1;32m     22\u001b[0m \u001b[38;5;124m'\u001b[39m\u001b[38;5;124m#ffe4c4\u001b[39m\u001b[38;5;124m'\u001b[39m,\n\u001b[1;32m     23\u001b[0m \u001b[38;5;124m'\u001b[39m\u001b[38;5;124m#f0f8ff\u001b[39m\u001b[38;5;124m'\u001b[39m] \u001b[38;5;66;03m# Given Colorset\u001b[39;00m\n\u001b[1;32m     24\u001b[0m    color_set_rgb\u001b[38;5;241m=\u001b[39m [ImageColor\u001b[38;5;241m.\u001b[39mgetrgb(color) \u001b[38;5;28;01mfor\u001b[39;00m color \u001b[38;5;129;01min\u001b[39;00m color_set] \u001b[38;5;66;03m# RGB Colorset\u001b[39;00m\n\u001b[0;32m---> 26\u001b[0m    height, width, channels \u001b[38;5;241m=\u001b[39m \u001b[43mim\u001b[49m\u001b[38;5;241;43m.\u001b[39;49m\u001b[43mshape\u001b[49m\n\u001b[1;32m     27\u001b[0m    im_out \u001b[38;5;241m=\u001b[39m np\u001b[38;5;241m.\u001b[39mzeros((height,width,channels))\n\u001b[1;32m     29\u001b[0m    \u001b[38;5;28;01mfor\u001b[39;00m y \u001b[38;5;129;01min\u001b[39;00m \u001b[38;5;28mrange\u001b[39m(\u001b[38;5;241m0\u001b[39m, height):\n",
      "File \u001b[0;32m~/anaconda3/envs/gt/lib/python3.10/site-packages/PIL/Image.py:517\u001b[0m, in \u001b[0;36mImage.__getattr__\u001b[0;34m(self, name)\u001b[0m\n\u001b[1;32m    515\u001b[0m     deprecate(\u001b[38;5;124m\"\u001b[39m\u001b[38;5;124mImage categories\u001b[39m\u001b[38;5;124m\"\u001b[39m, \u001b[38;5;241m10\u001b[39m, \u001b[38;5;124m\"\u001b[39m\u001b[38;5;124mis_animated\u001b[39m\u001b[38;5;124m\"\u001b[39m, plural\u001b[38;5;241m=\u001b[39m\u001b[38;5;28;01mTrue\u001b[39;00m)\n\u001b[1;32m    516\u001b[0m     \u001b[38;5;28;01mreturn\u001b[39;00m \u001b[38;5;28mself\u001b[39m\u001b[38;5;241m.\u001b[39m_category\n\u001b[0;32m--> 517\u001b[0m \u001b[38;5;28;01mraise\u001b[39;00m \u001b[38;5;167;01mAttributeError\u001b[39;00m(name)\n",
      "\u001b[0;31mAttributeError\u001b[0m: shape"
     ]
    }
   ],
   "source": [
    "getClosestImage()"
   ]
  },
  {
   "cell_type": "code",
   "execution_count": 53,
   "id": "0f6cea06",
   "metadata": {},
   "outputs": [
    {
     "data": {
      "text/plain": [
       "<matplotlib.image.AxesImage at 0x7ff51bbe0a30>"
      ]
     },
     "execution_count": 53,
     "metadata": {},
     "output_type": "execute_result"
    },
    {
     "data": {
      "image/png": "[encoded data removed]",
      "text/plain": [
       "<Figure size 640x480 with 1 Axes>"
      ]
     },
     "metadata": {},
     "output_type": "display_data"
    }
   ],
   "source": [
    "plt.imshow(im)"
   ]
  },
  {
   "cell_type": "code",
   "execution_count": 74,
   "id": "f7b2247c",
   "metadata": {},
   "outputs": [
    {
     "name": "stderr",
     "output_type": "stream",
     "text": [
      "Clipping input data to the valid range for imshow with RGB data ([0..1] for floats or [0..255] for integers).\n"
     ]
    },
    {
     "data": {
      "text/plain": [
       "<matplotlib.image.AxesImage at 0x7ff51adae980>"
      ]
     },
     "execution_count": 74,
     "metadata": {},
     "output_type": "execute_result"
    },
    {
     "data": {
      "image/png": "[encoded data removed]",
      "text/plain": [
       "<Figure size 640x480 with 1 Axes>"
      ]
     },
     "metadata": {},
     "output_type": "display_data"
    }
   ],
   "source": [
    "plt.imshow(getClosestImage(np.array(img).astype(np.uint8)))"
   ]
  },
  {
   "cell_type": "code",
   "execution_count": 72,
   "id": "bc5f4b5e",
   "metadata": {},
   "outputs": [
    {
     "data": {
      "text/plain": [
       "<matplotlib.image.AxesImage at 0x7ff51af42a10>"
      ]
     },
     "execution_count": 72,
     "metadata": {},
     "output_type": "execute_result"
    },
    {
     "data": {
      "image/png": "[encoded data removed]",
      "text/plain": [
       "<Figure size 640x480 with 1 Axes>"
      ]
     },
     "metadata": {},
     "output_type": "display_data"
    }
   ],
   "source": [
    "plt.imshow(img)"
   ]
  },
  {
   "cell_type": "code",
   "execution_count": 76,
   "id": "7c260258",
   "metadata": {},
   "outputs": [
    {
     "name": "stdout",
     "output_type": "stream",
     "text": [
      "space_with_highest_range: 1\n",
      "median_index: 5000\n",
      "space_with_highest_range: 1\n",
      "median_index: 2500\n",
      "space_with_highest_range: 2\n",
      "median_index: 1250\n",
      "space_with_highest_range: 0\n",
      "median_index: 625\n",
      "to quantize:  625\n",
      "to quantize:  625\n",
      "space_with_highest_range: 2\n",
      "median_index: 625\n",
      "to quantize:  625\n",
      "to quantize:  625\n",
      "space_with_highest_range: 0\n",
      "median_index: 1250\n",
      "space_with_highest_range: 0\n",
      "median_index: 625\n",
      "to quantize:  625\n",
      "to quantize:  625\n",
      "space_with_highest_range: 0\n",
      "median_index: 625\n",
      "to quantize:  625\n",
      "to quantize:  625\n",
      "space_with_highest_range: 0\n",
      "median_index: 2500\n",
      "space_with_highest_range: 0\n",
      "median_index: 1250\n",
      "space_with_highest_range: 0\n",
      "median_index: 625\n",
      "to quantize:  625\n",
      "to quantize:  625\n",
      "space_with_highest_range: 0\n",
      "median_index: 625\n",
      "to quantize:  625\n",
      "to quantize:  625\n",
      "space_with_highest_range: 1\n",
      "median_index: 1250\n",
      "space_with_highest_range: 1\n",
      "median_index: 625\n",
      "to quantize:  625\n",
      "to quantize:  625\n",
      "space_with_highest_range: 1\n",
      "median_index: 625\n",
      "to quantize:  625\n",
      "to quantize:  625\n"
     ]
    },
    {
     "data": {
      "text/plain": [
       "<matplotlib.image.AxesImage at 0x7ff51ae31450>"
      ]
     },
     "execution_count": 76,
     "metadata": {},
     "output_type": "execute_result"
    },
    {
     "data": {
      "image/png": "[encoded data removed]",
      "text/plain": [
       "<Figure size 640x480 with 1 Axes>"
      ]
     },
     "metadata": {},
     "output_type": "display_data"
    }
   ],
   "source": [
    "import matplotlib.pyplot as plt\n",
    "import numpy as np\n",
    "from skimage.io import imread\n",
    "        \n",
    "sample_img = imread('images 21.png')\n",
    "\n",
    "def median_cut_quantize(img, img_arr):\n",
    "    # when it reaches the end, color quantize\n",
    "    print(\"to quantize: \", len(img_arr))\n",
    "    r_average = np.mean(img_arr[:,0])\n",
    "    g_average = np.mean(img_arr[:,1])\n",
    "    b_average = np.mean(img_arr[:,2])\n",
    "    \n",
    "    for data in img_arr:\n",
    "        sample_img[data[3]][data[4]] = [r_average, g_average, b_average]\n",
    "    \n",
    "def split_into_buckets(img, img_arr, depth):\n",
    "    \n",
    "    if len(img_arr) == 0:\n",
    "        return \n",
    "        \n",
    "    if depth == 0:\n",
    "        median_cut_quantize(img, img_arr)\n",
    "        return\n",
    "    \n",
    "    r_range = np.max(img_arr[:,0]) - np.min(img_arr[:,0])\n",
    "    g_range = np.max(img_arr[:,1]) - np.min(img_arr[:,1])\n",
    "    b_range = np.max(img_arr[:,2]) - np.min(img_arr[:,2])\n",
    "    \n",
    "    space_with_highest_range = 0\n",
    "\n",
    "    if g_range >= r_range and g_range >= b_range:\n",
    "        space_with_highest_range = 1\n",
    "    elif b_range >= r_range and b_range >= g_range:\n",
    "        space_with_highest_range = 2\n",
    "    elif r_range >= b_range and r_range >= g_range:\n",
    "        space_with_highest_range = 0\n",
    "\n",
    "    print(\"space_with_highest_range:\",space_with_highest_range)\n",
    "\n",
    "    # sort the image pixels by color space with highest range \n",
    "    # and find the median and divide the array.\n",
    "    img_arr = img_arr[img_arr[:,space_with_highest_range].argsort()]\n",
    "    median_index = int((len(img_arr)+1)/2)\n",
    "    print(\"median_index:\", median_index)\n",
    "\n",
    "    \n",
    "    #split the array into two buckets along the median\n",
    "    split_into_buckets(img, img_arr[0:median_index], depth-1)\n",
    "    split_into_buckets(img, img_arr[median_index:], depth-1)\n",
    "    \n",
    "flattened_img_array = []\n",
    "for rindex, rows in enumerate(sample_img):\n",
    "    for cindex, color in enumerate(rows):\n",
    "        flattened_img_array.append([color[0],color[1],color[2],rindex, cindex]) \n",
    "        \n",
    "flattened_img_array = np.array(flattened_img_array)\n",
    "\n",
    "# the 3rd parameter represents how many colors are needed in the power of 2. If the parameter \n",
    "# passed is 4 its means 2^4 = 16 colors\n",
    "split_into_buckets(sample_img, flattened_img_array, 4)\n",
    "plt.imshow(sample_img)\n"
   ]
  },
  {
   "cell_type": "code",
   "execution_count": 77,
   "id": "9dbdb414",
   "metadata": {},
   "outputs": [],
   "source": [
    "img = cv2.imread('images 21.png')"
   ]
  },
  {
   "cell_type": "code",
   "execution_count": 85,
   "id": "a9af0f69",
   "metadata": {},
   "outputs": [
    {
     "ename": "SyntaxError",
     "evalue": "invalid syntax. Maybe you meant '==' or ':=' instead of '='? (2070811373.py, line 1)",
     "output_type": "error",
     "traceback": [
      "\u001b[0;36m  Cell \u001b[0;32mIn [85], line 1\u001b[0;36m\u001b[0m\n\u001b[0;31m    (img = [0,0,0])\u001b[0m\n\u001b[0m     ^\u001b[0m\n\u001b[0;31mSyntaxError\u001b[0m\u001b[0;31m:\u001b[0m invalid syntax. Maybe you meant '==' or ':=' instead of '='?\n"
     ]
    }
   ],
   "source": [
    "(img = [0,0,0])"
   ]
  },
  {
   "cell_type": "code",
   "execution_count": 2,
   "id": "20dc90f9",
   "metadata": {},
   "outputs": [],
   "source": [
    "mask = (img == [255,255,255]).all(axis = 2, keepdims = True).astype(np.uint8)"
   ]
  },
  {
   "cell_type": "code",
   "execution_count": 3,
   "id": "36b137b1",
   "metadata": {},
   "outputs": [],
   "source": [
    "mask = mask.reshape(100,100)"
   ]
  },
  {
   "cell_type": "code",
   "execution_count": 1,
   "id": "dd66613d",
   "metadata": {},
   "outputs": [
    {
     "ename": "NameError",
     "evalue": "name 'cv2' is not defined",
     "output_type": "error",
     "traceback": [
      "\u001b[0;31m---------------------------------------------------------------------------\u001b[0m",
      "\u001b[0;31mNameError\u001b[0m                                 Traceback (most recent call last)",
      "Cell \u001b[0;32mIn [1], line 1\u001b[0m\n\u001b[0;32m----> 1\u001b[0m cv2\u001b[38;5;241m.\u001b[39mimshow(mask)\n",
      "\u001b[0;31mNameError\u001b[0m: name 'cv2' is not defined"
     ]
    }
   ],
   "source": [
    "cv2.imshow(mask)"
   ]
  },
  {
   "cell_type": "code",
   "execution_count": null,
   "id": "938693de",
   "metadata": {},
   "outputs": [],
   "source": [
    "import numpy as np\n",
    "import cv2\n",
    "\n",
    "img = cv2.imread('images 21.png')\n",
    "mask = (img == [255,255,255]).all(axis = 2, keepdims = True).astype(np.uint8).reshape(100,100)\n",
    "# mask = cv2.imread('mask2.png',0)\n",
    "\n",
    "dst = cv2.inpaint(img,mask,3,cv2.INPAINT_TELEA)\n",
    "\n",
    "cv2.imshow('dst',dst)"
   ]
  },
  {
   "cell_type": "code",
   "execution_count": null,
   "id": "bc5a4836",
   "metadata": {},
   "outputs": [],
   "source": []
  }
 ],
 "metadata": {
  "kernelspec": {
   "display_name": "Python 3 (ipykernel)",
   "language": "python",
   "name": "python3"
  },
  "language_info": {
   "codemirror_mode": {
    "name": "ipython",
    "version": 3
   },
   "file_extension": ".py",
   "mimetype": "text/x-python",
   "name": "python",
   "nbconvert_exporter": "python",
   "pygments_lexer": "ipython3",
   "version": "3.9.12"
  }
 },
 "nbformat": 4,
 "nbformat_minor": 5
}
